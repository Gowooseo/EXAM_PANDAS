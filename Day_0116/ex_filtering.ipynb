{
 "cells": [
  {
   "cell_type": "markdown",
   "id": "912b9669-1ae0-40bd-95dd-2e6421345c87",
   "metadata": {},
   "source": [
    "### [데이터 필터링]\n",
    "- 원하는 데이터를 추출하기 위해서 사용하는 방법\n",
    "- 원하는 데이터 걸러내겠다는 의미\n",
    "- 다양한 조건 검사가 진행됨 => 비교 검사 : 같다==,같지 않다!=,크다>,크거나 같다>=,작다<,작거나 같다 <="
   ]
  },
  {
   "cell_type": "markdown",
   "id": "af4d18d4-4707-4b6a-a117-7aa0b9d16b9b",
   "metadata": {},
   "source": [
    "(1) 모듈 로딩"
   ]
  },
  {
   "cell_type": "code",
   "execution_count": 1,
   "id": "a7a0c081-67aa-4bf9-b897-c207dacdf7c1",
   "metadata": {},
   "outputs": [],
   "source": [
    "import pandas as pd\n",
    "import numpy as np"
   ]
  },
  {
   "cell_type": "markdown",
   "id": "4bda1ea2-5796-41d2-8e8e-f12367ebb4dd",
   "metadata": {},
   "source": [
    "(2) 데이터 준비"
   ]
  },
  {
   "cell_type": "code",
   "execution_count": 2,
   "id": "3751da00-6e8c-4615-bbfa-8a5b6100cb12",
   "metadata": {},
   "outputs": [],
   "source": [
    "file='../DATA/employees.csv'"
   ]
  },
  {
   "cell_type": "markdown",
   "id": "7bd2d6a2-1b2f-4297-948b-7294f5a910ce",
   "metadata": {},
   "source": [
    "(3) 데이터 저장"
   ]
  },
  {
   "cell_type": "code",
   "execution_count": 3,
   "id": "b5ec4509-34bd-4a46-bc23-b53fc1e54a31",
   "metadata": {},
   "outputs": [],
   "source": [
    "empDF=pd.read_csv(file)"
   ]
  },
  {
   "cell_type": "markdown",
   "id": "3226355e-80f0-46db-b077-3e530d8c8d79",
   "metadata": {},
   "source": [
    "(4) 데이터 확인 <hr>"
   ]
  },
  {
   "cell_type": "markdown",
   "id": "2ba83402-48bc-42ac-8b96-4748a3a3ee54",
   "metadata": {},
   "source": [
    "(5) 데이터 필터링"
   ]
  },
  {
   "cell_type": "code",
   "execution_count": 4,
   "id": "1bcc2693-b194-41be-b8af-955dc06a814e",
   "metadata": {},
   "outputs": [
    {
     "data": {
      "text/plain": [
       "(True, False)"
      ]
     },
     "execution_count": 4,
     "metadata": {},
     "output_type": "execute_result"
    }
   ],
   "source": [
    "'Happy'=='Happy','Happy'=='happy'"
   ]
  },
  {
   "cell_type": "markdown",
   "id": "e6fcd077-3f9d-4f1e-b320-8e6efd3d4b68",
   "metadata": {},
   "source": [
    "- [문제] 데이터에서 이름이 Maria인 데이터만 추출"
   ]
  },
  {
   "cell_type": "code",
   "execution_count": 5,
   "id": "0e053e83-d65b-4ee4-8eef-25c2bcbae0ae",
   "metadata": {},
   "outputs": [
    {
     "name": "stdout",
     "output_type": "stream",
     "text": [
      "Index(['First Name', 'Gender', 'Start Date', 'Salary', 'Mgmt', 'Team'], dtype='object')\n",
      "\n",
      "RangeIndex(start=0, stop=1001, step=1)\n"
     ]
    }
   ],
   "source": [
    "print(empDF.columns,empDF.index,sep='\\n\\n')"
   ]
  },
  {
   "cell_type": "markdown",
   "id": "3fc71d40-5e37-406b-bc97-9254775e711f",
   "metadata": {},
   "source": [
    "- bool 값으로 구성된 데이터== 불링인덱싱(Booling Indexing)"
   ]
  },
  {
   "cell_type": "code",
   "execution_count": 6,
   "id": "af9d1568-d1aa-4894-991c-f2cee9a1b6fd",
   "metadata": {},
   "outputs": [
    {
     "data": {
      "text/plain": [
       "6"
      ]
     },
     "execution_count": 6,
     "metadata": {},
     "output_type": "execute_result"
    }
   ],
   "source": [
    "(empDF['First Name']=='Maria').sum()  #=> 얘를 인덱스로 쓰겠다....."
   ]
  },
  {
   "cell_type": "code",
   "execution_count": 7,
   "id": "68caa1ff-46eb-4dcf-83e1-4edcac127223",
   "metadata": {},
   "outputs": [
    {
     "data": {
      "text/plain": [
       "pandas.core.series.Series"
      ]
     },
     "execution_count": 7,
     "metadata": {},
     "output_type": "execute_result"
    }
   ],
   "source": [
    "mariaMask=(empDF['First Name']=='Maria')\n",
    "type(mariaMask)"
   ]
  },
  {
   "cell_type": "code",
   "execution_count": 8,
   "id": "d3f3a82f-5804-4dab-8736-b6488979208a",
   "metadata": {},
   "outputs": [
    {
     "data": {
      "text/html": [
       "<div>\n",
       "<style scoped>\n",
       "    .dataframe tbody tr th:only-of-type {\n",
       "        vertical-align: middle;\n",
       "    }\n",
       "\n",
       "    .dataframe tbody tr th {\n",
       "        vertical-align: top;\n",
       "    }\n",
       "\n",
       "    .dataframe thead th {\n",
       "        text-align: right;\n",
       "    }\n",
       "</style>\n",
       "<table border=\"1\" class=\"dataframe\">\n",
       "  <thead>\n",
       "    <tr style=\"text-align: right;\">\n",
       "      <th></th>\n",
       "      <th>First Name</th>\n",
       "      <th>Gender</th>\n",
       "      <th>Start Date</th>\n",
       "      <th>Salary</th>\n",
       "      <th>Mgmt</th>\n",
       "      <th>Team</th>\n",
       "    </tr>\n",
       "  </thead>\n",
       "  <tbody>\n",
       "    <tr>\n",
       "      <th>0</th>\n",
       "      <td>Douglas</td>\n",
       "      <td>Male</td>\n",
       "      <td>8/6/93</td>\n",
       "      <td>NaN</td>\n",
       "      <td>True</td>\n",
       "      <td>Marketing</td>\n",
       "    </tr>\n",
       "    <tr>\n",
       "      <th>1</th>\n",
       "      <td>Thomas</td>\n",
       "      <td>Male</td>\n",
       "      <td>3/31/96</td>\n",
       "      <td>61933.0</td>\n",
       "      <td>True</td>\n",
       "      <td>NaN</td>\n",
       "    </tr>\n",
       "    <tr>\n",
       "      <th>2</th>\n",
       "      <td>Maria</td>\n",
       "      <td>Female</td>\n",
       "      <td>NaN</td>\n",
       "      <td>130590.0</td>\n",
       "      <td>False</td>\n",
       "      <td>Finance</td>\n",
       "    </tr>\n",
       "    <tr>\n",
       "      <th>3</th>\n",
       "      <td>Jerry</td>\n",
       "      <td>NaN</td>\n",
       "      <td>3/4/05</td>\n",
       "      <td>138705.0</td>\n",
       "      <td>True</td>\n",
       "      <td>Finance</td>\n",
       "    </tr>\n",
       "    <tr>\n",
       "      <th>4</th>\n",
       "      <td>Larry</td>\n",
       "      <td>Male</td>\n",
       "      <td>1/24/98</td>\n",
       "      <td>101004.0</td>\n",
       "      <td>True</td>\n",
       "      <td>IT</td>\n",
       "    </tr>\n",
       "    <tr>\n",
       "      <th>...</th>\n",
       "      <td>...</td>\n",
       "      <td>...</td>\n",
       "      <td>...</td>\n",
       "      <td>...</td>\n",
       "      <td>...</td>\n",
       "      <td>...</td>\n",
       "    </tr>\n",
       "    <tr>\n",
       "      <th>996</th>\n",
       "      <td>Phillip</td>\n",
       "      <td>Male</td>\n",
       "      <td>1/31/84</td>\n",
       "      <td>42392.0</td>\n",
       "      <td>False</td>\n",
       "      <td>Finance</td>\n",
       "    </tr>\n",
       "    <tr>\n",
       "      <th>997</th>\n",
       "      <td>Russell</td>\n",
       "      <td>Male</td>\n",
       "      <td>5/20/13</td>\n",
       "      <td>96914.0</td>\n",
       "      <td>False</td>\n",
       "      <td>Product</td>\n",
       "    </tr>\n",
       "    <tr>\n",
       "      <th>998</th>\n",
       "      <td>Larry</td>\n",
       "      <td>Male</td>\n",
       "      <td>4/20/13</td>\n",
       "      <td>60500.0</td>\n",
       "      <td>False</td>\n",
       "      <td>Business Dev</td>\n",
       "    </tr>\n",
       "    <tr>\n",
       "      <th>999</th>\n",
       "      <td>Albert</td>\n",
       "      <td>Male</td>\n",
       "      <td>5/15/12</td>\n",
       "      <td>129949.0</td>\n",
       "      <td>True</td>\n",
       "      <td>Sales</td>\n",
       "    </tr>\n",
       "    <tr>\n",
       "      <th>1000</th>\n",
       "      <td>NaN</td>\n",
       "      <td>NaN</td>\n",
       "      <td>NaN</td>\n",
       "      <td>NaN</td>\n",
       "      <td>NaN</td>\n",
       "      <td>NaN</td>\n",
       "    </tr>\n",
       "  </tbody>\n",
       "</table>\n",
       "<p>1001 rows × 6 columns</p>\n",
       "</div>"
      ],
      "text/plain": [
       "     First Name  Gender Start Date    Salary   Mgmt          Team\n",
       "0       Douglas    Male     8/6/93       NaN   True     Marketing\n",
       "1        Thomas    Male    3/31/96   61933.0   True           NaN\n",
       "2         Maria  Female        NaN  130590.0  False       Finance\n",
       "3         Jerry     NaN     3/4/05  138705.0   True       Finance\n",
       "4         Larry    Male    1/24/98  101004.0   True            IT\n",
       "...         ...     ...        ...       ...    ...           ...\n",
       "996     Phillip    Male    1/31/84   42392.0  False       Finance\n",
       "997     Russell    Male    5/20/13   96914.0  False       Product\n",
       "998       Larry    Male    4/20/13   60500.0  False  Business Dev\n",
       "999      Albert    Male    5/15/12  129949.0   True         Sales\n",
       "1000        NaN     NaN        NaN       NaN    NaN           NaN\n",
       "\n",
       "[1001 rows x 6 columns]"
      ]
     },
     "execution_count": 8,
     "metadata": {},
     "output_type": "execute_result"
    }
   ],
   "source": [
    "empDF"
   ]
  },
  {
   "cell_type": "code",
   "execution_count": 9,
   "id": "a35d0c97-32f1-4cdb-bc08-db5bdc65ce89",
   "metadata": {},
   "outputs": [
    {
     "data": {
      "text/html": [
       "<div>\n",
       "<style scoped>\n",
       "    .dataframe tbody tr th:only-of-type {\n",
       "        vertical-align: middle;\n",
       "    }\n",
       "\n",
       "    .dataframe tbody tr th {\n",
       "        vertical-align: top;\n",
       "    }\n",
       "\n",
       "    .dataframe thead th {\n",
       "        text-align: right;\n",
       "    }\n",
       "</style>\n",
       "<table border=\"1\" class=\"dataframe\">\n",
       "  <thead>\n",
       "    <tr style=\"text-align: right;\">\n",
       "      <th></th>\n",
       "      <th>First Name</th>\n",
       "      <th>Gender</th>\n",
       "      <th>Start Date</th>\n",
       "      <th>Salary</th>\n",
       "      <th>Mgmt</th>\n",
       "      <th>Team</th>\n",
       "    </tr>\n",
       "  </thead>\n",
       "  <tbody>\n",
       "    <tr>\n",
       "      <th>2</th>\n",
       "      <td>Maria</td>\n",
       "      <td>Female</td>\n",
       "      <td>NaN</td>\n",
       "      <td>130590.0</td>\n",
       "      <td>False</td>\n",
       "      <td>Finance</td>\n",
       "    </tr>\n",
       "    <tr>\n",
       "      <th>198</th>\n",
       "      <td>Maria</td>\n",
       "      <td>Female</td>\n",
       "      <td>12/27/90</td>\n",
       "      <td>36067.0</td>\n",
       "      <td>True</td>\n",
       "      <td>Product</td>\n",
       "    </tr>\n",
       "    <tr>\n",
       "      <th>815</th>\n",
       "      <td>Maria</td>\n",
       "      <td>NaN</td>\n",
       "      <td>1/18/86</td>\n",
       "      <td>106562.0</td>\n",
       "      <td>False</td>\n",
       "      <td>HR</td>\n",
       "    </tr>\n",
       "    <tr>\n",
       "      <th>844</th>\n",
       "      <td>Maria</td>\n",
       "      <td>NaN</td>\n",
       "      <td>6/19/85</td>\n",
       "      <td>148857.0</td>\n",
       "      <td>False</td>\n",
       "      <td>Legal</td>\n",
       "    </tr>\n",
       "    <tr>\n",
       "      <th>936</th>\n",
       "      <td>Maria</td>\n",
       "      <td>Female</td>\n",
       "      <td>3/14/03</td>\n",
       "      <td>96250.0</td>\n",
       "      <td>False</td>\n",
       "      <td>Business Dev</td>\n",
       "    </tr>\n",
       "    <tr>\n",
       "      <th>984</th>\n",
       "      <td>Maria</td>\n",
       "      <td>Female</td>\n",
       "      <td>10/15/11</td>\n",
       "      <td>43455.0</td>\n",
       "      <td>False</td>\n",
       "      <td>Engineering</td>\n",
       "    </tr>\n",
       "  </tbody>\n",
       "</table>\n",
       "</div>"
      ],
      "text/plain": [
       "    First Name  Gender Start Date    Salary   Mgmt          Team\n",
       "2        Maria  Female        NaN  130590.0  False       Finance\n",
       "198      Maria  Female   12/27/90   36067.0   True       Product\n",
       "815      Maria     NaN    1/18/86  106562.0  False            HR\n",
       "844      Maria     NaN    6/19/85  148857.0  False         Legal\n",
       "936      Maria  Female    3/14/03   96250.0  False  Business Dev\n",
       "984      Maria  Female   10/15/11   43455.0  False   Engineering"
      ]
     },
     "execution_count": 9,
     "metadata": {},
     "output_type": "execute_result"
    }
   ],
   "source": [
    "empDF[mariaMask]"
   ]
  },
  {
   "cell_type": "markdown",
   "id": "05f22a6c-8817-44ec-98ec-6b0b26515923",
   "metadata": {},
   "source": [
    "- [문제] 데이터에서 연봉이 100000이상인 데이터만 추출"
   ]
  },
  {
   "cell_type": "code",
   "execution_count": 10,
   "id": "1637c214-d6d8-4163-bcaa-e230777f15e9",
   "metadata": {},
   "outputs": [],
   "source": [
    "s100000=(empDF[\"Salary\"]>=100000)"
   ]
  },
  {
   "cell_type": "code",
   "execution_count": 11,
   "id": "39329be6-2db9-4d55-8000-fc3e0c395bfe",
   "metadata": {},
   "outputs": [
    {
     "data": {
      "text/html": [
       "<div>\n",
       "<style scoped>\n",
       "    .dataframe tbody tr th:only-of-type {\n",
       "        vertical-align: middle;\n",
       "    }\n",
       "\n",
       "    .dataframe tbody tr th {\n",
       "        vertical-align: top;\n",
       "    }\n",
       "\n",
       "    .dataframe thead th {\n",
       "        text-align: right;\n",
       "    }\n",
       "</style>\n",
       "<table border=\"1\" class=\"dataframe\">\n",
       "  <thead>\n",
       "    <tr style=\"text-align: right;\">\n",
       "      <th></th>\n",
       "      <th>First Name</th>\n",
       "      <th>Gender</th>\n",
       "      <th>Start Date</th>\n",
       "      <th>Salary</th>\n",
       "      <th>Mgmt</th>\n",
       "      <th>Team</th>\n",
       "    </tr>\n",
       "  </thead>\n",
       "  <tbody>\n",
       "    <tr>\n",
       "      <th>2</th>\n",
       "      <td>Maria</td>\n",
       "      <td>Female</td>\n",
       "      <td>NaN</td>\n",
       "      <td>130590.0</td>\n",
       "      <td>False</td>\n",
       "      <td>Finance</td>\n",
       "    </tr>\n",
       "    <tr>\n",
       "      <th>3</th>\n",
       "      <td>Jerry</td>\n",
       "      <td>NaN</td>\n",
       "      <td>3/4/05</td>\n",
       "      <td>138705.0</td>\n",
       "      <td>True</td>\n",
       "      <td>Finance</td>\n",
       "    </tr>\n",
       "    <tr>\n",
       "      <th>4</th>\n",
       "      <td>Larry</td>\n",
       "      <td>Male</td>\n",
       "      <td>1/24/98</td>\n",
       "      <td>101004.0</td>\n",
       "      <td>True</td>\n",
       "      <td>IT</td>\n",
       "    </tr>\n",
       "    <tr>\n",
       "      <th>5</th>\n",
       "      <td>Dennis</td>\n",
       "      <td>Male</td>\n",
       "      <td>4/18/87</td>\n",
       "      <td>115163.0</td>\n",
       "      <td>False</td>\n",
       "      <td>Legal</td>\n",
       "    </tr>\n",
       "    <tr>\n",
       "      <th>9</th>\n",
       "      <td>Frances</td>\n",
       "      <td>Female</td>\n",
       "      <td>8/8/02</td>\n",
       "      <td>139852.0</td>\n",
       "      <td>True</td>\n",
       "      <td>Business Dev</td>\n",
       "    </tr>\n",
       "    <tr>\n",
       "      <th>...</th>\n",
       "      <td>...</td>\n",
       "      <td>...</td>\n",
       "      <td>...</td>\n",
       "      <td>...</td>\n",
       "      <td>...</td>\n",
       "      <td>...</td>\n",
       "    </tr>\n",
       "    <tr>\n",
       "      <th>990</th>\n",
       "      <td>Robin</td>\n",
       "      <td>Female</td>\n",
       "      <td>7/24/87</td>\n",
       "      <td>100765.0</td>\n",
       "      <td>True</td>\n",
       "      <td>IT</td>\n",
       "    </tr>\n",
       "    <tr>\n",
       "      <th>991</th>\n",
       "      <td>Rose</td>\n",
       "      <td>Female</td>\n",
       "      <td>8/25/02</td>\n",
       "      <td>134505.0</td>\n",
       "      <td>True</td>\n",
       "      <td>Marketing</td>\n",
       "    </tr>\n",
       "    <tr>\n",
       "      <th>992</th>\n",
       "      <td>Anthony</td>\n",
       "      <td>Male</td>\n",
       "      <td>10/16/11</td>\n",
       "      <td>112769.0</td>\n",
       "      <td>True</td>\n",
       "      <td>Finance</td>\n",
       "    </tr>\n",
       "    <tr>\n",
       "      <th>995</th>\n",
       "      <td>Henry</td>\n",
       "      <td>NaN</td>\n",
       "      <td>11/23/14</td>\n",
       "      <td>132483.0</td>\n",
       "      <td>False</td>\n",
       "      <td>Distribution</td>\n",
       "    </tr>\n",
       "    <tr>\n",
       "      <th>999</th>\n",
       "      <td>Albert</td>\n",
       "      <td>Male</td>\n",
       "      <td>5/15/12</td>\n",
       "      <td>129949.0</td>\n",
       "      <td>True</td>\n",
       "      <td>Sales</td>\n",
       "    </tr>\n",
       "  </tbody>\n",
       "</table>\n",
       "<p>409 rows × 6 columns</p>\n",
       "</div>"
      ],
      "text/plain": [
       "    First Name  Gender Start Date    Salary   Mgmt          Team\n",
       "2        Maria  Female        NaN  130590.0  False       Finance\n",
       "3        Jerry     NaN     3/4/05  138705.0   True       Finance\n",
       "4        Larry    Male    1/24/98  101004.0   True            IT\n",
       "5       Dennis    Male    4/18/87  115163.0  False         Legal\n",
       "9      Frances  Female     8/8/02  139852.0   True  Business Dev\n",
       "..         ...     ...        ...       ...    ...           ...\n",
       "990      Robin  Female    7/24/87  100765.0   True            IT\n",
       "991       Rose  Female    8/25/02  134505.0   True     Marketing\n",
       "992    Anthony    Male   10/16/11  112769.0   True       Finance\n",
       "995      Henry     NaN   11/23/14  132483.0  False  Distribution\n",
       "999     Albert    Male    5/15/12  129949.0   True         Sales\n",
       "\n",
       "[409 rows x 6 columns]"
      ]
     },
     "execution_count": 11,
     "metadata": {},
     "output_type": "execute_result"
    }
   ],
   "source": [
    "empDF[s100000]"
   ]
  },
  {
   "cell_type": "markdown",
   "id": "7084e2c5-71e1-48f2-8dcb-d2c55d796b93",
   "metadata": {},
   "source": [
    "- [문제] 데이터에서  성별이 남자이면서 연봉이 148000이상인 데이터만 추출"
   ]
  },
  {
   "cell_type": "code",
   "execution_count": 12,
   "id": "53a2911e-5dc3-4d7e-a4bf-5e6cae68a1e9",
   "metadata": {},
   "outputs": [
    {
     "data": {
      "text/plain": [
       "0       False\n",
       "1       False\n",
       "2       False\n",
       "3       False\n",
       "4       False\n",
       "        ...  \n",
       "996     False\n",
       "997     False\n",
       "998     False\n",
       "999     False\n",
       "1000    False\n",
       "Name: Salary, Length: 1001, dtype: bool"
      ]
     },
     "execution_count": 12,
     "metadata": {},
     "output_type": "execute_result"
    }
   ],
   "source": [
    "empDF[\"Gender\"]==\"Male\"\n",
    "empDF[\"Salary\"]>=148000"
   ]
  },
  {
   "cell_type": "markdown",
   "id": "d96817e7-4d06-4d7b-a430-5272a1f631ab",
   "metadata": {},
   "source": [
    "- 여러 개의 조건이 모두 True 여야만 하는 조건 => AND 조건\n",
    "  * 문법 : 조건1 & 조건2& 조건3& ...& 조건 N\n",
    "  * 연산자: & 앰퍼센트\n",
    "  * 결과: True/False"
   ]
  },
  {
   "cell_type": "code",
   "execution_count": 13,
   "id": "dfdc5e59-7a9f-4844-9092-fc0ccc67faad",
   "metadata": {},
   "outputs": [
    {
     "data": {
      "text/plain": [
       "(pandas.core.series.Series, 5)"
      ]
     },
     "execution_count": 13,
     "metadata": {},
     "output_type": "execute_result"
    }
   ],
   "source": [
    "mask=((empDF[\"Gender\"]==\"Male\")  & (empDF[\"Salary\"]>=148000))\n",
    "type(mask),mask.sum()"
   ]
  },
  {
   "cell_type": "code",
   "execution_count": 14,
   "id": "3cc74604-da7b-4ee0-9207-b23543af7c60",
   "metadata": {},
   "outputs": [
    {
     "data": {
      "text/html": [
       "<div>\n",
       "<style scoped>\n",
       "    .dataframe tbody tr th:only-of-type {\n",
       "        vertical-align: middle;\n",
       "    }\n",
       "\n",
       "    .dataframe tbody tr th {\n",
       "        vertical-align: top;\n",
       "    }\n",
       "\n",
       "    .dataframe thead th {\n",
       "        text-align: right;\n",
       "    }\n",
       "</style>\n",
       "<table border=\"1\" class=\"dataframe\">\n",
       "  <thead>\n",
       "    <tr style=\"text-align: right;\">\n",
       "      <th></th>\n",
       "      <th>First Name</th>\n",
       "      <th>Gender</th>\n",
       "      <th>Start Date</th>\n",
       "      <th>Salary</th>\n",
       "      <th>Mgmt</th>\n",
       "      <th>Team</th>\n",
       "    </tr>\n",
       "  </thead>\n",
       "  <tbody>\n",
       "    <tr>\n",
       "      <th>83</th>\n",
       "      <td>Shawn</td>\n",
       "      <td>Male</td>\n",
       "      <td>9/23/05</td>\n",
       "      <td>148115.0</td>\n",
       "      <td>True</td>\n",
       "      <td>Finance</td>\n",
       "    </tr>\n",
       "    <tr>\n",
       "      <th>318</th>\n",
       "      <td>Roy</td>\n",
       "      <td>Male</td>\n",
       "      <td>8/6/06</td>\n",
       "      <td>148225.0</td>\n",
       "      <td>False</td>\n",
       "      <td>Finance</td>\n",
       "    </tr>\n",
       "    <tr>\n",
       "      <th>800</th>\n",
       "      <td>Clarence</td>\n",
       "      <td>Male</td>\n",
       "      <td>8/5/89</td>\n",
       "      <td>148941.0</td>\n",
       "      <td>False</td>\n",
       "      <td>Product</td>\n",
       "    </tr>\n",
       "    <tr>\n",
       "      <th>850</th>\n",
       "      <td>Charles</td>\n",
       "      <td>Male</td>\n",
       "      <td>9/3/97</td>\n",
       "      <td>148291.0</td>\n",
       "      <td>False</td>\n",
       "      <td>NaN</td>\n",
       "    </tr>\n",
       "    <tr>\n",
       "      <th>981</th>\n",
       "      <td>James</td>\n",
       "      <td>Male</td>\n",
       "      <td>1/15/93</td>\n",
       "      <td>148985.0</td>\n",
       "      <td>False</td>\n",
       "      <td>Legal</td>\n",
       "    </tr>\n",
       "  </tbody>\n",
       "</table>\n",
       "</div>"
      ],
      "text/plain": [
       "    First Name Gender Start Date    Salary   Mgmt     Team\n",
       "83       Shawn   Male    9/23/05  148115.0   True  Finance\n",
       "318        Roy   Male     8/6/06  148225.0  False  Finance\n",
       "800   Clarence   Male     8/5/89  148941.0  False  Product\n",
       "850    Charles   Male     9/3/97  148291.0  False      NaN\n",
       "981      James   Male    1/15/93  148985.0  False    Legal"
      ]
     },
     "execution_count": 14,
     "metadata": {},
     "output_type": "execute_result"
    }
   ],
   "source": [
    "empDF[mask]"
   ]
  },
  {
   "cell_type": "markdown",
   "id": "474be24e-be33-4c72-81c8-807b8fbdf2ba",
   "metadata": {},
   "source": [
    "- 여러 개의 조건중 한 개 이상이  True 면 되는 조건 => OR 조건\n",
    "  * 문법 : 조건1 | 조건2| 조건3| ...| 조건 N\n",
    "  * 연산자: | 파이프  ==> 키보드 Enter키 위에 있음\n",
    "  * 결과: True/False"
   ]
  },
  {
   "cell_type": "markdown",
   "id": "261a4cdf-554e-42b8-b468-c76ac67f5ddc",
   "metadata": {},
   "source": [
    "- [문제] employees 데이터에서 입사일이 1993년 1월 1일 이전이거나 또는 팀이 없는 데이터 조회"
   ]
  },
  {
   "cell_type": "code",
   "execution_count": 15,
   "id": "56c4498e-4309-434b-a125-c0591e49202b",
   "metadata": {},
   "outputs": [],
   "source": [
    "mask2=((empDF[\"Start Date\"]<'1993-01-01') | (empDF[\"Mgmt\"]==False) )"
   ]
  },
  {
   "cell_type": "code",
   "execution_count": 16,
   "id": "081222ff-6bff-4b2c-b5eb-b82abc87e5a4",
   "metadata": {},
   "outputs": [
    {
     "data": {
      "text/html": [
       "<div>\n",
       "<style scoped>\n",
       "    .dataframe tbody tr th:only-of-type {\n",
       "        vertical-align: middle;\n",
       "    }\n",
       "\n",
       "    .dataframe tbody tr th {\n",
       "        vertical-align: top;\n",
       "    }\n",
       "\n",
       "    .dataframe thead th {\n",
       "        text-align: right;\n",
       "    }\n",
       "</style>\n",
       "<table border=\"1\" class=\"dataframe\">\n",
       "  <thead>\n",
       "    <tr style=\"text-align: right;\">\n",
       "      <th></th>\n",
       "      <th>First Name</th>\n",
       "      <th>Gender</th>\n",
       "      <th>Start Date</th>\n",
       "      <th>Salary</th>\n",
       "      <th>Mgmt</th>\n",
       "      <th>Team</th>\n",
       "    </tr>\n",
       "  </thead>\n",
       "  <tbody>\n",
       "    <tr>\n",
       "      <th>2</th>\n",
       "      <td>Maria</td>\n",
       "      <td>Female</td>\n",
       "      <td>NaN</td>\n",
       "      <td>130590.0</td>\n",
       "      <td>False</td>\n",
       "      <td>Finance</td>\n",
       "    </tr>\n",
       "    <tr>\n",
       "      <th>4</th>\n",
       "      <td>Larry</td>\n",
       "      <td>Male</td>\n",
       "      <td>1/24/98</td>\n",
       "      <td>101004.0</td>\n",
       "      <td>True</td>\n",
       "      <td>IT</td>\n",
       "    </tr>\n",
       "    <tr>\n",
       "      <th>5</th>\n",
       "      <td>Dennis</td>\n",
       "      <td>Male</td>\n",
       "      <td>4/18/87</td>\n",
       "      <td>115163.0</td>\n",
       "      <td>False</td>\n",
       "      <td>Legal</td>\n",
       "    </tr>\n",
       "    <tr>\n",
       "      <th>8</th>\n",
       "      <td>Angela</td>\n",
       "      <td>Female</td>\n",
       "      <td>11/22/05</td>\n",
       "      <td>95570.0</td>\n",
       "      <td>True</td>\n",
       "      <td>Engineering</td>\n",
       "    </tr>\n",
       "    <tr>\n",
       "      <th>11</th>\n",
       "      <td>Julie</td>\n",
       "      <td>Female</td>\n",
       "      <td>10/26/97</td>\n",
       "      <td>102508.0</td>\n",
       "      <td>True</td>\n",
       "      <td>Legal</td>\n",
       "    </tr>\n",
       "    <tr>\n",
       "      <th>...</th>\n",
       "      <td>...</td>\n",
       "      <td>...</td>\n",
       "      <td>...</td>\n",
       "      <td>...</td>\n",
       "      <td>...</td>\n",
       "      <td>...</td>\n",
       "    </tr>\n",
       "    <tr>\n",
       "      <th>992</th>\n",
       "      <td>Anthony</td>\n",
       "      <td>Male</td>\n",
       "      <td>10/16/11</td>\n",
       "      <td>112769.0</td>\n",
       "      <td>True</td>\n",
       "      <td>Finance</td>\n",
       "    </tr>\n",
       "    <tr>\n",
       "      <th>995</th>\n",
       "      <td>Henry</td>\n",
       "      <td>NaN</td>\n",
       "      <td>11/23/14</td>\n",
       "      <td>132483.0</td>\n",
       "      <td>False</td>\n",
       "      <td>Distribution</td>\n",
       "    </tr>\n",
       "    <tr>\n",
       "      <th>996</th>\n",
       "      <td>Phillip</td>\n",
       "      <td>Male</td>\n",
       "      <td>1/31/84</td>\n",
       "      <td>42392.0</td>\n",
       "      <td>False</td>\n",
       "      <td>Finance</td>\n",
       "    </tr>\n",
       "    <tr>\n",
       "      <th>997</th>\n",
       "      <td>Russell</td>\n",
       "      <td>Male</td>\n",
       "      <td>5/20/13</td>\n",
       "      <td>96914.0</td>\n",
       "      <td>False</td>\n",
       "      <td>Product</td>\n",
       "    </tr>\n",
       "    <tr>\n",
       "      <th>998</th>\n",
       "      <td>Larry</td>\n",
       "      <td>Male</td>\n",
       "      <td>4/20/13</td>\n",
       "      <td>60500.0</td>\n",
       "      <td>False</td>\n",
       "      <td>Business Dev</td>\n",
       "    </tr>\n",
       "  </tbody>\n",
       "</table>\n",
       "<p>640 rows × 6 columns</p>\n",
       "</div>"
      ],
      "text/plain": [
       "    First Name  Gender Start Date    Salary   Mgmt          Team\n",
       "2        Maria  Female        NaN  130590.0  False       Finance\n",
       "4        Larry    Male    1/24/98  101004.0   True            IT\n",
       "5       Dennis    Male    4/18/87  115163.0  False         Legal\n",
       "8       Angela  Female   11/22/05   95570.0   True   Engineering\n",
       "11       Julie  Female   10/26/97  102508.0   True         Legal\n",
       "..         ...     ...        ...       ...    ...           ...\n",
       "992    Anthony    Male   10/16/11  112769.0   True       Finance\n",
       "995      Henry     NaN   11/23/14  132483.0  False  Distribution\n",
       "996    Phillip    Male    1/31/84   42392.0  False       Finance\n",
       "997    Russell    Male    5/20/13   96914.0  False       Product\n",
       "998      Larry    Male    4/20/13   60500.0  False  Business Dev\n",
       "\n",
       "[640 rows x 6 columns]"
      ]
     },
     "execution_count": 16,
     "metadata": {},
     "output_type": "execute_result"
    }
   ],
   "source": [
    "empDF[mask2]"
   ]
  },
  {
   "cell_type": "code",
   "execution_count": 17,
   "id": "424fec0e-015b-4b5c-906b-8e6d303bd73e",
   "metadata": {},
   "outputs": [],
   "source": [
    "# 타입이 안 맞는다...."
   ]
  },
  {
   "cell_type": "code",
   "execution_count": 27,
   "id": "f2b8d1e3-3366-4bf1-95be-7086c2556c9a",
   "metadata": {},
   "outputs": [
    {
     "name": "stderr",
     "output_type": "stream",
     "text": [
      "C:\\Users\\kdp\\AppData\\Local\\Temp\\ipykernel_5012\\400972133.py:1: UserWarning: Could not infer format, so each element will be parsed individually, falling back to `dateutil`. To ensure parsing is consistent and as-expected, please specify a format.\n",
      "  empDF['Start Date']=pd.to_datetime(empDF['Start Date'])\n"
     ]
    }
   ],
   "source": [
    "empDF['Start Date']=pd.to_datetime(empDF['Start Date'])"
   ]
  },
  {
   "cell_type": "code",
   "execution_count": 29,
   "id": "adc02248-bf04-467f-ab70-4218b5e9f12d",
   "metadata": {},
   "outputs": [
    {
     "name": "stdout",
     "output_type": "stream",
     "text": [
      "<class 'pandas.core.frame.DataFrame'>\n",
      "RangeIndex: 1001 entries, 0 to 1000\n",
      "Data columns (total 6 columns):\n",
      " #   Column      Non-Null Count  Dtype         \n",
      "---  ------      --------------  -----         \n",
      " 0   First Name  933 non-null    object        \n",
      " 1   Gender      854 non-null    object        \n",
      " 2   Start Date  999 non-null    datetime64[ns]\n",
      " 3   Salary      999 non-null    float64       \n",
      " 4   Mgmt        933 non-null    object        \n",
      " 5   Team        957 non-null    object        \n",
      "dtypes: datetime64[ns](1), float64(1), object(4)\n",
      "memory usage: 47.0+ KB\n"
     ]
    }
   ],
   "source": [
    "empDF.info()"
   ]
  },
  {
   "cell_type": "code",
   "execution_count": 30,
   "id": "f193333a-f97c-4206-be9b-3bd64e0dc6be",
   "metadata": {},
   "outputs": [
    {
     "data": {
      "text/plain": [
       "0       False\n",
       "1       False\n",
       "2       False\n",
       "3       False\n",
       "4       False\n",
       "        ...  \n",
       "996     False\n",
       "997     False\n",
       "998     False\n",
       "999      True\n",
       "1000    False\n",
       "Name: Team, Length: 1001, dtype: bool"
      ]
     },
     "execution_count": 30,
     "metadata": {},
     "output_type": "execute_result"
    }
   ],
   "source": [
    "(empDF['Team'] =='Sales') | (empDF['Team'] =='Legal') | (empDF['Team'] =='marketing') "
   ]
  },
  {
   "cell_type": "code",
   "execution_count": 31,
   "id": "03d2b270-9c1c-4c1c-94ab-c7da2eae7539",
   "metadata": {},
   "outputs": [
    {
     "data": {
      "text/plain": [
       "0       False\n",
       "1       False\n",
       "2       False\n",
       "3       False\n",
       "4       False\n",
       "        ...  \n",
       "996     False\n",
       "997     False\n",
       "998     False\n",
       "999      True\n",
       "1000    False\n",
       "Name: Team, Length: 1001, dtype: bool"
      ]
     },
     "execution_count": 31,
     "metadata": {},
     "output_type": "execute_result"
    }
   ],
   "source": [
    "empDF['Team'].isin(['Sales','Legal','marketing'])"
   ]
  },
  {
   "cell_type": "markdown",
   "id": "b773c74b-3cc3-4730-b2d3-da31ac4a3e7d",
   "metadata": {},
   "source": [
    "- 구간 지정 검사 불링 메서드 => DF.between(low,high)"
   ]
  },
  {
   "cell_type": "code",
   "execution_count": 33,
   "id": "12666799-8fbe-4e85-aa76-d618fb5b2971",
   "metadata": {},
   "outputs": [
    {
     "data": {
      "text/plain": [
       "0       False\n",
       "1       False\n",
       "2       False\n",
       "3       False\n",
       "4       False\n",
       "        ...  \n",
       "996     False\n",
       "997     False\n",
       "998     False\n",
       "999     False\n",
       "1000    False\n",
       "Name: Salary, Length: 1001, dtype: bool"
      ]
     },
     "execution_count": 33,
     "metadata": {},
     "output_type": "execute_result"
    }
   ],
   "source": [
    "(empDF['Salary']>=80000) & (empDF['Salary'] <90000)"
   ]
  },
  {
   "cell_type": "code",
   "execution_count": 35,
   "id": "51d5acc0-c77a-4c2c-b3b0-e1c5b79f9df4",
   "metadata": {},
   "outputs": [
    {
     "data": {
      "text/plain": [
       "0       False\n",
       "1       False\n",
       "2       False\n",
       "3       False\n",
       "4       False\n",
       "        ...  \n",
       "996     False\n",
       "997     False\n",
       "998     False\n",
       "999     False\n",
       "1000    False\n",
       "Name: Salary, Length: 1001, dtype: bool"
      ]
     },
     "execution_count": 35,
     "metadata": {},
     "output_type": "execute_result"
    }
   ],
   "source": [
    "empDF['Salary'].between(80000,90000)"
   ]
  },
  {
   "cell_type": "code",
   "execution_count": 36,
   "id": "16a65c5a-e469-4264-8fe8-aa87a0fb0315",
   "metadata": {},
   "outputs": [
    {
     "data": {
      "text/plain": [
       "(0       DOUGLAS\n",
       " 1        THOMAS\n",
       " 2         MARIA\n",
       " 3         JERRY\n",
       " 4         LARRY\n",
       "          ...   \n",
       " 996     PHILLIP\n",
       " 997     RUSSELL\n",
       " 998       LARRY\n",
       " 999      ALBERT\n",
       " 1000        NaN\n",
       " Name: First Name, Length: 1001, dtype: object,\n",
       " 0       douglas\n",
       " 1        thomas\n",
       " 2         maria\n",
       " 3         jerry\n",
       " 4         larry\n",
       "          ...   \n",
       " 996     phillip\n",
       " 997     russell\n",
       " 998       larry\n",
       " 999      albert\n",
       " 1000        NaN\n",
       " Name: First Name, Length: 1001, dtype: object)"
      ]
     },
     "execution_count": 36,
     "metadata": {},
     "output_type": "execute_result"
    }
   ],
   "source": [
    "empDF['First Name'].str.upper(),empDF['First Name'].str.lower()"
   ]
  },
  {
   "cell_type": "code",
   "execution_count": null,
   "id": "0f143567-3506-47e2-ace3-94bea2fb51cb",
   "metadata": {},
   "outputs": [],
   "source": [
    "                                                           "
   ]
  }
 ],
 "metadata": {
  "kernelspec": {
   "display_name": "Python 3 (ipykernel)",
   "language": "python",
   "name": "python3"
  },
  "language_info": {
   "codemirror_mode": {
    "name": "ipython",
    "version": 3
   },
   "file_extension": ".py",
   "mimetype": "text/x-python",
   "name": "python",
   "nbconvert_exporter": "python",
   "pygments_lexer": "ipython3",
   "version": "3.8.18"
  }
 },
 "nbformat": 4,
 "nbformat_minor": 5
}
