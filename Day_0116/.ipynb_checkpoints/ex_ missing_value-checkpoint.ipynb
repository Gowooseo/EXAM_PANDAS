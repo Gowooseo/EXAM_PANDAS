{
 "cells": [
  {
   "cell_type": "markdown",
   "id": "4d627532-b00a-406b-9f1b-2d23ee6b7d6a",
   "metadata": {},
   "source": [
    "## [결측치 Missing Value 처리]\n",
    "- 데이터 미입력 또는 데이터 저장 과정에서 지워진 데이터\n",
    "- 빈칸 의미\n",
    "- 표시: NaN(Not A Number) NaT (Not A Text)\n",
    "- 표현: numpy 모듈의 nan, math 모듈의 nan 사용"
   ]
  },
  {
   "cell_type": "markdown",
   "id": "982a670c-d682-41ee-9048-dd59a64ae19e",
   "metadata": {},
   "source": [
    "1. 모듈로딩<hr>"
   ]
  },
  {
   "cell_type": "code",
   "execution_count": 1,
   "id": "f12e52a5-5a8a-4c56-9d67-efea93e53ca5",
   "metadata": {},
   "outputs": [],
   "source": [
    "import pandas as pd"
   ]
  },
  {
   "cell_type": "markdown",
   "id": "a03f42ac-e54e-47e1-a24e-3c96e47966aa",
   "metadata": {},
   "source": [
    "(2) 데이터 준비"
   ]
  },
  {
   "cell_type": "code",
   "execution_count": 2,
   "id": "d9b028ac-04c0-4ba4-a00e-067b7935b65e",
   "metadata": {},
   "outputs": [],
   "source": [
    "file='../DATA/employees.csv'"
   ]
  },
  {
   "cell_type": "markdown",
   "id": "8e7fcd79-0da1-45c7-8757-2758023fc028",
   "metadata": {},
   "source": [
    "(3) 데이터 저장: csv=> dataFrame"
   ]
  },
  {
   "cell_type": "code",
   "execution_count": 3,
   "id": "10f31532-0ad1-4dd8-90ef-a25382c594aa",
   "metadata": {},
   "outputs": [],
   "source": [
    "# 첫번쨰 줄이 열이 맞는가=> 결측치는 있는가...=> 결측치는 있는가?"
   ]
  },
  {
   "cell_type": "code",
   "execution_count": 4,
   "id": "6ab21834-b7c5-4cc6-94cf-ae0c3dfde6a7",
   "metadata": {},
   "outputs": [],
   "source": [
    "# 현재 구분자가 ','임."
   ]
  },
  {
   "cell_type": "code",
   "execution_count": 5,
   "id": "7b8d009e-060e-4a5b-9cbc-9b56b89f8d85",
   "metadata": {},
   "outputs": [],
   "source": [
    "# 구분자:,  헤더: 첫번쨰 줄 컬럼명, 만약 아니면 header=none\n",
    "empDF=pd.read_csv(file)"
   ]
  },
  {
   "cell_type": "code",
   "execution_count": 6,
   "id": "5ad344c5-caed-4ee2-a212-c2ab16038144",
   "metadata": {},
   "outputs": [
    {
     "name": "stdout",
     "output_type": "stream",
     "text": [
      "<class 'pandas.core.frame.DataFrame'>\n",
      "RangeIndex: 1001 entries, 0 to 1000\n",
      "Data columns (total 6 columns):\n",
      " #   Column      Non-Null Count  Dtype  \n",
      "---  ------      --------------  -----  \n",
      " 0   First Name  933 non-null    object \n",
      " 1   Gender      854 non-null    object \n",
      " 2   Start Date  999 non-null    object \n",
      " 3   Salary      999 non-null    float64\n",
      " 4   Mgmt        933 non-null    object \n",
      " 5   Team        957 non-null    object \n",
      "dtypes: float64(1), object(5)\n",
      "memory usage: 47.0+ KB\n"
     ]
    }
   ],
   "source": [
    "# 데이터의 전반적인 요약정보 확인 => info() 메서드\n",
    "# - 컬럼별 결측치 여부 확인==> 실제 데이터에서 결측치 체크&처리\n",
    "# - 컬럼별 데이터 타입과 실제 데이터 타입 비교 -===> 타입 다른 경우, 타입 변환\n",
    "empDF.info()"
   ]
  },
  {
   "cell_type": "markdown",
   "id": "3cb64094-6eb6-4906-9dcb-27b6e968d58e",
   "metadata": {},
   "source": [
    "- 데이터의 컬럼별 분포 => dexcribe(): 컬럼별 기술통계 값 확인 가능"
   ]
  },
  {
   "cell_type": "code",
   "execution_count": 7,
   "id": "26e9af1e-127a-4ae7-96be-1fe828409726",
   "metadata": {},
   "outputs": [
    {
     "data": {
      "text/html": [
       "<div>\n",
       "<style scoped>\n",
       "    .dataframe tbody tr th:only-of-type {\n",
       "        vertical-align: middle;\n",
       "    }\n",
       "\n",
       "    .dataframe tbody tr th {\n",
       "        vertical-align: top;\n",
       "    }\n",
       "\n",
       "    .dataframe thead th {\n",
       "        text-align: right;\n",
       "    }\n",
       "</style>\n",
       "<table border=\"1\" class=\"dataframe\">\n",
       "  <thead>\n",
       "    <tr style=\"text-align: right;\">\n",
       "      <th></th>\n",
       "      <th>Salary</th>\n",
       "    </tr>\n",
       "  </thead>\n",
       "  <tbody>\n",
       "    <tr>\n",
       "      <th>count</th>\n",
       "      <td>999.000000</td>\n",
       "    </tr>\n",
       "    <tr>\n",
       "      <th>mean</th>\n",
       "      <td>90655.528529</td>\n",
       "    </tr>\n",
       "    <tr>\n",
       "      <th>std</th>\n",
       "      <td>32939.511615</td>\n",
       "    </tr>\n",
       "    <tr>\n",
       "      <th>min</th>\n",
       "      <td>35013.000000</td>\n",
       "    </tr>\n",
       "    <tr>\n",
       "      <th>25%</th>\n",
       "      <td>62560.000000</td>\n",
       "    </tr>\n",
       "    <tr>\n",
       "      <th>50%</th>\n",
       "      <td>90427.000000</td>\n",
       "    </tr>\n",
       "    <tr>\n",
       "      <th>75%</th>\n",
       "      <td>118744.500000</td>\n",
       "    </tr>\n",
       "    <tr>\n",
       "      <th>max</th>\n",
       "      <td>149908.000000</td>\n",
       "    </tr>\n",
       "  </tbody>\n",
       "</table>\n",
       "</div>"
      ],
      "text/plain": [
       "              Salary\n",
       "count     999.000000\n",
       "mean    90655.528529\n",
       "std     32939.511615\n",
       "min     35013.000000\n",
       "25%     62560.000000\n",
       "50%     90427.000000\n",
       "75%    118744.500000\n",
       "max    149908.000000"
      ]
     },
     "execution_count": 7,
     "metadata": {},
     "output_type": "execute_result"
    }
   ],
   "source": [
    "empDF.describe()"
   ]
  },
  {
   "cell_type": "code",
   "execution_count": 8,
   "id": "a98f0380-30e6-4d7d-8894-37ded8ff23fd",
   "metadata": {},
   "outputs": [
    {
     "name": "stdout",
     "output_type": "stream",
     "text": [
      "     Salary\n",
      "0   86676.0\n",
      "1   91462.0\n",
      "2  121160.0\n",
      "3  145988.0\n",
      "4  147183.0\n",
      "\n",
      "Salary    90427.0\n",
      "dtype: float64\n",
      "\n",
      "Salary    90655.528529\n",
      "dtype: float64\n"
     ]
    }
   ],
   "source": [
    "# 최빈값=> mode(),중앙값=> median()\n",
    "print(empDF.mode(numeric_only=True),\n",
    "      empDF.median(numeric_only=True),\n",
    "      empDF.mean(numeric_only=True),sep='\\n\\n')"
   ]
  },
  {
   "cell_type": "code",
   "execution_count": 9,
   "id": "604a95fc-ee44-46e7-a08c-f0ca66b4e7ec",
   "metadata": {},
   "outputs": [],
   "source": [
    "# 평균이 90655 , 중앙값이 90427=> 중앙값 < 평균 , 분포를 알 수 있음\n"
   ]
  },
  {
   "cell_type": "markdown",
   "id": "08295600-b298-4569-8c4f-c787225713f4",
   "metadata": {},
   "source": [
    "- (5) 데이터 전처리(Preprocessing)=> 가. 결측치 처리"
   ]
  },
  {
   "cell_type": "markdown",
   "id": "305ce3cc-2da7-4a97-9c66-25b861d7d888",
   "metadata": {},
   "source": [
    "- 결측치 확인==> isna(), isnull(): 원소 단위 검사 후 결측치인 경우 True 반환"
   ]
  },
  {
   "cell_type": "code",
   "execution_count": 10,
   "id": "a8b05017-3e6f-45b0-ad9c-2c0f34853af4",
   "metadata": {},
   "outputs": [
    {
     "data": {
      "text/plain": [
       "Index(['First Name', 'Gender', 'Start Date', 'Salary', 'Mgmt', 'Team'], dtype='object')"
      ]
     },
     "execution_count": 10,
     "metadata": {},
     "output_type": "execute_result"
    }
   ],
   "source": [
    "empDF.columns"
   ]
  },
  {
   "cell_type": "code",
   "execution_count": 11,
   "id": "e5b4e482-b950-4ad1-a161-e66f3e80a7e3",
   "metadata": {},
   "outputs": [
    {
     "name": "stdout",
     "output_type": "stream",
     "text": [
      "First Name     68\n",
      "Gender        147\n",
      "Start Date      2\n",
      "Salary          2\n",
      "Mgmt           68\n",
      "Team           44\n",
      "dtype: int64\n",
      "\n",
      "First Name     68\n",
      "Gender        147\n",
      "Start Date      2\n",
      "Salary          2\n",
      "Mgmt           68\n",
      "Team           44\n",
      "dtype: int64\n"
     ]
    }
   ],
   "source": [
    "# 전체 데이터의 컬럼별 결측치 체크\n",
    "print(empDF.isna().sum(), empDF.isnull().sum(),sep='\\n\\n')"
   ]
  },
  {
   "cell_type": "markdown",
   "id": "4c6f9e64-85cf-4667-99cc-1629dd383f22",
   "metadata": {},
   "source": [
    "- 결측치 확인 ==> notna(), notnull(): 결측치가 아니면 True 반환"
   ]
  },
  {
   "cell_type": "code",
   "execution_count": 12,
   "id": "cf6e2e4f-5155-4cd2-9979-84ca9fb9fa44",
   "metadata": {},
   "outputs": [
    {
     "name": "stdout",
     "output_type": "stream",
     "text": [
      "   First Name  Gender  Start Date  Salary  Mgmt   Team\n",
      "0        True    True        True   False  True   True\n",
      "1        True    True        True    True  True  False\n",
      "2        True    True       False    True  True   True\n",
      "3        True   False        True    True  True   True\n",
      "4        True    True        True    True  True   True\n",
      "\n",
      "   First Name  Gender  Start Date  Salary  Mgmt   Team\n",
      "0        True    True        True   False  True   True\n",
      "1        True    True        True    True  True  False\n",
      "2        True    True       False    True  True   True\n",
      "3        True   False        True    True  True   True\n",
      "4        True    True        True    True  True   True\n"
     ]
    }
   ],
   "source": [
    "print(empDF.notna().head(),empDF.notnull().head(),sep='\\n\\n')"
   ]
  },
  {
   "cell_type": "code",
   "execution_count": 13,
   "id": "26095c14-18e8-41d6-a2bc-3ab69f37aa88",
   "metadata": {},
   "outputs": [
    {
     "name": "stdout",
     "output_type": "stream",
     "text": [
      "First Name    933\n",
      "Gender        854\n",
      "Start Date    999\n",
      "Salary        999\n",
      "Mgmt          933\n",
      "Team          957\n",
      "dtype: int64\n",
      "\n",
      "First Name    933\n",
      "Gender        854\n",
      "Start Date    999\n",
      "Salary        999\n",
      "Mgmt          933\n",
      "Team          957\n",
      "dtype: int64\n"
     ]
    }
   ],
   "source": [
    "print(empDF.notna().sum(),empDF.notnull().sum(),sep='\\n\\n')"
   ]
  },
  {
   "cell_type": "markdown",
   "id": "e02c5447-1113-4ef4-baa1-ed0576f8a75c",
   "metadata": {},
   "source": [
    "- 결측치 처리 ===> (1) 삭제: dropna()"
   ]
  },
  {
   "cell_type": "code",
   "execution_count": 14,
   "id": "6fff3051-bb84-451d-a625-cc4805ade710",
   "metadata": {},
   "outputs": [
    {
     "name": "stdout",
     "output_type": "stream",
     "text": [
      "(1001, 6) (761, 6)\n"
     ]
    }
   ],
   "source": [
    "## 모든 행에 1개의 값이라도 NaN이면 삭제\n",
    "# First Name Gender Start Date Salary Mgmt Team\n",
    "#  TOM    M    NA    10000      True   KTEAM\n",
    "empDF2=empDF.dropna()\n",
    "empDF2\n",
    "print(empDF.shape,empDF2.shape)"
   ]
  },
  {
   "cell_type": "code",
   "execution_count": 15,
   "id": "71f68ec2-5d84-4bfc-b321-c83e3c0a5f9a",
   "metadata": {},
   "outputs": [
    {
     "name": "stdout",
     "output_type": "stream",
     "text": [
      "(1000, 6) (1000, 6)\n"
     ]
    }
   ],
   "source": [
    "## 모든 행의 모든 데이터 즉 값이 NA면 삭제\n",
    "# First Name Gender Start Date Salary Mgmt Team\n",
    "#  NA    NA    NA    NA    NA   NA     NA    NA\n",
    "empDF3=empDF.dropna(how='all')\n",
    "\n",
    "print(empDF3.shape,empDF3.shape)"
   ]
  },
  {
   "cell_type": "code",
   "execution_count": 16,
   "id": "dee7c1fd-21ce-41ed-82a8-ceef9c9e1465",
   "metadata": {},
   "outputs": [
    {
     "name": "stdout",
     "output_type": "stream",
     "text": [
      "(853, 6) (853, 6)\n"
     ]
    }
   ],
   "source": [
    "## [설정] 특정 컬럼의 NA만 체크 후 삭제하는 방법\n",
    "# 예) 성별에 따른 연봉 분석 => NA면 분석 불가능 컬럼을 지정\n",
    "empDF4=empDF.dropna(subset=['Gender','Salary'])\n",
    "\n",
    "print(empDF4.shape,empDF4.shape)"
   ]
  },
  {
   "cell_type": "code",
   "execution_count": 17,
   "id": "009ca1ca-b6aa-40d0-910c-85b2e785a85f",
   "metadata": {},
   "outputs": [
    {
     "name": "stdout",
     "output_type": "stream",
     "text": [
      "(1001, 3) (1001, 3) Index(['Start Date', 'Salary', 'Team'], dtype='object')\n"
     ]
    }
   ],
   "source": [
    "## [설정] 컮럼별 정상데이터 즉 NA가 아닌 데이터의 갯수를 지정 후 \n",
    "# 해당 수 만큼 정상데이터가 없는 컬럼 삭제\n",
    "\n",
    "empDF5=empDF.dropna(thresh=950,axis='columns')\n",
    "\n",
    "print(empDF5.shape,empDF5.shape,empDF5.columns)"
   ]
  },
  {
   "cell_type": "markdown",
   "id": "af78e721-cbf4-4f9d-8898-cc0266942c53",
   "metadata": {},
   "source": [
    "- 결측치 처리=> 대체 : fillna()"
   ]
  },
  {
   "cell_type": "code",
   "execution_count": 18,
   "id": "0101abc1-410e-4a11-abec-069b06b0402b",
   "metadata": {},
   "outputs": [],
   "source": [
    "# Gender 컬럼에 결측 값을 무엇으로 채울지???"
   ]
  },
  {
   "cell_type": "code",
   "execution_count": 19,
   "id": "79b97de2-22ea-4208-90d5-98f6326a5edf",
   "metadata": {},
   "outputs": [
    {
     "data": {
      "text/html": [
       "<div>\n",
       "<style scoped>\n",
       "    .dataframe tbody tr th:only-of-type {\n",
       "        vertical-align: middle;\n",
       "    }\n",
       "\n",
       "    .dataframe tbody tr th {\n",
       "        vertical-align: top;\n",
       "    }\n",
       "\n",
       "    .dataframe thead th {\n",
       "        text-align: right;\n",
       "    }\n",
       "</style>\n",
       "<table border=\"1\" class=\"dataframe\">\n",
       "  <thead>\n",
       "    <tr style=\"text-align: right;\">\n",
       "      <th></th>\n",
       "      <th>First Name</th>\n",
       "      <th>Gender</th>\n",
       "      <th>Start Date</th>\n",
       "      <th>Salary</th>\n",
       "      <th>Mgmt</th>\n",
       "      <th>Team</th>\n",
       "    </tr>\n",
       "  </thead>\n",
       "  <tbody>\n",
       "    <tr>\n",
       "      <th>count</th>\n",
       "      <td>933</td>\n",
       "      <td>854</td>\n",
       "      <td>999</td>\n",
       "      <td>999.0</td>\n",
       "      <td>933</td>\n",
       "      <td>957</td>\n",
       "    </tr>\n",
       "    <tr>\n",
       "      <th>unique</th>\n",
       "      <td>200</td>\n",
       "      <td>2</td>\n",
       "      <td>971</td>\n",
       "      <td>NaN</td>\n",
       "      <td>2</td>\n",
       "      <td>10</td>\n",
       "    </tr>\n",
       "    <tr>\n",
       "      <th>top</th>\n",
       "      <td>Marilyn</td>\n",
       "      <td>Female</td>\n",
       "      <td>10/30/04</td>\n",
       "      <td>NaN</td>\n",
       "      <td>True</td>\n",
       "      <td>IT</td>\n",
       "    </tr>\n",
       "    <tr>\n",
       "      <th>freq</th>\n",
       "      <td>11</td>\n",
       "      <td>431</td>\n",
       "      <td>2</td>\n",
       "      <td>NaN</td>\n",
       "      <td>468</td>\n",
       "      <td>106</td>\n",
       "    </tr>\n",
       "  </tbody>\n",
       "</table>\n",
       "</div>"
      ],
      "text/plain": [
       "       First Name  Gender Start Date  Salary  Mgmt Team\n",
       "count         933     854        999   999.0   933  957\n",
       "unique        200       2        971     NaN     2   10\n",
       "top       Marilyn  Female   10/30/04     NaN  True   IT\n",
       "freq           11     431          2     NaN   468  106"
      ]
     },
     "execution_count": 19,
     "metadata": {},
     "output_type": "execute_result"
    }
   ],
   "source": [
    "empDF.describe(include='all').head(4)"
   ]
  },
  {
   "cell_type": "code",
   "execution_count": 20,
   "id": "8230abfa-324f-49e4-9da4-6b429bc20e32",
   "metadata": {},
   "outputs": [
    {
     "data": {
      "text/plain": [
       "0"
      ]
     },
     "execution_count": 20,
     "metadata": {},
     "output_type": "execute_result"
    }
   ],
   "source": [
    "#==> 컬럼의 최빈값으로 na 채우기\n",
    "# empDF.Gender.mode()[0]\n",
    "genSR=empDF.Gender.fillna(empDF.Gender.mode()[0])\n",
    "genSR.isna().sum()"
   ]
  },
  {
   "cell_type": "code",
   "execution_count": 21,
   "id": "528850b3-1a75-4acf-a428-e5e88c0619c0",
   "metadata": {},
   "outputs": [
    {
     "data": {
      "text/plain": [
       "0         Male\n",
       "1         Male\n",
       "2       Female\n",
       "3       Female\n",
       "4         Male\n",
       "         ...  \n",
       "996       Male\n",
       "997       Male\n",
       "998       Male\n",
       "999       Male\n",
       "1000      Male\n",
       "Name: Gender, Length: 1001, dtype: object"
      ]
     },
     "execution_count": 21,
     "metadata": {},
     "output_type": "execute_result"
    }
   ],
   "source": [
    "#==> NA 값 이전과 이후 값으로 채우기\n",
    "empDF.Gender.fillna(method='ffill')\n"
   ]
  },
  {
   "cell_type": "code",
   "execution_count": 22,
   "id": "c5dc1751-262e-49d9-963d-0f7dcb868ae2",
   "metadata": {},
   "outputs": [
    {
     "data": {
      "text/plain": [
       "0         Male\n",
       "1         Male\n",
       "2       Female\n",
       "3         Male\n",
       "4         Male\n",
       "         ...  \n",
       "996       Male\n",
       "997       Male\n",
       "998       Male\n",
       "999       Male\n",
       "1000       NaN\n",
       "Name: Gender, Length: 1001, dtype: object"
      ]
     },
     "execution_count": 22,
     "metadata": {},
     "output_type": "execute_result"
    }
   ],
   "source": [
    "#==> NA 값 이전과 이후 값으로 채우기 =method = 'ffill', method='bfill'\n",
    "empDF.Gender.fillna(method='bfill') "
   ]
  },
  {
   "cell_type": "code",
   "execution_count": 36,
   "id": "14438e5e-dbaf-4b0b-86ea-b8b3155743ed",
   "metadata": {},
   "outputs": [
    {
     "data": {
      "text/html": [
       "<div>\n",
       "<style scoped>\n",
       "    .dataframe tbody tr th:only-of-type {\n",
       "        vertical-align: middle;\n",
       "    }\n",
       "\n",
       "    .dataframe tbody tr th {\n",
       "        vertical-align: top;\n",
       "    }\n",
       "\n",
       "    .dataframe thead th {\n",
       "        text-align: right;\n",
       "    }\n",
       "</style>\n",
       "<table border=\"1\" class=\"dataframe\">\n",
       "  <thead>\n",
       "    <tr style=\"text-align: right;\">\n",
       "      <th></th>\n",
       "      <th>A</th>\n",
       "      <th>B</th>\n",
       "      <th>C</th>\n",
       "      <th>D</th>\n",
       "    </tr>\n",
       "  </thead>\n",
       "  <tbody>\n",
       "    <tr>\n",
       "      <th>0</th>\n",
       "      <td>NaN</td>\n",
       "      <td>2.0</td>\n",
       "      <td>NaN</td>\n",
       "      <td>0.0</td>\n",
       "    </tr>\n",
       "    <tr>\n",
       "      <th>1</th>\n",
       "      <td>3.0</td>\n",
       "      <td>4.0</td>\n",
       "      <td>NaN</td>\n",
       "      <td>1.0</td>\n",
       "    </tr>\n",
       "    <tr>\n",
       "      <th>2</th>\n",
       "      <td>NaN</td>\n",
       "      <td>NaN</td>\n",
       "      <td>NaN</td>\n",
       "      <td>NaN</td>\n",
       "    </tr>\n",
       "    <tr>\n",
       "      <th>3</th>\n",
       "      <td>NaN</td>\n",
       "      <td>3.0</td>\n",
       "      <td>NaN</td>\n",
       "      <td>4.0</td>\n",
       "    </tr>\n",
       "  </tbody>\n",
       "</table>\n",
       "</div>"
      ],
      "text/plain": [
       "     A    B   C    D\n",
       "0  NaN  2.0 NaN  0.0\n",
       "1  3.0  4.0 NaN  1.0\n",
       "2  NaN  NaN NaN  NaN\n",
       "3  NaN  3.0 NaN  4.0"
      ]
     },
     "execution_count": 36,
     "metadata": {},
     "output_type": "execute_result"
    }
   ],
   "source": [
    "import numpy as np\n",
    "\n",
    "df = pd.DataFrame([[np.nan, 2, np.nan, 0],\n",
    "                    [3, 4, np.nan, 1],\n",
    "                   [np.nan, np.nan, np.nan, np.nan],\n",
    "                    [np.nan, 3, np.nan, 4]],\n",
    "                    columns=list(\"ABCD\"))\n",
    "\n",
    "df"
   ]
  },
  {
   "cell_type": "code",
   "execution_count": 33,
   "id": "98d9fc78-8bb1-48d4-bfd0-dd1c2f81474b",
   "metadata": {},
   "outputs": [
    {
     "data": {
      "text/plain": [
       "0    NaN\n",
       "1    3.0\n",
       "2    3.0\n",
       "3    3.0\n",
       "Name: A, dtype: float64"
      ]
     },
     "execution_count": 33,
     "metadata": {},
     "output_type": "execute_result"
    }
   ],
   "source": [
    "df.A.fillna(method='ffill')"
   ]
  },
  {
   "cell_type": "code",
   "execution_count": 34,
   "id": "ef50b4ec-999c-4b76-a15f-52d4fc06f052",
   "metadata": {},
   "outputs": [
    {
     "data": {
      "text/plain": [
       "0    NaN\n",
       "1    3.0\n",
       "2    3.0\n",
       "3    NaN\n",
       "Name: A, dtype: float64"
      ]
     },
     "execution_count": 34,
     "metadata": {},
     "output_type": "execute_result"
    }
   ],
   "source": [
    "df.A.fillna(method='ffill',limit=1)"
   ]
  },
  {
   "cell_type": "code",
   "execution_count": 37,
   "id": "c2a251f9-63c8-409b-a4f9-09b1f7bcdeb6",
   "metadata": {},
   "outputs": [
    {
     "data": {
      "text/plain": [
       "0    2.0\n",
       "1    4.0\n",
       "2    3.0\n",
       "3    3.0\n",
       "Name: B, dtype: float64"
      ]
     },
     "execution_count": 37,
     "metadata": {},
     "output_type": "execute_result"
    }
   ],
   "source": [
    "# B 컬럼과 D컬럼을 평균으로 결측치를 대체\n",
    "df.B.fillna(df.B.mean())"
   ]
  },
  {
   "cell_type": "code",
   "execution_count": 38,
   "id": "28ff8187-08e9-4214-b359-3b0c56268c33",
   "metadata": {},
   "outputs": [
    {
     "data": {
      "text/plain": [
       "0    2.000000\n",
       "1    4.000000\n",
       "2    1.666667\n",
       "3    3.000000\n",
       "Name: B, dtype: float64"
      ]
     },
     "execution_count": 38,
     "metadata": {},
     "output_type": "execute_result"
    }
   ],
   "source": [
    "df.B.fillna(df.D.mean())"
   ]
  },
  {
   "cell_type": "code",
   "execution_count": null,
   "id": "d7e80015-5a01-406d-9f7c-93bcd0fe513c",
   "metadata": {},
   "outputs": [],
   "source": []
  }
 ],
 "metadata": {
  "kernelspec": {
   "display_name": "Python 3 (ipykernel)",
   "language": "python",
   "name": "python3"
  },
  "language_info": {
   "codemirror_mode": {
    "name": "ipython",
    "version": 3
   },
   "file_extension": ".py",
   "mimetype": "text/x-python",
   "name": "python",
   "nbconvert_exporter": "python",
   "pygments_lexer": "ipython3",
   "version": "3.8.18"
  }
 },
 "nbformat": 4,
 "nbformat_minor": 5
}
