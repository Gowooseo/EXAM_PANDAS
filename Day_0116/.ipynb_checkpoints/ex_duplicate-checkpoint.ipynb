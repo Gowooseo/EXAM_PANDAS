{
 "cells": [
  {
   "cell_type": "markdown",
   "id": "191d4af6-d8f4-4e72-9297-006447a55408",
   "metadata": {},
   "source": [
    "## 중복데이터 처리"
   ]
  },
  {
   "cell_type": "markdown",
   "id": "d3018048-566e-4662-b955-4eda89bf09d8",
   "metadata": {},
   "source": [
    "- 중복데이터 기준은 ==> 행(row)\n",
    "- 행 단위로 모든 컬럼의 값이 완전히 똑같은 데이터는 중복 데이터\n",
    "- 처리 => 제거"
   ]
  },
  {
   "cell_type": "markdown",
   "id": "3b83c56f-5f57-4876-8b0e-4dc7eb573c07",
   "metadata": {},
   "source": [
    "(1) 모듈 로딩 <hr>"
   ]
  },
  {
   "cell_type": "code",
   "execution_count": 2,
   "id": "58b20560-f822-455e-999a-ae2c767add34",
   "metadata": {},
   "outputs": [],
   "source": [
    "import pandas as pd"
   ]
  },
  {
   "cell_type": "markdown",
   "id": "6d536d80-2535-4111-98a3-517d8d248d46",
   "metadata": {},
   "source": [
    "(2) 데이터 준비"
   ]
  },
  {
   "cell_type": "code",
   "execution_count": 3,
   "id": "9b9dff5f-1db3-4e7f-8fab-2f72747aa987",
   "metadata": {},
   "outputs": [],
   "source": [
    "file='../DATA/employees.csv'"
   ]
  },
  {
   "cell_type": "markdown",
   "id": "f6cdc4b6-5624-4f2f-acb7-58f33f672588",
   "metadata": {},
   "source": [
    "(3) 데이터 저장:CSV => DF"
   ]
  },
  {
   "cell_type": "code",
   "execution_count": 4,
   "id": "0a0960a7-a5a0-44fa-9943-29faf9da9552",
   "metadata": {},
   "outputs": [],
   "source": [
    "empDF=pd.read_csv(file)"
   ]
  },
  {
   "cell_type": "markdown",
   "id": "824f4018-1f41-401c-a908-381d904c2d77",
   "metadata": {},
   "source": [
    "(4) 데이터 확인 <hr>"
   ]
  },
  {
   "cell_type": "code",
   "execution_count": 5,
   "id": "049c4678-bc69-48d6-b640-6152fdc0c907",
   "metadata": {},
   "outputs": [
    {
     "name": "stdout",
     "output_type": "stream",
     "text": [
      "<class 'pandas.core.frame.DataFrame'>\n",
      "RangeIndex: 1001 entries, 0 to 1000\n",
      "Data columns (total 6 columns):\n",
      " #   Column      Non-Null Count  Dtype  \n",
      "---  ------      --------------  -----  \n",
      " 0   First Name  933 non-null    object \n",
      " 1   Gender      854 non-null    object \n",
      " 2   Start Date  999 non-null    object \n",
      " 3   Salary      999 non-null    float64\n",
      " 4   Mgmt        933 non-null    object \n",
      " 5   Team        957 non-null    object \n",
      "dtypes: float64(1), object(5)\n",
      "memory usage: 47.0+ KB\n"
     ]
    }
   ],
   "source": [
    "empDF.info()"
   ]
  },
  {
   "cell_type": "markdown",
   "id": "13097055-3826-437e-a8c0-da59bba7e534",
   "metadata": {},
   "source": [
    "(5) 데이터 전처리 ==> 중복 데이터 처리<hr>"
   ]
  },
  {
   "cell_type": "markdown",
   "id": "4a851721-717b-41b8-aa0b-2b00ea91982d",
   "metadata": {},
   "source": [
    "- 중복 데이터 체크 => duplicated() : 중복이면 True\n",
    "- 중복 데이터 처리 => drop_duplicated(): 삭제"
   ]
  },
  {
   "cell_type": "code",
   "execution_count": 8,
   "id": "6f33b84a-040c-4f26-8dbb-c99c920b20c6",
   "metadata": {},
   "outputs": [
    {
     "data": {
      "text/plain": [
       "0"
      ]
     },
     "execution_count": 8,
     "metadata": {},
     "output_type": "execute_result"
    }
   ],
   "source": [
    "# 행 단위로 완전히 똑같은 행 검사 ==>0개\n",
    "empDF.duplicated().sum()"
   ]
  },
  {
   "cell_type": "code",
   "execution_count": 12,
   "id": "242281e3-d3e6-4679-a3d5-741f12c2643e",
   "metadata": {},
   "outputs": [
    {
     "data": {
      "text/plain": [
       "(0       False\n",
       " 1       False\n",
       " 2       False\n",
       " 3        True\n",
       " 4       False\n",
       "         ...  \n",
       " 996      True\n",
       " 997      True\n",
       " 998      True\n",
       " 999      True\n",
       " 1000     True\n",
       " Name: Team, Length: 1001, dtype: bool,\n",
       " 10)"
      ]
     },
     "execution_count": 12,
     "metadata": {},
     "output_type": "execute_result"
    }
   ],
   "source": [
    "# Team 컬럼 테스트\n",
    "empDF.Team.duplicated(), empDF.Team.nunique()"
   ]
  },
  {
   "cell_type": "code",
   "execution_count": 10,
   "id": "d3df2631-9951-4848-bf78-8688b103d8ac",
   "metadata": {},
   "outputs": [
    {
     "data": {
      "text/plain": [
       "0          Marketing\n",
       "1                NaN\n",
       "2            Finance\n",
       "3            Finance\n",
       "4                 IT\n",
       "            ...     \n",
       "996          Finance\n",
       "997          Product\n",
       "998     Business Dev\n",
       "999            Sales\n",
       "1000             NaN\n",
       "Name: Team, Length: 1001, dtype: object"
      ]
     },
     "execution_count": 10,
     "metadata": {},
     "output_type": "execute_result"
    }
   ],
   "source": [
    "empDF.Team  # 이전에 같은게 있었는지를 확인한다."
   ]
  },
  {
   "cell_type": "code",
   "execution_count": 13,
   "id": "e7f90f8f-31e5-44c2-b713-f69796fc389e",
   "metadata": {},
   "outputs": [
    {
     "data": {
      "text/plain": [
       "0        Marketing\n",
       "1              NaN\n",
       "2          Finance\n",
       "4               IT\n",
       "5            Legal\n",
       "6          Product\n",
       "8      Engineering\n",
       "9     Business Dev\n",
       "12              HR\n",
       "13           Sales\n",
       "40    Distribution\n",
       "Name: Team, dtype: object"
      ]
     },
     "execution_count": 13,
     "metadata": {},
     "output_type": "execute_result"
    }
   ],
   "source": [
    "empDF.Team.drop_duplicates()"
   ]
  },
  {
   "cell_type": "code",
   "execution_count": 14,
   "id": "2cc5f745-f727-46be-adbb-184fc994f8bf",
   "metadata": {},
   "outputs": [
    {
     "data": {
      "text/plain": [
       "Series([], Name: Team, dtype: object)"
      ]
     },
     "execution_count": 14,
     "metadata": {},
     "output_type": "execute_result"
    }
   ],
   "source": [
    "empDF.Team.drop_duplicates(keep=False)"
   ]
  },
  {
   "cell_type": "code",
   "execution_count": null,
   "id": "5a2cfe32-13cc-41a9-a89e-cd11cb97f9e2",
   "metadata": {},
   "outputs": [],
   "source": []
  }
 ],
 "metadata": {
  "kernelspec": {
   "display_name": "Python 3 (ipykernel)",
   "language": "python",
   "name": "python3"
  },
  "language_info": {
   "codemirror_mode": {
    "name": "ipython",
    "version": 3
   },
   "file_extension": ".py",
   "mimetype": "text/x-python",
   "name": "python",
   "nbconvert_exporter": "python",
   "pygments_lexer": "ipython3",
   "version": "3.8.18"
  }
 },
 "nbformat": 4,
 "nbformat_minor": 5
}
