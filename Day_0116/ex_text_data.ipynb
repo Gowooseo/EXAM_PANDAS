{
 "cells": [
  {
   "cell_type": "markdown",
   "id": "45707083-c3de-40f4-bc81-a8e052a5b5bd",
   "metadata": {},
   "source": [
    "## [텍스트 데이터 처리]\n",
    "- 다양한 형태의 텍스트 데이터를 정리하기 위한 방법들\n",
    "- Series에 str 속성을 활용해서 STRING 제공 전용 메서드 사용 가능\n",
    "- 사용방법 : Series 객체.str.메서드()"
   ]
  },
  {
   "cell_type": "markdown",
   "id": "a3600436-fb0a-49ec-b3ef-8cb333405dea",
   "metadata": {},
   "source": [
    "-문자열 관련 메서드들 살펴보기\n",
    "(1) 공백 제거 관련 메서드 => strip(),lstrip(),rstrip()"
   ]
  },
  {
   "cell_type": "code",
   "execution_count": 5,
   "id": "49bba65e-b07c-476d-98dc-5545f1672819",
   "metadata": {},
   "outputs": [],
   "source": [
    "msg=\"   Merry Christmas     \""
   ]
  },
  {
   "cell_type": "code",
   "execution_count": 6,
   "id": "20307921-bca0-4bd1-b9fd-e4ba7876ed65",
   "metadata": {},
   "outputs": [
    {
     "data": {
      "text/plain": [
       "23"
      ]
     },
     "execution_count": 6,
     "metadata": {},
     "output_type": "execute_result"
    }
   ],
   "source": [
    "len(msg)"
   ]
  },
  {
   "cell_type": "code",
   "execution_count": 9,
   "id": "f3cef3e4-5107-475b-a2da-aca8cda29b38",
   "metadata": {},
   "outputs": [],
   "source": [
    "msg1,msg2,msg3 =msg.strip(),msg.lstrip(),msg.rstrip()"
   ]
  },
  {
   "cell_type": "code",
   "execution_count": 10,
   "id": "0de2c9ec-9884-4829-96d1-1ab782fb43ee",
   "metadata": {},
   "outputs": [
    {
     "data": {
      "text/plain": [
       "(15, 20, 18)"
      ]
     },
     "execution_count": 10,
     "metadata": {},
     "output_type": "execute_result"
    }
   ],
   "source": [
    "len(msg1),len(msg2),len(msg3)"
   ]
  },
  {
   "cell_type": "markdown",
   "id": "552cde92-6de1-4f68-80a4-dedc887e992f",
   "metadata": {},
   "source": [
    "(1) 모듈로딩 <hr>"
   ]
  },
  {
   "cell_type": "code",
   "execution_count": 11,
   "id": "0a3bffcb-ccc6-4455-9773-17441da7144b",
   "metadata": {},
   "outputs": [],
   "source": [
    "import pandas as pd                                                                                  "
   ]
  },
  {
   "cell_type": "markdown",
   "id": "73dd72d9-a492-416b-ae42-cac3faf0f1f9",
   "metadata": {},
   "source": [
    "(2) 데이터 준비"
   ]
  },
  {
   "cell_type": "code",
   "execution_count": 12,
   "id": "22937c79-21f6-4ac2-9474-ce53087997ea",
   "metadata": {},
   "outputs": [],
   "source": [
    "file='../DATA/chicago_food_inspections.csv'"
   ]
  },
  {
   "cell_type": "markdown",
   "id": "198c9af4-b1a3-40fb-9269-2c8cc698446b",
   "metadata": {},
   "source": [
    "(3) 데이터 저장"
   ]
  },
  {
   "cell_type": "code",
   "execution_count": 13,
   "id": "15e19438-b7b8-45d1-be26-5e59227a670d",
   "metadata": {},
   "outputs": [],
   "source": [
    "chicagoDF=pd.read_csv(file)"
   ]
  },
  {
   "cell_type": "markdown",
   "id": "03c80069-1a61-4cb9-ac15-6307fa9340a3",
   "metadata": {},
   "source": [
    "(4) 데이터 확인"
   ]
  },
  {
   "cell_type": "code",
   "execution_count": 14,
   "id": "79e731a2-bb0d-40ab-ab7a-3e47530fd4a0",
   "metadata": {},
   "outputs": [
    {
     "name": "stdout",
     "output_type": "stream",
     "text": [
      "<class 'pandas.core.frame.DataFrame'>\n",
      "RangeIndex: 153810 entries, 0 to 153809\n",
      "Data columns (total 2 columns):\n",
      " #   Column  Non-Null Count   Dtype \n",
      "---  ------  --------------   ----- \n",
      " 0   Name    153810 non-null  object\n",
      " 1   Risk    153744 non-null  object\n",
      "dtypes: object(2)\n",
      "memory usage: 2.3+ MB\n"
     ]
    }
   ],
   "source": [
    "chicagoDF.info()"
   ]
  },
  {
   "cell_type": "code",
   "execution_count": 15,
   "id": "e8ab2cb5-3471-446e-9146-c94eae851c3f",
   "metadata": {},
   "outputs": [
    {
     "data": {
      "text/html": [
       "<div>\n",
       "<style scoped>\n",
       "    .dataframe tbody tr th:only-of-type {\n",
       "        vertical-align: middle;\n",
       "    }\n",
       "\n",
       "    .dataframe tbody tr th {\n",
       "        vertical-align: top;\n",
       "    }\n",
       "\n",
       "    .dataframe thead th {\n",
       "        text-align: right;\n",
       "    }\n",
       "</style>\n",
       "<table border=\"1\" class=\"dataframe\">\n",
       "  <thead>\n",
       "    <tr style=\"text-align: right;\">\n",
       "      <th></th>\n",
       "      <th>Name</th>\n",
       "      <th>Risk</th>\n",
       "    </tr>\n",
       "  </thead>\n",
       "  <tbody>\n",
       "    <tr>\n",
       "      <th>0</th>\n",
       "      <td>MARRIOT MARQUIS CHICAGO</td>\n",
       "      <td>Risk 1 (High)</td>\n",
       "    </tr>\n",
       "    <tr>\n",
       "      <th>1</th>\n",
       "      <td>JETS PIZZA</td>\n",
       "      <td>Risk 2 (Medium)</td>\n",
       "    </tr>\n",
       "    <tr>\n",
       "      <th>2</th>\n",
       "      <td>ROOM 1520</td>\n",
       "      <td>Risk 3 (Low)</td>\n",
       "    </tr>\n",
       "    <tr>\n",
       "      <th>3</th>\n",
       "      <td>MARRIOT MARQUIS CHICAGO</td>\n",
       "      <td>Risk 1 (High)</td>\n",
       "    </tr>\n",
       "    <tr>\n",
       "      <th>4</th>\n",
       "      <td>CHARTWELLS</td>\n",
       "      <td>Risk 1 (High)</td>\n",
       "    </tr>\n",
       "  </tbody>\n",
       "</table>\n",
       "</div>"
      ],
      "text/plain": [
       "                          Name             Risk\n",
       "0   MARRIOT MARQUIS CHICAGO       Risk 1 (High)\n",
       "1                  JETS PIZZA   Risk 2 (Medium)\n",
       "2                   ROOM 1520      Risk 3 (Low)\n",
       "3    MARRIOT MARQUIS CHICAGO      Risk 1 (High)\n",
       "4                CHARTWELLS       Risk 1 (High)"
      ]
     },
     "execution_count": 15,
     "metadata": {},
     "output_type": "execute_result"
    }
   ],
   "source": [
    "chicagoDF.head()"
   ]
  },
  {
   "cell_type": "markdown",
   "id": "5b21ec20-ffae-4cd2-afa5-1a767ab76f96",
   "metadata": {},
   "source": [
    "- [문제] Name 컬럼에서 공백 제거 처리"
   ]
  },
  {
   "cell_type": "code",
   "execution_count": 18,
   "id": "07bea69e-507f-4a51-860f-32df262691b4",
   "metadata": {},
   "outputs": [],
   "source": [
    "chicagoDF[\"Name\"]=chicagoDF[\"Name\"].str.strip()"
   ]
  },
  {
   "cell_type": "markdown",
   "id": "def35b56-aafc-4753-9b92-34126c358658",
   "metadata": {},
   "source": [
    " - [문제] Risk 컬럼에서 문자열 나누기 => Risk 숫자 ==> Risk와 숫자 분리"
   ]
  },
  {
   "cell_type": "code",
   "execution_count": 20,
   "id": "1caf2d0a-5980-4e82-884a-893153d48a8b",
   "metadata": {},
   "outputs": [
    {
     "data": {
      "text/plain": [
       "(4,\n",
       " array(['Risk 1 (High)', 'Risk 2 (Medium)', 'Risk 3 (Low)', 'All', nan],\n",
       "       dtype=object))"
      ]
     },
     "execution_count": 20,
     "metadata": {},
     "output_type": "execute_result"
    }
   ],
   "source": [
    "chicagoDF['Risk'].nunique(),chicagoDF['Risk'].unique()"
   ]
  },
  {
   "cell_type": "code",
   "execution_count": 21,
   "id": "e61afed3-6212-4f7e-9a63-81b8f5669240",
   "metadata": {},
   "outputs": [
    {
     "data": {
      "text/plain": [
       "(66,\n",
       " Name     0\n",
       " Risk    66\n",
       " dtype: int64)"
      ]
     },
     "execution_count": 21,
     "metadata": {},
     "output_type": "execute_result"
    }
   ],
   "source": [
    "chicagoDF['Risk'].isna().sum(),chicagoDF.isna().sum()"
   ]
  },
  {
   "cell_type": "code",
   "execution_count": 23,
   "id": "52b771d3-4d4f-4e9c-a289-79fa4972eba2",
   "metadata": {},
   "outputs": [
    {
     "data": {
      "text/plain": [
       "(153744, 2)"
      ]
     },
     "execution_count": 23,
     "metadata": {},
     "output_type": "execute_result"
    }
   ],
   "source": [
    "# 기본 => 행 방향, 행 내에 한개라도 NaN이 있으면 삭제\n",
    "chicagoDF.dropna().shape"
   ]
  },
  {
   "cell_type": "code",
   "execution_count": 25,
   "id": "0667f5f6-0371-41d1-af0b-21e991e3d4be",
   "metadata": {},
   "outputs": [
    {
     "data": {
      "text/plain": [
       "(153744, 2)"
      ]
     },
     "execution_count": 25,
     "metadata": {},
     "output_type": "execute_result"
    }
   ],
   "source": [
    "# Risk 컬럼이 NaN인 행 삭제 => subset 파라미터 적용\n",
    "chicagoDF.dropna(subset=['Risk']).shape"
   ]
  },
  {
   "cell_type": "code",
   "execution_count": 28,
   "id": "1fe850a4-8ed8-4ab8-a2ef-44ebd1182c6f",
   "metadata": {},
   "outputs": [
    {
     "data": {
      "text/plain": [
       "0           Risk 1 (High)\n",
       "1         Risk 2 (Medium)\n",
       "2            Risk 3 (Low)\n",
       "3           Risk 1 (High)\n",
       "4           Risk 1 (High)\n",
       "               ...       \n",
       "153805      Risk 1 (High)\n",
       "153806    Risk 2 (Medium)\n",
       "153807      Risk 1 (High)\n",
       "153808      Risk 1 (High)\n",
       "153809      Risk 1 (High)\n",
       "Name: Risk, Length: 153810, dtype: object"
      ]
     },
     "execution_count": 28,
     "metadata": {},
     "output_type": "execute_result"
    }
   ],
   "source": [
    "# 원소의 데이터 값이 'all' => 'Risk 4(Extreme)'변경\n",
    "chicagoDF['Risk'].replace('all','Risk 4(Extreme)')"
   ]
  },
  {
   "cell_type": "code",
   "execution_count": 31,
   "id": "59e2794d-35ef-4cd5-8939-3095bd22a758",
   "metadata": {},
   "outputs": [
    {
     "data": {
      "text/plain": [
       "0         1\n",
       "1         2\n",
       "2         3\n",
       "3         1\n",
       "4         1\n",
       "         ..\n",
       "153805    1\n",
       "153806    2\n",
       "153807    1\n",
       "153808    1\n",
       "153809    1\n",
       "Name: Risk, Length: 153810, dtype: object"
      ]
     },
     "execution_count": 31,
     "metadata": {},
     "output_type": "execute_result"
    }
   ],
   "source": [
    "chicagoDF['Risk'].str.slice(5,6)"
   ]
  },
  {
   "cell_type": "code",
   "execution_count": null,
   "id": "1ee6ce64-e151-454e-819e-3b6f79ecd9c5",
   "metadata": {},
   "outputs": [],
   "source": []
  }
 ],
 "metadata": {
  "kernelspec": {
   "display_name": "Python 3 (ipykernel)",
   "language": "python",
   "name": "python3"
  },
  "language_info": {
   "codemirror_mode": {
    "name": "ipython",
    "version": 3
   },
   "file_extension": ".py",
   "mimetype": "text/x-python",
   "name": "python",
   "nbconvert_exporter": "python",
   "pygments_lexer": "ipython3",
   "version": "3.8.18"
  }
 },
 "nbformat": 4,
 "nbformat_minor": 5
}
