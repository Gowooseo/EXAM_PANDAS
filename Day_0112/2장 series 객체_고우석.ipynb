{
 "cells": [
  {
   "cell_type": "markdown",
   "id": "2e3de034-cbc0-4a11-94e0-fd07cb4e8b09",
   "metadata": {},
   "source": [
    "(2.1) series 객체 생성"
   ]
  },
  {
   "cell_type": "code",
   "execution_count": 1,
   "id": "9c3d69b7-396e-481c-a5e1-e681c02f69d4",
   "metadata": {},
   "outputs": [],
   "source": [
    "import pandas as pd\n",
    "import numpy as np"
   ]
  },
  {
   "cell_type": "code",
   "execution_count": 5,
   "id": "79636f89-bfe7-4a6d-880c-f3f97c15ed6b",
   "metadata": {},
   "outputs": [
    {
     "data": {
      "text/plain": [
       "pandas.core.series.Series"
      ]
     },
     "execution_count": 5,
     "metadata": {},
     "output_type": "execute_result"
    }
   ],
   "source": [
    "pd.Series"
   ]
  },
  {
   "cell_type": "markdown",
   "id": "1ff98844-a4be-4c64-a449-c425184238cb",
   "metadata": {},
   "source": [
    "2.1.1 클래스 및 인스턴스"
   ]
  },
  {
   "cell_type": "code",
   "execution_count": 6,
   "id": "d9cecbc1-8656-4560-b472-5762d21eac45",
   "metadata": {},
   "outputs": [
    {
     "data": {
      "text/plain": [
       "Series([], dtype: object)"
      ]
     },
     "execution_count": 6,
     "metadata": {},
     "output_type": "execute_result"
    }
   ],
   "source": [
    "pd.Series()"
   ]
  },
  {
   "cell_type": "markdown",
   "id": "98d0b2ff-66a9-4d6a-8799-55c46fa0b6f9",
   "metadata": {},
   "source": [
    "2.1.2 Series 값 채우기`"
   ]
  },
  {
   "cell_type": "code",
   "execution_count": 7,
   "id": "da557b4e-58d9-4063-821c-40d5c5ad3f77",
   "metadata": {},
   "outputs": [
    {
     "data": {
      "text/plain": [
       "0     Chocolate\n",
       "1       Vanilla\n",
       "2    Strawberry\n",
       "3    Rum Raisin\n",
       "dtype: object"
      ]
     },
     "execution_count": 7,
     "metadata": {},
     "output_type": "execute_result"
    }
   ],
   "source": [
    "ice_cream_flavors=[\n",
    "    \"Chocolate\",\n",
    "    \"Vanilla\",\n",
    "    \"Strawberry\",\n",
    "    \"Rum Raisin\",\n",
    "]\n",
    "pd.Series(ice_cream_flavors)"
   ]
  },
  {
   "cell_type": "code",
   "execution_count": 8,
   "id": "d20ccbd1-a3c9-4933-b19b-ab9dd556dbaf",
   "metadata": {},
   "outputs": [
    {
     "data": {
      "text/plain": [
       "0     Chocolate\n",
       "1       Vanilla\n",
       "2    Strawberry\n",
       "3    Rum Raisin\n",
       "dtype: object"
      ]
     },
     "execution_count": 8,
     "metadata": {},
     "output_type": "execute_result"
    }
   ],
   "source": [
    "pd.Series(ice_cream_flavors)\n",
    "pd.Series(data=ice_cream_flavors)\n"
   ]
  },
  {
   "cell_type": "code",
   "execution_count": 12,
   "id": "99bd5dd8-67b2-4a6b-8abc-4f6d6050cd66",
   "metadata": {},
   "outputs": [],
   "source": [
    "ice_cream_flavors=[\n",
    "    \"Chocolate\",\n",
    "    \"Vanilla\",\n",
    "    \"Strawberry\",\n",
    "    \"Rum Raisin\",\n",
    "]\n",
    "days_of_week=(\"Monday\",\"Wenesday\",\"Friday\",\"Saturday\")"
   ]
  },
  {
   "cell_type": "code",
   "execution_count": 13,
   "id": "ae58bec6-8585-4445-b45e-48b033011813",
   "metadata": {},
   "outputs": [
    {
     "data": {
      "text/plain": [
       "Monday       Chocolate\n",
       "Wenesday       Vanilla\n",
       "Friday      Strawberry\n",
       "Saturday    Rum Raisin\n",
       "dtype: object"
      ]
     },
     "execution_count": 13,
     "metadata": {},
     "output_type": "execute_result"
    }
   ],
   "source": [
    "pd.Series(ice_cream_flavors,days_of_week)"
   ]
  },
  {
   "cell_type": "code",
   "execution_count": 14,
   "id": "f4092a94-fa00-4e0f-853b-bd5434844770",
   "metadata": {},
   "outputs": [],
   "source": [
    "# 매개변수의 순서가 바뀌더라도 동일한 시리즈 생성"
   ]
  },
  {
   "cell_type": "code",
   "execution_count": 15,
   "id": "fbbe6a6d-2afe-4e9f-9468-4cd6ef603706",
   "metadata": {},
   "outputs": [
    {
     "data": {
      "text/plain": [
       "Chocolate       Monday\n",
       "Vanilla       Wenesday\n",
       "Strawberry      Friday\n",
       "Rum Raisin    Saturday\n",
       "dtype: object"
      ]
     },
     "execution_count": 15,
     "metadata": {},
     "output_type": "execute_result"
    }
   ],
   "source": [
    "pd.Series(days_of_week,ice_cream_flavors)"
   ]
  },
  {
   "cell_type": "code",
   "execution_count": 17,
   "id": "9db39f26-d872-40c9-b5bc-c9574bab7d7f",
   "metadata": {},
   "outputs": [
    {
     "data": {
      "text/plain": [
       "0     True\n",
       "1    False\n",
       "2    False\n",
       "dtype: bool"
      ]
     },
     "execution_count": 17,
     "metadata": {},
     "output_type": "execute_result"
    }
   ],
   "source": [
    "bunch_of_bools=[True,False,False]\n",
    "pd.Series(bunch_of_bools)"
   ]
  },
  {
   "cell_type": "code",
   "execution_count": 18,
   "id": "3f598208-7257-4d78-ba5d-d84ce30d6b71",
   "metadata": {},
   "outputs": [],
   "source": [
    "# 데이터 값 타입 강제 변환"
   ]
  },
  {
   "cell_type": "code",
   "execution_count": 19,
   "id": "71d457d8-0a2c-48b1-b49a-67f121d813df",
   "metadata": {},
   "outputs": [
    {
     "data": {
      "text/plain": [
       "0     4.0\n",
       "1     8.0\n",
       "2    15.0\n",
       "3    16.0\n",
       "4    23.0\n",
       "5    42.0\n",
       "dtype: float64"
      ]
     },
     "execution_count": 19,
     "metadata": {},
     "output_type": "execute_result"
    }
   ],
   "source": [
    "lucky_numbers=[4,8,15,16,23,42]\n",
    "pd.Series(lucky_numbers,dtype='float')"
   ]
  },
  {
   "cell_type": "markdown",
   "id": "b3a2dfa5-91e5-45c3-b518-eefa9884339b",
   "metadata": {},
   "source": [
    "2.1.4. 결측값이 있는 시리즈 생성"
   ]
  },
  {
   "cell_type": "code",
   "execution_count": 21,
   "id": "524fecac-b4f0-47bf-b72e-a478b601f4d5",
   "metadata": {},
   "outputs": [
    {
     "data": {
      "text/plain": [
       "0    94.0\n",
       "1    88.0\n",
       "2     NaN\n",
       "3    91.0\n",
       "dtype: float64"
      ]
     },
     "execution_count": 21,
     "metadata": {},
     "output_type": "execute_result"
    }
   ],
   "source": [
    "temperatures=[94,88,np.nan,91]\n",
    "pd.Series(data=temperatures)  # nan 타입 때문에 float64타입이 된다."
   ]
  },
  {
   "cell_type": "markdown",
   "id": "fced01a7-e488-4d54-aab3-964c74bb2327",
   "metadata": {},
   "source": [
    "2.2 파이썬 객체에서 Series 생성"
   ]
  },
  {
   "cell_type": "code",
   "execution_count": 23,
   "id": "6443dd3f-d9bb-47b4-b11e-004b0b5bad60",
   "metadata": {},
   "outputs": [
    {
     "data": {
      "text/plain": [
       "Cerieal             125\n",
       "Chocolate Bar       406\n",
       "Ice Cream Sundae    342\n",
       "dtype: int64"
      ]
     },
     "execution_count": 23,
     "metadata": {},
     "output_type": "execute_result"
    }
   ],
   "source": [
    "calorie_info={\n",
    "    \"Cerieal\":125,\n",
    "    \"Chocolate Bar\":406,\n",
    "    \"Ice Cream Sundae\":342,\n",
    "}\n",
    "diet=pd.Series(calorie_info)\n",
    "diet"
   ]
  },
  {
   "cell_type": "code",
   "execution_count": 24,
   "id": "ea6ca5a7-9f54-43cc-a17f-0f7901ffe002",
   "metadata": {},
   "outputs": [],
   "source": [
    "# 튜플을 저장하는 메서드를 생성하려면 튜플을 리스트로 감싸 주어야 한다."
   ]
  },
  {
   "cell_type": "code",
   "execution_count": 25,
   "id": "9b9e4def-1822-444d-b12d-43b96febd771",
   "metadata": {},
   "outputs": [
    {
     "data": {
      "text/plain": [
       "0     (120, 41, 26)\n",
       "1    (196, 165, 45)\n",
       "dtype: object"
      ]
     },
     "execution_count": 25,
     "metadata": {},
     "output_type": "execute_result"
    }
   ],
   "source": [
    "rgb_colors=[(120,41,26),(196,165,45)]\n",
    "pd.Series(data=rgb_colors)"
   ]
  },
  {
   "cell_type": "code",
   "execution_count": 26,
   "id": "e1fe2a7b-aefa-45a6-9687-709c04863607",
   "metadata": {},
   "outputs": [],
   "source": [
    "# 판다스는 집합과 같은 값을 저장하는 순서를 가정할 수 없다.\n",
    "#따라서 집합이  포함된 경우 Series 생성자에 전달하기 전에 정렬된 자료구조로 변환이 필요하다.\n"
   ]
  },
  {
   "cell_type": "code",
   "execution_count": 28,
   "id": "d7b962aa-ef81-4ffb-8217-e686642224f5",
   "metadata": {},
   "outputs": [
    {
     "data": {
      "text/plain": [
       "0    Ricky\n",
       "1    Bobby\n",
       "dtype: object"
      ]
     },
     "execution_count": 28,
     "metadata": {},
     "output_type": "execute_result"
    }
   ],
   "source": [
    "my_set={\"Ricky\",\"Bobby\"}\n",
    "pd.Series(list(my_set))"
   ]
  },
  {
   "cell_type": "code",
   "execution_count": 29,
   "id": "a9d4104b-2811-4c97-a3e6-212d91dda70d",
   "metadata": {},
   "outputs": [],
   "source": [
    "#randint 함수를 사용하여 생성한 ndarray 전달."
   ]
  },
  {
   "cell_type": "code",
   "execution_count": 31,
   "id": "4b8efefd-dd89-4945-a8b2-87c6eede4d53",
   "metadata": {},
   "outputs": [
    {
     "data": {
      "text/plain": [
       "array([73, 44, 92, 42, 13, 32, 41, 63, 98, 53])"
      ]
     },
     "execution_count": 31,
     "metadata": {},
     "output_type": "execute_result"
    }
   ],
   "source": [
    "random_data=np.random.randint(1,101,10)\n",
    "random_data"
   ]
  },
  {
   "cell_type": "code",
   "execution_count": 32,
   "id": "7b10610b-7882-4346-a4e2-4d718d663cd1",
   "metadata": {},
   "outputs": [
    {
     "data": {
      "text/plain": [
       "0    73\n",
       "1    44\n",
       "2    92\n",
       "3    42\n",
       "4    13\n",
       "5    32\n",
       "6    41\n",
       "7    63\n",
       "8    98\n",
       "9    53\n",
       "dtype: int32"
      ]
     },
     "execution_count": 32,
     "metadata": {},
     "output_type": "execute_result"
    }
   ],
   "source": [
    "pd.Series(random_data)"
   ]
  },
  {
   "cell_type": "markdown",
   "id": "2c0dcc85-7f7e-49ef-9289-586e83325af2",
   "metadata": {},
   "source": [
    "2.3 시리즈의 속성"
   ]
  },
  {
   "cell_type": "code",
   "execution_count": 36,
   "id": "07887901-6e0c-49ad-a440-d7056ce4bb8f",
   "metadata": {},
   "outputs": [
    {
     "data": {
      "text/plain": [
       "Cerieal             125\n",
       "Chocolate Bar       406\n",
       "Ice Cream Sundae    342\n",
       "dtype: int64"
      ]
     },
     "execution_count": 36,
     "metadata": {},
     "output_type": "execute_result"
    }
   ],
   "source": [
    "diet1=pd.Series(calorie_info)\n",
    "diet1"
   ]
  },
  {
   "cell_type": "code",
   "execution_count": 37,
   "id": "f11c2595-f1e2-4525-b573-fcbd5de2531e",
   "metadata": {},
   "outputs": [
    {
     "data": {
      "text/plain": [
       "array([125, 406, 342], dtype=int64)"
      ]
     },
     "execution_count": 37,
     "metadata": {},
     "output_type": "execute_result"
    }
   ],
   "source": [
    "diet1.values"
   ]
  },
  {
   "cell_type": "code",
   "execution_count": 38,
   "id": "4a4ce03c-b46c-4a61-af47-4d5eaba726cf",
   "metadata": {},
   "outputs": [
    {
     "data": {
      "text/plain": [
       "Index(['Cerieal', 'Chocolate Bar', 'Ice Cream Sundae'], dtype='object')"
      ]
     },
     "execution_count": 38,
     "metadata": {},
     "output_type": "execute_result"
    }
   ],
   "source": [
    "diet1.index"
   ]
  },
  {
   "cell_type": "code",
   "execution_count": 40,
   "id": "be06a9b1-c568-477d-88a7-70d3383f44c8",
   "metadata": {},
   "outputs": [
    {
     "data": {
      "text/plain": [
       "(3,)"
      ]
     },
     "execution_count": 40,
     "metadata": {},
     "output_type": "execute_result"
    }
   ],
   "source": [
    "diet1.shape  # 시리즈니까 열이 없음...."
   ]
  },
  {
   "cell_type": "code",
   "execution_count": 41,
   "id": "39f08c12-b447-4e4e-a53b-02c529fe0314",
   "metadata": {},
   "outputs": [
    {
     "data": {
      "text/plain": [
       "3"
      ]
     },
     "execution_count": 41,
     "metadata": {},
     "output_type": "execute_result"
    }
   ],
   "source": [
    "diet1.shape[0]"
   ]
  },
  {
   "cell_type": "code",
   "execution_count": 42,
   "id": "87410030-b138-44f3-b5fb-7ea349b6c0fb",
   "metadata": {},
   "outputs": [
    {
     "data": {
      "text/plain": [
       "3"
      ]
     },
     "execution_count": 42,
     "metadata": {},
     "output_type": "execute_result"
    }
   ],
   "source": [
    "diet1.size"
   ]
  },
  {
   "cell_type": "code",
   "execution_count": 44,
   "id": "e0863db1-b7b5-4978-a327-91347451f796",
   "metadata": {},
   "outputs": [
    {
     "data": {
      "text/plain": [
       "True"
      ]
     },
     "execution_count": 44,
     "metadata": {},
     "output_type": "execute_result"
    }
   ],
   "source": [
    "diet1.is_unique # 중복 값이 없으면 True값 반환"
   ]
  },
  {
   "cell_type": "markdown",
   "id": "1b599181-dc9c-44f0-97f0-1aee5f266690",
   "metadata": {},
   "source": [
    "2.4 첫번쨰 행과 마지막 행 검색"
   ]
  },
  {
   "cell_type": "code",
   "execution_count": 45,
   "id": "54d8509d-7967-4404-928e-738c64503187",
   "metadata": {},
   "outputs": [
    {
     "data": {
      "text/plain": [
       "0       0\n",
       "1       5\n",
       "2      10\n",
       "3      15\n",
       "4      20\n",
       "     ... \n",
       "95    475\n",
       "96    480\n",
       "97    485\n",
       "98    490\n",
       "99    495\n",
       "Length: 100, dtype: int64"
      ]
     },
     "execution_count": 45,
     "metadata": {},
     "output_type": "execute_result"
    }
   ],
   "source": [
    "values=range(0,500,5)\n",
    "nums=pd.Series(values)\n",
    "nums"
   ]
  },
  {
   "cell_type": "code",
   "execution_count": 46,
   "id": "93cfe955-19c1-4782-a29b-1ad0e6723b00",
   "metadata": {},
   "outputs": [
    {
     "data": {
      "text/plain": [
       "<bound method NDFrame.head of 0       0\n",
       "1       5\n",
       "2      10\n",
       "3      15\n",
       "4      20\n",
       "     ... \n",
       "95    475\n",
       "96    480\n",
       "97    485\n",
       "98    490\n",
       "99    495\n",
       "Length: 100, dtype: int64>"
      ]
     },
     "execution_count": 46,
     "metadata": {},
     "output_type": "execute_result"
    }
   ],
   "source": [
    "nums.head"
   ]
  },
  {
   "cell_type": "code",
   "execution_count": 47,
   "id": "0ab11898-66f2-481b-8a1e-1e78b1b83eee",
   "metadata": {},
   "outputs": [
    {
     "data": {
      "text/plain": [
       "<bound method NDFrame.tail of 0       0\n",
       "1       5\n",
       "2      10\n",
       "3      15\n",
       "4      20\n",
       "     ... \n",
       "95    475\n",
       "96    480\n",
       "97    485\n",
       "98    490\n",
       "99    495\n",
       "Length: 100, dtype: int64>"
      ]
     },
     "execution_count": 47,
     "metadata": {},
     "output_type": "execute_result"
    }
   ],
   "source": [
    "nums.tail"
   ]
  },
  {
   "cell_type": "code",
   "execution_count": 48,
   "id": "75c9a625-44f2-42f6-9d68-2629b0afea86",
   "metadata": {},
   "outputs": [],
   "source": [
    "# head()와 tail()은 기본인수가 5로 아무것도 지정하지 않았다면 5개의 행을 반환한다.\n"
   ]
  },
  {
   "cell_type": "markdown",
   "id": "8f9fa2a1-e7a2-40b1-bc26-b4c8c9142308",
   "metadata": {},
   "source": [
    "2.5.1 통계연산"
   ]
  },
  {
   "cell_type": "code",
   "execution_count": 50,
   "id": "bdf9b1b0-48ee-434f-9786-ea8c86a0b049",
   "metadata": {},
   "outputs": [
    {
     "data": {
      "text/plain": [
       "0    1.0\n",
       "1    2.0\n",
       "2    3.0\n",
       "3    NaN\n",
       "4    4.0\n",
       "5    5.0\n",
       "dtype: float64"
      ]
     },
     "execution_count": 50,
     "metadata": {},
     "output_type": "execute_result"
    }
   ],
   "source": [
    "numbers=pd.Series([1,2,3,np.nan,4,5])\n",
    "numbers"
   ]
  },
  {
   "cell_type": "code",
   "execution_count": 51,
   "id": "fda288bb-1ccc-4efe-9f87-8d574c59fec4",
   "metadata": {},
   "outputs": [
    {
     "data": {
      "text/plain": [
       "5"
      ]
     },
     "execution_count": 51,
     "metadata": {},
     "output_type": "execute_result"
    }
   ],
   "source": [
    "numbers.count()  # null이 아닌 값의 개수 계산"
   ]
  },
  {
   "cell_type": "code",
   "execution_count": 52,
   "id": "9a9cc2d4-4072-4af2-bb60-529ed449258d",
   "metadata": {},
   "outputs": [
    {
     "data": {
      "text/plain": [
       "15.0"
      ]
     },
     "execution_count": 52,
     "metadata": {},
     "output_type": "execute_result"
    }
   ],
   "source": [
    "numbers.sum()"
   ]
  },
  {
   "cell_type": "code",
   "execution_count": 53,
   "id": "b9035b0a-47d6-479b-937b-7be1d6a83a6b",
   "metadata": {},
   "outputs": [
    {
     "data": {
      "text/plain": [
       "nan"
      ]
     },
     "execution_count": 53,
     "metadata": {},
     "output_type": "execute_result"
    }
   ],
   "source": [
    "numbers.sum(skipna=False) # skipna함수는 결측값을 포함한다...."
   ]
  },
  {
   "cell_type": "code",
   "execution_count": 54,
   "id": "e0455831-7c42-4141-9e25-403e8b4fc891",
   "metadata": {},
   "outputs": [
    {
     "data": {
      "text/plain": [
       "120.0"
      ]
     },
     "execution_count": 54,
     "metadata": {},
     "output_type": "execute_result"
    }
   ],
   "source": [
    "numbers.product()"
   ]
  },
  {
   "cell_type": "code",
   "execution_count": 55,
   "id": "aaeca140-2c38-4ece-84bd-817831c75f24",
   "metadata": {},
   "outputs": [
    {
     "data": {
      "text/plain": [
       "0     1.0\n",
       "1     3.0\n",
       "2     6.0\n",
       "3     NaN\n",
       "4    10.0\n",
       "5    15.0\n",
       "dtype: float64"
      ]
     },
     "execution_count": 55,
     "metadata": {},
     "output_type": "execute_result"
    }
   ],
   "source": [
    "numbers.cumsum()"
   ]
  },
  {
   "cell_type": "code",
   "execution_count": 56,
   "id": "df742f79-9d06-42a0-8858-74d56a13ee12",
   "metadata": {},
   "outputs": [
    {
     "data": {
      "text/plain": [
       "0    1.0\n",
       "1    3.0\n",
       "2    6.0\n",
       "3    NaN\n",
       "4    NaN\n",
       "5    NaN\n",
       "dtype: float64"
      ]
     },
     "execution_count": 56,
     "metadata": {},
     "output_type": "execute_result"
    }
   ],
   "source": [
    "numbers.cumsum(skipna=False)"
   ]
  },
  {
   "cell_type": "code",
   "execution_count": 57,
   "id": "fa78103a-6ee9-4bd0-b8c8-4ee18624d348",
   "metadata": {},
   "outputs": [
    {
     "data": {
      "text/plain": [
       "0         NaN\n",
       "1    1.000000\n",
       "2    0.500000\n",
       "3    0.000000\n",
       "4    0.333333\n",
       "5    0.250000\n",
       "dtype: float64"
      ]
     },
     "execution_count": 57,
     "metadata": {},
     "output_type": "execute_result"
    }
   ],
   "source": [
    "numbers.pct_change()"
   ]
  },
  {
   "cell_type": "code",
   "execution_count": 58,
   "id": "c3b4e1c8-f7b3-4838-9e2d-2c3a9052add2",
   "metadata": {},
   "outputs": [
    {
     "data": {
      "text/plain": [
       "3.0"
      ]
     },
     "execution_count": 58,
     "metadata": {},
     "output_type": "execute_result"
    }
   ],
   "source": [
    "numbers.mean()"
   ]
  },
  {
   "cell_type": "code",
   "execution_count": 59,
   "id": "5a1e4d8d-3d83-4c22-b830-0974484bdcf4",
   "metadata": {},
   "outputs": [
    {
     "data": {
      "text/plain": [
       "3.0"
      ]
     },
     "execution_count": 59,
     "metadata": {},
     "output_type": "execute_result"
    }
   ],
   "source": [
    "numbers.median()"
   ]
  },
  {
   "cell_type": "code",
   "execution_count": 61,
   "id": "3a57a893-4a60-4908-99a0-2e899868295a",
   "metadata": {},
   "outputs": [
    {
     "data": {
      "text/plain": [
       "5    5.0\n",
       "dtype: float64"
      ]
     },
     "execution_count": 61,
     "metadata": {},
     "output_type": "execute_result"
    }
   ],
   "source": [
    "numbers.sample()"
   ]
  },
  {
   "cell_type": "code",
   "execution_count": 62,
   "id": "f38049f5-3514-4b99-b2fd-1feccfff393c",
   "metadata": {},
   "outputs": [
    {
     "data": {
      "text/plain": [
       "A     5.0\n",
       "B     NaN\n",
       "C    15.0\n",
       "dtype: float64"
      ]
     },
     "execution_count": 62,
     "metadata": {},
     "output_type": "execute_result"
    }
   ],
   "source": [
    "s1=pd.Series(data=[5,np.nan,15],index=[\"A\",\"B\",\"C\"])\n",
    "s1"
   ]
  },
  {
   "cell_type": "code",
   "execution_count": 63,
   "id": "d5873edb-744f-4069-90e7-999dd2216d52",
   "metadata": {},
   "outputs": [
    {
     "data": {
      "text/plain": [
       "A     8.0\n",
       "B     NaN\n",
       "C    18.0\n",
       "dtype: float64"
      ]
     },
     "execution_count": 63,
     "metadata": {},
     "output_type": "execute_result"
    }
   ],
   "source": [
    "s1.add(3)"
   ]
  },
  {
   "cell_type": "code",
   "execution_count": 64,
   "id": "9c35f721-7a17-4875-9fbe-ecfb6b732b98",
   "metadata": {},
   "outputs": [
    {
     "data": {
      "text/plain": [
       "A     8.0\n",
       "B     NaN\n",
       "C    18.0\n",
       "dtype: float64"
      ]
     },
     "execution_count": 64,
     "metadata": {},
     "output_type": "execute_result"
    }
   ],
   "source": [
    "s1+3"
   ]
  },
  {
   "cell_type": "code",
   "execution_count": 65,
   "id": "13a38d5c-2a9a-490d-bc57-4159460e3e53",
   "metadata": {},
   "outputs": [
    {
     "data": {
      "text/plain": [
       "A     8.0\n",
       "B       3\n",
       "C    18.0\n",
       "dtype: object"
      ]
     },
     "execution_count": 65,
     "metadata": {},
     "output_type": "execute_result"
    }
   ],
   "source": [
    "s1.add(3,fill_value=False)"
   ]
  },
  {
   "cell_type": "markdown",
   "id": "cb55b67e-02d6-4c6e-b119-bfddad73a42a",
   "metadata": {},
   "source": [
    "2.5.3 브로드 캐스팅"
   ]
  },
  {
   "cell_type": "code",
   "execution_count": 66,
   "id": "823a6ad0-737d-4ef4-abf1-d57fd90f9c6e",
   "metadata": {},
   "outputs": [],
   "source": [
    "# 여러 시리즈 객체 사이의 수학적 연산을 설명"
   ]
  },
  {
   "cell_type": "code",
   "execution_count": 67,
   "id": "bb68408b-4757-47c5-a267-15b2df5b63e2",
   "metadata": {},
   "outputs": [],
   "source": [
    "s1=pd.Series([1,2,3],index=[\"A\",\"B\",\"C\"])\n",
    "s2=pd.Series([4,5,6],index=[\"A\",\"B\",\"C\"])"
   ]
  },
  {
   "cell_type": "code",
   "execution_count": 68,
   "id": "84be3ea3-0cb6-4e22-a5d7-a9c18c391e9c",
   "metadata": {},
   "outputs": [
    {
     "data": {
      "text/plain": [
       "A    5\n",
       "B    7\n",
       "C    9\n",
       "dtype: int64"
      ]
     },
     "execution_count": 68,
     "metadata": {},
     "output_type": "execute_result"
    }
   ],
   "source": [
    "s1+s2"
   ]
  },
  {
   "cell_type": "code",
   "execution_count": 75,
   "id": "249afdd3-2a9b-4a1f-b38d-d1294126f1d7",
   "metadata": {},
   "outputs": [
    {
     "data": {
      "text/plain": [
       "0     5.0\n",
       "1    12.0\n",
       "2     NaN\n",
       "3    24.0\n",
       "dtype: float64"
      ]
     },
     "execution_count": 75,
     "metadata": {},
     "output_type": "execute_result"
    }
   ],
   "source": [
    "s1=pd.Series(data=[3,6,np.nan,12])\n",
    "s2=pd.Series(data=[2,6,np.nan,12])\n",
    "s1+s2\n",
    "\n"
   ]
  },
  {
   "cell_type": "code",
   "execution_count": 77,
   "id": "b9626ab7-2e13-46e4-a69c-0bf340b0e556",
   "metadata": {},
   "outputs": [
    {
     "data": {
      "text/plain": [
       "0     5.0\n",
       "1    12.0\n",
       "2     NaN\n",
       "3    24.0\n",
       "dtype: float64"
      ]
     },
     "execution_count": 77,
     "metadata": {},
     "output_type": "execute_result"
    }
   ],
   "source": [
    "s1.add(s2,fill_value=0)   # 왜 안되지?"
   ]
  },
  {
   "cell_type": "markdown",
   "id": "095bcd66-3285-4852-a96f-7fd85d5517b0",
   "metadata": {},
   "source": [
    "2.6  시리즈를 파이썬의 내장함수에 전달"
   ]
  },
  {
   "cell_type": "code",
   "execution_count": 81,
   "id": "b03039c1-8b92-49d8-9dce-9e2f4ae63329",
   "metadata": {},
   "outputs": [
    {
     "data": {
      "text/plain": [
       "0    San Francisco\n",
       "1      Los Angeles\n",
       "2        Las Vegas\n",
       "3              NaN\n",
       "dtype: object"
      ]
     },
     "execution_count": 81,
     "metadata": {},
     "output_type": "execute_result"
    }
   ],
   "source": [
    "cities=pd.Series(\n",
    "    data=[\"San Francisco\",\"Los Angeles\",\"Las Vegas\",np.nan]\n",
    ")\n",
    "cities"
   ]
  },
  {
   "cell_type": "code",
   "execution_count": 79,
   "id": "cf843b34-2acb-41a6-aee9-14746eb72e1a",
   "metadata": {},
   "outputs": [],
   "source": [
    "#len 함수는 시리즈의 행의 개수를 반환한다. 개수에는 결측값이 포함된다"
   ]
  },
  {
   "cell_type": "code",
   "execution_count": 80,
   "id": "b2f1d4b6-1f8e-4378-876a-4533ea0469b5",
   "metadata": {},
   "outputs": [
    {
     "data": {
      "text/plain": [
       "4"
      ]
     },
     "execution_count": 80,
     "metadata": {},
     "output_type": "execute_result"
    }
   ],
   "source": [
    "len(cities)"
   ]
  },
  {
   "cell_type": "code",
   "execution_count": 82,
   "id": "39a584ec-bb25-4232-810a-704be9ee3bb6",
   "metadata": {},
   "outputs": [
    {
     "data": {
      "text/plain": [
       "pandas.core.series.Series"
      ]
     },
     "execution_count": 82,
     "metadata": {},
     "output_type": "execute_result"
    }
   ],
   "source": [
    "type(cities)"
   ]
  },
  {
   "cell_type": "code",
   "execution_count": 83,
   "id": "e2229e70-8e6e-4b68-b9a1-eef41a90dd6f",
   "metadata": {},
   "outputs": [],
   "source": [
    "# 이처럼 파이썬에서 쓰던 것도 판다스에서 변수에 넣어 내장함수로 표현 가능하다."
   ]
  },
  {
   "cell_type": "code",
   "execution_count": 84,
   "id": "92625673-f040-4e7b-b84d-5778cffb900b",
   "metadata": {},
   "outputs": [
    {
     "data": {
      "text/plain": [
       "['T',\n",
       " '_AXIS_LEN',\n",
       " '_AXIS_ORDERS',\n",
       " '_AXIS_TO_AXIS_NUMBER',\n",
       " '_HANDLED_TYPES',\n",
       " '__abs__',\n",
       " '__add__',\n",
       " '__and__',\n",
       " '__annotations__',\n",
       " '__array__',\n",
       " '__array_priority__',\n",
       " '__array_ufunc__',\n",
       " '__bool__',\n",
       " '__class__',\n",
       " '__contains__',\n",
       " '__copy__',\n",
       " '__deepcopy__',\n",
       " '__delattr__',\n",
       " '__delitem__',\n",
       " '__dict__',\n",
       " '__dir__',\n",
       " '__divmod__',\n",
       " '__doc__',\n",
       " '__eq__',\n",
       " '__finalize__',\n",
       " '__float__',\n",
       " '__floordiv__',\n",
       " '__format__',\n",
       " '__ge__',\n",
       " '__getattr__',\n",
       " '__getattribute__',\n",
       " '__getitem__',\n",
       " '__getstate__',\n",
       " '__gt__',\n",
       " '__hash__',\n",
       " '__iadd__',\n",
       " '__iand__',\n",
       " '__ifloordiv__',\n",
       " '__imod__',\n",
       " '__imul__',\n",
       " '__init__',\n",
       " '__init_subclass__',\n",
       " '__int__',\n",
       " '__invert__',\n",
       " '__ior__',\n",
       " '__ipow__',\n",
       " '__isub__',\n",
       " '__iter__',\n",
       " '__itruediv__',\n",
       " '__ixor__',\n",
       " '__le__',\n",
       " '__len__',\n",
       " '__lt__',\n",
       " '__matmul__',\n",
       " '__mod__',\n",
       " '__module__',\n",
       " '__mul__',\n",
       " '__ne__',\n",
       " '__neg__',\n",
       " '__new__',\n",
       " '__nonzero__',\n",
       " '__or__',\n",
       " '__pos__',\n",
       " '__pow__',\n",
       " '__radd__',\n",
       " '__rand__',\n",
       " '__rdivmod__',\n",
       " '__reduce__',\n",
       " '__reduce_ex__',\n",
       " '__repr__',\n",
       " '__rfloordiv__',\n",
       " '__rmatmul__',\n",
       " '__rmod__',\n",
       " '__rmul__',\n",
       " '__ror__',\n",
       " '__round__',\n",
       " '__rpow__',\n",
       " '__rsub__',\n",
       " '__rtruediv__',\n",
       " '__rxor__',\n",
       " '__setattr__',\n",
       " '__setitem__',\n",
       " '__setstate__',\n",
       " '__sizeof__',\n",
       " '__str__',\n",
       " '__sub__',\n",
       " '__subclasshook__',\n",
       " '__truediv__',\n",
       " '__weakref__',\n",
       " '__xor__',\n",
       " '_accessors',\n",
       " '_accum_func',\n",
       " '_add_numeric_operations',\n",
       " '_agg_examples_doc',\n",
       " '_agg_see_also_doc',\n",
       " '_align_frame',\n",
       " '_align_series',\n",
       " '_append',\n",
       " '_arith_method',\n",
       " '_as_manager',\n",
       " '_attrs',\n",
       " '_binop',\n",
       " '_can_hold_na',\n",
       " '_check_inplace_and_allows_duplicate_labels',\n",
       " '_check_inplace_setting',\n",
       " '_check_is_chained_assignment_possible',\n",
       " '_check_label_or_level_ambiguity',\n",
       " '_check_setitem_copy',\n",
       " '_clear_item_cache',\n",
       " '_clip_with_one_bound',\n",
       " '_clip_with_scalar',\n",
       " '_cmp_method',\n",
       " '_consolidate',\n",
       " '_consolidate_inplace',\n",
       " '_construct_axes_dict',\n",
       " '_construct_result',\n",
       " '_constructor',\n",
       " '_constructor_expanddim',\n",
       " '_convert_dtypes',\n",
       " '_data',\n",
       " '_dir_additions',\n",
       " '_dir_deletions',\n",
       " '_drop_axis',\n",
       " '_drop_labels_or_levels',\n",
       " '_duplicated',\n",
       " '_find_valid_index',\n",
       " '_flags',\n",
       " '_get_axis',\n",
       " '_get_axis_name',\n",
       " '_get_axis_number',\n",
       " '_get_axis_resolvers',\n",
       " '_get_block_manager_axis',\n",
       " '_get_bool_data',\n",
       " '_get_cacher',\n",
       " '_get_cleaned_column_resolvers',\n",
       " '_get_index_resolvers',\n",
       " '_get_label_or_level_values',\n",
       " '_get_numeric_data',\n",
       " '_get_value',\n",
       " '_get_values',\n",
       " '_get_values_tuple',\n",
       " '_get_with',\n",
       " '_gotitem',\n",
       " '_hidden_attrs',\n",
       " '_indexed_same',\n",
       " '_info_axis',\n",
       " '_info_axis_name',\n",
       " '_info_axis_number',\n",
       " '_init_dict',\n",
       " '_init_mgr',\n",
       " '_inplace_method',\n",
       " '_internal_names',\n",
       " '_internal_names_set',\n",
       " '_is_cached',\n",
       " '_is_copy',\n",
       " '_is_label_or_level_reference',\n",
       " '_is_label_reference',\n",
       " '_is_level_reference',\n",
       " '_is_mixed_type',\n",
       " '_is_view',\n",
       " '_item_cache',\n",
       " '_ixs',\n",
       " '_logical_func',\n",
       " '_logical_method',\n",
       " '_map_values',\n",
       " '_maybe_update_cacher',\n",
       " '_memory_usage',\n",
       " '_metadata',\n",
       " '_mgr',\n",
       " '_min_count_stat_function',\n",
       " '_name',\n",
       " '_needs_reindex_multi',\n",
       " '_protect_consolidate',\n",
       " '_reduce',\n",
       " '_references',\n",
       " '_reindex_axes',\n",
       " '_reindex_indexer',\n",
       " '_reindex_multi',\n",
       " '_reindex_with_indexers',\n",
       " '_rename',\n",
       " '_replace_single',\n",
       " '_repr_data_resource_',\n",
       " '_repr_latex_',\n",
       " '_reset_cache',\n",
       " '_reset_cacher',\n",
       " '_set_as_cached',\n",
       " '_set_axis',\n",
       " '_set_axis_name',\n",
       " '_set_axis_nocheck',\n",
       " '_set_is_copy',\n",
       " '_set_labels',\n",
       " '_set_name',\n",
       " '_set_value',\n",
       " '_set_values',\n",
       " '_set_with',\n",
       " '_set_with_engine',\n",
       " '_slice',\n",
       " '_stat_axis',\n",
       " '_stat_axis_name',\n",
       " '_stat_axis_number',\n",
       " '_stat_function',\n",
       " '_stat_function_ddof',\n",
       " '_take',\n",
       " '_take_with_is_copy',\n",
       " '_to_latex_via_styler',\n",
       " '_typ',\n",
       " '_update_inplace',\n",
       " '_validate_dtype',\n",
       " '_values',\n",
       " '_where',\n",
       " 'abs',\n",
       " 'add',\n",
       " 'add_prefix',\n",
       " 'add_suffix',\n",
       " 'agg',\n",
       " 'aggregate',\n",
       " 'align',\n",
       " 'all',\n",
       " 'any',\n",
       " 'apply',\n",
       " 'argmax',\n",
       " 'argmin',\n",
       " 'argsort',\n",
       " 'array',\n",
       " 'asfreq',\n",
       " 'asof',\n",
       " 'astype',\n",
       " 'at',\n",
       " 'at_time',\n",
       " 'attrs',\n",
       " 'autocorr',\n",
       " 'axes',\n",
       " 'backfill',\n",
       " 'between',\n",
       " 'between_time',\n",
       " 'bfill',\n",
       " 'bool',\n",
       " 'clip',\n",
       " 'combine',\n",
       " 'combine_first',\n",
       " 'compare',\n",
       " 'convert_dtypes',\n",
       " 'copy',\n",
       " 'corr',\n",
       " 'count',\n",
       " 'cov',\n",
       " 'cummax',\n",
       " 'cummin',\n",
       " 'cumprod',\n",
       " 'cumsum',\n",
       " 'describe',\n",
       " 'diff',\n",
       " 'div',\n",
       " 'divide',\n",
       " 'divmod',\n",
       " 'dot',\n",
       " 'drop',\n",
       " 'drop_duplicates',\n",
       " 'droplevel',\n",
       " 'dropna',\n",
       " 'dtype',\n",
       " 'dtypes',\n",
       " 'duplicated',\n",
       " 'empty',\n",
       " 'eq',\n",
       " 'equals',\n",
       " 'ewm',\n",
       " 'expanding',\n",
       " 'explode',\n",
       " 'factorize',\n",
       " 'ffill',\n",
       " 'fillna',\n",
       " 'filter',\n",
       " 'first',\n",
       " 'first_valid_index',\n",
       " 'flags',\n",
       " 'floordiv',\n",
       " 'ge',\n",
       " 'get',\n",
       " 'groupby',\n",
       " 'gt',\n",
       " 'hasnans',\n",
       " 'head',\n",
       " 'hist',\n",
       " 'iat',\n",
       " 'idxmax',\n",
       " 'idxmin',\n",
       " 'iloc',\n",
       " 'index',\n",
       " 'infer_objects',\n",
       " 'info',\n",
       " 'interpolate',\n",
       " 'is_monotonic_decreasing',\n",
       " 'is_monotonic_increasing',\n",
       " 'is_unique',\n",
       " 'isin',\n",
       " 'isna',\n",
       " 'isnull',\n",
       " 'item',\n",
       " 'items',\n",
       " 'keys',\n",
       " 'kurt',\n",
       " 'kurtosis',\n",
       " 'last',\n",
       " 'last_valid_index',\n",
       " 'le',\n",
       " 'loc',\n",
       " 'lt',\n",
       " 'map',\n",
       " 'mask',\n",
       " 'max',\n",
       " 'mean',\n",
       " 'median',\n",
       " 'memory_usage',\n",
       " 'min',\n",
       " 'mod',\n",
       " 'mode',\n",
       " 'mul',\n",
       " 'multiply',\n",
       " 'name',\n",
       " 'nbytes',\n",
       " 'ndim',\n",
       " 'ne',\n",
       " 'nlargest',\n",
       " 'notna',\n",
       " 'notnull',\n",
       " 'nsmallest',\n",
       " 'nunique',\n",
       " 'pad',\n",
       " 'pct_change',\n",
       " 'pipe',\n",
       " 'plot',\n",
       " 'pop',\n",
       " 'pow',\n",
       " 'prod',\n",
       " 'product',\n",
       " 'quantile',\n",
       " 'radd',\n",
       " 'rank',\n",
       " 'ravel',\n",
       " 'rdiv',\n",
       " 'rdivmod',\n",
       " 'reindex',\n",
       " 'reindex_like',\n",
       " 'rename',\n",
       " 'rename_axis',\n",
       " 'reorder_levels',\n",
       " 'repeat',\n",
       " 'replace',\n",
       " 'resample',\n",
       " 'reset_index',\n",
       " 'rfloordiv',\n",
       " 'rmod',\n",
       " 'rmul',\n",
       " 'rolling',\n",
       " 'round',\n",
       " 'rpow',\n",
       " 'rsub',\n",
       " 'rtruediv',\n",
       " 'sample',\n",
       " 'searchsorted',\n",
       " 'sem',\n",
       " 'set_axis',\n",
       " 'set_flags',\n",
       " 'shape',\n",
       " 'shift',\n",
       " 'size',\n",
       " 'skew',\n",
       " 'sort_index',\n",
       " 'sort_values',\n",
       " 'squeeze',\n",
       " 'std',\n",
       " 'str',\n",
       " 'sub',\n",
       " 'subtract',\n",
       " 'sum',\n",
       " 'swapaxes',\n",
       " 'swaplevel',\n",
       " 'tail',\n",
       " 'take',\n",
       " 'to_clipboard',\n",
       " 'to_csv',\n",
       " 'to_dict',\n",
       " 'to_excel',\n",
       " 'to_frame',\n",
       " 'to_hdf',\n",
       " 'to_json',\n",
       " 'to_latex',\n",
       " 'to_list',\n",
       " 'to_markdown',\n",
       " 'to_numpy',\n",
       " 'to_period',\n",
       " 'to_pickle',\n",
       " 'to_sql',\n",
       " 'to_string',\n",
       " 'to_timestamp',\n",
       " 'to_xarray',\n",
       " 'transform',\n",
       " 'transpose',\n",
       " 'truediv',\n",
       " 'truncate',\n",
       " 'tz_convert',\n",
       " 'tz_localize',\n",
       " 'unique',\n",
       " 'unstack',\n",
       " 'update',\n",
       " 'value_counts',\n",
       " 'values',\n",
       " 'var',\n",
       " 'view',\n",
       " 'where',\n",
       " 'xs']"
      ]
     },
     "execution_count": 84,
     "metadata": {},
     "output_type": "execute_result"
    }
   ],
   "source": [
    "dir(cities)"
   ]
  },
  {
   "cell_type": "code",
   "execution_count": 85,
   "id": "6da50645-4b2a-4df3-a8df-7f4f523b1da2",
   "metadata": {},
   "outputs": [],
   "source": [
    "# 예제: values 속성과 짝을 지어 in키워드를 이용해 Series에 특정 값이 포함되어 있는지 확인할 수 있다.\n"
   ]
  },
  {
   "cell_type": "code",
   "execution_count": 86,
   "id": "d6dd1a19-9c64-43e6-b440-1f8765eaa5c9",
   "metadata": {},
   "outputs": [
    {
     "data": {
      "text/plain": [
       "True"
      ]
     },
     "execution_count": 86,
     "metadata": {},
     "output_type": "execute_result"
    }
   ],
   "source": [
    "\"Las Vegas\" in cities.values"
   ]
  },
  {
   "cell_type": "code",
   "execution_count": null,
   "id": "76cfb674-fb38-46d7-ae76-e90079b727f1",
   "metadata": {},
   "outputs": [],
   "source": []
  },
  {
   "cell_type": "code",
   "execution_count": 87,
   "id": "c2f49229-21c0-47d3-bf6e-0af23e4d5572",
   "metadata": {},
   "outputs": [
    {
     "data": {
      "text/plain": [
       "False"
      ]
     },
     "execution_count": 87,
     "metadata": {},
     "output_type": "execute_result"
    }
   ],
   "source": [
    "\"Paris\" in cities.values"
   ]
  },
  {
   "cell_type": "markdown",
   "id": "12e2ee9e-8feb-43f8-b235-5a98040a4890",
   "metadata": {},
   "source": [
    "2.7 코딩 챌린지"
   ]
  },
  {
   "cell_type": "code",
   "execution_count": 88,
   "id": "932e38ff-1bd4-4d7d-b946-b42e544a15b6",
   "metadata": {},
   "outputs": [],
   "source": [
    "superheros=[\n",
    "    \"Batman\",\n",
    "    \"Superman\",\n",
    "    \"Spider-Man\",\n",
    "    \"Iron Man\",\n",
    "    \"Captain America\",\n",
    "    \"Wonder Woman\"\n",
    "]"
   ]
  },
  {
   "cell_type": "code",
   "execution_count": 89,
   "id": "b7248c64-832e-4d75-a620-885a4f58b318",
   "metadata": {},
   "outputs": [],
   "source": [
    "strength_levels=(100,120,90,95,110,120)"
   ]
  },
  {
   "cell_type": "code",
   "execution_count": 90,
   "id": "879b16b4-144c-4b7b-a268-e97290319148",
   "metadata": {},
   "outputs": [],
   "source": [
    "#1. t슈퍼히어로 리스트 사용하여 새 series객체의 값을 채우세요"
   ]
  },
  {
   "cell_type": "code",
   "execution_count": 103,
   "id": "799386b2-2af7-4777-8050-b99733a7219d",
   "metadata": {},
   "outputs": [
    {
     "data": {
      "text/plain": [
       "0             Batman\n",
       "1           Superman\n",
       "2         Spider-Man\n",
       "3           Iron Man\n",
       "4    Captain America\n",
       "5       Wonder Woman\n",
       "dtype: object"
      ]
     },
     "execution_count": 103,
     "metadata": {},
     "output_type": "execute_result"
    }
   ],
   "source": [
    "sh=pd.Series(superheros)\n",
    "sh"
   ]
  },
  {
   "cell_type": "code",
   "execution_count": 93,
   "id": "3c8c69f9-8fff-4c5e-b624-bcff78aba5f3",
   "metadata": {},
   "outputs": [],
   "source": [
    "#2.능력치 리스트 사용하여 새 series객체의 값을 채우세요"
   ]
  },
  {
   "cell_type": "code",
   "execution_count": 105,
   "id": "4c8efaae-5f73-4380-ac6b-4cd083657504",
   "metadata": {},
   "outputs": [
    {
     "data": {
      "text/plain": [
       "0    100\n",
       "1    120\n",
       "2     90\n",
       "3     95\n",
       "4    110\n",
       "5    120\n",
       "dtype: int64"
      ]
     },
     "execution_count": 105,
     "metadata": {},
     "output_type": "execute_result"
    }
   ],
   "source": [
    "lv=pd.Series(strength_levels)\n",
    "lv"
   ]
  },
  {
   "cell_type": "code",
   "execution_count": 96,
   "id": "ec7cd73d-c67d-41b2-849e-07d4d58174ad",
   "metadata": {},
   "outputs": [],
   "source": [
    "#3.슈퍼히어로즈를 인덱스 레이블로, 스트랭스를 값으로 사용하여 시리즈를 생성 하고, 히어로즈 변수에 시리즈를 할당하시오."
   ]
  },
  {
   "cell_type": "code",
   "execution_count": 107,
   "id": "5052d5c3-b6bf-4b33-bf5d-85b805b394c2",
   "metadata": {},
   "outputs": [
    {
     "data": {
      "text/plain": [
       "Batman             100\n",
       "Superman           120\n",
       "Spider-Man          90\n",
       "Iron Man            95\n",
       "Captain America    110\n",
       "Wonder Woman       120\n",
       "dtype: int64"
      ]
     },
     "execution_count": 107,
     "metadata": {},
     "output_type": "execute_result"
    }
   ],
   "source": [
    "heroes=pd.Series(data=strength_levels,index=superheros)  #주의: 시리즈 타입에 넣고 한번 더 넣으면 안됨.....\n",
    "heroes"
   ]
  },
  {
   "cell_type": "code",
   "execution_count": 108,
   "id": "995c8e99-6118-4823-b16b-da940fa8b057",
   "metadata": {},
   "outputs": [],
   "source": [
    "#4. heroes의 처음 2개 행을 추출"
   ]
  },
  {
   "cell_type": "code",
   "execution_count": 113,
   "id": "d06d0148-b0c4-4b3e-99b1-0b220a379145",
   "metadata": {},
   "outputs": [
    {
     "data": {
      "text/plain": [
       "Batman      100\n",
       "Superman    120\n",
       "dtype: int64"
      ]
     },
     "execution_count": 113,
     "metadata": {},
     "output_type": "execute_result"
    }
   ],
   "source": [
    "heroes[['Batman','Superman']]\n"
   ]
  },
  {
   "cell_type": "code",
   "execution_count": 114,
   "id": "c9c7dc26-7b4b-471a-a495-dfd26eb4cd67",
   "metadata": {},
   "outputs": [
    {
     "data": {
      "text/plain": [
       "Batman      100\n",
       "Superman    120\n",
       "dtype: int64"
      ]
     },
     "execution_count": 114,
     "metadata": {},
     "output_type": "execute_result"
    }
   ],
   "source": [
    "heroes.head(2)"
   ]
  },
  {
   "cell_type": "code",
   "execution_count": 115,
   "id": "c30c5373-011e-4d90-9c2d-69aa3261f6cc",
   "metadata": {},
   "outputs": [],
   "source": [
    "#5. heroes의 마지막 4개 행을 추출"
   ]
  },
  {
   "cell_type": "code",
   "execution_count": 116,
   "id": "30a8b934-9845-49b7-be9a-dd2a34f06593",
   "metadata": {},
   "outputs": [
    {
     "data": {
      "text/plain": [
       "Spider-Man          90\n",
       "Iron Man            95\n",
       "Captain America    110\n",
       "Wonder Woman       120\n",
       "dtype: int64"
      ]
     },
     "execution_count": 116,
     "metadata": {},
     "output_type": "execute_result"
    }
   ],
   "source": [
    "heroes.tail(4)"
   ]
  },
  {
   "cell_type": "code",
   "execution_count": 117,
   "id": "d98b0c4c-a19a-48ac-a01e-ac5de8497835",
   "metadata": {},
   "outputs": [],
   "source": [
    "#6. 고유한 값의 개수"
   ]
  },
  {
   "cell_type": "code",
   "execution_count": 120,
   "id": "ce5371cb-1456-4403-8eae-313863155996",
   "metadata": {},
   "outputs": [
    {
     "data": {
      "text/plain": [
       "5"
      ]
     },
     "execution_count": 120,
     "metadata": {},
     "output_type": "execute_result"
    }
   ],
   "source": [
    "heroes.nunique() #unique는 고유한 값 리스트가 나오고, nunique는 그 개수가 나온다."
   ]
  },
  {
   "cell_type": "code",
   "execution_count": 121,
   "id": "cf0f8957-89ee-49b4-b32d-da761874bbaa",
   "metadata": {},
   "outputs": [],
   "source": [
    "#7.heroes의 평균 능력치 구하기"
   ]
  },
  {
   "cell_type": "code",
   "execution_count": 122,
   "id": "1fdb0fb8-1b74-4f64-8491-b1d74031b444",
   "metadata": {},
   "outputs": [
    {
     "data": {
      "text/plain": [
       "105.83333333333333"
      ]
     },
     "execution_count": 122,
     "metadata": {},
     "output_type": "execute_result"
    }
   ],
   "source": [
    "heroes.mean()"
   ]
  },
  {
   "cell_type": "code",
   "execution_count": 123,
   "id": "4f83330e-38be-487a-81df-db42df3cec12",
   "metadata": {},
   "outputs": [],
   "source": [
    "#8. 최대 최소 능력치 구하기"
   ]
  },
  {
   "cell_type": "code",
   "execution_count": 126,
   "id": "537dc0b3-98d8-49a7-8048-61f5f42d6787",
   "metadata": {},
   "outputs": [
    {
     "data": {
      "text/plain": [
       "120"
      ]
     },
     "execution_count": 126,
     "metadata": {},
     "output_type": "execute_result"
    }
   ],
   "source": [
    "#최대:\n",
    "max=heroes.max()\n",
    "\n",
    "max\n"
   ]
  },
  {
   "cell_type": "code",
   "execution_count": 128,
   "id": "2cfd7595-6b1d-49ff-9b77-425cb161a4fd",
   "metadata": {},
   "outputs": [
    {
     "data": {
      "text/plain": [
       "90"
      ]
     },
     "execution_count": 128,
     "metadata": {},
     "output_type": "execute_result"
    }
   ],
   "source": [
    "min=heroes.min()\n",
    "min"
   ]
  },
  {
   "cell_type": "code",
   "execution_count": 129,
   "id": "c3d840cd-dddd-4caf-9dc7-3bc21f0a4bc6",
   "metadata": {},
   "outputs": [
    {
     "data": {
      "text/plain": [
       "Batman             200\n",
       "Superman           240\n",
       "Spider-Man         180\n",
       "Iron Man           190\n",
       "Captain America    220\n",
       "Wonder Woman       240\n",
       "dtype: int64"
      ]
     },
     "execution_count": 129,
     "metadata": {},
     "output_type": "execute_result"
    }
   ],
   "source": [
    "heroes*2"
   ]
  },
  {
   "cell_type": "code",
   "execution_count": 131,
   "id": "c735ffa1-e698-4cf0-9f98-dac34c8682dc",
   "metadata": {},
   "outputs": [
    {
     "data": {
      "text/plain": [
       "Batman             200\n",
       "Superman           240\n",
       "Spider-Man         180\n",
       "Iron Man           190\n",
       "Captain America    220\n",
       "Wonder Woman       240\n",
       "dtype: int64"
      ]
     },
     "execution_count": 131,
     "metadata": {},
     "output_type": "execute_result"
    }
   ],
   "source": [
    "heroes.mul(2)"
   ]
  },
  {
   "cell_type": "code",
   "execution_count": 132,
   "id": "8c482a7a-c84a-4954-b28a-59ebadbb8dba",
   "metadata": {},
   "outputs": [],
   "source": [
    "#10. 히어로즈 시리즈를 파이썬 딕셔너리로 변경하세요."
   ]
  },
  {
   "cell_type": "code",
   "execution_count": 133,
   "id": "890390c7-43af-4d79-9feb-844b93e29bea",
   "metadata": {},
   "outputs": [],
   "source": [
    "dictheroes=dict(heroes)"
   ]
  },
  {
   "cell_type": "code",
   "execution_count": 134,
   "id": "394f2706-95ac-4e51-90c9-217fcc4087a9",
   "metadata": {},
   "outputs": [
    {
     "data": {
      "text/plain": [
       "{'Batman': 100,\n",
       " 'Superman': 120,\n",
       " 'Spider-Man': 90,\n",
       " 'Iron Man': 95,\n",
       " 'Captain America': 110,\n",
       " 'Wonder Woman': 120}"
      ]
     },
     "execution_count": 134,
     "metadata": {},
     "output_type": "execute_result"
    }
   ],
   "source": [
    "dictheroes"
   ]
  },
  {
   "cell_type": "code",
   "execution_count": null,
   "id": "649a4dfd-e18a-48c3-ab0a-9459b8ded298",
   "metadata": {},
   "outputs": [],
   "source": []
  }
 ],
 "metadata": {
  "kernelspec": {
   "display_name": "Python 3 (ipykernel)",
   "language": "python",
   "name": "python3"
  },
  "language_info": {
   "codemirror_mode": {
    "name": "ipython",
    "version": 3
   },
   "file_extension": ".py",
   "mimetype": "text/x-python",
   "name": "python",
   "nbconvert_exporter": "python",
   "pygments_lexer": "ipython3",
   "version": "3.8.18"
  }
 },
 "nbformat": 4,
 "nbformat_minor": 5
}
