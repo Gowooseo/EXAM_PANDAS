{
 "cells": [
  {
   "cell_type": "markdown",
   "id": "4f41e464-e64b-4fb7-9c80-0ade73cb5970",
   "metadata": {},
   "source": [
    "## [DataFrame 행 /열 추가]"
   ]
  },
  {
   "cell_type": "markdown",
   "id": "4f7d6f07-1d87-4857-adbc-709eeec33617",
   "metadata": {},
   "source": [
    "(1) 모듈 로딩"
   ]
  },
  {
   "cell_type": "code",
   "execution_count": 1,
   "id": "545426c7-c1cf-4544-8be9-12042bacdb2a",
   "metadata": {},
   "outputs": [],
   "source": [
    "import pandas as pd"
   ]
  },
  {
   "cell_type": "markdown",
   "id": "a8263146-239d-44e2-9ce5-3daa5c8f0a13",
   "metadata": {},
   "source": [
    "(2) 데이터 준비"
   ]
  },
  {
   "cell_type": "code",
   "execution_count": 2,
   "id": "052ace28-e5fd-47a8-9200-34bb27bd5faf",
   "metadata": {},
   "outputs": [],
   "source": [
    "#dict 타입의 데이터 생성\n",
    "exam={'이름':['마징가','배트맨','홍길동','임꺽정'],\n",
    "      '국어':[ 98,79,99,100],\n",
    "       '미술':[ 70,99,87,80],\n",
    "       '수학':[ 98,70,100,72],\n",
    "       '체육':[ 80,93,69,91] }\n",
    "      "
   ]
  },
  {
   "cell_type": "markdown",
   "id": "42d5ce46-97f3-4cd7-bbd7-ec1a61af03f3",
   "metadata": {},
   "source": [
    "(3)DataFrame에 데이터 저장<hr>"
   ]
  },
  {
   "cell_type": "code",
   "execution_count": 3,
   "id": "3114a873-c742-4c66-936f-70fe872e1535",
   "metadata": {},
   "outputs": [],
   "source": [
    "examDF=pd.DataFrame(exam)"
   ]
  },
  {
   "cell_type": "code",
   "execution_count": 4,
   "id": "9ff63acf-1a2f-4815-a292-cf8dce024f30",
   "metadata": {},
   "outputs": [
    {
     "data": {
      "text/html": [
       "<div>\n",
       "<style scoped>\n",
       "    .dataframe tbody tr th:only-of-type {\n",
       "        vertical-align: middle;\n",
       "    }\n",
       "\n",
       "    .dataframe tbody tr th {\n",
       "        vertical-align: top;\n",
       "    }\n",
       "\n",
       "    .dataframe thead th {\n",
       "        text-align: right;\n",
       "    }\n",
       "</style>\n",
       "<table border=\"1\" class=\"dataframe\">\n",
       "  <thead>\n",
       "    <tr style=\"text-align: right;\">\n",
       "      <th></th>\n",
       "      <th>이름</th>\n",
       "      <th>국어</th>\n",
       "      <th>미술</th>\n",
       "      <th>수학</th>\n",
       "      <th>체육</th>\n",
       "    </tr>\n",
       "  </thead>\n",
       "  <tbody>\n",
       "    <tr>\n",
       "      <th>0</th>\n",
       "      <td>마징가</td>\n",
       "      <td>98</td>\n",
       "      <td>70</td>\n",
       "      <td>98</td>\n",
       "      <td>80</td>\n",
       "    </tr>\n",
       "    <tr>\n",
       "      <th>1</th>\n",
       "      <td>배트맨</td>\n",
       "      <td>79</td>\n",
       "      <td>99</td>\n",
       "      <td>70</td>\n",
       "      <td>93</td>\n",
       "    </tr>\n",
       "    <tr>\n",
       "      <th>2</th>\n",
       "      <td>홍길동</td>\n",
       "      <td>99</td>\n",
       "      <td>87</td>\n",
       "      <td>100</td>\n",
       "      <td>69</td>\n",
       "    </tr>\n",
       "    <tr>\n",
       "      <th>3</th>\n",
       "      <td>임꺽정</td>\n",
       "      <td>100</td>\n",
       "      <td>80</td>\n",
       "      <td>72</td>\n",
       "      <td>91</td>\n",
       "    </tr>\n",
       "  </tbody>\n",
       "</table>\n",
       "</div>"
      ],
      "text/plain": [
       "    이름   국어  미술   수학  체육\n",
       "0  마징가   98  70   98  80\n",
       "1  배트맨   79  99   70  93\n",
       "2  홍길동   99  87  100  69\n",
       "3  임꺽정  100  80   72  91"
      ]
     },
     "execution_count": 4,
     "metadata": {},
     "output_type": "execute_result"
    }
   ],
   "source": [
    "examDF"
   ]
  },
  {
   "cell_type": "markdown",
   "id": "766596c9-4c0c-4d7c-b20b-064e9c02e913",
   "metadata": {},
   "source": [
    "(4) 저장된 데이터 속성 확인<hr>"
   ]
  },
  {
   "cell_type": "code",
   "execution_count": 5,
   "id": "25a7bbd5-9b14-4a67-a325-7d8aef001c2c",
   "metadata": {},
   "outputs": [],
   "source": [
    "def printAttribute(df,dfname):\n",
    "    print(f'[{dfname} Attributes]')\n",
    "    print(f'index\\n===> {df.index}')\n",
    "    print(f'columns\\n===> {df.columns}')\n",
    "    print(f'shape\\n===> {df.shape}')\n",
    "    print(f'ndim\\n===> {df.ndim}')  #시리즈 출력된다.\n",
    "    print(f'size\\n===> {df.size}')\n",
    "    print(f'dtypes\\n===> {df.dtypes}')  "
   ]
  },
  {
   "cell_type": "code",
   "execution_count": 6,
   "id": "62e0af75-46c0-4cb0-a102-1e6a5eb61caa",
   "metadata": {},
   "outputs": [
    {
     "name": "stdout",
     "output_type": "stream",
     "text": [
      "[examDF Attributes]\n",
      "index\n",
      "===> RangeIndex(start=0, stop=4, step=1)\n",
      "columns\n",
      "===> Index(['이름', '국어', '미술', '수학', '체육'], dtype='object')\n",
      "shape\n",
      "===> (4, 5)\n",
      "ndim\n",
      "===> 2\n",
      "size\n",
      "===> 20\n",
      "dtypes\n",
      "===> 이름    object\n",
      "국어     int64\n",
      "미술     int64\n",
      "수학     int64\n",
      "체육     int64\n",
      "dtype: object\n"
     ]
    }
   ],
   "source": [
    "printAttribute(examDF,'examDF')"
   ]
  },
  {
   "cell_type": "code",
   "execution_count": 7,
   "id": "d52de1e5-532c-4695-9755-345e0cbf1ed6",
   "metadata": {},
   "outputs": [
    {
     "name": "stdout",
     "output_type": "stream",
     "text": [
      "index\n",
      "===> RangeIndex(start=0, stop=4, step=1)\n"
     ]
    }
   ],
   "source": [
    "print(f'index\\n===> {examDF.index}')"
   ]
  },
  {
   "cell_type": "code",
   "execution_count": 8,
   "id": "a539198c-1089-406e-9413-6dad2d75ad79",
   "metadata": {},
   "outputs": [
    {
     "name": "stdout",
     "output_type": "stream",
     "text": [
      "columns\n",
      "===> Index(['이름', '국어', '미술', '수학', '체육'], dtype='object')\n"
     ]
    }
   ],
   "source": [
    "print(f'columns\\n===> {examDF.columns}')"
   ]
  },
  {
   "cell_type": "code",
   "execution_count": 9,
   "id": "5d02f57f-2ae6-4dd5-ac75-9fa3fb667420",
   "metadata": {},
   "outputs": [
    {
     "name": "stdout",
     "output_type": "stream",
     "text": [
      "shape\n",
      "===> (4, 5)\n"
     ]
    }
   ],
   "source": [
    "print(f'shape\\n===> {examDF.shape}')"
   ]
  },
  {
   "cell_type": "code",
   "execution_count": 10,
   "id": "2e692f67-584e-43f2-b49b-4c3ad637b69d",
   "metadata": {},
   "outputs": [
    {
     "name": "stdout",
     "output_type": "stream",
     "text": [
      "ndim\n",
      "===> 2\n"
     ]
    }
   ],
   "source": [
    "print(f'ndim\\n===> {examDF.ndim}')"
   ]
  },
  {
   "cell_type": "code",
   "execution_count": 11,
   "id": "39332810-ab00-4182-8049-7acf2af8dc49",
   "metadata": {},
   "outputs": [
    {
     "name": "stdout",
     "output_type": "stream",
     "text": [
      "dtypes\n",
      "===> 이름    object\n",
      "국어     int64\n",
      "미술     int64\n",
      "수학     int64\n",
      "체육     int64\n",
      "dtype: object\n"
     ]
    }
   ],
   "source": [
    "print(f'dtypes\\n===> {examDF.dtypes}')"
   ]
  },
  {
   "cell_type": "markdown",
   "id": "db1b53ef-c982-4648-9539-91db38b143d1",
   "metadata": {},
   "source": [
    "(5)DataFrame에 컬럼 추가<hr>\n",
    "- 방법:DF객체변수명[새로운컬럼명]=값"
   ]
  },
  {
   "cell_type": "code",
   "execution_count": 12,
   "id": "6c33f264-7fa5-446d-88d0-317245b33157",
   "metadata": {},
   "outputs": [
    {
     "data": {
      "text/plain": [
       "Index(['이름', '국어', '미술', '수학', '체육'], dtype='object')"
      ]
     },
     "execution_count": 12,
     "metadata": {},
     "output_type": "execute_result"
    }
   ],
   "source": [
    "examDF.columns"
   ]
  },
  {
   "cell_type": "code",
   "execution_count": 15,
   "id": "31bf24a5-2092-44c6-8730-9e65e35a026d",
   "metadata": {},
   "outputs": [],
   "source": [
    "#행 갯수 만큼 값 추가\n",
    "examDF['영어']=[90,89,100,99]"
   ]
  },
  {
   "cell_type": "code",
   "execution_count": 14,
   "id": "d06023c8-1f24-4e89-afe0-84a20f1b97c5",
   "metadata": {},
   "outputs": [
    {
     "data": {
      "text/html": [
       "<div>\n",
       "<style scoped>\n",
       "    .dataframe tbody tr th:only-of-type {\n",
       "        vertical-align: middle;\n",
       "    }\n",
       "\n",
       "    .dataframe tbody tr th {\n",
       "        vertical-align: top;\n",
       "    }\n",
       "\n",
       "    .dataframe thead th {\n",
       "        text-align: right;\n",
       "    }\n",
       "</style>\n",
       "<table border=\"1\" class=\"dataframe\">\n",
       "  <thead>\n",
       "    <tr style=\"text-align: right;\">\n",
       "      <th></th>\n",
       "      <th>이름</th>\n",
       "      <th>국어</th>\n",
       "      <th>미술</th>\n",
       "      <th>수학</th>\n",
       "      <th>체육</th>\n",
       "      <th>영어</th>\n",
       "    </tr>\n",
       "  </thead>\n",
       "  <tbody>\n",
       "    <tr>\n",
       "      <th>0</th>\n",
       "      <td>마징가</td>\n",
       "      <td>98</td>\n",
       "      <td>70</td>\n",
       "      <td>98</td>\n",
       "      <td>80</td>\n",
       "      <td>90</td>\n",
       "    </tr>\n",
       "    <tr>\n",
       "      <th>1</th>\n",
       "      <td>배트맨</td>\n",
       "      <td>79</td>\n",
       "      <td>99</td>\n",
       "      <td>70</td>\n",
       "      <td>93</td>\n",
       "      <td>89</td>\n",
       "    </tr>\n",
       "    <tr>\n",
       "      <th>2</th>\n",
       "      <td>홍길동</td>\n",
       "      <td>99</td>\n",
       "      <td>87</td>\n",
       "      <td>100</td>\n",
       "      <td>69</td>\n",
       "      <td>100</td>\n",
       "    </tr>\n",
       "    <tr>\n",
       "      <th>3</th>\n",
       "      <td>임꺽정</td>\n",
       "      <td>100</td>\n",
       "      <td>80</td>\n",
       "      <td>72</td>\n",
       "      <td>91</td>\n",
       "      <td>99</td>\n",
       "    </tr>\n",
       "  </tbody>\n",
       "</table>\n",
       "</div>"
      ],
      "text/plain": [
       "    이름   국어  미술   수학  체육   영어\n",
       "0  마징가   98  70   98  80   90\n",
       "1  배트맨   79  99   70  93   89\n",
       "2  홍길동   99  87  100  69  100\n",
       "3  임꺽정  100  80   72  91   99"
      ]
     },
     "execution_count": 14,
     "metadata": {},
     "output_type": "execute_result"
    }
   ],
   "source": [
    "examDF"
   ]
  },
  {
   "cell_type": "code",
   "execution_count": 18,
   "id": "be663a99-28d7-4704-a37d-688f35f0c747",
   "metadata": {},
   "outputs": [],
   "source": [
    "examDF['과학']=10   #한개의 데이터 즉 값 추가 시 모든 행에 동일 값으로 저장"
   ]
  },
  {
   "cell_type": "code",
   "execution_count": 17,
   "id": "039550c4-c8ee-4a7e-9c4d-4f21611e2944",
   "metadata": {},
   "outputs": [
    {
     "data": {
      "text/html": [
       "<div>\n",
       "<style scoped>\n",
       "    .dataframe tbody tr th:only-of-type {\n",
       "        vertical-align: middle;\n",
       "    }\n",
       "\n",
       "    .dataframe tbody tr th {\n",
       "        vertical-align: top;\n",
       "    }\n",
       "\n",
       "    .dataframe thead th {\n",
       "        text-align: right;\n",
       "    }\n",
       "</style>\n",
       "<table border=\"1\" class=\"dataframe\">\n",
       "  <thead>\n",
       "    <tr style=\"text-align: right;\">\n",
       "      <th></th>\n",
       "      <th>이름</th>\n",
       "      <th>국어</th>\n",
       "      <th>미술</th>\n",
       "      <th>수학</th>\n",
       "      <th>체육</th>\n",
       "      <th>영어</th>\n",
       "      <th>과학</th>\n",
       "    </tr>\n",
       "  </thead>\n",
       "  <tbody>\n",
       "    <tr>\n",
       "      <th>0</th>\n",
       "      <td>마징가</td>\n",
       "      <td>98</td>\n",
       "      <td>70</td>\n",
       "      <td>98</td>\n",
       "      <td>80</td>\n",
       "      <td>90</td>\n",
       "      <td>10</td>\n",
       "    </tr>\n",
       "    <tr>\n",
       "      <th>1</th>\n",
       "      <td>배트맨</td>\n",
       "      <td>79</td>\n",
       "      <td>99</td>\n",
       "      <td>70</td>\n",
       "      <td>93</td>\n",
       "      <td>89</td>\n",
       "      <td>10</td>\n",
       "    </tr>\n",
       "    <tr>\n",
       "      <th>2</th>\n",
       "      <td>홍길동</td>\n",
       "      <td>99</td>\n",
       "      <td>87</td>\n",
       "      <td>100</td>\n",
       "      <td>69</td>\n",
       "      <td>100</td>\n",
       "      <td>10</td>\n",
       "    </tr>\n",
       "    <tr>\n",
       "      <th>3</th>\n",
       "      <td>임꺽정</td>\n",
       "      <td>100</td>\n",
       "      <td>80</td>\n",
       "      <td>72</td>\n",
       "      <td>91</td>\n",
       "      <td>99</td>\n",
       "      <td>10</td>\n",
       "    </tr>\n",
       "  </tbody>\n",
       "</table>\n",
       "</div>"
      ],
      "text/plain": [
       "    이름   국어  미술   수학  체육   영어  과학\n",
       "0  마징가   98  70   98  80   90  10\n",
       "1  배트맨   79  99   70  93   89  10\n",
       "2  홍길동   99  87  100  69  100  10\n",
       "3  임꺽정  100  80   72  91   99  10"
      ]
     },
     "execution_count": 17,
     "metadata": {},
     "output_type": "execute_result"
    }
   ],
   "source": [
    "examDF"
   ]
  },
  {
   "cell_type": "code",
   "execution_count": 20,
   "id": "1d015353-0dd4-47af-ae3d-bb96c8fc6175",
   "metadata": {},
   "outputs": [],
   "source": [
    "examDF[6]=0   # 행의 수만큼 주던지, 아니면 값을 한개만 줘야한다.리스트를 주었으므로 리스트 개수에 맞게 해줘야 함"
   ]
  },
  {
   "cell_type": "code",
   "execution_count": 21,
   "id": "0de79093-f537-450e-a8a7-527472973bac",
   "metadata": {},
   "outputs": [
    {
     "data": {
      "text/html": [
       "<div>\n",
       "<style scoped>\n",
       "    .dataframe tbody tr th:only-of-type {\n",
       "        vertical-align: middle;\n",
       "    }\n",
       "\n",
       "    .dataframe tbody tr th {\n",
       "        vertical-align: top;\n",
       "    }\n",
       "\n",
       "    .dataframe thead th {\n",
       "        text-align: right;\n",
       "    }\n",
       "</style>\n",
       "<table border=\"1\" class=\"dataframe\">\n",
       "  <thead>\n",
       "    <tr style=\"text-align: right;\">\n",
       "      <th></th>\n",
       "      <th>이름</th>\n",
       "      <th>국어</th>\n",
       "      <th>미술</th>\n",
       "      <th>수학</th>\n",
       "      <th>체육</th>\n",
       "      <th>영어</th>\n",
       "      <th>과학</th>\n",
       "      <th>6</th>\n",
       "    </tr>\n",
       "  </thead>\n",
       "  <tbody>\n",
       "    <tr>\n",
       "      <th>0</th>\n",
       "      <td>마징가</td>\n",
       "      <td>98</td>\n",
       "      <td>70</td>\n",
       "      <td>98</td>\n",
       "      <td>80</td>\n",
       "      <td>90</td>\n",
       "      <td>10</td>\n",
       "      <td>0</td>\n",
       "    </tr>\n",
       "    <tr>\n",
       "      <th>1</th>\n",
       "      <td>배트맨</td>\n",
       "      <td>79</td>\n",
       "      <td>99</td>\n",
       "      <td>70</td>\n",
       "      <td>93</td>\n",
       "      <td>89</td>\n",
       "      <td>10</td>\n",
       "      <td>0</td>\n",
       "    </tr>\n",
       "    <tr>\n",
       "      <th>2</th>\n",
       "      <td>홍길동</td>\n",
       "      <td>99</td>\n",
       "      <td>87</td>\n",
       "      <td>100</td>\n",
       "      <td>69</td>\n",
       "      <td>100</td>\n",
       "      <td>10</td>\n",
       "      <td>0</td>\n",
       "    </tr>\n",
       "    <tr>\n",
       "      <th>3</th>\n",
       "      <td>임꺽정</td>\n",
       "      <td>100</td>\n",
       "      <td>80</td>\n",
       "      <td>72</td>\n",
       "      <td>91</td>\n",
       "      <td>99</td>\n",
       "      <td>10</td>\n",
       "      <td>0</td>\n",
       "    </tr>\n",
       "  </tbody>\n",
       "</table>\n",
       "</div>"
      ],
      "text/plain": [
       "    이름   국어  미술   수학  체육   영어  과학  6\n",
       "0  마징가   98  70   98  80   90  10  0\n",
       "1  배트맨   79  99   70  93   89  10  0\n",
       "2  홍길동   99  87  100  69  100  10  0\n",
       "3  임꺽정  100  80   72  91   99  10  0"
      ]
     },
     "execution_count": 21,
     "metadata": {},
     "output_type": "execute_result"
    }
   ],
   "source": [
    "examDF"
   ]
  },
  {
   "cell_type": "code",
   "execution_count": 22,
   "id": "f7ca6369-cd2a-4f49-a46b-dd05401fe8ab",
   "metadata": {},
   "outputs": [
    {
     "data": {
      "text/plain": [
       "Index(['이름', '국어', '미술', '수학', '체육', '영어', '과학', 6], dtype='object')"
      ]
     },
     "execution_count": 22,
     "metadata": {},
     "output_type": "execute_result"
    }
   ],
   "source": [
    "examDF.columns"
   ]
  },
  {
   "cell_type": "markdown",
   "id": "dbb47f85-d0a1-4609-8a26-bdf4048b3582",
   "metadata": {},
   "source": [
    "(6) DataFrame에 행(row) 추가 <hr>\n",
    "- 방법 : DF객체변수명.loc[새로운 행인덱스] =[컬럼수 만큼 데이터]\n",
    "- 방법 : DF객체변수명.loc[새로운 행인덱스] =데이터\n",
    "- 불가방법 : DF객체변수명.loc[새로운 행인덱스] =데이터=> 데이터가 존재해야지 인덱스가 할당되므로..."
   ]
  },
  {
   "cell_type": "code",
   "execution_count": 23,
   "id": "ea43d26c-2194-48c8-bbba-acdd08a99035",
   "metadata": {},
   "outputs": [
    {
     "data": {
      "text/plain": [
       "RangeIndex(start=0, stop=4, step=1)"
      ]
     },
     "execution_count": 23,
     "metadata": {},
     "output_type": "execute_result"
    }
   ],
   "source": [
    "examDF.index"
   ]
  },
  {
   "cell_type": "code",
   "execution_count": 25,
   "id": "d07ea5dc-012f-4a70-a7cb-4948a398337d",
   "metadata": {},
   "outputs": [],
   "source": [
    "# 컬럼 수 만큼의 데이터를 가진 행 추가\n",
    "examDF.loc[4]=['원더우먼',90,87,99,87,67,80,100]"
   ]
  },
  {
   "cell_type": "code",
   "execution_count": 26,
   "id": "014895ca-311f-490d-b0d4-20d3f6f32440",
   "metadata": {},
   "outputs": [
    {
     "data": {
      "text/html": [
       "<div>\n",
       "<style scoped>\n",
       "    .dataframe tbody tr th:only-of-type {\n",
       "        vertical-align: middle;\n",
       "    }\n",
       "\n",
       "    .dataframe tbody tr th {\n",
       "        vertical-align: top;\n",
       "    }\n",
       "\n",
       "    .dataframe thead th {\n",
       "        text-align: right;\n",
       "    }\n",
       "</style>\n",
       "<table border=\"1\" class=\"dataframe\">\n",
       "  <thead>\n",
       "    <tr style=\"text-align: right;\">\n",
       "      <th></th>\n",
       "      <th>이름</th>\n",
       "      <th>국어</th>\n",
       "      <th>미술</th>\n",
       "      <th>수학</th>\n",
       "      <th>체육</th>\n",
       "      <th>영어</th>\n",
       "      <th>과학</th>\n",
       "      <th>6</th>\n",
       "    </tr>\n",
       "  </thead>\n",
       "  <tbody>\n",
       "    <tr>\n",
       "      <th>0</th>\n",
       "      <td>마징가</td>\n",
       "      <td>98</td>\n",
       "      <td>70</td>\n",
       "      <td>98</td>\n",
       "      <td>80</td>\n",
       "      <td>90</td>\n",
       "      <td>10</td>\n",
       "      <td>0</td>\n",
       "    </tr>\n",
       "    <tr>\n",
       "      <th>1</th>\n",
       "      <td>배트맨</td>\n",
       "      <td>79</td>\n",
       "      <td>99</td>\n",
       "      <td>70</td>\n",
       "      <td>93</td>\n",
       "      <td>89</td>\n",
       "      <td>10</td>\n",
       "      <td>0</td>\n",
       "    </tr>\n",
       "    <tr>\n",
       "      <th>2</th>\n",
       "      <td>홍길동</td>\n",
       "      <td>99</td>\n",
       "      <td>87</td>\n",
       "      <td>100</td>\n",
       "      <td>69</td>\n",
       "      <td>100</td>\n",
       "      <td>10</td>\n",
       "      <td>0</td>\n",
       "    </tr>\n",
       "    <tr>\n",
       "      <th>3</th>\n",
       "      <td>임꺽정</td>\n",
       "      <td>100</td>\n",
       "      <td>80</td>\n",
       "      <td>72</td>\n",
       "      <td>91</td>\n",
       "      <td>99</td>\n",
       "      <td>10</td>\n",
       "      <td>0</td>\n",
       "    </tr>\n",
       "    <tr>\n",
       "      <th>4</th>\n",
       "      <td>원더우먼</td>\n",
       "      <td>90</td>\n",
       "      <td>87</td>\n",
       "      <td>99</td>\n",
       "      <td>87</td>\n",
       "      <td>67</td>\n",
       "      <td>80</td>\n",
       "      <td>100</td>\n",
       "    </tr>\n",
       "  </tbody>\n",
       "</table>\n",
       "</div>"
      ],
      "text/plain": [
       "     이름   국어  미술   수학  체육   영어  과학    6\n",
       "0   마징가   98  70   98  80   90  10    0\n",
       "1   배트맨   79  99   70  93   89  10    0\n",
       "2   홍길동   99  87  100  69  100  10    0\n",
       "3   임꺽정  100  80   72  91   99  10    0\n",
       "4  원더우먼   90  87   99  87   67  80  100"
      ]
     },
     "execution_count": 26,
     "metadata": {},
     "output_type": "execute_result"
    }
   ],
   "source": [
    "examDF"
   ]
  },
  {
   "cell_type": "code",
   "execution_count": 33,
   "id": "85066a5c-720c-4b2b-8289-811104c27521",
   "metadata": {},
   "outputs": [],
   "source": [
    "# 행 추가시 iloc는 사용할수 없음, => why? 데이터 수에 맞게 인덱스 범위 지정이 되기 때문에\n",
    "# 현재 인덱스에 없는 인덱스로 불가.....\n",
    "# examDF.iloc[5]=['슈퍼맨',90,87,99,87,67,80,100]"
   ]
  },
  {
   "cell_type": "code",
   "execution_count": 34,
   "id": "0e2da7c1-9c5d-4fd3-95f8-4cef88c8ee4b",
   "metadata": {},
   "outputs": [],
   "source": [
    "# 한 개의 데이터를 가진 행 추가\n",
    "examDF.loc[5]='슈퍼맨'"
   ]
  },
  {
   "cell_type": "code",
   "execution_count": 35,
   "id": "4326c81b-8208-4252-bd0b-601cf1a06a4c",
   "metadata": {},
   "outputs": [
    {
     "data": {
      "text/html": [
       "<div>\n",
       "<style scoped>\n",
       "    .dataframe tbody tr th:only-of-type {\n",
       "        vertical-align: middle;\n",
       "    }\n",
       "\n",
       "    .dataframe tbody tr th {\n",
       "        vertical-align: top;\n",
       "    }\n",
       "\n",
       "    .dataframe thead th {\n",
       "        text-align: right;\n",
       "    }\n",
       "</style>\n",
       "<table border=\"1\" class=\"dataframe\">\n",
       "  <thead>\n",
       "    <tr style=\"text-align: right;\">\n",
       "      <th></th>\n",
       "      <th>이름</th>\n",
       "      <th>국어</th>\n",
       "      <th>미술</th>\n",
       "      <th>수학</th>\n",
       "      <th>체육</th>\n",
       "      <th>영어</th>\n",
       "      <th>과학</th>\n",
       "      <th>6</th>\n",
       "    </tr>\n",
       "  </thead>\n",
       "  <tbody>\n",
       "    <tr>\n",
       "      <th>0</th>\n",
       "      <td>마징가</td>\n",
       "      <td>98</td>\n",
       "      <td>70</td>\n",
       "      <td>98</td>\n",
       "      <td>80</td>\n",
       "      <td>90</td>\n",
       "      <td>10</td>\n",
       "      <td>0</td>\n",
       "    </tr>\n",
       "    <tr>\n",
       "      <th>1</th>\n",
       "      <td>배트맨</td>\n",
       "      <td>79</td>\n",
       "      <td>99</td>\n",
       "      <td>70</td>\n",
       "      <td>93</td>\n",
       "      <td>89</td>\n",
       "      <td>10</td>\n",
       "      <td>0</td>\n",
       "    </tr>\n",
       "    <tr>\n",
       "      <th>2</th>\n",
       "      <td>홍길동</td>\n",
       "      <td>99</td>\n",
       "      <td>87</td>\n",
       "      <td>100</td>\n",
       "      <td>69</td>\n",
       "      <td>100</td>\n",
       "      <td>10</td>\n",
       "      <td>0</td>\n",
       "    </tr>\n",
       "    <tr>\n",
       "      <th>3</th>\n",
       "      <td>임꺽정</td>\n",
       "      <td>100</td>\n",
       "      <td>80</td>\n",
       "      <td>72</td>\n",
       "      <td>91</td>\n",
       "      <td>99</td>\n",
       "      <td>10</td>\n",
       "      <td>0</td>\n",
       "    </tr>\n",
       "    <tr>\n",
       "      <th>4</th>\n",
       "      <td>슈퍼맨</td>\n",
       "      <td>90</td>\n",
       "      <td>87</td>\n",
       "      <td>99</td>\n",
       "      <td>87</td>\n",
       "      <td>67</td>\n",
       "      <td>80</td>\n",
       "      <td>100</td>\n",
       "    </tr>\n",
       "    <tr>\n",
       "      <th>5</th>\n",
       "      <td>슈퍼맨</td>\n",
       "      <td>슈퍼맨</td>\n",
       "      <td>슈퍼맨</td>\n",
       "      <td>슈퍼맨</td>\n",
       "      <td>슈퍼맨</td>\n",
       "      <td>슈퍼맨</td>\n",
       "      <td>슈퍼맨</td>\n",
       "      <td>슈퍼맨</td>\n",
       "    </tr>\n",
       "  </tbody>\n",
       "</table>\n",
       "</div>"
      ],
      "text/plain": [
       "    이름   국어   미술   수학   체육   영어   과학    6\n",
       "0  마징가   98   70   98   80   90   10    0\n",
       "1  배트맨   79   99   70   93   89   10    0\n",
       "2  홍길동   99   87  100   69  100   10    0\n",
       "3  임꺽정  100   80   72   91   99   10    0\n",
       "4  슈퍼맨   90   87   99   87   67   80  100\n",
       "5  슈퍼맨  슈퍼맨  슈퍼맨  슈퍼맨  슈퍼맨  슈퍼맨  슈퍼맨  슈퍼맨"
      ]
     },
     "execution_count": 35,
     "metadata": {},
     "output_type": "execute_result"
    }
   ],
   "source": [
    "examDF"
   ]
  },
  {
   "cell_type": "code",
   "execution_count": null,
   "id": "1a0ff79b-aba5-40b9-bb65-ce5fc94f505c",
   "metadata": {},
   "outputs": [],
   "source": []
  }
 ],
 "metadata": {
  "kernelspec": {
   "display_name": "Python 3 (ipykernel)",
   "language": "python",
   "name": "python3"
  },
  "language_info": {
   "codemirror_mode": {
    "name": "ipython",
    "version": 3
   },
   "file_extension": ".py",
   "mimetype": "text/x-python",
   "name": "python",
   "nbconvert_exporter": "python",
   "pygments_lexer": "ipython3",
   "version": "3.8.18"
  }
 },
 "nbformat": 4,
 "nbformat_minor": 5
}
