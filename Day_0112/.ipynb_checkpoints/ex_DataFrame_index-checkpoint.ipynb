{
 "cells": [
  {
   "cell_type": "markdown",
   "id": "054946f2-aeef-41aa-bff0-616713d569d1",
   "metadata": {},
   "source": [
    "## [DataFrame 인덱스 다루기]"
   ]
  },
  {
   "cell_type": "markdown",
   "id": "da7ec47d-1e0b-46a3-b212-5ba3efd617d9",
   "metadata": {},
   "source": [
    "(1) 모듈로딩"
   ]
  },
  {
   "cell_type": "code",
   "execution_count": 1,
   "id": "0cfff1db-f7f8-4837-8639-337d1402e4fb",
   "metadata": {},
   "outputs": [],
   "source": [
    "import pandas as pd"
   ]
  },
  {
   "cell_type": "markdown",
   "id": "f65607c6-2305-4839-86de-fc48169feb00",
   "metadata": {},
   "source": [
    "(2) 데이터 준비"
   ]
  },
  {
   "cell_type": "code",
   "execution_count": 2,
   "id": "3e2ddf69-9d4e-400f-bc18-47b38f5f30b2",
   "metadata": {},
   "outputs": [],
   "source": [
    "#dict 타입의 데이터 생성\n",
    "exam={'이름':['마징가','배트맨','홍길동','임꺽정'],\n",
    "      '국어':[ 98,79,99,100],\n",
    "       '미술':[ 70,99,87,80],\n",
    "       '수학':[ 98,70,100,72],\n",
    "       '체육':[ 80,93,69,91] }"
   ]
  },
  {
   "cell_type": "markdown",
   "id": "a445f0ca-e056-4ed0-b747-792e7f46f8cc",
   "metadata": {},
   "source": [
    "(3)DataFrame에 데이터 저장"
   ]
  },
  {
   "cell_type": "code",
   "execution_count": 3,
   "id": "1ddd176a-a2ca-4a0f-a760-aa389eee1e89",
   "metadata": {},
   "outputs": [],
   "source": [
    "examDF=pd.DataFrame(exam)"
   ]
  },
  {
   "cell_type": "markdown",
   "id": "5f97572e-c44d-4f71-9965-1e46c8b7383a",
   "metadata": {},
   "source": [
    "- (4) 데이터 확인"
   ]
  },
  {
   "cell_type": "code",
   "execution_count": 4,
   "id": "4c9be6ec-f745-4b3e-b04f-6937baf4ef0d",
   "metadata": {},
   "outputs": [
    {
     "data": {
      "text/html": [
       "<div>\n",
       "<style scoped>\n",
       "    .dataframe tbody tr th:only-of-type {\n",
       "        vertical-align: middle;\n",
       "    }\n",
       "\n",
       "    .dataframe tbody tr th {\n",
       "        vertical-align: top;\n",
       "    }\n",
       "\n",
       "    .dataframe thead th {\n",
       "        text-align: right;\n",
       "    }\n",
       "</style>\n",
       "<table border=\"1\" class=\"dataframe\">\n",
       "  <thead>\n",
       "    <tr style=\"text-align: right;\">\n",
       "      <th></th>\n",
       "      <th>이름</th>\n",
       "      <th>국어</th>\n",
       "      <th>미술</th>\n",
       "      <th>수학</th>\n",
       "      <th>체육</th>\n",
       "    </tr>\n",
       "  </thead>\n",
       "  <tbody>\n",
       "    <tr>\n",
       "      <th>0</th>\n",
       "      <td>마징가</td>\n",
       "      <td>98</td>\n",
       "      <td>70</td>\n",
       "      <td>98</td>\n",
       "      <td>80</td>\n",
       "    </tr>\n",
       "    <tr>\n",
       "      <th>1</th>\n",
       "      <td>배트맨</td>\n",
       "      <td>79</td>\n",
       "      <td>99</td>\n",
       "      <td>70</td>\n",
       "      <td>93</td>\n",
       "    </tr>\n",
       "    <tr>\n",
       "      <th>2</th>\n",
       "      <td>홍길동</td>\n",
       "      <td>99</td>\n",
       "      <td>87</td>\n",
       "      <td>100</td>\n",
       "      <td>69</td>\n",
       "    </tr>\n",
       "    <tr>\n",
       "      <th>3</th>\n",
       "      <td>임꺽정</td>\n",
       "      <td>100</td>\n",
       "      <td>80</td>\n",
       "      <td>72</td>\n",
       "      <td>91</td>\n",
       "    </tr>\n",
       "  </tbody>\n",
       "</table>\n",
       "</div>"
      ],
      "text/plain": [
       "    이름   국어  미술   수학  체육\n",
       "0  마징가   98  70   98  80\n",
       "1  배트맨   79  99   70  93\n",
       "2  홍길동   99  87  100  69\n",
       "3  임꺽정  100  80   72  91"
      ]
     },
     "execution_count": 4,
     "metadata": {},
     "output_type": "execute_result"
    }
   ],
   "source": [
    "examDF"
   ]
  },
  {
   "cell_type": "markdown",
   "id": "c6c55881-e9c8-4d2d-b3a8-e7edbd9de515",
   "metadata": {},
   "source": [
    "- (5) 새로운 인덱스 설정 : 방법1. 인덱스 일부 변경 DF.rename()"
   ]
  },
  {
   "cell_type": "code",
   "execution_count": 5,
   "id": "3c92f98f-074a-45f3-b6b4-015d718bf98a",
   "metadata": {},
   "outputs": [],
   "source": [
    "#행 인덱스 일부 변경=>{기존 인덱스:새로운 인덱스}\n",
    "#inplace 매개변수/파라미터=> 원본 DataFrame에 변경 여부 결정, 기본은 원본 변경 안함 False\n",
    "examDF.rename(index={0:'zero'},inplace=True) # 한번 더 설명! inplace는 원본을 안바꾸는 false가 기본값이며 ,원본을 바꾸려면 true, 그떄의 반환값은 x"
   ]
  },
  {
   "cell_type": "code",
   "execution_count": 6,
   "id": "b80e01c8-189a-48e2-9a18-87fc4d75f073",
   "metadata": {},
   "outputs": [
    {
     "data": {
      "text/html": [
       "<div>\n",
       "<style scoped>\n",
       "    .dataframe tbody tr th:only-of-type {\n",
       "        vertical-align: middle;\n",
       "    }\n",
       "\n",
       "    .dataframe tbody tr th {\n",
       "        vertical-align: top;\n",
       "    }\n",
       "\n",
       "    .dataframe thead th {\n",
       "        text-align: right;\n",
       "    }\n",
       "</style>\n",
       "<table border=\"1\" class=\"dataframe\">\n",
       "  <thead>\n",
       "    <tr style=\"text-align: right;\">\n",
       "      <th></th>\n",
       "      <th>이름</th>\n",
       "      <th>국어</th>\n",
       "      <th>미술</th>\n",
       "      <th>수학</th>\n",
       "      <th>체육</th>\n",
       "    </tr>\n",
       "  </thead>\n",
       "  <tbody>\n",
       "    <tr>\n",
       "      <th>zero</th>\n",
       "      <td>마징가</td>\n",
       "      <td>98</td>\n",
       "      <td>70</td>\n",
       "      <td>98</td>\n",
       "      <td>80</td>\n",
       "    </tr>\n",
       "    <tr>\n",
       "      <th>1</th>\n",
       "      <td>배트맨</td>\n",
       "      <td>79</td>\n",
       "      <td>99</td>\n",
       "      <td>70</td>\n",
       "      <td>93</td>\n",
       "    </tr>\n",
       "    <tr>\n",
       "      <th>2</th>\n",
       "      <td>홍길동</td>\n",
       "      <td>99</td>\n",
       "      <td>87</td>\n",
       "      <td>100</td>\n",
       "      <td>69</td>\n",
       "    </tr>\n",
       "    <tr>\n",
       "      <th>3</th>\n",
       "      <td>임꺽정</td>\n",
       "      <td>100</td>\n",
       "      <td>80</td>\n",
       "      <td>72</td>\n",
       "      <td>91</td>\n",
       "    </tr>\n",
       "  </tbody>\n",
       "</table>\n",
       "</div>"
      ],
      "text/plain": [
       "       이름   국어  미술   수학  체육\n",
       "zero  마징가   98  70   98  80\n",
       "1     배트맨   79  99   70  93\n",
       "2     홍길동   99  87  100  69\n",
       "3     임꺽정  100  80   72  91"
      ]
     },
     "execution_count": 6,
     "metadata": {},
     "output_type": "execute_result"
    }
   ],
   "source": [
    "examDF"
   ]
  },
  {
   "cell_type": "code",
   "execution_count": 7,
   "id": "fc21b395-7db6-4b4f-a7a2-ba6faf8bb6dc",
   "metadata": {},
   "outputs": [],
   "source": [
    "# 열 이름 인덱스 일부 변경=> column={기존인덱스:새로운인덱스}\n",
    "examDF.rename(columns={'체육':'음악'},inplace=True)"
   ]
  },
  {
   "cell_type": "code",
   "execution_count": 8,
   "id": "08fbbf18-42a9-4ab7-a0b3-801033b3740f",
   "metadata": {},
   "outputs": [
    {
     "data": {
      "text/plain": [
       "Index(['이름', '국어', '미술', '수학', '음악'], dtype='object')"
      ]
     },
     "execution_count": 8,
     "metadata": {},
     "output_type": "execute_result"
    }
   ],
   "source": [
    "examDF.columns\n"
   ]
  },
  {
   "cell_type": "markdown",
   "id": "a89139a7-64be-49e0-8aeb-e920c4876c11",
   "metadata": {},
   "source": [
    "- (5) 새로운 인덱스 설정 - 방법2: 특정 컬럼=> 인덱스:DF.set_index()"
   ]
  },
  {
   "cell_type": "code",
   "execution_count": 9,
   "id": "076ce6a6-80e8-44e0-9470-9ca8797933b4",
   "metadata": {},
   "outputs": [
    {
     "data": {
      "text/plain": [
       "Index(['zero', 1, 2, 3], dtype='object')"
      ]
     },
     "execution_count": 9,
     "metadata": {},
     "output_type": "execute_result"
    }
   ],
   "source": [
    "# 현재 기본 0 ~ ===> 이름 컬럼 인덱스로 설정\n",
    "examDF.index"
   ]
  },
  {
   "cell_type": "code",
   "execution_count": 10,
   "id": "a3f55802-275a-42d5-8c9b-c17c2cb943f6",
   "metadata": {},
   "outputs": [
    {
     "data": {
      "text/plain": [
       "Index(['마징가', '배트맨', '홍길동', '임꺽정'], dtype='object', name='이름')"
      ]
     },
     "execution_count": 10,
     "metadata": {},
     "output_type": "execute_result"
    }
   ],
   "source": [
    "#1개 컬럼을 행 인덱스 설정\n",
    "examDF2=examDF.set_index('이름')\n",
    "examDF2.index"
   ]
  },
  {
   "cell_type": "code",
   "execution_count": 11,
   "id": "41bd1f59-46d3-4302-bdaf-fa19f314f6be",
   "metadata": {},
   "outputs": [
    {
     "data": {
      "text/plain": [
       "MultiIndex([('마징가',  98,  98),\n",
       "            ('배트맨',  79,  70),\n",
       "            ('홍길동',  99, 100),\n",
       "            ('임꺽정', 100,  72)],\n",
       "           names=['이름', '국어', '수학'])"
      ]
     },
     "execution_count": 11,
     "metadata": {},
     "output_type": "execute_result"
    }
   ],
   "source": [
    "#2개 컬럼을 행 인덱스 설정 단, inplace 파라메터가 False 로 원본에 적용 안됨!\n",
    "examDF3=examDF.set_index(['이름','국어','수학'])\n",
    "examDF3.index"
   ]
  },
  {
   "cell_type": "code",
   "execution_count": 12,
   "id": "9ec0457c-6122-47d7-95ec-e04348207ce9",
   "metadata": {},
   "outputs": [
    {
     "data": {
      "text/plain": [
       "미술    70\n",
       "음악    80\n",
       "Name: (마징가, 98, 98), dtype: int64"
      ]
     },
     "execution_count": 12,
     "metadata": {},
     "output_type": "execute_result"
    }
   ],
   "source": [
    "examDF3.loc[('마징가',98,98)]\n",
    "# 온전한 멀티 인덱스를 넣으면 시리즈 형태로 출력"
   ]
  },
  {
   "cell_type": "code",
   "execution_count": 13,
   "id": "1263e678-0b2f-4792-8882-0a75d39869eb",
   "metadata": {},
   "outputs": [
    {
     "data": {
      "text/html": [
       "<div>\n",
       "<style scoped>\n",
       "    .dataframe tbody tr th:only-of-type {\n",
       "        vertical-align: middle;\n",
       "    }\n",
       "\n",
       "    .dataframe tbody tr th {\n",
       "        vertical-align: top;\n",
       "    }\n",
       "\n",
       "    .dataframe thead th {\n",
       "        text-align: right;\n",
       "    }\n",
       "</style>\n",
       "<table border=\"1\" class=\"dataframe\">\n",
       "  <thead>\n",
       "    <tr style=\"text-align: right;\">\n",
       "      <th></th>\n",
       "      <th></th>\n",
       "      <th>미술</th>\n",
       "      <th>음악</th>\n",
       "    </tr>\n",
       "    <tr>\n",
       "      <th>국어</th>\n",
       "      <th>수학</th>\n",
       "      <th></th>\n",
       "      <th></th>\n",
       "    </tr>\n",
       "  </thead>\n",
       "  <tbody>\n",
       "    <tr>\n",
       "      <th>98</th>\n",
       "      <th>98</th>\n",
       "      <td>70</td>\n",
       "      <td>80</td>\n",
       "    </tr>\n",
       "  </tbody>\n",
       "</table>\n",
       "</div>"
      ],
      "text/plain": [
       "       미술  음악\n",
       "국어 수학        \n",
       "98 98  70  80"
      ]
     },
     "execution_count": 13,
     "metadata": {},
     "output_type": "execute_result"
    }
   ],
   "source": [
    "examDF3.loc['마징가']\n",
    "#이런 식으로 한개만 친다면, 데이터 프레임 형식으로 멀티 인덱스까지 같이 출력되어 버린다."
   ]
  },
  {
   "cell_type": "code",
   "execution_count": 14,
   "id": "65ba62f0-a503-4b9c-b4e9-947be1185b9e",
   "metadata": {},
   "outputs": [],
   "source": [
    "# examDF3.loc[('마징가',98)]"
   ]
  },
  {
   "cell_type": "code",
   "execution_count": 15,
   "id": "85eeb1db-02e4-4f5c-b237-82680c29f51c",
   "metadata": {},
   "outputs": [],
   "source": [
    "#keyError=> '마징가',98,98 형식으로 98로 시작하는 Key없음\n",
    "# examDF3.loc[(98,98)]\n",
    "# 안됨......"
   ]
  },
  {
   "cell_type": "markdown",
   "id": "33f707b4-a316-4742-a4c5-9b440e6a44f1",
   "metadata": {},
   "source": [
    "- (5) 새로운 인덱스 설정 방법3:"
   ]
  },
  {
   "cell_type": "code",
   "execution_count": 16,
   "id": "b97e4771-3106-444a-89d0-f869cab704cf",
   "metadata": {},
   "outputs": [],
   "source": [
    "examDF.set_index('이름',inplace=True)"
   ]
  },
  {
   "cell_type": "code",
   "execution_count": 17,
   "id": "9c7e3da7-3b94-45e7-a3a1-94ad6ea7a5b4",
   "metadata": {},
   "outputs": [
    {
     "data": {
      "text/html": [
       "<div>\n",
       "<style scoped>\n",
       "    .dataframe tbody tr th:only-of-type {\n",
       "        vertical-align: middle;\n",
       "    }\n",
       "\n",
       "    .dataframe tbody tr th {\n",
       "        vertical-align: top;\n",
       "    }\n",
       "\n",
       "    .dataframe thead th {\n",
       "        text-align: right;\n",
       "    }\n",
       "</style>\n",
       "<table border=\"1\" class=\"dataframe\">\n",
       "  <thead>\n",
       "    <tr style=\"text-align: right;\">\n",
       "      <th></th>\n",
       "      <th>국어</th>\n",
       "      <th>미술</th>\n",
       "      <th>수학</th>\n",
       "      <th>음악</th>\n",
       "    </tr>\n",
       "    <tr>\n",
       "      <th>이름</th>\n",
       "      <th></th>\n",
       "      <th></th>\n",
       "      <th></th>\n",
       "      <th></th>\n",
       "    </tr>\n",
       "  </thead>\n",
       "  <tbody>\n",
       "    <tr>\n",
       "      <th>마징가</th>\n",
       "      <td>98</td>\n",
       "      <td>70</td>\n",
       "      <td>98</td>\n",
       "      <td>80</td>\n",
       "    </tr>\n",
       "    <tr>\n",
       "      <th>배트맨</th>\n",
       "      <td>79</td>\n",
       "      <td>99</td>\n",
       "      <td>70</td>\n",
       "      <td>93</td>\n",
       "    </tr>\n",
       "    <tr>\n",
       "      <th>홍길동</th>\n",
       "      <td>99</td>\n",
       "      <td>87</td>\n",
       "      <td>100</td>\n",
       "      <td>69</td>\n",
       "    </tr>\n",
       "    <tr>\n",
       "      <th>임꺽정</th>\n",
       "      <td>100</td>\n",
       "      <td>80</td>\n",
       "      <td>72</td>\n",
       "      <td>91</td>\n",
       "    </tr>\n",
       "  </tbody>\n",
       "</table>\n",
       "</div>"
      ],
      "text/plain": [
       "      국어  미술   수학  음악\n",
       "이름                   \n",
       "마징가   98  70   98  80\n",
       "배트맨   79  99   70  93\n",
       "홍길동   99  87  100  69\n",
       "임꺽정  100  80   72  91"
      ]
     },
     "execution_count": 17,
     "metadata": {},
     "output_type": "execute_result"
    }
   ],
   "source": [
    "examDF"
   ]
  },
  {
   "cell_type": "code",
   "execution_count": 18,
   "id": "9896d8d8-f737-43f0-9e3a-27d809101a69",
   "metadata": {},
   "outputs": [
    {
     "data": {
      "text/html": [
       "<div>\n",
       "<style scoped>\n",
       "    .dataframe tbody tr th:only-of-type {\n",
       "        vertical-align: middle;\n",
       "    }\n",
       "\n",
       "    .dataframe tbody tr th {\n",
       "        vertical-align: top;\n",
       "    }\n",
       "\n",
       "    .dataframe thead th {\n",
       "        text-align: right;\n",
       "    }\n",
       "</style>\n",
       "<table border=\"1\" class=\"dataframe\">\n",
       "  <thead>\n",
       "    <tr style=\"text-align: right;\">\n",
       "      <th></th>\n",
       "      <th>이름</th>\n",
       "      <th>국어</th>\n",
       "      <th>미술</th>\n",
       "      <th>수학</th>\n",
       "      <th>음악</th>\n",
       "    </tr>\n",
       "  </thead>\n",
       "  <tbody>\n",
       "    <tr>\n",
       "      <th>0</th>\n",
       "      <td>마징가</td>\n",
       "      <td>98</td>\n",
       "      <td>70</td>\n",
       "      <td>98</td>\n",
       "      <td>80</td>\n",
       "    </tr>\n",
       "    <tr>\n",
       "      <th>1</th>\n",
       "      <td>배트맨</td>\n",
       "      <td>79</td>\n",
       "      <td>99</td>\n",
       "      <td>70</td>\n",
       "      <td>93</td>\n",
       "    </tr>\n",
       "    <tr>\n",
       "      <th>2</th>\n",
       "      <td>홍길동</td>\n",
       "      <td>99</td>\n",
       "      <td>87</td>\n",
       "      <td>100</td>\n",
       "      <td>69</td>\n",
       "    </tr>\n",
       "    <tr>\n",
       "      <th>3</th>\n",
       "      <td>임꺽정</td>\n",
       "      <td>100</td>\n",
       "      <td>80</td>\n",
       "      <td>72</td>\n",
       "      <td>91</td>\n",
       "    </tr>\n",
       "  </tbody>\n",
       "</table>\n",
       "</div>"
      ],
      "text/plain": [
       "    이름   국어  미술   수학  음악\n",
       "0  마징가   98  70   98  80\n",
       "1  배트맨   79  99   70  93\n",
       "2  홍길동   99  87  100  69\n",
       "3  임꺽정  100  80   72  91"
      ]
     },
     "execution_count": 18,
     "metadata": {},
     "output_type": "execute_result"
    }
   ],
   "source": [
    "# 현재 행 인덱스=>컬럼으로 추가\n",
    "examDF.reset_index()  # inplace를 사용했을때 다시 돌리고 싶을떄 씀"
   ]
  },
  {
   "cell_type": "code",
   "execution_count": 19,
   "id": "142b5064-f09f-4d8a-ae50-5c7e413661cd",
   "metadata": {},
   "outputs": [
    {
     "data": {
      "text/html": [
       "<div>\n",
       "<style scoped>\n",
       "    .dataframe tbody tr th:only-of-type {\n",
       "        vertical-align: middle;\n",
       "    }\n",
       "\n",
       "    .dataframe tbody tr th {\n",
       "        vertical-align: top;\n",
       "    }\n",
       "\n",
       "    .dataframe thead th {\n",
       "        text-align: right;\n",
       "    }\n",
       "</style>\n",
       "<table border=\"1\" class=\"dataframe\">\n",
       "  <thead>\n",
       "    <tr style=\"text-align: right;\">\n",
       "      <th></th>\n",
       "      <th>index</th>\n",
       "      <th>이름</th>\n",
       "      <th>국어</th>\n",
       "      <th>미술</th>\n",
       "      <th>수학</th>\n",
       "      <th>음악</th>\n",
       "    </tr>\n",
       "  </thead>\n",
       "  <tbody>\n",
       "    <tr>\n",
       "      <th>0</th>\n",
       "      <td>0</td>\n",
       "      <td>마징가</td>\n",
       "      <td>98</td>\n",
       "      <td>70</td>\n",
       "      <td>98</td>\n",
       "      <td>80</td>\n",
       "    </tr>\n",
       "    <tr>\n",
       "      <th>1</th>\n",
       "      <td>1</td>\n",
       "      <td>배트맨</td>\n",
       "      <td>79</td>\n",
       "      <td>99</td>\n",
       "      <td>70</td>\n",
       "      <td>93</td>\n",
       "    </tr>\n",
       "    <tr>\n",
       "      <th>2</th>\n",
       "      <td>2</td>\n",
       "      <td>홍길동</td>\n",
       "      <td>99</td>\n",
       "      <td>87</td>\n",
       "      <td>100</td>\n",
       "      <td>69</td>\n",
       "    </tr>\n",
       "    <tr>\n",
       "      <th>3</th>\n",
       "      <td>3</td>\n",
       "      <td>임꺽정</td>\n",
       "      <td>100</td>\n",
       "      <td>80</td>\n",
       "      <td>72</td>\n",
       "      <td>91</td>\n",
       "    </tr>\n",
       "  </tbody>\n",
       "</table>\n",
       "</div>"
      ],
      "text/plain": [
       "   index   이름   국어  미술   수학  음악\n",
       "0      0  마징가   98  70   98  80\n",
       "1      1  배트맨   79  99   70  93\n",
       "2      2  홍길동   99  87  100  69\n",
       "3      3  임꺽정  100  80   72  91"
      ]
     },
     "execution_count": 19,
     "metadata": {},
     "output_type": "execute_result"
    }
   ],
   "source": [
    "examDF.reset_index().reset_index() \n",
    "# reset 인덱스를 옆에 계속 붙이면 인덱스가 순서대로 계속 붙는다....."
   ]
  },
  {
   "cell_type": "code",
   "execution_count": 20,
   "id": "41b5baf0-1c2c-4304-afe5-17ca58d2d591",
   "metadata": {},
   "outputs": [
    {
     "data": {
      "text/html": [
       "<div>\n",
       "<style scoped>\n",
       "    .dataframe tbody tr th:only-of-type {\n",
       "        vertical-align: middle;\n",
       "    }\n",
       "\n",
       "    .dataframe tbody tr th {\n",
       "        vertical-align: top;\n",
       "    }\n",
       "\n",
       "    .dataframe thead th {\n",
       "        text-align: right;\n",
       "    }\n",
       "</style>\n",
       "<table border=\"1\" class=\"dataframe\">\n",
       "  <thead>\n",
       "    <tr style=\"text-align: right;\">\n",
       "      <th></th>\n",
       "      <th>국어</th>\n",
       "      <th>미술</th>\n",
       "      <th>수학</th>\n",
       "      <th>음악</th>\n",
       "    </tr>\n",
       "  </thead>\n",
       "  <tbody>\n",
       "    <tr>\n",
       "      <th>0</th>\n",
       "      <td>98</td>\n",
       "      <td>70</td>\n",
       "      <td>98</td>\n",
       "      <td>80</td>\n",
       "    </tr>\n",
       "    <tr>\n",
       "      <th>1</th>\n",
       "      <td>79</td>\n",
       "      <td>99</td>\n",
       "      <td>70</td>\n",
       "      <td>93</td>\n",
       "    </tr>\n",
       "    <tr>\n",
       "      <th>2</th>\n",
       "      <td>99</td>\n",
       "      <td>87</td>\n",
       "      <td>100</td>\n",
       "      <td>69</td>\n",
       "    </tr>\n",
       "    <tr>\n",
       "      <th>3</th>\n",
       "      <td>100</td>\n",
       "      <td>80</td>\n",
       "      <td>72</td>\n",
       "      <td>91</td>\n",
       "    </tr>\n",
       "  </tbody>\n",
       "</table>\n",
       "</div>"
      ],
      "text/plain": [
       "    국어  미술   수학  음악\n",
       "0   98  70   98  80\n",
       "1   79  99   70  93\n",
       "2   99  87  100  69\n",
       "3  100  80   72  91"
      ]
     },
     "execution_count": 20,
     "metadata": {},
     "output_type": "execute_result"
    }
   ],
   "source": [
    "#현재 행 인덱스를 컬럼에 추가하지 않고 삭제 => drop 파라미터를 True로 설정\n",
    "df2=examDF.reset_index(drop=True)\n",
    "df2"
   ]
  },
  {
   "cell_type": "code",
   "execution_count": null,
   "id": "b9a3077a-4e1e-460b-bcb7-d7a1fcaf9bd5",
   "metadata": {},
   "outputs": [],
   "source": []
  }
 ],
 "metadata": {
  "kernelspec": {
   "display_name": "Python 3 (ipykernel)",
   "language": "python",
   "name": "python3"
  },
  "language_info": {
   "codemirror_mode": {
    "name": "ipython",
    "version": 3
   },
   "file_extension": ".py",
   "mimetype": "text/x-python",
   "name": "python",
   "nbconvert_exporter": "python",
   "pygments_lexer": "ipython3",
   "version": "3.8.18"
  }
 },
 "nbformat": 4,
 "nbformat_minor": 5
}
