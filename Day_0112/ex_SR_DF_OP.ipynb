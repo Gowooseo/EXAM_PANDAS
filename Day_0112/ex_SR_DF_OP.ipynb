{
 "cells": [
  {
   "cell_type": "markdown",
   "id": "641a196b-f3a8-49d0-af2a-f2064d96fb68",
   "metadata": {},
   "source": [
    "## [Series 데이터 연산]"
   ]
  },
  {
   "cell_type": "markdown",
   "id": "8ceefe52-673d-4c01-9aca-772a094e44c7",
   "metadata": {},
   "source": [
    "(1) 모듈로딩"
   ]
  },
  {
   "cell_type": "code",
   "execution_count": 1,
   "id": "edde862b-3dd4-4c92-b25e-66ec501763be",
   "metadata": {},
   "outputs": [],
   "source": [
    "import pandas as pd\n",
    "import numpy as np     #import math as m ===> m.nan"
   ]
  },
  {
   "cell_type": "markdown",
   "id": "c20fb0cc-c0fd-4751-8294-db40e1715192",
   "metadata": {},
   "source": [
    "(2) 데이터 준비"
   ]
  },
  {
   "cell_type": "code",
   "execution_count": 2,
   "id": "c22a21bf-6a5e-4552-80e4-6e61d7ef2a8d",
   "metadata": {},
   "outputs": [],
   "source": [
    "data=[5,7,np.nan,9,11]"
   ]
  },
  {
   "cell_type": "markdown",
   "id": "65e01c5f-14ee-4a3a-871d-bd899d3e9a65",
   "metadata": {},
   "source": [
    "- (3) 데이터 저장 => 1차원 데이터로 Series에 저장"
   ]
  },
  {
   "cell_type": "code",
   "execution_count": 3,
   "id": "a5d47b52-ee5f-4a56-ae4a-bf7f778081fd",
   "metadata": {},
   "outputs": [],
   "source": [
    "sr=pd.Series(data)"
   ]
  },
  {
   "cell_type": "markdown",
   "id": "28fe078d-1c7a-4dec-bcb7-a2b3bf55bb49",
   "metadata": {},
   "source": [
    "(4) 데이터 확인"
   ]
  },
  {
   "cell_type": "code",
   "execution_count": 4,
   "id": "351bf27a-be45-4a95-841c-e81271427800",
   "metadata": {},
   "outputs": [
    {
     "data": {
      "text/plain": [
       "(RangeIndex(start=0, stop=5, step=1), (5,), 1, dtype('float64'))"
      ]
     },
     "execution_count": 4,
     "metadata": {},
     "output_type": "execute_result"
    }
   ],
   "source": [
    "sr.index,sr.shape,sr.ndim,sr.dtype   #nan 때문에 dtype이 실수가 되어버린다."
   ]
  },
  {
   "cell_type": "code",
   "execution_count": 5,
   "id": "d07023b5-e1aa-46b3-a07f-5750104ff392",
   "metadata": {},
   "outputs": [
    {
     "data": {
      "text/plain": [
       "array([ 5.,  7., nan,  9., 11.])"
      ]
     },
     "execution_count": 5,
     "metadata": {},
     "output_type": "execute_result"
    }
   ],
   "source": [
    "sr.values"
   ]
  },
  {
   "cell_type": "code",
   "execution_count": 38,
   "id": "7bff19df-72f8-4d0a-846e-ee49d97a025e",
   "metadata": {},
   "outputs": [
    {
     "data": {
      "text/plain": [
       "True"
      ]
     },
     "execution_count": 38,
     "metadata": {},
     "output_type": "execute_result"
    }
   ],
   "source": [
    "sr.is_unique"
   ]
  },
  {
   "cell_type": "code",
   "execution_count": 42,
   "id": "ba833000-f2ae-4893-9c7a-8a7d61598c5d",
   "metadata": {},
   "outputs": [
    {
     "data": {
      "text/plain": [
       "False"
      ]
     },
     "execution_count": 42,
     "metadata": {},
     "output_type": "execute_result"
    }
   ],
   "source": [
    "sr=pd.Series([1,6,3,9])\n",
    "sr.is_monotonic_increasing"
   ]
  },
  {
   "cell_type": "code",
   "execution_count": 44,
   "id": "6fa7ae1c-2bd0-4b67-8791-58eadc165790",
   "metadata": {},
   "outputs": [
    {
     "data": {
      "text/plain": [
       "19"
      ]
     },
     "execution_count": 44,
     "metadata": {},
     "output_type": "execute_result"
    }
   ],
   "source": [
    "sr.sum(skipna=False,numeric_only=False)"
   ]
  },
  {
   "cell_type": "markdown",
   "id": "fef2b95d-1b42-431e-8aa5-69361767c2ee",
   "metadata": {},
   "source": [
    "(5) 연산 수행-Series 객체 - 연산자 - 숫자"
   ]
  },
  {
   "cell_type": "code",
   "execution_count": 6,
   "id": "1359bec3-31f6-4d57-8e0a-06b7013a2783",
   "metadata": {},
   "outputs": [
    {
     "data": {
      "text/plain": [
       "0    10.0\n",
       "1    12.0\n",
       "2     NaN\n",
       "3    14.0\n",
       "4    16.0\n",
       "dtype: float64"
      ]
     },
     "execution_count": 6,
     "metadata": {},
     "output_type": "execute_result"
    }
   ],
   "source": [
    "sr+5"
   ]
  },
  {
   "cell_type": "code",
   "execution_count": 7,
   "id": "a1ba364e-feae-4a21-95a7-8241fc2e46bb",
   "metadata": {},
   "outputs": [
    {
     "data": {
      "text/plain": [
       "0    0.0\n",
       "1    2.0\n",
       "2    NaN\n",
       "3    4.0\n",
       "4    6.0\n",
       "dtype: float64"
      ]
     },
     "execution_count": 7,
     "metadata": {},
     "output_type": "execute_result"
    }
   ],
   "source": [
    "sr-5"
   ]
  },
  {
   "cell_type": "code",
   "execution_count": 8,
   "id": "638339d7-dcd5-46a3-9266-b5febf584527",
   "metadata": {},
   "outputs": [
    {
     "data": {
      "text/plain": [
       "0    25.0\n",
       "1    35.0\n",
       "2     NaN\n",
       "3    45.0\n",
       "4    55.0\n",
       "dtype: float64"
      ]
     },
     "execution_count": 8,
     "metadata": {},
     "output_type": "execute_result"
    }
   ],
   "source": [
    "sr*5"
   ]
  },
  {
   "cell_type": "code",
   "execution_count": 9,
   "id": "9b632c05-918c-42bd-b04b-b0dc5eb844cc",
   "metadata": {},
   "outputs": [
    {
     "data": {
      "text/plain": [
       "0    1.0\n",
       "1    1.4\n",
       "2    NaN\n",
       "3    1.8\n",
       "4    2.2\n",
       "dtype: float64"
      ]
     },
     "execution_count": 9,
     "metadata": {},
     "output_type": "execute_result"
    }
   ],
   "source": [
    "sr/5"
   ]
  },
  {
   "cell_type": "code",
   "execution_count": 10,
   "id": "80a4e4b3-391b-4880-ae63-7c3da3a1d767",
   "metadata": {},
   "outputs": [
    {
     "data": {
      "text/plain": [
       "0    1.0\n",
       "1    1.0\n",
       "2    NaN\n",
       "3    1.0\n",
       "4    2.0\n",
       "dtype: float64"
      ]
     },
     "execution_count": 10,
     "metadata": {},
     "output_type": "execute_result"
    }
   ],
   "source": [
    "sr//5"
   ]
  },
  {
   "cell_type": "code",
   "execution_count": 11,
   "id": "9edca4aa-e4ab-443e-9740-93687717d813",
   "metadata": {},
   "outputs": [
    {
     "data": {
      "text/plain": [
       "0    0.0\n",
       "1    2.0\n",
       "2    NaN\n",
       "3    4.0\n",
       "4    1.0\n",
       "dtype: float64"
      ]
     },
     "execution_count": 11,
     "metadata": {},
     "output_type": "execute_result"
    }
   ],
   "source": [
    "sr%5"
   ]
  },
  {
   "cell_type": "code",
   "execution_count": 12,
   "id": "07cbd60f-8d18-4a80-a6d7-2977ba5abaa2",
   "metadata": {},
   "outputs": [
    {
     "data": {
      "text/plain": [
       "0    False\n",
       "1     True\n",
       "2    False\n",
       "3     True\n",
       "4     True\n",
       "dtype: bool"
      ]
     },
     "execution_count": 12,
     "metadata": {},
     "output_type": "execute_result"
    }
   ],
   "source": [
    "sr>5"
   ]
  },
  {
   "cell_type": "code",
   "execution_count": 13,
   "id": "3fb6f511-0f95-4555-a443-da5d790475b8",
   "metadata": {},
   "outputs": [
    {
     "data": {
      "text/plain": [
       "0     True\n",
       "1     True\n",
       "2    False\n",
       "3     True\n",
       "4    False\n",
       "dtype: bool"
      ]
     },
     "execution_count": 13,
     "metadata": {},
     "output_type": "execute_result"
    }
   ],
   "source": [
    "sr<10"
   ]
  },
  {
   "cell_type": "markdown",
   "id": "65741fd1-0bf1-422f-a33b-7f74713a29cd",
   "metadata": {},
   "source": [
    "- 논리연산 => &:and 연산    |:or연산      ~:not연산"
   ]
  },
  {
   "cell_type": "code",
   "execution_count": 14,
   "id": "2a58fe75-c8cb-4234-bad5-7437e8f59a9b",
   "metadata": {},
   "outputs": [
    {
     "data": {
      "text/plain": [
       "0    False\n",
       "1     True\n",
       "2    False\n",
       "3     True\n",
       "4    False\n",
       "dtype: bool"
      ]
     },
     "execution_count": 14,
     "metadata": {},
     "output_type": "execute_result"
    }
   ],
   "source": [
    "(sr>5) & (sr<10)  # and 연산자를 못써서  and=&, or=|,not=~ 을 쓴다"
   ]
  },
  {
   "cell_type": "code",
   "execution_count": 15,
   "id": "9a77a5e3-27ad-4eb5-81da-95372366a03f",
   "metadata": {},
   "outputs": [
    {
     "data": {
      "text/plain": [
       "0     True\n",
       "1     True\n",
       "2    False\n",
       "3     True\n",
       "4     True\n",
       "dtype: bool"
      ]
     },
     "execution_count": 15,
     "metadata": {},
     "output_type": "execute_result"
    }
   ],
   "source": [
    "(sr>5) | (sr<10)"
   ]
  },
  {
   "cell_type": "code",
   "execution_count": 16,
   "id": "82d7ad53-ebc4-4844-ac74-00562178c765",
   "metadata": {},
   "outputs": [
    {
     "name": "stdout",
     "output_type": "stream",
     "text": [
      "0     True\n",
      "1    False\n",
      "2     True\n",
      "3    False\n",
      "4    False\n",
      "dtype: bool\n",
      "\n",
      "0    False\n",
      "1     True\n",
      "2    False\n",
      "3     True\n",
      "4     True\n",
      "dtype: bool\n"
     ]
    }
   ],
   "source": [
    "print(~(sr>5),sr>5,sep='\\n\\n')"
   ]
  },
  {
   "cell_type": "markdown",
   "id": "12c43915-bcd2-4266-8313-e65760d63a7f",
   "metadata": {},
   "source": [
    "(5) 연산 수행 => Series 객체 + Series 객체"
   ]
  },
  {
   "cell_type": "code",
   "execution_count": 17,
   "id": "577b613f-dc0a-48e0-9d15-c1f8f4fd77dd",
   "metadata": {},
   "outputs": [],
   "source": [
    "data2=[2,4,6,8,9]\n",
    "sr2=pd.Series(data2)"
   ]
  },
  {
   "cell_type": "code",
   "execution_count": 18,
   "id": "9eb7796e-0440-4383-830e-27db85315c1c",
   "metadata": {
    "scrolled": true
   },
   "outputs": [
    {
     "name": "stdout",
     "output_type": "stream",
     "text": [
      "0     7.0\n",
      "1    11.0\n",
      "2     NaN\n",
      "3    17.0\n",
      "4    20.0\n",
      "dtype: float64\n",
      "\n",
      "0    3.0\n",
      "1    3.0\n",
      "2    NaN\n",
      "3    1.0\n",
      "4    2.0\n",
      "dtype: float64\n",
      "\n",
      "0    10.0\n",
      "1    28.0\n",
      "2     NaN\n",
      "3    72.0\n",
      "4    99.0\n",
      "dtype: float64\n",
      "\n",
      "0    2.500000\n",
      "1    1.750000\n",
      "2         NaN\n",
      "3    1.125000\n",
      "4    1.222222\n",
      "dtype: float64\n",
      "\n",
      "0    2.0\n",
      "1    1.0\n",
      "2    NaN\n",
      "3    1.0\n",
      "4    1.0\n",
      "dtype: float64\n",
      "\n",
      "0    1.0\n",
      "1    3.0\n",
      "2    NaN\n",
      "3    1.0\n",
      "4    2.0\n",
      "dtype: float64\n"
     ]
    }
   ],
   "source": [
    "print(sr+sr2,sr-sr2,sr*sr2,sr/sr2,sr//sr2,sr%sr2,sep='\\n\\n')"
   ]
  },
  {
   "cell_type": "code",
   "execution_count": 19,
   "id": "f073d297-5e4d-4f8d-a61f-1f5a3f4c52ac",
   "metadata": {},
   "outputs": [
    {
     "name": "stdout",
     "output_type": "stream",
     "text": [
      "0     True\n",
      "1     True\n",
      "2    False\n",
      "3     True\n",
      "4     True\n",
      "dtype: bool\n",
      "\n",
      "0    False\n",
      "1    False\n",
      "2    False\n",
      "3    False\n",
      "4    False\n",
      "dtype: bool\n"
     ]
    }
   ],
   "source": [
    "print(sr>sr2,sr<sr2,sep='\\n\\n')"
   ]
  },
  {
   "cell_type": "code",
   "execution_count": 20,
   "id": "f3bd4f86-698c-4ab3-930c-2707bdfe47cb",
   "metadata": {},
   "outputs": [
    {
     "data": {
      "text/plain": [
       "2    2\n",
       "3    4\n",
       "4    6\n",
       "5    8\n",
       "6    9\n",
       "dtype: int64"
      ]
     },
     "execution_count": 20,
     "metadata": {},
     "output_type": "execute_result"
    }
   ],
   "source": [
    "sr2.index=[2,3,4,5,6]\n",
    "sr2"
   ]
  },
  {
   "cell_type": "code",
   "execution_count": 21,
   "id": "2a018b2c-dee1-4f62-9d36-7d30d76de8bf",
   "metadata": {},
   "outputs": [
    {
     "name": "stdout",
     "output_type": "stream",
     "text": [
      "0     NaN\n",
      "1     NaN\n",
      "2     NaN\n",
      "3    13.0\n",
      "4    17.0\n",
      "5     NaN\n",
      "6     NaN\n",
      "dtype: float64\n",
      "\n",
      "0    NaN\n",
      "1    NaN\n",
      "2    NaN\n",
      "3    5.0\n",
      "4    5.0\n",
      "5    NaN\n",
      "6    NaN\n",
      "dtype: float64\n",
      "\n",
      "0     NaN\n",
      "1     NaN\n",
      "2     NaN\n",
      "3    36.0\n",
      "4    66.0\n",
      "5     NaN\n",
      "6     NaN\n",
      "dtype: float64\n",
      "\n",
      "0         NaN\n",
      "1         NaN\n",
      "2         NaN\n",
      "3    2.250000\n",
      "4    1.833333\n",
      "5         NaN\n",
      "6         NaN\n",
      "dtype: float64\n",
      "\n",
      "0    NaN\n",
      "1    NaN\n",
      "2    NaN\n",
      "3    2.0\n",
      "4    1.0\n",
      "5    NaN\n",
      "6    NaN\n",
      "dtype: float64\n",
      "\n",
      "0    NaN\n",
      "1    NaN\n",
      "2    NaN\n",
      "3    1.0\n",
      "4    5.0\n",
      "5    NaN\n",
      "6    NaN\n",
      "dtype: float64\n"
     ]
    }
   ],
   "source": [
    "print(sr+sr2,sr-sr2,sr*sr2,sr/sr2,sr//sr2,sr%sr2,sep='\\n\\n')"
   ]
  },
  {
   "cell_type": "code",
   "execution_count": 22,
   "id": "9a2e3e0a-1185-4861-8ad0-e5006bd92c38",
   "metadata": {},
   "outputs": [
    {
     "name": "stdout",
     "output_type": "stream",
     "text": [
      "   index  0\n",
      "0      2  2\n",
      "1      3  4\n",
      "2      4  6\n",
      "3      5  8\n",
      "4      6  9\n",
      "\n",
      "0    2\n",
      "1    4\n",
      "2    6\n",
      "3    8\n",
      "4    9\n",
      "dtype: int64\n"
     ]
    }
   ],
   "source": [
    "print(sr2.reset_index(),sr2.reset_index(drop=True),sep='\\n\\n')\n"
   ]
  },
  {
   "cell_type": "markdown",
   "id": "e5a9ad23-dd12-4f3f-b88f-3a15956e07f3",
   "metadata": {},
   "source": [
    "- (5) Series 연산수행 => 전용 메서드"
   ]
  },
  {
   "cell_type": "code",
   "execution_count": 23,
   "id": "aeeab3e2-f07d-4f07-a869-431c44af8b1d",
   "metadata": {},
   "outputs": [
    {
     "name": "stdout",
     "output_type": "stream",
     "text": [
      "0    10.0\n",
      "1    12.0\n",
      "2     NaN\n",
      "3    14.0\n",
      "4    16.0\n",
      "dtype: float64\n",
      "\n",
      "0    10.0\n",
      "1    12.0\n",
      "2     5.0\n",
      "3    14.0\n",
      "4    16.0\n",
      "dtype: float64\n"
     ]
    }
   ],
   "source": [
    "print(sr.add(5),sr.add(5,fill_value=0),sep='\\n\\n')  # 결측치가 있는 경우 메서드를 사용해 처리할 수 있다. fill_value=0으로 nan값을 0으로 바꿔 준다.\n"
   ]
  },
  {
   "cell_type": "code",
   "execution_count": 24,
   "id": "c7e62a8c-b985-4069-9378-40964c90e845",
   "metadata": {},
   "outputs": [
    {
     "name": "stdout",
     "output_type": "stream",
     "text": [
      "0    0.0\n",
      "1    2.0\n",
      "2    NaN\n",
      "3    4.0\n",
      "4    6.0\n",
      "dtype: float64\n",
      "\n",
      "0    5.0\n",
      "1    7.0\n",
      "2   -2.0\n",
      "3    5.0\n",
      "4    5.0\n",
      "5   -8.0\n",
      "6   -9.0\n",
      "dtype: float64\n"
     ]
    }
   ],
   "source": [
    "print(sr.sub(5),sr.sub(sr2,fill_value=0),sep='\\n\\n')"
   ]
  },
  {
   "cell_type": "code",
   "execution_count": 25,
   "id": "c827bec4-6e7e-4af0-a1a6-7a0433347b85",
   "metadata": {},
   "outputs": [],
   "source": [
    "addSR=sr.add(sr2,fill_value=0)\n",
    "subSR=sr.sub(sr2,fill_value=0)\n",
    "mulSR=sr.mul(sr2,fill_value=0)\n",
    "divSR=sr.div(sr2,fill_value=0)             "
   ]
  },
  {
   "cell_type": "markdown",
   "id": "0d3897ef-6e66-4e82-a561-5924d35f80e4",
   "metadata": {},
   "source": [
    "- (6)DataFrame 연산 수행"
   ]
  },
  {
   "cell_type": "code",
   "execution_count": 26,
   "id": "75bb76d1-f9be-4564-aad1-ffabebd40b34",
   "metadata": {},
   "outputs": [
    {
     "data": {
      "text/html": [
       "<div>\n",
       "<style scoped>\n",
       "    .dataframe tbody tr th:only-of-type {\n",
       "        vertical-align: middle;\n",
       "    }\n",
       "\n",
       "    .dataframe tbody tr th {\n",
       "        vertical-align: top;\n",
       "    }\n",
       "\n",
       "    .dataframe thead th {\n",
       "        text-align: right;\n",
       "    }\n",
       "</style>\n",
       "<table border=\"1\" class=\"dataframe\">\n",
       "  <thead>\n",
       "    <tr style=\"text-align: right;\">\n",
       "      <th></th>\n",
       "      <th>0</th>\n",
       "      <th>1</th>\n",
       "      <th>2</th>\n",
       "      <th>3</th>\n",
       "      <th>4</th>\n",
       "      <th>5</th>\n",
       "      <th>6</th>\n",
       "    </tr>\n",
       "  </thead>\n",
       "  <tbody>\n",
       "    <tr>\n",
       "      <th>add</th>\n",
       "      <td>5.0</td>\n",
       "      <td>7.0</td>\n",
       "      <td>2.0</td>\n",
       "      <td>13.00</td>\n",
       "      <td>17.000000</td>\n",
       "      <td>8.0</td>\n",
       "      <td>9.0</td>\n",
       "    </tr>\n",
       "    <tr>\n",
       "      <th>sub</th>\n",
       "      <td>5.0</td>\n",
       "      <td>7.0</td>\n",
       "      <td>-2.0</td>\n",
       "      <td>5.00</td>\n",
       "      <td>5.000000</td>\n",
       "      <td>-8.0</td>\n",
       "      <td>-9.0</td>\n",
       "    </tr>\n",
       "    <tr>\n",
       "      <th>mul</th>\n",
       "      <td>0.0</td>\n",
       "      <td>0.0</td>\n",
       "      <td>0.0</td>\n",
       "      <td>36.00</td>\n",
       "      <td>66.000000</td>\n",
       "      <td>0.0</td>\n",
       "      <td>0.0</td>\n",
       "    </tr>\n",
       "    <tr>\n",
       "      <th>div</th>\n",
       "      <td>inf</td>\n",
       "      <td>inf</td>\n",
       "      <td>0.0</td>\n",
       "      <td>2.25</td>\n",
       "      <td>1.833333</td>\n",
       "      <td>0.0</td>\n",
       "      <td>0.0</td>\n",
       "    </tr>\n",
       "  </tbody>\n",
       "</table>\n",
       "</div>"
      ],
      "text/plain": [
       "       0    1    2      3          4    5    6\n",
       "add  5.0  7.0  2.0  13.00  17.000000  8.0  9.0\n",
       "sub  5.0  7.0 -2.0   5.00   5.000000 -8.0 -9.0\n",
       "mul  0.0  0.0  0.0  36.00  66.000000  0.0  0.0\n",
       "div  inf  inf  0.0   2.25   1.833333  0.0  0.0"
      ]
     },
     "execution_count": 26,
     "metadata": {},
     "output_type": "execute_result"
    }
   ],
   "source": [
    "df=pd.DataFrame([addSR,subSR,mulSR,divSR], index=['add','sub','mul','div'])\n",
    "df"
   ]
  },
  {
   "cell_type": "markdown",
   "id": "36c76f86-f8f8-4640-a761-8a9e6c882c7d",
   "metadata": {},
   "source": [
    "-DataFrame과 숫자 연산 수행"
   ]
  },
  {
   "cell_type": "code",
   "execution_count": 27,
   "id": "75e372f8-08df-4faa-b824-3dbf9674868a",
   "metadata": {},
   "outputs": [
    {
     "name": "stdout",
     "output_type": "stream",
     "text": [
      "        0     1    2      3          4     5     6\n",
      "add  10.0  12.0  7.0  18.00  22.000000  13.0  14.0\n",
      "sub  10.0  12.0  3.0  10.00  10.000000  -3.0  -4.0\n",
      "mul   5.0   5.0  5.0  41.00  71.000000   5.0   5.0\n",
      "div   inf   inf  5.0   7.25   6.833333   5.0   5.0\n",
      "\n",
      "       0    1    2      3          4     5     6\n",
      "add  0.0  2.0 -3.0   8.00  12.000000   3.0   4.0\n",
      "sub  0.0  2.0 -7.0   0.00   0.000000 -13.0 -14.0\n",
      "mul -5.0 -5.0 -5.0  31.00  61.000000  -5.0  -5.0\n",
      "div  inf  inf -5.0  -2.75  -3.166667  -5.0  -5.0\n"
     ]
    }
   ],
   "source": [
    "print(df+5,df-5,sep='\\n\\n')"
   ]
  },
  {
   "cell_type": "code",
   "execution_count": 28,
   "id": "5c602103-6db6-4c43-b2ad-08e30bab6f8b",
   "metadata": {},
   "outputs": [
    {
     "name": "stdout",
     "output_type": "stream",
     "text": [
      "         0      1      2      3      4      5      6\n",
      "add  False   True  False   True   True   True   True\n",
      "sub  False   True  False  False  False  False  False\n",
      "mul  False  False  False   True   True  False  False\n",
      "div   True   True  False  False  False  False  False\n",
      "\n",
      "         0      1      2      3      4      5      6\n",
      "add  False   True  False   True   True   True   True\n",
      "sub  False   True  False  False  False  False  False\n",
      "mul  False  False  False   True   True  False  False\n",
      "div   True   True  False  False  False  False  False\n"
     ]
    }
   ],
   "source": [
    "print(df>5,df>5,sep='\\n\\n')"
   ]
  },
  {
   "cell_type": "markdown",
   "id": "6328be89-2528-47dc-98b2-105405c8b6ac",
   "metadata": {},
   "source": [
    "- DataFrame과 DataFrame 연산 수행 => 동일 위치에 원소끼리 연산수행"
   ]
  },
  {
   "cell_type": "code",
   "execution_count": 29,
   "id": "ef769bcc-54ff-4282-8b0b-591e0bdf0e47",
   "metadata": {},
   "outputs": [
    {
     "data": {
      "text/html": [
       "<div>\n",
       "<style scoped>\n",
       "    .dataframe tbody tr th:only-of-type {\n",
       "        vertical-align: middle;\n",
       "    }\n",
       "\n",
       "    .dataframe tbody tr th {\n",
       "        vertical-align: top;\n",
       "    }\n",
       "\n",
       "    .dataframe thead th {\n",
       "        text-align: right;\n",
       "    }\n",
       "</style>\n",
       "<table border=\"1\" class=\"dataframe\">\n",
       "  <thead>\n",
       "    <tr style=\"text-align: right;\">\n",
       "      <th></th>\n",
       "      <th>0</th>\n",
       "      <th>1</th>\n",
       "      <th>2</th>\n",
       "      <th>3</th>\n",
       "      <th>4</th>\n",
       "      <th>5</th>\n",
       "      <th>6</th>\n",
       "    </tr>\n",
       "  </thead>\n",
       "  <tbody>\n",
       "    <tr>\n",
       "      <th>add</th>\n",
       "      <td>50.0</td>\n",
       "      <td>70.0</td>\n",
       "      <td>20.0</td>\n",
       "      <td>130.0</td>\n",
       "      <td>170.000000</td>\n",
       "      <td>80.0</td>\n",
       "      <td>90.0</td>\n",
       "    </tr>\n",
       "    <tr>\n",
       "      <th>sub</th>\n",
       "      <td>50.0</td>\n",
       "      <td>70.0</td>\n",
       "      <td>-20.0</td>\n",
       "      <td>50.0</td>\n",
       "      <td>50.000000</td>\n",
       "      <td>-80.0</td>\n",
       "      <td>-90.0</td>\n",
       "    </tr>\n",
       "    <tr>\n",
       "      <th>mul</th>\n",
       "      <td>0.0</td>\n",
       "      <td>0.0</td>\n",
       "      <td>0.0</td>\n",
       "      <td>360.0</td>\n",
       "      <td>660.000000</td>\n",
       "      <td>0.0</td>\n",
       "      <td>0.0</td>\n",
       "    </tr>\n",
       "    <tr>\n",
       "      <th>div</th>\n",
       "      <td>inf</td>\n",
       "      <td>inf</td>\n",
       "      <td>0.0</td>\n",
       "      <td>22.5</td>\n",
       "      <td>18.333333</td>\n",
       "      <td>0.0</td>\n",
       "      <td>0.0</td>\n",
       "    </tr>\n",
       "  </tbody>\n",
       "</table>\n",
       "</div>"
      ],
      "text/plain": [
       "        0     1     2      3           4     5     6\n",
       "add  50.0  70.0  20.0  130.0  170.000000  80.0  90.0\n",
       "sub  50.0  70.0 -20.0   50.0   50.000000 -80.0 -90.0\n",
       "mul   0.0   0.0   0.0  360.0  660.000000   0.0   0.0\n",
       "div   inf   inf   0.0   22.5   18.333333   0.0   0.0"
      ]
     },
     "execution_count": 29,
     "metadata": {},
     "output_type": "execute_result"
    }
   ],
   "source": [
    "df2=df*10\n",
    "df2"
   ]
  },
  {
   "cell_type": "code",
   "execution_count": 30,
   "id": "d48d29a8-1582-4e66-ae3b-88f2ca14e29c",
   "metadata": {},
   "outputs": [
    {
     "name": "stdout",
     "output_type": "stream",
     "text": [
      "        0     1     2       3           4     5     6\n",
      "add  55.0  77.0  22.0  143.00  187.000000  88.0  99.0\n",
      "sub  55.0  77.0 -22.0   55.00   55.000000 -88.0 -99.0\n",
      "mul   0.0   0.0   0.0  396.00  726.000000   0.0   0.0\n",
      "div   inf   inf   0.0   24.75   20.166667   0.0   0.0\n",
      "\n",
      "         0      1     2          3             4      5      6\n",
      "add  250.0  490.0  40.0   1690.000   2890.000000  640.0  810.0\n",
      "sub  250.0  490.0  40.0    250.000    250.000000  640.0  810.0\n",
      "mul    0.0    0.0   0.0  12960.000  43560.000000    0.0    0.0\n",
      "div    inf    inf   0.0     50.625     33.611111    0.0    0.0\n"
     ]
    }
   ],
   "source": [
    "print(df+df2,df*df2,sep='\\n\\n')"
   ]
  },
  {
   "cell_type": "code",
   "execution_count": 31,
   "id": "2388013b-65e4-490c-91c8-3d56a55e0fdc",
   "metadata": {},
   "outputs": [
    {
     "data": {
      "text/plain": [
       "(Index(['add', 'sub', 'mul', 'div'], dtype='object'),\n",
       " Index([0, 1, 2, 3, 4, 5, 6], dtype='int64'))"
      ]
     },
     "execution_count": 31,
     "metadata": {},
     "output_type": "execute_result"
    }
   ],
   "source": [
    "df.index,df.columns"
   ]
  },
  {
   "cell_type": "code",
   "execution_count": 32,
   "id": "aa29fa3e-981f-4897-abcb-f39479d4c8ce",
   "metadata": {},
   "outputs": [
    {
     "data": {
      "text/plain": [
       "(Index(['add', 'sub', 'mul', 'div'], dtype='object'),\n",
       " Index([0, 1, 2, 3, 4, 5, 6], dtype='int64'))"
      ]
     },
     "execution_count": 32,
     "metadata": {},
     "output_type": "execute_result"
    }
   ],
   "source": [
    "df2.index,df2.columns"
   ]
  },
  {
   "cell_type": "code",
   "execution_count": 33,
   "id": "edf5fff7-ac01-4096-922b-c5dde9b8730b",
   "metadata": {},
   "outputs": [],
   "source": [
    "df2.index=['add','minus','mul','/']"
   ]
  },
  {
   "cell_type": "code",
   "execution_count": 34,
   "id": "3fe28812-f632-4b77-bbd1-463d5072a868",
   "metadata": {},
   "outputs": [
    {
     "name": "stdout",
     "output_type": "stream",
     "text": [
      "          0     1     2      3      4     5     6\n",
      "/       NaN   NaN   NaN    NaN    NaN   NaN   NaN\n",
      "add    55.0  77.0  22.0  143.0  187.0  88.0  99.0\n",
      "div     NaN   NaN   NaN    NaN    NaN   NaN   NaN\n",
      "minus   NaN   NaN   NaN    NaN    NaN   NaN   NaN\n",
      "mul     0.0   0.0   0.0  396.0  726.0   0.0   0.0\n",
      "sub     NaN   NaN   NaN    NaN    NaN   NaN   NaN\n",
      "\n",
      "           0      1     2        3        4      5      6\n",
      "/        NaN    NaN   NaN      NaN      NaN    NaN    NaN\n",
      "add    250.0  490.0  40.0   1690.0   2890.0  640.0  810.0\n",
      "div      NaN    NaN   NaN      NaN      NaN    NaN    NaN\n",
      "minus    NaN    NaN   NaN      NaN      NaN    NaN    NaN\n",
      "mul      0.0    0.0   0.0  12960.0  43560.0    0.0    0.0\n",
      "sub      NaN    NaN   NaN      NaN      NaN    NaN    NaN\n"
     ]
    }
   ],
   "source": [
    "print(df+df2,df*df2,sep='\\n\\n')"
   ]
  },
  {
   "cell_type": "markdown",
   "id": "2cc032b1-f205-43b4-8eac-490d5a6a6cd8",
   "metadata": {},
   "source": [
    "- 연산 수행 메서드 활용 => 결측치, 즉 NaN 빈칸에 대한 처리를 수행 가능\n",
    "-   * fill_value 파라미터에 값 설정"
   ]
  },
  {
   "cell_type": "code",
   "execution_count": 35,
   "id": "be15c10e-04e8-44b9-a00b-6bd1d7949422",
   "metadata": {},
   "outputs": [
    {
     "data": {
      "text/html": [
       "<div>\n",
       "<style scoped>\n",
       "    .dataframe tbody tr th:only-of-type {\n",
       "        vertical-align: middle;\n",
       "    }\n",
       "\n",
       "    .dataframe tbody tr th {\n",
       "        vertical-align: top;\n",
       "    }\n",
       "\n",
       "    .dataframe thead th {\n",
       "        text-align: right;\n",
       "    }\n",
       "</style>\n",
       "<table border=\"1\" class=\"dataframe\">\n",
       "  <thead>\n",
       "    <tr style=\"text-align: right;\">\n",
       "      <th></th>\n",
       "      <th>0</th>\n",
       "      <th>1</th>\n",
       "      <th>2</th>\n",
       "      <th>3</th>\n",
       "      <th>4</th>\n",
       "      <th>5</th>\n",
       "      <th>6</th>\n",
       "    </tr>\n",
       "  </thead>\n",
       "  <tbody>\n",
       "    <tr>\n",
       "      <th>/</th>\n",
       "      <td>inf</td>\n",
       "      <td>inf</td>\n",
       "      <td>0.0</td>\n",
       "      <td>22.50</td>\n",
       "      <td>18.333333</td>\n",
       "      <td>0.0</td>\n",
       "      <td>0.0</td>\n",
       "    </tr>\n",
       "    <tr>\n",
       "      <th>add</th>\n",
       "      <td>55.0</td>\n",
       "      <td>77.0</td>\n",
       "      <td>22.0</td>\n",
       "      <td>143.00</td>\n",
       "      <td>187.000000</td>\n",
       "      <td>88.0</td>\n",
       "      <td>99.0</td>\n",
       "    </tr>\n",
       "    <tr>\n",
       "      <th>div</th>\n",
       "      <td>inf</td>\n",
       "      <td>inf</td>\n",
       "      <td>0.0</td>\n",
       "      <td>2.25</td>\n",
       "      <td>1.833333</td>\n",
       "      <td>0.0</td>\n",
       "      <td>0.0</td>\n",
       "    </tr>\n",
       "    <tr>\n",
       "      <th>minus</th>\n",
       "      <td>50.0</td>\n",
       "      <td>70.0</td>\n",
       "      <td>-20.0</td>\n",
       "      <td>50.00</td>\n",
       "      <td>50.000000</td>\n",
       "      <td>-80.0</td>\n",
       "      <td>-90.0</td>\n",
       "    </tr>\n",
       "    <tr>\n",
       "      <th>mul</th>\n",
       "      <td>0.0</td>\n",
       "      <td>0.0</td>\n",
       "      <td>0.0</td>\n",
       "      <td>396.00</td>\n",
       "      <td>726.000000</td>\n",
       "      <td>0.0</td>\n",
       "      <td>0.0</td>\n",
       "    </tr>\n",
       "    <tr>\n",
       "      <th>sub</th>\n",
       "      <td>5.0</td>\n",
       "      <td>7.0</td>\n",
       "      <td>-2.0</td>\n",
       "      <td>5.00</td>\n",
       "      <td>5.000000</td>\n",
       "      <td>-8.0</td>\n",
       "      <td>-9.0</td>\n",
       "    </tr>\n",
       "  </tbody>\n",
       "</table>\n",
       "</div>"
      ],
      "text/plain": [
       "          0     1     2       3           4     5     6\n",
       "/       inf   inf   0.0   22.50   18.333333   0.0   0.0\n",
       "add    55.0  77.0  22.0  143.00  187.000000  88.0  99.0\n",
       "div     inf   inf   0.0    2.25    1.833333   0.0   0.0\n",
       "minus  50.0  70.0 -20.0   50.00   50.000000 -80.0 -90.0\n",
       "mul     0.0   0.0   0.0  396.00  726.000000   0.0   0.0\n",
       "sub     5.0   7.0  -2.0    5.00    5.000000  -8.0  -9.0"
      ]
     },
     "execution_count": 35,
     "metadata": {},
     "output_type": "execute_result"
    }
   ],
   "source": [
    "df.add(df2,fill_value=0)"
   ]
  },
  {
   "cell_type": "code",
   "execution_count": null,
   "id": "5e09f9b2-0891-49f5-8087-942d653a075f",
   "metadata": {},
   "outputs": [],
   "source": []
  }
 ],
 "metadata": {
  "kernelspec": {
   "display_name": "Python 3 (ipykernel)",
   "language": "python",
   "name": "python3"
  },
  "language_info": {
   "codemirror_mode": {
    "name": "ipython",
    "version": 3
   },
   "file_extension": ".py",
   "mimetype": "text/x-python",
   "name": "python",
   "nbconvert_exporter": "python",
   "pygments_lexer": "ipython3",
   "version": "3.8.18"
  }
 },
 "nbformat": 4,
 "nbformat_minor": 5
}
