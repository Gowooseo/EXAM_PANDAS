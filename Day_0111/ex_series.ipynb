{
 "cells": [
  {
   "cell_type": "markdown",
   "id": "0556373a-b5f4-4573-9970-9acaccd3ba9d",
   "metadata": {},
   "source": [
    "<h1>시리즈(Series) 살펴보기</h1>\n",
    "\n",
    "- 판다스에서 데이터를 저장하는 자료 구조 중 하나\n",
    "- 동일한 타입의 데이터를 연속된 메모리 공간에 저장함\n",
    "- 구성:인덱스 + 데이터\n",
    "- 생성:Series()생성자 메서드"
   ]
  },
  {
   "cell_type": "markdown",
   "id": "c7ae1f48-be55-48f2-a453-b084211ab13e",
   "metadata": {},
   "source": [
    "#### (1) 모듈로딩------------------------\n",
    "\n"
   ]
  },
  {
   "cell_type": "code",
   "execution_count": 17,
   "id": "68f8662d-afd7-4b37-914d-ab5a11e0606b",
   "metadata": {},
   "outputs": [],
   "source": [
    "import pandas as pd"
   ]
  },
  {
   "cell_type": "markdown",
   "id": "e16c1197-810b-4124-8d6c-95c5be309f1c",
   "metadata": {},
   "source": [
    "#### (2)시리즈 객체 생성-----------------------\n",
    "\n",
    "\n"
   ]
  },
  {
   "cell_type": "code",
   "execution_count": 31,
   "id": "95aa08dd-e1d6-4123-9232-9926ed042322",
   "metadata": {},
   "outputs": [],
   "source": [
    "#객체 생성에 사용되는 메서드 => 생성자(Constuctor)\n",
    "#데이터 타입과 동일한 이름의 메서드=> Series()\n",
    "sr=pd.Series([11,22.,'33'])"
   ]
  },
  {
   "cell_type": "code",
   "execution_count": 32,
   "id": "2d26d72a-d84f-44ab-9cee-61a119d11657",
   "metadata": {},
   "outputs": [
    {
     "data": {
      "text/plain": [
       "0      11\n",
       "1    22.0\n",
       "2      33\n",
       "dtype: object"
      ]
     },
     "execution_count": 32,
     "metadata": {},
     "output_type": "execute_result"
    }
   ],
   "source": [
    "sr"
   ]
  },
  {
   "cell_type": "code",
   "execution_count": 30,
   "id": "2d8593df-2479-4237-bacf-9361eccc5563",
   "metadata": {},
   "outputs": [
    {
     "data": {
      "text/plain": [
       "pandas.core.series.Series"
      ]
     },
     "execution_count": 30,
     "metadata": {},
     "output_type": "execute_result"
    }
   ],
   "source": [
    "type(sr)"
   ]
  },
  {
   "cell_type": "markdown",
   "id": "bcdfcf69-4dbb-4cef-9ba5-0c864fb87286",
   "metadata": {},
   "source": [
    "- Series 객체의 속성(attributes)/필드(field) 살펴보기\n",
    "\n",
    "    * 기본: data,index,dtype  \n",
    "    * 읽기: 객체변수명.속성명  \n",
    "    * 쓰기: 객체변수명.속성명=새로운 값 [모든 속성이 가능한 것은 아님!!!]"
   ]
  },
  {
   "cell_type": "code",
   "execution_count": 22,
   "id": "cc95d301-e9f2-442f-8b89-0c86a3611e47",
   "metadata": {},
   "outputs": [
    {
     "data": {
      "text/plain": [
       "RangeIndex(start=0, stop=3, step=1)"
      ]
     },
     "execution_count": 22,
     "metadata": {},
     "output_type": "execute_result"
    }
   ],
   "source": [
    "sr.index"
   ]
  },
  {
   "cell_type": "code",
   "execution_count": 23,
   "id": "deb83fa9-394e-4c00-9889-46ac263d017b",
   "metadata": {},
   "outputs": [
    {
     "data": {
      "text/plain": [
       "RangeIndex(start=0, stop=3, step=1)"
      ]
     },
     "execution_count": 23,
     "metadata": {},
     "output_type": "execute_result"
    }
   ],
   "source": [
    "#현재 시리즈 객체에 저장된 인덱스 속성 확인\n",
    "sr.index\n"
   ]
  },
  {
   "cell_type": "code",
   "execution_count": 24,
   "id": "c9de6702-85cc-4cc8-ba39-4eb30875bab9",
   "metadata": {},
   "outputs": [
    {
     "data": {
      "text/plain": [
       "array([11, 22, 33], dtype=int64)"
      ]
     },
     "execution_count": 24,
     "metadata": {},
     "output_type": "execute_result"
    }
   ],
   "source": [
    "#현재 시리즈 객체에 저장된 데이터 즉 값 확인\n",
    "sr.values"
   ]
  },
  {
   "cell_type": "code",
   "execution_count": 35,
   "id": "586a6092-8e01-4c84-9bf5-ac930b9f213e",
   "metadata": {},
   "outputs": [],
   "source": [
    "#시리즈 객체의 인덱스 변경\n",
    "sr.index=[100,200,300]\n"
   ]
  },
  {
   "cell_type": "code",
   "execution_count": 36,
   "id": "fd4c2591-ba8a-4a07-a581-1c86a59f7251",
   "metadata": {},
   "outputs": [
    {
     "data": {
      "text/plain": [
       "100      11\n",
       "200    22.0\n",
       "300      33\n",
       "dtype: object"
      ]
     },
     "execution_count": 36,
     "metadata": {},
     "output_type": "execute_result"
    }
   ],
   "source": [
    "sr"
   ]
  },
  {
   "cell_type": "code",
   "execution_count": 37,
   "id": "1b045710-40b8-4e2c-9487-065b30e4ee98",
   "metadata": {},
   "outputs": [
    {
     "data": {
      "text/plain": [
       "A      11\n",
       "B    22.0\n",
       "C      33\n",
       "dtype: object"
      ]
     },
     "execution_count": 37,
     "metadata": {},
     "output_type": "execute_result"
    }
   ],
   "source": [
    "sr.index=['A','B','C']\n",
    "sr"
   ]
  },
  {
   "cell_type": "code",
   "execution_count": 38,
   "id": "2c5b0c76-8827-419d-a832-84cf060c6701",
   "metadata": {},
   "outputs": [
    {
     "ename": "AttributeError",
     "evalue": "can't set attribute",
     "output_type": "error",
     "traceback": [
      "\u001b[1;31m---------------------------------------------------------------------------\u001b[0m",
      "\u001b[1;31mAttributeError\u001b[0m                            Traceback (most recent call last)",
      "File \u001b[1;32m~\\.conda\\envs\\My_38\\lib\\site-packages\\pandas\\core\\generic.py:6020\u001b[0m, in \u001b[0;36mNDFrame.__setattr__\u001b[1;34m(self, name, value)\u001b[0m\n\u001b[0;32m   6019\u001b[0m     \u001b[38;5;28;01melse\u001b[39;00m:\n\u001b[1;32m-> 6020\u001b[0m         \u001b[38;5;28;43mobject\u001b[39;49m\u001b[38;5;241;43m.\u001b[39;49m\u001b[38;5;21;43m__setattr__\u001b[39;49m\u001b[43m(\u001b[49m\u001b[38;5;28;43mself\u001b[39;49m\u001b[43m,\u001b[49m\u001b[43m \u001b[49m\u001b[43mname\u001b[49m\u001b[43m,\u001b[49m\u001b[43m \u001b[49m\u001b[43mvalue\u001b[49m\u001b[43m)\u001b[49m\n\u001b[0;32m   6021\u001b[0m \u001b[38;5;28;01mexcept\u001b[39;00m (\u001b[38;5;167;01mAttributeError\u001b[39;00m, \u001b[38;5;167;01mTypeError\u001b[39;00m):\n",
      "\u001b[1;31mAttributeError\u001b[0m: can't set attribute",
      "\nDuring handling of the above exception, another exception occurred:\n",
      "\u001b[1;31mAttributeError\u001b[0m                            Traceback (most recent call last)",
      "Cell \u001b[1;32mIn[38], line 1\u001b[0m\n\u001b[1;32m----> 1\u001b[0m sr\u001b[38;5;241m.\u001b[39mvalues\u001b[38;5;241m=\u001b[39m[\u001b[38;5;241m777\u001b[39m,\u001b[38;5;241m888\u001b[39m,\u001b[38;5;241m999\u001b[39m]\n",
      "File \u001b[1;32m~\\.conda\\envs\\My_38\\lib\\site-packages\\pandas\\core\\generic.py:6030\u001b[0m, in \u001b[0;36mNDFrame.__setattr__\u001b[1;34m(self, name, value)\u001b[0m\n\u001b[0;32m   6022\u001b[0m \u001b[38;5;28;01mif\u001b[39;00m \u001b[38;5;28misinstance\u001b[39m(\u001b[38;5;28mself\u001b[39m, ABCDataFrame) \u001b[38;5;129;01mand\u001b[39;00m (is_list_like(value)):\n\u001b[0;32m   6023\u001b[0m     warnings\u001b[38;5;241m.\u001b[39mwarn(\n\u001b[0;32m   6024\u001b[0m         \u001b[38;5;124m\"\u001b[39m\u001b[38;5;124mPandas doesn\u001b[39m\u001b[38;5;124m'\u001b[39m\u001b[38;5;124mt allow columns to be \u001b[39m\u001b[38;5;124m\"\u001b[39m\n\u001b[0;32m   6025\u001b[0m         \u001b[38;5;124m\"\u001b[39m\u001b[38;5;124mcreated via a new attribute name - see \u001b[39m\u001b[38;5;124m\"\u001b[39m\n\u001b[1;32m   (...)\u001b[0m\n\u001b[0;32m   6028\u001b[0m         stacklevel\u001b[38;5;241m=\u001b[39mfind_stack_level(),\n\u001b[0;32m   6029\u001b[0m     )\n\u001b[1;32m-> 6030\u001b[0m \u001b[38;5;28;43mobject\u001b[39;49m\u001b[38;5;241;43m.\u001b[39;49m\u001b[38;5;21;43m__setattr__\u001b[39;49m\u001b[43m(\u001b[49m\u001b[38;5;28;43mself\u001b[39;49m\u001b[43m,\u001b[49m\u001b[43m \u001b[49m\u001b[43mname\u001b[49m\u001b[43m,\u001b[49m\u001b[43m \u001b[49m\u001b[43mvalue\u001b[49m\u001b[43m)\u001b[49m\n",
      "\u001b[1;31mAttributeError\u001b[0m: can't set attribute"
     ]
    }
   ],
   "source": [
    "# values 속성은 속성방식으로 변경 불가!!!\n",
    "sr.values=[777,888,999]"
   ]
  },
  {
   "cell_type": "markdown",
   "id": "5ec427c3-b04e-457a-8eb8-9f483f5f8ce4",
   "metadata": {},
   "source": [
    "- 시리즈 객체의 요소 데이터/값 읽기\n",
    "    * 읽기 : 객체 변수명[인덱스]\n",
    "    * 쓰기 : 객체 변수명[인덱스] =새로운값\n",
    "    "
   ]
  },
  {
   "cell_type": "code",
   "execution_count": 39,
   "id": "d0e42741-5a3a-40c0-8bf5-cc9f44f77123",
   "metadata": {},
   "outputs": [
    {
     "data": {
      "text/plain": [
       "11"
      ]
     },
     "execution_count": 39,
     "metadata": {},
     "output_type": "execute_result"
    }
   ],
   "source": [
    "sr['A']"
   ]
  },
  {
   "cell_type": "code",
   "execution_count": 41,
   "id": "edf6fc57-1781-4158-bebd-aab42f42830f",
   "metadata": {},
   "outputs": [],
   "source": [
    "sr['A']=2024"
   ]
  },
  {
   "cell_type": "code",
   "execution_count": 42,
   "id": "523331d5-7e20-4c5d-b671-c47d928a1b8c",
   "metadata": {},
   "outputs": [
    {
     "data": {
      "text/plain": [
       "A    2024\n",
       "B    22.0\n",
       "C      33\n",
       "dtype: object"
      ]
     },
     "execution_count": 42,
     "metadata": {},
     "output_type": "execute_result"
    }
   ],
   "source": [
    "sr"
   ]
  },
  {
   "cell_type": "code",
   "execution_count": 43,
   "id": "60538506-407b-47d8-a5c3-52da7c10d0b1",
   "metadata": {},
   "outputs": [
    {
     "data": {
      "text/plain": [
       "Index(['A', 'B', 'C'], dtype='object')"
      ]
     },
     "execution_count": 43,
     "metadata": {},
     "output_type": "execute_result"
    }
   ],
   "source": [
    "sr.index"
   ]
  },
  {
   "cell_type": "code",
   "execution_count": 45,
   "id": "f2acbad9-7f39-4efc-b17d-bce5d382a78f",
   "metadata": {},
   "outputs": [
    {
     "data": {
      "text/plain": [
       "(2024, 2024)"
      ]
     },
     "execution_count": 45,
     "metadata": {},
     "output_type": "execute_result"
    }
   ],
   "source": [
    "sr[0],sr['A']"
   ]
  },
  {
   "cell_type": "code",
   "execution_count": 46,
   "id": "1828e94a-2a6a-4056-ab61-ac05feafec10",
   "metadata": {},
   "outputs": [],
   "source": [
    "sr.index=[11,22,33]\n"
   ]
  },
  {
   "cell_type": "code",
   "execution_count": 47,
   "id": "e4125955-70ac-4c30-8e3c-31da8b91447f",
   "metadata": {},
   "outputs": [
    {
     "data": {
      "text/plain": [
       "Index([11, 22, 33], dtype='int64')"
      ]
     },
     "execution_count": 47,
     "metadata": {},
     "output_type": "execute_result"
    }
   ],
   "source": [
    "sr.index"
   ]
  },
  {
   "cell_type": "code",
   "execution_count": 48,
   "id": "9c5a4ccc-9aa1-486a-b37a-2fe9a93052cc",
   "metadata": {},
   "outputs": [
    {
     "data": {
      "text/plain": [
       "2024"
      ]
     },
     "execution_count": 48,
     "metadata": {},
     "output_type": "execute_result"
    }
   ],
   "source": [
    "sr[11]"
   ]
  },
  {
   "cell_type": "code",
   "execution_count": 51,
   "id": "b261d5dc-a01c-4fe8-b2d3-f49d9904aedc",
   "metadata": {},
   "outputs": [
    {
     "name": "stdout",
     "output_type": "stream",
     "text": [
      "11 2024\n",
      "22 22.0\n",
      "33 33\n"
     ]
    }
   ],
   "source": [
    "for idx in sr.index:\n",
    "    print(idx,sr[idx])\n",
    "    sr[idx]=sr[idx]"
   ]
  },
  {
   "cell_type": "code",
   "execution_count": null,
   "id": "4d96b5d8-89d2-437e-9ae9-1e8be6bdfeb6",
   "metadata": {},
   "outputs": [],
   "source": []
  }
 ],
 "metadata": {
  "kernelspec": {
   "display_name": "Python 3 (ipykernel)",
   "language": "python",
   "name": "python3"
  },
  "language_info": {
   "codemirror_mode": {
    "name": "ipython",
    "version": 3
   },
   "file_extension": ".py",
   "mimetype": "text/x-python",
   "name": "python",
   "nbconvert_exporter": "python",
   "pygments_lexer": "ipython3",
   "version": "3.8.18"
  }
 },
 "nbformat": 4,
 "nbformat_minor": 5
}
