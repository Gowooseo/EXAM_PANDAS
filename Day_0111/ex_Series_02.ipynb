{
 "cells": [
  {
   "cell_type": "markdown",
   "id": "c15a1e6a-04d6-403c-87d7-ec6cca14a0a5",
   "metadata": {},
   "source": [
    "[다양한 Series 객체 생성]"
   ]
  },
  {
   "cell_type": "markdown",
   "id": "e327456c-b626-453e-9e99-8616d83fa6ad",
   "metadata": {},
   "source": [
    "###(1)모듈 로딩\n"
   ]
  },
  {
   "cell_type": "markdown",
   "id": "2468a182-2bb9-4f15-acb5-3dab32e9d1a9",
   "metadata": {},
   "source": [
    "Series 객체 생성 -방법1\n",
    "Series(data=index=지정)"
   ]
  },
  {
   "cell_type": "code",
   "execution_count": 12,
   "id": "953a339a-8a8b-4ed9-8079-7032d11b3016",
   "metadata": {},
   "outputs": [],
   "source": [
    "import pandas as pd\n"
   ]
  },
  {
   "cell_type": "code",
   "execution_count": 10,
   "id": "dd9a44cc-8ca9-487d-8f55-ec871fc1322a",
   "metadata": {},
   "outputs": [],
   "source": [
    "sr1=pd.Series([11,22,33],index=['one','two','three'])"
   ]
  },
  {
   "cell_type": "code",
   "execution_count": 11,
   "id": "a9d5d072-01bc-47fa-9ad6-6eda55615a75",
   "metadata": {},
   "outputs": [
    {
     "data": {
      "text/plain": [
       "one      11\n",
       "two      22\n",
       "three    33\n",
       "dtype: int64"
      ]
     },
     "execution_count": 11,
     "metadata": {},
     "output_type": "execute_result"
    }
   ],
   "source": [
    "sr1"
   ]
  },
  {
   "cell_type": "markdown",
   "id": "27bf356c-0df3-482a-a6be-0ebb79776a8e",
   "metadata": {},
   "source": [
    "Series 객체 생성 -방법2"
   ]
  },
  {
   "cell_type": "code",
   "execution_count": 15,
   "id": "396899a3-4efc-4191-8da7-85053c0dcf6f",
   "metadata": {},
   "outputs": [
    {
     "data": {
      "text/plain": [
       "one      11\n",
       "two      22\n",
       "three    33\n",
       "Name: jumsu, dtype: int64"
      ]
     },
     "execution_count": 15,
     "metadata": {},
     "output_type": "execute_result"
    }
   ],
   "source": [
    "sr1=pd.Series([11,22,33],index=['one','two','three'],name='jumsu')\n",
    "sr1"
   ]
  },
  {
   "cell_type": "markdown",
   "id": "0a25eabe-d41f-4ea0-b6ee-1076cf1894ad",
   "metadata": {},
   "source": [
    "Series 객체 생성 -방법3"
   ]
  },
  {
   "cell_type": "markdown",
   "id": "e057285a-449a-467e-b1e5-b8ebb1bd9b99",
   "metadata": {},
   "source": [
    "sr1=pd.Series([11,22,33],index=['one','two','three'],name='jumsu',dtype='unit8')\n",
    "sr1"
   ]
  },
  {
   "cell_type": "markdown",
   "id": "f19840c8-148d-4330-99bf-543a8ca4e926",
   "metadata": {},
   "source": [
    "Series 객체 생성 -방법4"
   ]
  },
  {
   "cell_type": "code",
   "execution_count": 33,
   "id": "4ed32690-88fe-43af-ad19-c95a6ee1c039",
   "metadata": {},
   "outputs": [],
   "source": [
    "# data= {'name':'홍길동','age':12,'job'='도적'}\n",
    "\n",
    "# sr1= pd.Series(data)\n",
    "# sr1"
   ]
  },
  {
   "cell_type": "code",
   "execution_count": 34,
   "id": "c9a2bb27-ba75-471e-83cd-93a48302dca3",
   "metadata": {},
   "outputs": [
    {
     "name": "stdout",
     "output_type": "stream",
     "text": [
      "Index(['one', 'two', 'three'], dtype='object')\n",
      "[11 22 33]\n"
     ]
    }
   ],
   "source": [
    "# 속성 확인하기\n",
    "print(sr1.index,sr1.values,sep='\\n')"
   ]
  },
  {
   "cell_type": "code",
   "execution_count": 32,
   "id": "021d1e80-404e-4a0e-a4d8-f0a468467bf1",
   "metadata": {},
   "outputs": [
    {
     "data": {
      "text/plain": [
       "(Index(['one', 'two', 'three'], dtype='object'),\n",
       " array([11, 22, 33], dtype=int64))"
      ]
     },
     "execution_count": 32,
     "metadata": {},
     "output_type": "execute_result"
    }
   ],
   "source": [
    "sr1.index,sr1.values"
   ]
  },
  {
   "cell_type": "markdown",
   "id": "654d7459-39d4-41b5-9333-25252d3b15f2",
   "metadata": {},
   "source": [
    "Series 객체 생성 -방법4=> 저장되는 데이터 set"
   ]
  },
  {
   "cell_type": "code",
   "execution_count": 43,
   "id": "38841dea-9fdf-4de3-8aa0-d871687eea4a",
   "metadata": {},
   "outputs": [
    {
     "data": {
      "text/plain": [
       "1     도적\n",
       "2    홍길동\n",
       "3     12\n",
       "dtype: object"
      ]
     },
     "execution_count": 43,
     "metadata": {},
     "output_type": "execute_result"
    }
   ],
   "source": [
    "data= {'홍길동',12,'도적'}\n",
    "      # 순서 없는 데이터,중복 불허\n",
    "    #형변환 후 객체 생성 가능\n",
    "sr1= pd.Series(list(data),index=[1,2,3])\n",
    "sr1"
   ]
  },
  {
   "cell_type": "code",
   "execution_count": null,
   "id": "ef6fd456-f5e4-498f-9e20-1204fd60103e",
   "metadata": {},
   "outputs": [],
   "source": []
  }
 ],
 "metadata": {
  "kernelspec": {
   "display_name": "Python 3 (ipykernel)",
   "language": "python",
   "name": "python3"
  },
  "language_info": {
   "codemirror_mode": {
    "name": "ipython",
    "version": 3
   },
   "file_extension": ".py",
   "mimetype": "text/x-python",
   "name": "python",
   "nbconvert_exporter": "python",
   "pygments_lexer": "ipython3",
   "version": "3.8.18"
  }
 },
 "nbformat": 4,
 "nbformat_minor": 5
}
