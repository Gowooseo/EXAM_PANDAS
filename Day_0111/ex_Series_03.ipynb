{
 "cells": [
  {
   "cell_type": "markdown",
   "id": "f7bf2012-3cb1-4dc8-8dfc-16bdfaae3b68",
   "metadata": {},
   "source": [
    "### [Series 객체 원소 인덱싱 & 슬라이싱]"
   ]
  },
  {
   "cell_type": "code",
   "execution_count": 9,
   "id": "6352de54-0ad8-493a-8bd9-dc0f945714b6",
   "metadata": {},
   "outputs": [],
   "source": [
    "import pandas as pd"
   ]
  },
  {
   "cell_type": "markdown",
   "id": "962883bb-ecd4-4b72-8814-c2046bee002b",
   "metadata": {},
   "source": [
    "(2) 데이터 준비---------------------------\n"
   ]
  },
  {
   "cell_type": "code",
   "execution_count": 10,
   "id": "3ab3ecd9-9380-4b00-afe7-96c861ef065d",
   "metadata": {},
   "outputs": [],
   "source": [
    "datas={'name' : '홍길동' , 'age':12 , 'job': '도적'}"
   ]
  },
  {
   "cell_type": "markdown",
   "id": "da519d23-5907-4944-a2cc-36d9c7cac507",
   "metadata": {},
   "source": [
    "(3) Series 객체 생성--------------------"
   ]
  },
  {
   "cell_type": "code",
   "execution_count": 11,
   "id": "5b229f5b-561d-4b41-a648-8d4afaadb7a6",
   "metadata": {},
   "outputs": [],
   "source": [
    "sr1 = pd.Series(datas)"
   ]
  },
  {
   "cell_type": "code",
   "execution_count": 12,
   "id": "4ea37d49-14c7-490d-ad45-78c7b050e52b",
   "metadata": {},
   "outputs": [
    {
     "data": {
      "text/plain": [
       "(12, 12, Index(['name', 'age', 'job'], dtype='object'))"
      ]
     },
     "execution_count": 12,
     "metadata": {},
     "output_type": "execute_result"
    }
   ],
   "source": [
    "sr1['age'], sr1[1], sr1.index"
   ]
  },
  {
   "cell_type": "code",
   "execution_count": 13,
   "id": "5cda2715-8050-4ff0-a222-25761c922934",
   "metadata": {},
   "outputs": [],
   "source": [
    "#이름과 직업데이터 읽기 ===> 원소 단위 \n",
    "# sr1['name'],sr1['job'],sr1[0],sr1[2],type(sr1[0])"
   ]
  },
  {
   "cell_type": "markdown",
   "id": "5ddbce7c-7b17-4b38-95d3-68badc00ed4e",
   "metadata": {},
   "source": [
    "('홍길동','도적','홍길동','도적')"
   ]
  },
  {
   "cell_type": "code",
   "execution_count": 14,
   "id": "c7289559-725b-4611-a474-0aea10496f02",
   "metadata": {},
   "outputs": [],
   "source": [
    "a=[1,2,3]\n",
    "b=(11,22,33)"
   ]
  },
  {
   "cell_type": "code",
   "execution_count": 15,
   "id": "3eeabdd0-6a7c-47b6-bd97-b6d1a99d9c88",
   "metadata": {},
   "outputs": [
    {
     "data": {
      "text/plain": [
       "(1, int)"
      ]
     },
     "execution_count": 15,
     "metadata": {},
     "output_type": "execute_result"
    }
   ],
   "source": [
    "a[0],type(a[0])"
   ]
  },
  {
   "cell_type": "code",
   "execution_count": 16,
   "id": "20880f8e-d5be-429a-a4c4-fb0a5febe1f0",
   "metadata": {},
   "outputs": [
    {
     "data": {
      "text/plain": [
       "name    홍길동\n",
       "job      도적\n",
       "dtype: object"
      ]
     },
     "execution_count": 16,
     "metadata": {},
     "output_type": "execute_result"
    }
   ],
   "source": [
    "# #이름과 직업데이터 읽기 ===> 리스트 단위로 읽기\n",
    "sr1[['name','job']]\n",
    "\n"
   ]
  },
  {
   "cell_type": "markdown",
   "id": "0c1edd4c-e475-43c6-8666-15fca5153b45",
   "metadata": {},
   "source": [
    "(4) 슬라이싱으로 원소 읽기---------------------------"
   ]
  },
  {
   "cell_type": "code",
   "execution_count": 17,
   "id": "15a5f396-5837-421c-99b6-838fbeca7384",
   "metadata": {},
   "outputs": [
    {
     "data": {
      "text/plain": [
       "name    홍길동\n",
       "age      12\n",
       "dtype: object"
      ]
     },
     "execution_count": 17,
     "metadata": {},
     "output_type": "execute_result"
    }
   ],
   "source": [
    "#dn\n",
    "sr1[:2]"
   ]
  }
 ],
 "metadata": {
  "kernelspec": {
   "display_name": "Python 3 (ipykernel)",
   "language": "python",
   "name": "python3"
  },
  "language_info": {
   "codemirror_mode": {
    "name": "ipython",
    "version": 3
   },
   "file_extension": ".py",
   "mimetype": "text/x-python",
   "name": "python",
   "nbconvert_exporter": "python",
   "pygments_lexer": "ipython3",
   "version": "3.8.18"
  }
 },
 "nbformat": 4,
 "nbformat_minor": 5
}
