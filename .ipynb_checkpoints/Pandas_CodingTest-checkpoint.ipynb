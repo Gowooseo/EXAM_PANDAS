{
 "cells": [
  {
   "cell_type": "markdown",
   "id": "4ea0c66e-e763-4b1e-8a51-f783d73be47f",
   "metadata": {
    "id": "4ea0c66e-e763-4b1e-8a51-f783d73be47f"
   },
   "source": [
    "[문1] 아래 조건을 만족하는 Series를 생성하세요.\n",
    "1) 데이터 : 1~50 범위에서 7의 배수 정수\n",
    "2) 인덱스 : 'a~z' 범위에서 데이터 갯수 만큼의 알파벳\n",
    "3) 타  입 : 부호가 없는 1바이트 정수\n",
    "4) 이  름 : sevens\n",
    "5) 속  성 : index, values, dtype, ndim, shape, size"
   ]
  },
  {
   "cell_type": "code",
   "execution_count": 20,
   "id": "328039c8-defe-491e-a96f-4372c969fcc8",
   "metadata": {},
   "outputs": [],
   "source": [
    "listsevens=[]\n",
    "for i in range(7,51,7):\n",
    "    listsevens.append(i)\n",
    "alpha=[\"a\",\"b\",\"c\",\"d\",\"e\",\"f\",\"g\"]"
   ]
  },
  {
   "cell_type": "code",
   "execution_count": 21,
   "id": "4de17faf-c756-4097-bfc0-79a85b573196",
   "metadata": {
    "id": "4de17faf-c756-4097-bfc0-79a85b573196"
   },
   "outputs": [
    {
     "data": {
      "text/plain": [
       "[7, 14, 21, 28, 35, 42, 49]"
      ]
     },
     "execution_count": 21,
     "metadata": {},
     "output_type": "execute_result"
    }
   ],
   "source": [
    "listsevens\n",
    "\n",
    "    "
   ]
  },
  {
   "cell_type": "code",
   "execution_count": 28,
   "id": "ed3d967d-dcdb-430c-8cbc-2b29b34c5410",
   "metadata": {
    "id": "ed3d967d-dcdb-430c-8cbc-2b29b34c5410"
   },
   "outputs": [
    {
     "name": "stdout",
     "output_type": "stream",
     "text": [
      "<class 'pandas.core.series.Series'>\n",
      "Index: 7 entries, a to g\n",
      "Series name: None\n",
      "Non-Null Count  Dtype\n",
      "--------------  -----\n",
      "7 non-null      int64\n",
      "dtypes: int64(1)\n",
      "memory usage: 112.0+ bytes\n",
      "Index(['a', 'b', 'c', 'd', 'e', 'f', 'g'], dtype='object')\n",
      "\n",
      "[ 7 14 21 28 35 42 49]\n",
      "\n",
      "int64\n",
      "\n",
      "1\n",
      "\n",
      "(7,)\n",
      "\n",
      "7\n"
     ]
    }
   ],
   "source": [
    "sevens=pd.Series(index=alpha,data=listsevens)\n",
    "sevens.info()\n",
    "print(sevens.index,sevens.values,sevens.dtype,sevens.ndim,sevens.shape,sevens.size,sep='\\n\\n')\n"
   ]
  },
  {
   "cell_type": "markdown",
   "id": "6e816108-d335-45c5-bbc0-3ceeed3c7f60",
   "metadata": {
    "id": "6e816108-d335-45c5-bbc0-3ceeed3c7f60"
   },
   "source": [
    "[문2] 아래 조건을 만족하는 데이터 객체를 생성하세요.\n",
    "1) 데이터 : knu_data.csv\n",
    "2) 인덱스 : 컬럼 중 하나를 인덱스로 설정\n",
    "3) 속성 정보 출력\n",
    "4) 데이터 확인 정보 출력\n",
    "5) 타입과 실제 데이터 타입 일치"
   ]
  },
  {
   "cell_type": "code",
   "execution_count": 3,
   "id": "a76e542d-311c-4eda-914e-2f89eb182df3",
   "metadata": {
    "id": "a76e542d-311c-4eda-914e-2f89eb182df3"
   },
   "outputs": [],
   "source": [
    "import pandas as pd"
   ]
  },
  {
   "cell_type": "code",
   "execution_count": 4,
   "id": "3ae58fb0-6a09-40c6-860d-c846ae2fdad5",
   "metadata": {
    "id": "3ae58fb0-6a09-40c6-860d-c846ae2fdad5"
   },
   "outputs": [],
   "source": [
    "file='./DATA/knu_data.csv'"
   ]
  },
  {
   "cell_type": "code",
   "execution_count": 5,
   "id": "08e00767-5792-4120-b65f-685f1f5cbd6e",
   "metadata": {},
   "outputs": [],
   "source": [
    "knuDF=pd.read_csv(file,parse_dates=[\"time\"])"
   ]
  },
  {
   "cell_type": "code",
   "execution_count": 6,
   "id": "d8c08615-c377-47a2-a0a3-f1c0c7069fc3",
   "metadata": {},
   "outputs": [
    {
     "data": {
      "text/html": [
       "<div>\n",
       "<style scoped>\n",
       "    .dataframe tbody tr th:only-of-type {\n",
       "        vertical-align: middle;\n",
       "    }\n",
       "\n",
       "    .dataframe tbody tr th {\n",
       "        vertical-align: top;\n",
       "    }\n",
       "\n",
       "    .dataframe thead th {\n",
       "        text-align: right;\n",
       "    }\n",
       "</style>\n",
       "<table border=\"1\" class=\"dataframe\">\n",
       "  <thead>\n",
       "    <tr style=\"text-align: right;\">\n",
       "      <th></th>\n",
       "      <th>mem_id</th>\n",
       "      <th>team</th>\n",
       "      <th>time</th>\n",
       "    </tr>\n",
       "  </thead>\n",
       "  <tbody>\n",
       "    <tr>\n",
       "      <th>0</th>\n",
       "      <td>knu_21</td>\n",
       "      <td>경영지원팀</td>\n",
       "      <td>2023-11-02 20:00:00</td>\n",
       "    </tr>\n",
       "    <tr>\n",
       "      <th>1</th>\n",
       "      <td>knu_03</td>\n",
       "      <td>대외협력팀</td>\n",
       "      <td>2023-11-17 20:00:00</td>\n",
       "    </tr>\n",
       "    <tr>\n",
       "      <th>2</th>\n",
       "      <td>knu_01</td>\n",
       "      <td>대외협력팀</td>\n",
       "      <td>2023-11-09 20:00:00</td>\n",
       "    </tr>\n",
       "    <tr>\n",
       "      <th>3</th>\n",
       "      <td>knu_09</td>\n",
       "      <td>경영지원팀</td>\n",
       "      <td>2022-11-22 20:00:00</td>\n",
       "    </tr>\n",
       "    <tr>\n",
       "      <th>4</th>\n",
       "      <td>knu_01</td>\n",
       "      <td>경영지원팀</td>\n",
       "      <td>2022-11-11 20:00:00</td>\n",
       "    </tr>\n",
       "  </tbody>\n",
       "</table>\n",
       "</div>"
      ],
      "text/plain": [
       "   mem_id    team                time\n",
       "0  knu_21   경영지원팀 2023-11-02 20:00:00\n",
       "1  knu_03   대외협력팀 2023-11-17 20:00:00\n",
       "2  knu_01   대외협력팀 2023-11-09 20:00:00\n",
       "3  knu_09   경영지원팀 2022-11-22 20:00:00\n",
       "4  knu_01   경영지원팀 2022-11-11 20:00:00"
      ]
     },
     "execution_count": 6,
     "metadata": {},
     "output_type": "execute_result"
    }
   ],
   "source": [
    "knuDF"
   ]
  },
  {
   "cell_type": "code",
   "execution_count": 7,
   "id": "2e6f3e0b-1a8c-45d2-b061-a52fc25754a4",
   "metadata": {},
   "outputs": [],
   "source": [
    "knuDF=knuDF.set_index(\"mem_id\")"
   ]
  },
  {
   "cell_type": "code",
   "execution_count": 8,
   "id": "2a12b799-899e-443a-8a3a-ff54c50559eb",
   "metadata": {},
   "outputs": [
    {
     "data": {
      "text/html": [
       "<div>\n",
       "<style scoped>\n",
       "    .dataframe tbody tr th:only-of-type {\n",
       "        vertical-align: middle;\n",
       "    }\n",
       "\n",
       "    .dataframe tbody tr th {\n",
       "        vertical-align: top;\n",
       "    }\n",
       "\n",
       "    .dataframe thead th {\n",
       "        text-align: right;\n",
       "    }\n",
       "</style>\n",
       "<table border=\"1\" class=\"dataframe\">\n",
       "  <thead>\n",
       "    <tr style=\"text-align: right;\">\n",
       "      <th></th>\n",
       "      <th>team</th>\n",
       "      <th>time</th>\n",
       "    </tr>\n",
       "    <tr>\n",
       "      <th>mem_id</th>\n",
       "      <th></th>\n",
       "      <th></th>\n",
       "    </tr>\n",
       "  </thead>\n",
       "  <tbody>\n",
       "    <tr>\n",
       "      <th>knu_21</th>\n",
       "      <td>경영지원팀</td>\n",
       "      <td>2023-11-02 20:00:00</td>\n",
       "    </tr>\n",
       "    <tr>\n",
       "      <th>knu_03</th>\n",
       "      <td>대외협력팀</td>\n",
       "      <td>2023-11-17 20:00:00</td>\n",
       "    </tr>\n",
       "    <tr>\n",
       "      <th>knu_01</th>\n",
       "      <td>대외협력팀</td>\n",
       "      <td>2023-11-09 20:00:00</td>\n",
       "    </tr>\n",
       "    <tr>\n",
       "      <th>knu_09</th>\n",
       "      <td>경영지원팀</td>\n",
       "      <td>2022-11-22 20:00:00</td>\n",
       "    </tr>\n",
       "    <tr>\n",
       "      <th>knu_01</th>\n",
       "      <td>경영지원팀</td>\n",
       "      <td>2022-11-11 20:00:00</td>\n",
       "    </tr>\n",
       "  </tbody>\n",
       "</table>\n",
       "</div>"
      ],
      "text/plain": [
       "          team                time\n",
       "mem_id                            \n",
       "knu_21   경영지원팀 2023-11-02 20:00:00\n",
       "knu_03   대외협력팀 2023-11-17 20:00:00\n",
       "knu_01   대외협력팀 2023-11-09 20:00:00\n",
       "knu_09   경영지원팀 2022-11-22 20:00:00\n",
       "knu_01   경영지원팀 2022-11-11 20:00:00"
      ]
     },
     "execution_count": 8,
     "metadata": {},
     "output_type": "execute_result"
    }
   ],
   "source": [
    "knuDF"
   ]
  },
  {
   "cell_type": "code",
   "execution_count": 9,
   "id": "cd3f9ff1-3a9f-44c1-b1ea-28c56f546368",
   "metadata": {},
   "outputs": [
    {
     "name": "stdout",
     "output_type": "stream",
     "text": [
      "<class 'pandas.core.frame.DataFrame'>\n",
      "Index: 5 entries, knu_21 to knu_01\n",
      "Data columns (total 2 columns):\n",
      " #   Column  Non-Null Count  Dtype         \n",
      "---  ------  --------------  -----         \n",
      " 0   team    5 non-null      object        \n",
      " 1   time    5 non-null      datetime64[ns]\n",
      "dtypes: datetime64[ns](1), object(1)\n",
      "memory usage: 120.0+ bytes\n"
     ]
    }
   ],
   "source": [
    "knuDF.info()"
   ]
  },
  {
   "cell_type": "code",
   "execution_count": 10,
   "id": "74a14fec-034f-4729-b9ca-4455df560938",
   "metadata": {},
   "outputs": [
    {
     "data": {
      "text/plain": [
       "Index(['knu_21', 'knu_03', 'knu_01', 'knu_09', 'knu_01'], dtype='object', name='mem_id')"
      ]
     },
     "execution_count": 10,
     "metadata": {},
     "output_type": "execute_result"
    }
   ],
   "source": [
    "knuDF.index"
   ]
  },
  {
   "cell_type": "code",
   "execution_count": 11,
   "id": "d596effb-d51b-4d8a-acf1-c35dff179dfc",
   "metadata": {},
   "outputs": [
    {
     "data": {
      "text/plain": [
       "(5, 2)"
      ]
     },
     "execution_count": 11,
     "metadata": {},
     "output_type": "execute_result"
    }
   ],
   "source": [
    "knuDF.shape"
   ]
  },
  {
   "cell_type": "code",
   "execution_count": 12,
   "id": "408392f5-ed7a-4b46-99b2-6f2d68588760",
   "metadata": {},
   "outputs": [
    {
     "data": {
      "text/plain": [
       "10"
      ]
     },
     "execution_count": 12,
     "metadata": {},
     "output_type": "execute_result"
    }
   ],
   "source": [
    "knuDF.size"
   ]
  },
  {
   "cell_type": "code",
   "execution_count": 13,
   "id": "07f3b5e3-f715-4766-95b1-3bd99a341bfb",
   "metadata": {
    "id": "07f3b5e3-f715-4766-95b1-3bd99a341bfb"
   },
   "outputs": [],
   "source": [
    "knuDF[\"team\"]=knuDF[\"team\"].astype(\"category\")"
   ]
  },
  {
   "cell_type": "code",
   "execution_count": 14,
   "id": "70f87bd2-182d-4a9f-b184-db7e1905cf55",
   "metadata": {
    "id": "70f87bd2-182d-4a9f-b184-db7e1905cf55"
   },
   "outputs": [
    {
     "name": "stdout",
     "output_type": "stream",
     "text": [
      "<class 'pandas.core.frame.DataFrame'>\n",
      "Index: 5 entries, knu_21 to knu_01\n",
      "Data columns (total 2 columns):\n",
      " #   Column  Non-Null Count  Dtype         \n",
      "---  ------  --------------  -----         \n",
      " 0   team    5 non-null      category      \n",
      " 1   time    5 non-null      datetime64[ns]\n",
      "dtypes: category(1), datetime64[ns](1)\n",
      "memory usage: 209.0+ bytes\n"
     ]
    }
   ],
   "source": [
    "knuDF.info()"
   ]
  },
  {
   "cell_type": "markdown",
   "id": "ed5b8afb-0d0e-4337-82a5-b74c857a5f67",
   "metadata": {
    "id": "ed5b8afb-0d0e-4337-82a5-b74c857a5f67"
   },
   "source": [
    "[문3] 아래 조건을 만족하는 데이터 객체를 생성하세요.\n",
    "1) 데이터 : stats_100701.xlsx\n",
    "2) 년도별 인구가 가장 많은 지역과 가장 적은 지역\n",
    "3) 6대 광역시에서 년도별 인구가 가장 많은 지역과 가장 적은 지역\n",
    "4) 8도 중 7도에서 년도별 인구가 가장 많은 지역과 가장 적은 지역"
   ]
  },
  {
   "cell_type": "code",
   "execution_count": 15,
   "id": "af3ee6dc-eb02-40b8-a175-8e5888b19109",
   "metadata": {},
   "outputs": [],
   "source": [
    "import pandas as pd\n",
    "import numpy as np"
   ]
  },
  {
   "cell_type": "code",
   "execution_count": 16,
   "id": "b8695965-4a47-45ee-9001-329c603aafb0",
   "metadata": {},
   "outputs": [],
   "source": [
    "dfile='./DATA/stats_100701.xlsx'"
   ]
  },
  {
   "cell_type": "code",
   "execution_count": 72,
   "id": "af504f23-dd74-4d1d-a65d-8b2f65792169",
   "metadata": {},
   "outputs": [],
   "source": [
    "numDF=pd.read_excel(dfile,na_filter=None,header=0,index_col=0)"
   ]
  },
  {
   "cell_type": "code",
   "execution_count": 88,
   "id": "f0274d50-1431-49e6-a4b4-f25283920f9c",
   "metadata": {},
   "outputs": [
    {
     "data": {
      "text/html": [
       "<div>\n",
       "<style scoped>\n",
       "    .dataframe tbody tr th:only-of-type {\n",
       "        vertical-align: middle;\n",
       "    }\n",
       "\n",
       "    .dataframe tbody tr th {\n",
       "        vertical-align: top;\n",
       "    }\n",
       "\n",
       "    .dataframe thead th {\n",
       "        text-align: right;\n",
       "    }\n",
       "</style>\n",
       "<table border=\"1\" class=\"dataframe\">\n",
       "  <thead>\n",
       "    <tr style=\"text-align: right;\">\n",
       "      <th></th>\n",
       "      <th>Unnamed: 1</th>\n",
       "      <th>Unnamed: 2</th>\n",
       "      <th>Unnamed: 3</th>\n",
       "      <th>Unnamed: 4</th>\n",
       "    </tr>\n",
       "  </thead>\n",
       "  <tbody>\n",
       "    <tr>\n",
       "      <th>0</th>\n",
       "      <td>2015</td>\n",
       "      <td>2016</td>\n",
       "      <td>2017</td>\n",
       "      <td>2018</td>\n",
       "    </tr>\n",
       "    <tr>\n",
       "      <th>1</th>\n",
       "      <td>51015</td>\n",
       "      <td>51218</td>\n",
       "      <td>51362</td>\n",
       "      <td>51607</td>\n",
       "    </tr>\n",
       "    <tr>\n",
       "      <th>2</th>\n",
       "      <td>9941</td>\n",
       "      <td>9843</td>\n",
       "      <td>9766</td>\n",
       "      <td>9705</td>\n",
       "    </tr>\n",
       "    <tr>\n",
       "      <th>3</th>\n",
       "      <td>3452</td>\n",
       "      <td>3447</td>\n",
       "      <td>3424</td>\n",
       "      <td>3400</td>\n",
       "    </tr>\n",
       "    <tr>\n",
       "      <th>4</th>\n",
       "      <td>2469</td>\n",
       "      <td>2461</td>\n",
       "      <td>2458</td>\n",
       "      <td>2450</td>\n",
       "    </tr>\n",
       "    <tr>\n",
       "      <th>5</th>\n",
       "      <td>2883</td>\n",
       "      <td>2907</td>\n",
       "      <td>2924</td>\n",
       "      <td>2939</td>\n",
       "    </tr>\n",
       "    <tr>\n",
       "      <th>6</th>\n",
       "      <td>1506</td>\n",
       "      <td>1502</td>\n",
       "      <td>1495</td>\n",
       "      <td>1493</td>\n",
       "    </tr>\n",
       "    <tr>\n",
       "      <th>7</th>\n",
       "      <td>1542</td>\n",
       "      <td>1536</td>\n",
       "      <td>1528</td>\n",
       "      <td>1518</td>\n",
       "    </tr>\n",
       "    <tr>\n",
       "      <th>8</th>\n",
       "      <td>1164</td>\n",
       "      <td>1166</td>\n",
       "      <td>1159</td>\n",
       "      <td>1154</td>\n",
       "    </tr>\n",
       "    <tr>\n",
       "      <th>9</th>\n",
       "      <td>187</td>\n",
       "      <td>234</td>\n",
       "      <td>266</td>\n",
       "      <td>304</td>\n",
       "    </tr>\n",
       "    <tr>\n",
       "      <th>10</th>\n",
       "      <td>12423</td>\n",
       "      <td>12600</td>\n",
       "      <td>12786</td>\n",
       "      <td>13031</td>\n",
       "    </tr>\n",
       "    <tr>\n",
       "      <th>11</th>\n",
       "      <td>1517</td>\n",
       "      <td>1521</td>\n",
       "      <td>1521</td>\n",
       "      <td>1521</td>\n",
       "    </tr>\n",
       "    <tr>\n",
       "      <th>12</th>\n",
       "      <td>1589</td>\n",
       "      <td>1601</td>\n",
       "      <td>1609</td>\n",
       "      <td>1619</td>\n",
       "    </tr>\n",
       "    <tr>\n",
       "      <th>13</th>\n",
       "      <td>2103</td>\n",
       "      <td>2126</td>\n",
       "      <td>2153</td>\n",
       "      <td>2180</td>\n",
       "    </tr>\n",
       "    <tr>\n",
       "      <th>14</th>\n",
       "      <td>1835</td>\n",
       "      <td>1835</td>\n",
       "      <td>1829</td>\n",
       "      <td>1820</td>\n",
       "    </tr>\n",
       "    <tr>\n",
       "      <th>15</th>\n",
       "      <td>1797</td>\n",
       "      <td>1798</td>\n",
       "      <td>1795</td>\n",
       "      <td>1790</td>\n",
       "    </tr>\n",
       "    <tr>\n",
       "      <th>16</th>\n",
       "      <td>2678</td>\n",
       "      <td>2683</td>\n",
       "      <td>2675</td>\n",
       "      <td>2674</td>\n",
       "    </tr>\n",
       "    <tr>\n",
       "      <th>17</th>\n",
       "      <td>3330</td>\n",
       "      <td>3338</td>\n",
       "      <td>3339</td>\n",
       "      <td>3356</td>\n",
       "    </tr>\n",
       "    <tr>\n",
       "      <th>18</th>\n",
       "      <td>599</td>\n",
       "      <td>618</td>\n",
       "      <td>635</td>\n",
       "      <td>653</td>\n",
       "    </tr>\n",
       "    <tr>\n",
       "      <th>19</th>\n",
       "      <td>25247</td>\n",
       "      <td>25350</td>\n",
       "      <td>25476</td>\n",
       "      <td>25675</td>\n",
       "    </tr>\n",
       "  </tbody>\n",
       "</table>\n",
       "</div>"
      ],
      "text/plain": [
       "    Unnamed: 1  Unnamed: 2  Unnamed: 3  Unnamed: 4\n",
       "0         2015        2016        2017        2018\n",
       "1        51015       51218       51362       51607\n",
       "2         9941        9843        9766        9705\n",
       "3         3452        3447        3424        3400\n",
       "4         2469        2461        2458        2450\n",
       "5         2883        2907        2924        2939\n",
       "6         1506        1502        1495        1493\n",
       "7         1542        1536        1528        1518\n",
       "8         1164        1166        1159        1154\n",
       "9          187         234         266         304\n",
       "10       12423       12600       12786       13031\n",
       "11        1517        1521        1521        1521\n",
       "12        1589        1601        1609        1619\n",
       "13        2103        2126        2153        2180\n",
       "14        1835        1835        1829        1820\n",
       "15        1797        1798        1795        1790\n",
       "16        2678        2683        2675        2674\n",
       "17        3330        3338        3339        3356\n",
       "18         599         618         635         653\n",
       "19       25247       25350       25476       25675"
      ]
     },
     "execution_count": 88,
     "metadata": {},
     "output_type": "execute_result"
    }
   ],
   "source": [
    "numDF.reset_index(drop=True)"
   ]
  },
  {
   "cell_type": "markdown",
   "id": "6d63d212-850f-429e-91aa-8e04b60c65ae",
   "metadata": {},
   "source": [
    "죄송합니다..."
   ]
  },
  {
   "cell_type": "code",
   "execution_count": null,
   "id": "ad3c321d-8351-4e93-b1ea-af0a0eec8242",
   "metadata": {},
   "outputs": [],
   "source": []
  },
  {
   "cell_type": "code",
   "execution_count": null,
   "id": "2cd661f6-d383-437f-9bcf-751bbe864729",
   "metadata": {},
   "outputs": [],
   "source": [
    "numDF.info()"
   ]
  },
  {
   "cell_type": "markdown",
   "id": "6f694094-19ef-4c06-a0d2-2a547a29be4e",
   "metadata": {
    "id": "6f694094-19ef-4c06-a0d2-2a547a29be4e"
   },
   "source": [
    "[문4] 아래 조건을 만족하는 데이터 객체를 생성하세요.\n",
    "1) 데이터 : stock price.xlsx\n",
    "2) 데이터 로딩 시 인덱스로 사용할 수 있는 컬럼 설정\n",
    "3) 결측치 처리 =>\n",
    "   (가) 1개라도 NaN이면 모두 제거 / price가 NaN이면 제거 / value가 10000이하면 제거\n",
    "   (나) 평균값으로 결측치 대체, 이전/이후 값으로 결측치 대체\n",
    "4) value가 1000이하 이거나 price가 90000이상인 데이터"
   ]
  },
  {
   "cell_type": "code",
   "execution_count": 40,
   "id": "fa648dd9-a90d-48cb-9080-ea3b1d3d539b",
   "metadata": {
    "id": "fa648dd9-a90d-48cb-9080-ea3b1d3d539b"
   },
   "outputs": [],
   "source": [
    "import pandas as pd\n",
    "import numpy as np"
   ]
  },
  {
   "cell_type": "code",
   "execution_count": 41,
   "id": "a91524eb-e063-4fc2-9bb7-c39443d9ecdd",
   "metadata": {
    "id": "a91524eb-e063-4fc2-9bb7-c39443d9ecdd"
   },
   "outputs": [],
   "source": [
    "datafile='./DATA/stock price.xlsx'"
   ]
  },
  {
   "cell_type": "code",
   "execution_count": 52,
   "id": "dd69ae0e-a269-4457-8fc0-af8d0be3b4f5",
   "metadata": {
    "id": "dd69ae0e-a269-4457-8fc0-af8d0be3b4f5"
   },
   "outputs": [],
   "source": [
    "stock=pd.read_excel(datafile,index_col=0)"
   ]
  },
  {
   "cell_type": "code",
   "execution_count": 53,
   "id": "bd754f83-54e8-48e4-9a67-3ef2ed65f567",
   "metadata": {},
   "outputs": [
    {
     "data": {
      "text/html": [
       "<div>\n",
       "<style scoped>\n",
       "    .dataframe tbody tr th:only-of-type {\n",
       "        vertical-align: middle;\n",
       "    }\n",
       "\n",
       "    .dataframe tbody tr th {\n",
       "        vertical-align: top;\n",
       "    }\n",
       "\n",
       "    .dataframe thead th {\n",
       "        text-align: right;\n",
       "    }\n",
       "</style>\n",
       "<table border=\"1\" class=\"dataframe\">\n",
       "  <thead>\n",
       "    <tr style=\"text-align: right;\">\n",
       "      <th></th>\n",
       "      <th>stock_name</th>\n",
       "      <th>value</th>\n",
       "      <th>price</th>\n",
       "    </tr>\n",
       "    <tr>\n",
       "      <th>id</th>\n",
       "      <th></th>\n",
       "      <th></th>\n",
       "      <th></th>\n",
       "    </tr>\n",
       "  </thead>\n",
       "  <tbody>\n",
       "    <tr>\n",
       "      <th>128940</th>\n",
       "      <td>한미약품</td>\n",
       "      <td>59385.666667</td>\n",
       "      <td>421000.0</td>\n",
       "    </tr>\n",
       "    <tr>\n",
       "      <th>138040</th>\n",
       "      <td>메리츠금융지주</td>\n",
       "      <td>827.500000</td>\n",
       "      <td>NaN</td>\n",
       "    </tr>\n",
       "    <tr>\n",
       "      <th>130960</th>\n",
       "      <td>CJ E&amp;M</td>\n",
       "      <td>58540.666667</td>\n",
       "      <td>98900.0</td>\n",
       "    </tr>\n",
       "    <tr>\n",
       "      <th>138250</th>\n",
       "      <td>엔에스쇼핑</td>\n",
       "      <td>14558.666667</td>\n",
       "      <td>13200.0</td>\n",
       "    </tr>\n",
       "    <tr>\n",
       "      <th>139480</th>\n",
       "      <td>이마트</td>\n",
       "      <td>239230.833333</td>\n",
       "      <td>254500.0</td>\n",
       "    </tr>\n",
       "    <tr>\n",
       "      <th>142280</th>\n",
       "      <td>녹십자엠에스</td>\n",
       "      <td>468.833333</td>\n",
       "      <td>10200.0</td>\n",
       "    </tr>\n",
       "    <tr>\n",
       "      <th>145990</th>\n",
       "      <td>삼양사</td>\n",
       "      <td>82750.000000</td>\n",
       "      <td>82000.0</td>\n",
       "    </tr>\n",
       "    <tr>\n",
       "      <th>181710</th>\n",
       "      <td>NHN엔터테인먼트</td>\n",
       "      <td>NaN</td>\n",
       "      <td>NaN</td>\n",
       "    </tr>\n",
       "    <tr>\n",
       "      <th>185750</th>\n",
       "      <td>종근당</td>\n",
       "      <td>40293.666667</td>\n",
       "      <td>100500.0</td>\n",
       "    </tr>\n",
       "    <tr>\n",
       "      <th>192400</th>\n",
       "      <td>쿠쿠홀딩스</td>\n",
       "      <td>179204.666667</td>\n",
       "      <td>177500.0</td>\n",
       "    </tr>\n",
       "    <tr>\n",
       "      <th>199800</th>\n",
       "      <td>툴젠</td>\n",
       "      <td>-2514.333333</td>\n",
       "      <td>115400.0</td>\n",
       "    </tr>\n",
       "    <tr>\n",
       "      <th>204210</th>\n",
       "      <td>모두투어리츠</td>\n",
       "      <td>3093.333333</td>\n",
       "      <td>3475.0</td>\n",
       "    </tr>\n",
       "    <tr>\n",
       "      <th>207940</th>\n",
       "      <td>삼성바이오로직스</td>\n",
       "      <td>NaN</td>\n",
       "      <td>91900.0</td>\n",
       "    </tr>\n",
       "  </tbody>\n",
       "</table>\n",
       "</div>"
      ],
      "text/plain": [
       "       stock_name          value     price\n",
       "id                                        \n",
       "128940       한미약품   59385.666667  421000.0\n",
       "138040    메리츠금융지주     827.500000       NaN\n",
       "130960     CJ E&M   58540.666667   98900.0\n",
       "138250      엔에스쇼핑   14558.666667   13200.0\n",
       "139480        이마트  239230.833333  254500.0\n",
       "142280     녹십자엠에스     468.833333   10200.0\n",
       "145990        삼양사   82750.000000   82000.0\n",
       "181710  NHN엔터테인먼트            NaN       NaN\n",
       "185750        종근당   40293.666667  100500.0\n",
       "192400      쿠쿠홀딩스  179204.666667  177500.0\n",
       "199800         툴젠   -2514.333333  115400.0\n",
       "204210     모두투어리츠    3093.333333    3475.0\n",
       "207940   삼성바이오로직스            NaN   91900.0"
      ]
     },
     "execution_count": 53,
     "metadata": {},
     "output_type": "execute_result"
    }
   ],
   "source": [
    "stock"
   ]
  },
  {
   "cell_type": "markdown",
   "id": "84e013f2-2bba-43e8-a87c-4ce3f44afaa4",
   "metadata": {},
   "source": [
    "3) 결측치 처리 =>\n",
    "   (가) 1개라도 NaN이면 모두 제거 / price가 NaN이면 제거 / value가 10000이하면 제거\n",
    "   (나) 평균값으로 결측치 대체, 이전/이후 값으로 결측치 대체"
   ]
  },
  {
   "cell_type": "code",
   "execution_count": 59,
   "id": "0a622917-6a8d-400b-bb7a-33ba51cce33e",
   "metadata": {},
   "outputs": [
    {
     "data": {
      "text/html": [
       "<div>\n",
       "<style scoped>\n",
       "    .dataframe tbody tr th:only-of-type {\n",
       "        vertical-align: middle;\n",
       "    }\n",
       "\n",
       "    .dataframe tbody tr th {\n",
       "        vertical-align: top;\n",
       "    }\n",
       "\n",
       "    .dataframe thead th {\n",
       "        text-align: right;\n",
       "    }\n",
       "</style>\n",
       "<table border=\"1\" class=\"dataframe\">\n",
       "  <thead>\n",
       "    <tr style=\"text-align: right;\">\n",
       "      <th></th>\n",
       "      <th>stock_name</th>\n",
       "      <th>value</th>\n",
       "      <th>price</th>\n",
       "    </tr>\n",
       "    <tr>\n",
       "      <th>id</th>\n",
       "      <th></th>\n",
       "      <th></th>\n",
       "      <th></th>\n",
       "    </tr>\n",
       "  </thead>\n",
       "  <tbody>\n",
       "    <tr>\n",
       "      <th>128940</th>\n",
       "      <td>한미약품</td>\n",
       "      <td>59385.666667</td>\n",
       "      <td>421000.0</td>\n",
       "    </tr>\n",
       "    <tr>\n",
       "      <th>130960</th>\n",
       "      <td>CJ E&amp;M</td>\n",
       "      <td>58540.666667</td>\n",
       "      <td>98900.0</td>\n",
       "    </tr>\n",
       "    <tr>\n",
       "      <th>138250</th>\n",
       "      <td>엔에스쇼핑</td>\n",
       "      <td>14558.666667</td>\n",
       "      <td>13200.0</td>\n",
       "    </tr>\n",
       "    <tr>\n",
       "      <th>139480</th>\n",
       "      <td>이마트</td>\n",
       "      <td>239230.833333</td>\n",
       "      <td>254500.0</td>\n",
       "    </tr>\n",
       "    <tr>\n",
       "      <th>142280</th>\n",
       "      <td>녹십자엠에스</td>\n",
       "      <td>468.833333</td>\n",
       "      <td>10200.0</td>\n",
       "    </tr>\n",
       "    <tr>\n",
       "      <th>145990</th>\n",
       "      <td>삼양사</td>\n",
       "      <td>82750.000000</td>\n",
       "      <td>82000.0</td>\n",
       "    </tr>\n",
       "    <tr>\n",
       "      <th>185750</th>\n",
       "      <td>종근당</td>\n",
       "      <td>40293.666667</td>\n",
       "      <td>100500.0</td>\n",
       "    </tr>\n",
       "    <tr>\n",
       "      <th>192400</th>\n",
       "      <td>쿠쿠홀딩스</td>\n",
       "      <td>179204.666667</td>\n",
       "      <td>177500.0</td>\n",
       "    </tr>\n",
       "    <tr>\n",
       "      <th>199800</th>\n",
       "      <td>툴젠</td>\n",
       "      <td>-2514.333333</td>\n",
       "      <td>115400.0</td>\n",
       "    </tr>\n",
       "    <tr>\n",
       "      <th>204210</th>\n",
       "      <td>모두투어리츠</td>\n",
       "      <td>3093.333333</td>\n",
       "      <td>3475.0</td>\n",
       "    </tr>\n",
       "  </tbody>\n",
       "</table>\n",
       "</div>"
      ],
      "text/plain": [
       "       stock_name          value     price\n",
       "id                                        \n",
       "128940       한미약품   59385.666667  421000.0\n",
       "130960     CJ E&M   58540.666667   98900.0\n",
       "138250      엔에스쇼핑   14558.666667   13200.0\n",
       "139480        이마트  239230.833333  254500.0\n",
       "142280     녹십자엠에스     468.833333   10200.0\n",
       "145990        삼양사   82750.000000   82000.0\n",
       "185750        종근당   40293.666667  100500.0\n",
       "192400      쿠쿠홀딩스  179204.666667  177500.0\n",
       "199800         툴젠   -2514.333333  115400.0\n",
       "204210     모두투어리츠    3093.333333    3475.0"
      ]
     },
     "execution_count": 59,
     "metadata": {},
     "output_type": "execute_result"
    }
   ],
   "source": [
    "stock.dropna(how='any')"
   ]
  },
  {
   "cell_type": "code",
   "execution_count": 60,
   "id": "e70a5f37-b3a6-4427-a386-489c18d66c92",
   "metadata": {},
   "outputs": [
    {
     "data": {
      "text/html": [
       "<div>\n",
       "<style scoped>\n",
       "    .dataframe tbody tr th:only-of-type {\n",
       "        vertical-align: middle;\n",
       "    }\n",
       "\n",
       "    .dataframe tbody tr th {\n",
       "        vertical-align: top;\n",
       "    }\n",
       "\n",
       "    .dataframe thead th {\n",
       "        text-align: right;\n",
       "    }\n",
       "</style>\n",
       "<table border=\"1\" class=\"dataframe\">\n",
       "  <thead>\n",
       "    <tr style=\"text-align: right;\">\n",
       "      <th></th>\n",
       "      <th>stock_name</th>\n",
       "      <th>value</th>\n",
       "      <th>price</th>\n",
       "    </tr>\n",
       "    <tr>\n",
       "      <th>id</th>\n",
       "      <th></th>\n",
       "      <th></th>\n",
       "      <th></th>\n",
       "    </tr>\n",
       "  </thead>\n",
       "  <tbody>\n",
       "    <tr>\n",
       "      <th>128940</th>\n",
       "      <td>한미약품</td>\n",
       "      <td>59385.666667</td>\n",
       "      <td>421000.0</td>\n",
       "    </tr>\n",
       "    <tr>\n",
       "      <th>130960</th>\n",
       "      <td>CJ E&amp;M</td>\n",
       "      <td>58540.666667</td>\n",
       "      <td>98900.0</td>\n",
       "    </tr>\n",
       "    <tr>\n",
       "      <th>138250</th>\n",
       "      <td>엔에스쇼핑</td>\n",
       "      <td>14558.666667</td>\n",
       "      <td>13200.0</td>\n",
       "    </tr>\n",
       "    <tr>\n",
       "      <th>139480</th>\n",
       "      <td>이마트</td>\n",
       "      <td>239230.833333</td>\n",
       "      <td>254500.0</td>\n",
       "    </tr>\n",
       "    <tr>\n",
       "      <th>142280</th>\n",
       "      <td>녹십자엠에스</td>\n",
       "      <td>468.833333</td>\n",
       "      <td>10200.0</td>\n",
       "    </tr>\n",
       "    <tr>\n",
       "      <th>145990</th>\n",
       "      <td>삼양사</td>\n",
       "      <td>82750.000000</td>\n",
       "      <td>82000.0</td>\n",
       "    </tr>\n",
       "    <tr>\n",
       "      <th>185750</th>\n",
       "      <td>종근당</td>\n",
       "      <td>40293.666667</td>\n",
       "      <td>100500.0</td>\n",
       "    </tr>\n",
       "    <tr>\n",
       "      <th>192400</th>\n",
       "      <td>쿠쿠홀딩스</td>\n",
       "      <td>179204.666667</td>\n",
       "      <td>177500.0</td>\n",
       "    </tr>\n",
       "    <tr>\n",
       "      <th>199800</th>\n",
       "      <td>툴젠</td>\n",
       "      <td>-2514.333333</td>\n",
       "      <td>115400.0</td>\n",
       "    </tr>\n",
       "    <tr>\n",
       "      <th>204210</th>\n",
       "      <td>모두투어리츠</td>\n",
       "      <td>3093.333333</td>\n",
       "      <td>3475.0</td>\n",
       "    </tr>\n",
       "    <tr>\n",
       "      <th>207940</th>\n",
       "      <td>삼성바이오로직스</td>\n",
       "      <td>NaN</td>\n",
       "      <td>91900.0</td>\n",
       "    </tr>\n",
       "  </tbody>\n",
       "</table>\n",
       "</div>"
      ],
      "text/plain": [
       "       stock_name          value     price\n",
       "id                                        \n",
       "128940       한미약품   59385.666667  421000.0\n",
       "130960     CJ E&M   58540.666667   98900.0\n",
       "138250      엔에스쇼핑   14558.666667   13200.0\n",
       "139480        이마트  239230.833333  254500.0\n",
       "142280     녹십자엠에스     468.833333   10200.0\n",
       "145990        삼양사   82750.000000   82000.0\n",
       "185750        종근당   40293.666667  100500.0\n",
       "192400      쿠쿠홀딩스  179204.666667  177500.0\n",
       "199800         툴젠   -2514.333333  115400.0\n",
       "204210     모두투어리츠    3093.333333    3475.0\n",
       "207940   삼성바이오로직스            NaN   91900.0"
      ]
     },
     "execution_count": 60,
     "metadata": {},
     "output_type": "execute_result"
    }
   ],
   "source": [
    "stock.dropna(subset=['price'],how='all')"
   ]
  },
  {
   "cell_type": "markdown",
   "id": "34d3df0b-42f6-4a50-86ee-96ac92f66de2",
   "metadata": {},
   "source": [
    "(가)"
   ]
  },
  {
   "cell_type": "code",
   "execution_count": 66,
   "id": "1f3f917a-6c2a-4e83-b834-3b6e9512e661",
   "metadata": {},
   "outputs": [
    {
     "data": {
      "text/html": [
       "<div>\n",
       "<style scoped>\n",
       "    .dataframe tbody tr th:only-of-type {\n",
       "        vertical-align: middle;\n",
       "    }\n",
       "\n",
       "    .dataframe tbody tr th {\n",
       "        vertical-align: top;\n",
       "    }\n",
       "\n",
       "    .dataframe thead th {\n",
       "        text-align: right;\n",
       "    }\n",
       "</style>\n",
       "<table border=\"1\" class=\"dataframe\">\n",
       "  <thead>\n",
       "    <tr style=\"text-align: right;\">\n",
       "      <th></th>\n",
       "      <th>stock_name</th>\n",
       "      <th>value</th>\n",
       "      <th>price</th>\n",
       "    </tr>\n",
       "    <tr>\n",
       "      <th>id</th>\n",
       "      <th></th>\n",
       "      <th></th>\n",
       "      <th></th>\n",
       "    </tr>\n",
       "  </thead>\n",
       "  <tbody>\n",
       "    <tr>\n",
       "      <th>128940</th>\n",
       "      <td>한미약품</td>\n",
       "      <td>59385.666667</td>\n",
       "      <td>421000.0</td>\n",
       "    </tr>\n",
       "    <tr>\n",
       "      <th>130960</th>\n",
       "      <td>CJ E&amp;M</td>\n",
       "      <td>58540.666667</td>\n",
       "      <td>98900.0</td>\n",
       "    </tr>\n",
       "    <tr>\n",
       "      <th>138250</th>\n",
       "      <td>엔에스쇼핑</td>\n",
       "      <td>14558.666667</td>\n",
       "      <td>13200.0</td>\n",
       "    </tr>\n",
       "    <tr>\n",
       "      <th>139480</th>\n",
       "      <td>이마트</td>\n",
       "      <td>239230.833333</td>\n",
       "      <td>254500.0</td>\n",
       "    </tr>\n",
       "    <tr>\n",
       "      <th>145990</th>\n",
       "      <td>삼양사</td>\n",
       "      <td>82750.000000</td>\n",
       "      <td>82000.0</td>\n",
       "    </tr>\n",
       "    <tr>\n",
       "      <th>185750</th>\n",
       "      <td>종근당</td>\n",
       "      <td>40293.666667</td>\n",
       "      <td>100500.0</td>\n",
       "    </tr>\n",
       "    <tr>\n",
       "      <th>192400</th>\n",
       "      <td>쿠쿠홀딩스</td>\n",
       "      <td>179204.666667</td>\n",
       "      <td>177500.0</td>\n",
       "    </tr>\n",
       "  </tbody>\n",
       "</table>\n",
       "</div>"
      ],
      "text/plain": [
       "       stock_name          value     price\n",
       "id                                        \n",
       "128940       한미약품   59385.666667  421000.0\n",
       "130960     CJ E&M   58540.666667   98900.0\n",
       "138250      엔에스쇼핑   14558.666667   13200.0\n",
       "139480        이마트  239230.833333  254500.0\n",
       "145990        삼양사   82750.000000   82000.0\n",
       "185750        종근당   40293.666667  100500.0\n",
       "192400      쿠쿠홀딩스  179204.666667  177500.0"
      ]
     },
     "execution_count": 66,
     "metadata": {},
     "output_type": "execute_result"
    }
   ],
   "source": [
    "stockmask=stock[\"value\"]>10000\n",
    "stock=stock[stockmask]\n",
    "stock"
   ]
  },
  {
   "cell_type": "markdown",
   "id": "9af3e91a-1138-43de-a2a4-14f94e40ff5f",
   "metadata": {},
   "source": [
    "#### 4) value가 1000이하 이거나 price가 90000이상인 데이터"
   ]
  },
  {
   "cell_type": "code",
   "execution_count": 67,
   "id": "981afed9-4e18-49f0-8f79-a42dbe3cdcc2",
   "metadata": {},
   "outputs": [
    {
     "data": {
      "text/html": [
       "<div>\n",
       "<style scoped>\n",
       "    .dataframe tbody tr th:only-of-type {\n",
       "        vertical-align: middle;\n",
       "    }\n",
       "\n",
       "    .dataframe tbody tr th {\n",
       "        vertical-align: top;\n",
       "    }\n",
       "\n",
       "    .dataframe thead th {\n",
       "        text-align: right;\n",
       "    }\n",
       "</style>\n",
       "<table border=\"1\" class=\"dataframe\">\n",
       "  <thead>\n",
       "    <tr style=\"text-align: right;\">\n",
       "      <th></th>\n",
       "      <th>stock_name</th>\n",
       "      <th>value</th>\n",
       "      <th>price</th>\n",
       "    </tr>\n",
       "    <tr>\n",
       "      <th>id</th>\n",
       "      <th></th>\n",
       "      <th></th>\n",
       "      <th></th>\n",
       "    </tr>\n",
       "  </thead>\n",
       "  <tbody>\n",
       "    <tr>\n",
       "      <th>139480</th>\n",
       "      <td>이마트</td>\n",
       "      <td>239230.833333</td>\n",
       "      <td>254500.0</td>\n",
       "    </tr>\n",
       "    <tr>\n",
       "      <th>192400</th>\n",
       "      <td>쿠쿠홀딩스</td>\n",
       "      <td>179204.666667</td>\n",
       "      <td>177500.0</td>\n",
       "    </tr>\n",
       "  </tbody>\n",
       "</table>\n",
       "</div>"
      ],
      "text/plain": [
       "       stock_name          value     price\n",
       "id                                        \n",
       "139480        이마트  239230.833333  254500.0\n",
       "192400      쿠쿠홀딩스  179204.666667  177500.0"
      ]
     },
     "execution_count": 67,
     "metadata": {},
     "output_type": "execute_result"
    }
   ],
   "source": [
    "stockmasku1000=stock['value']<=1000\n",
    "stockmaskup90000=stock['value']>=90000\n",
    "stock[stockmasku1000|stockmaskup90000]"
   ]
  },
  {
   "cell_type": "code",
   "execution_count": null,
   "id": "d16e34a2-5545-4f17-bf36-3c5e2c177147",
   "metadata": {},
   "outputs": [],
   "source": []
  },
  {
   "cell_type": "code",
   "execution_count": null,
   "id": "f96c1d46-0dbf-427d-9f12-dde08fbcd9f4",
   "metadata": {},
   "outputs": [],
   "source": []
  }
 ],
 "metadata": {
  "colab": {
   "provenance": []
  },
  "kernelspec": {
   "display_name": "Python 3 (ipykernel)",
   "language": "python",
   "name": "python3"
  },
  "language_info": {
   "codemirror_mode": {
    "name": "ipython",
    "version": 3
   },
   "file_extension": ".py",
   "mimetype": "text/x-python",
   "name": "python",
   "nbconvert_exporter": "python",
   "pygments_lexer": "ipython3",
   "version": "3.8.18"
  }
 },
 "nbformat": 4,
 "nbformat_minor": 5
}
