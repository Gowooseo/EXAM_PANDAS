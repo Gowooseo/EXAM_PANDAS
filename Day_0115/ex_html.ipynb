{
 "cells": [
  {
   "cell_type": "markdown",
   "id": "b42767bb-7484-446f-a799-d4fb331550f3",
   "metadata": {},
   "source": [
    "## [HTML ==> DataFrame으로 저장]"
   ]
  },
  {
   "cell_type": "markdown",
   "id": "a8fe4c0e-d8b1-4648-91fa-2018e00e83c7",
   "metadata": {},
   "source": [
    "(1) 모듈 로딩<hr>"
   ]
  },
  {
   "cell_type": "code",
   "execution_count": 1,
   "id": "4477703a-4e45-4dee-9730-ab2e19d2fbc0",
   "metadata": {},
   "outputs": [],
   "source": [
    "import pandas as pd"
   ]
  },
  {
   "cell_type": "markdown",
   "id": "52ed6121-a111-41f0-9e48-0dce837be0e3",
   "metadata": {},
   "source": [
    "(2) 데이터 준비"
   ]
  },
  {
   "cell_type": "code",
   "execution_count": 2,
   "id": "da794b8c-17e9-4099-91d5-7d1629eb8b5b",
   "metadata": {},
   "outputs": [],
   "source": [
    "file=\"../DATA/test.html\""
   ]
  },
  {
   "cell_type": "markdown",
   "id": "aa39f09d-fe82-4247-a2af-c06a446c0d8b",
   "metadata": {},
   "source": [
    "(3) html=> DataFrame으로 저장"
   ]
  },
  {
   "cell_type": "code",
   "execution_count": 8,
   "id": "81f6a301-b835-4007-9fa6-294e5073fd73",
   "metadata": {},
   "outputs": [],
   "source": [
    "import lxml"
   ]
  },
  {
   "cell_type": "code",
   "execution_count": 37,
   "id": "687e24e2-392d-477f-95d6-56ee10eb6ecc",
   "metadata": {},
   "outputs": [
    {
     "data": {
      "text/html": [
       "<div>\n",
       "<style scoped>\n",
       "    .dataframe tbody tr th:only-of-type {\n",
       "        vertical-align: middle;\n",
       "    }\n",
       "\n",
       "    .dataframe tbody tr th {\n",
       "        vertical-align: top;\n",
       "    }\n",
       "\n",
       "    .dataframe thead th {\n",
       "        text-align: right;\n",
       "    }\n",
       "</style>\n",
       "<table border=\"1\" class=\"dataframe\">\n",
       "  <thead>\n",
       "    <tr style=\"text-align: right;\">\n",
       "      <th></th>\n",
       "      <th>번호</th>\n",
       "      <th>이름</th>\n",
       "      <th>전공</th>\n",
       "    </tr>\n",
       "  </thead>\n",
       "  <tbody>\n",
       "    <tr>\n",
       "      <th>0</th>\n",
       "      <td>1</td>\n",
       "      <td>홍길동</td>\n",
       "      <td>의적</td>\n",
       "    </tr>\n",
       "    <tr>\n",
       "      <th>1</th>\n",
       "      <td>2</td>\n",
       "      <td>마징가</td>\n",
       "      <td>로봇</td>\n",
       "    </tr>\n",
       "    <tr>\n",
       "      <th>2</th>\n",
       "      <td>4</td>\n",
       "      <td>베트맨</td>\n",
       "      <td>박쥐</td>\n",
       "    </tr>\n",
       "    <tr>\n",
       "      <th>3</th>\n",
       "      <td>5</td>\n",
       "      <td>스파이더맨</td>\n",
       "      <td>거미</td>\n",
       "    </tr>\n",
       "  </tbody>\n",
       "</table>\n",
       "</div>"
      ],
      "text/plain": [
       "   번호     이름  전공\n",
       "0   1    홍길동  의적\n",
       "1   2    마징가  로봇\n",
       "2   4    베트맨  박쥐\n",
       "3   5  스파이더맨  거미"
      ]
     },
     "execution_count": 37,
     "metadata": {},
     "output_type": "execute_result"
    }
   ],
   "source": [
    "testDF[0].head()"
   ]
  },
  {
   "cell_type": "code",
   "execution_count": 36,
   "id": "382af7e9-c21e-4ba5-be43-657026150d11",
   "metadata": {},
   "outputs": [
    {
     "data": {
      "text/plain": [
       "[   번호     이름  전공\n",
       " 0   1    홍길동  의적\n",
       " 1   2    마징가  로봇\n",
       " 2   4    베트맨  박쥐\n",
       " 3   5  스파이더맨  거미,\n",
       "    과일명    가격  수량\n",
       " 0   사과  1000  32\n",
       " 1  바나나  3000  10\n",
       " 2   수박  5800   2]"
      ]
     },
     "execution_count": 36,
     "metadata": {},
     "output_type": "execute_result"
    }
   ],
   "source": [
    "testDF=pd.read_html(file,encoding='utf-8',header=0)\n",
    "testDF"
   ]
  },
  {
   "cell_type": "code",
   "execution_count": 32,
   "id": "cffcc635-c8e3-47c7-994a-95c0b0ff9170",
   "metadata": {},
   "outputs": [
    {
     "name": "stdout",
     "output_type": "stream",
     "text": [
      "<class 'list'>\n"
     ]
    }
   ],
   "source": [
    "print(type(testDF))"
   ]
  },
  {
   "cell_type": "code",
   "execution_count": null,
   "id": "7ef27f59-ab5f-4d96-bfcd-4b30a3dd9bf0",
   "metadata": {},
   "outputs": [],
   "source": []
  }
 ],
 "metadata": {
  "kernelspec": {
   "display_name": "Python 3 (ipykernel)",
   "language": "python",
   "name": "python3"
  },
  "language_info": {
   "codemirror_mode": {
    "name": "ipython",
    "version": 3
   },
   "file_extension": ".py",
   "mimetype": "text/x-python",
   "name": "python",
   "nbconvert_exporter": "python",
   "pygments_lexer": "ipython3",
   "version": "3.8.18"
  }
 },
 "nbformat": 4,
 "nbformat_minor": 5
}
