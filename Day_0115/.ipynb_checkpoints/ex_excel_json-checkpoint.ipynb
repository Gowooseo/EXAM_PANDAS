{
 "cells": [
  {
   "cell_type": "markdown",
   "id": "9604f46a-cef7-45d8-a3ce-5b001a2d4cb5",
   "metadata": {},
   "source": [
    "## [Excel => DataFrame 저장 다루기] "
   ]
  },
  {
   "cell_type": "markdown",
   "id": "45e12467-896b-453c-a50d-90d1f7d6ae3b",
   "metadata": {},
   "source": [
    "(1) 모듈 로딩 <hr>"
   ]
  },
  {
   "cell_type": "code",
   "execution_count": 1,
   "id": "8dbffbae-a8f1-4af6-ae69-3d8e5ca25049",
   "metadata": {},
   "outputs": [],
   "source": [
    "import pandas as pd"
   ]
  },
  {
   "cell_type": "markdown",
   "id": "054d6771-bffd-4765-af0b-3a13570d9f49",
   "metadata": {},
   "source": [
    "(2) 데이터 준비"
   ]
  },
  {
   "cell_type": "code",
   "execution_count": 2,
   "id": "fea421a9-0f43-4eaa-8a63-7bec4003f5e7",
   "metadata": {},
   "outputs": [],
   "source": [
    "file1='../DATA/Single Worksheet.xlsx'\n",
    "file2='../DATA/Multiple Worksheets.xlsx'"
   ]
  },
  {
   "cell_type": "markdown",
   "id": "8d22ca9f-e164-4c85-96c9-3fe598aeeb95",
   "metadata": {},
   "source": [
    "(3) Excel=> DataFrame 저장하기"
   ]
  },
  {
   "cell_type": "code",
   "execution_count": 3,
   "id": "bab7a9ea-d1fe-4541-90ec-55ebec824cfa",
   "metadata": {},
   "outputs": [
    {
     "data": {
      "text/html": [
       "<div>\n",
       "<style scoped>\n",
       "    .dataframe tbody tr th:only-of-type {\n",
       "        vertical-align: middle;\n",
       "    }\n",
       "\n",
       "    .dataframe tbody tr th {\n",
       "        vertical-align: top;\n",
       "    }\n",
       "\n",
       "    .dataframe thead th {\n",
       "        text-align: right;\n",
       "    }\n",
       "</style>\n",
       "<table border=\"1\" class=\"dataframe\">\n",
       "  <thead>\n",
       "    <tr style=\"text-align: right;\">\n",
       "      <th></th>\n",
       "      <th>1</th>\n",
       "      <th>3</th>\n",
       "    </tr>\n",
       "  </thead>\n",
       "  <tbody>\n",
       "    <tr>\n",
       "      <th>0</th>\n",
       "      <td>Last Name</td>\n",
       "      <td>Gender</td>\n",
       "    </tr>\n",
       "    <tr>\n",
       "      <th>1</th>\n",
       "      <td>James</td>\n",
       "      <td>M</td>\n",
       "    </tr>\n",
       "    <tr>\n",
       "      <th>2</th>\n",
       "      <td>Hawkins</td>\n",
       "      <td>M</td>\n",
       "    </tr>\n",
       "    <tr>\n",
       "      <th>3</th>\n",
       "      <td>Day</td>\n",
       "      <td>F</td>\n",
       "    </tr>\n",
       "    <tr>\n",
       "      <th>4</th>\n",
       "      <td>Ruiz</td>\n",
       "      <td>F</td>\n",
       "    </tr>\n",
       "    <tr>\n",
       "      <th>5</th>\n",
       "      <td>Gomez</td>\n",
       "      <td>F</td>\n",
       "    </tr>\n",
       "  </tbody>\n",
       "</table>\n",
       "</div>"
      ],
      "text/plain": [
       "           1       3\n",
       "0  Last Name  Gender\n",
       "1      James       M\n",
       "2    Hawkins       M\n",
       "3        Day       F\n",
       "4       Ruiz       F\n",
       "5      Gomez       F"
      ]
     },
     "execution_count": 3,
     "metadata": {},
     "output_type": "execute_result"
    }
   ],
   "source": [
    "pd.read_excel(file1,header=None,usecols=[1,3])"
   ]
  },
  {
   "cell_type": "code",
   "execution_count": 4,
   "id": "f6876663-5cc7-42b2-bcee-4cee84f427a7",
   "metadata": {},
   "outputs": [
    {
     "data": {
      "text/html": [
       "<div>\n",
       "<style scoped>\n",
       "    .dataframe tbody tr th:only-of-type {\n",
       "        vertical-align: middle;\n",
       "    }\n",
       "\n",
       "    .dataframe tbody tr th {\n",
       "        vertical-align: top;\n",
       "    }\n",
       "\n",
       "    .dataframe thead th {\n",
       "        text-align: right;\n",
       "    }\n",
       "</style>\n",
       "<table border=\"1\" class=\"dataframe\">\n",
       "  <thead>\n",
       "    <tr style=\"text-align: right;\">\n",
       "      <th></th>\n",
       "      <th>First Name</th>\n",
       "      <th>Last Name</th>\n",
       "      <th>City</th>\n",
       "      <th>Gender</th>\n",
       "    </tr>\n",
       "  </thead>\n",
       "  <tbody>\n",
       "    <tr>\n",
       "      <th>0</th>\n",
       "      <td>Brandon</td>\n",
       "      <td>James</td>\n",
       "      <td>Miami</td>\n",
       "      <td>M</td>\n",
       "    </tr>\n",
       "    <tr>\n",
       "      <th>1</th>\n",
       "      <td>Sean</td>\n",
       "      <td>Hawkins</td>\n",
       "      <td>Denver</td>\n",
       "      <td>M</td>\n",
       "    </tr>\n",
       "    <tr>\n",
       "      <th>2</th>\n",
       "      <td>Judy</td>\n",
       "      <td>Day</td>\n",
       "      <td>Los Angeles</td>\n",
       "      <td>F</td>\n",
       "    </tr>\n",
       "    <tr>\n",
       "      <th>3</th>\n",
       "      <td>Ashley</td>\n",
       "      <td>Ruiz</td>\n",
       "      <td>San Francisco</td>\n",
       "      <td>F</td>\n",
       "    </tr>\n",
       "    <tr>\n",
       "      <th>4</th>\n",
       "      <td>Stephanie</td>\n",
       "      <td>Gomez</td>\n",
       "      <td>Portland</td>\n",
       "      <td>F</td>\n",
       "    </tr>\n",
       "  </tbody>\n",
       "</table>\n",
       "</div>"
      ],
      "text/plain": [
       "  First Name Last Name           City Gender\n",
       "0    Brandon     James          Miami      M\n",
       "1       Sean   Hawkins         Denver      M\n",
       "2       Judy       Day    Los Angeles      F\n",
       "3     Ashley      Ruiz  San Francisco      F\n",
       "4  Stephanie     Gomez       Portland      F"
      ]
     },
     "execution_count": 4,
     "metadata": {},
     "output_type": "execute_result"
    }
   ],
   "source": [
    "pd.read_excel(file2)"
   ]
  },
  {
   "cell_type": "code",
   "execution_count": 5,
   "id": "7ff56aff-f814-4061-b991-87f110f0c58f",
   "metadata": {},
   "outputs": [
    {
     "data": {
      "text/html": [
       "<div>\n",
       "<style scoped>\n",
       "    .dataframe tbody tr th:only-of-type {\n",
       "        vertical-align: middle;\n",
       "    }\n",
       "\n",
       "    .dataframe tbody tr th {\n",
       "        vertical-align: top;\n",
       "    }\n",
       "\n",
       "    .dataframe thead th {\n",
       "        text-align: right;\n",
       "    }\n",
       "</style>\n",
       "<table border=\"1\" class=\"dataframe\">\n",
       "  <thead>\n",
       "    <tr style=\"text-align: right;\">\n",
       "      <th></th>\n",
       "      <th>First Name</th>\n",
       "      <th>Last Name</th>\n",
       "      <th>City</th>\n",
       "      <th>Gender</th>\n",
       "    </tr>\n",
       "  </thead>\n",
       "  <tbody>\n",
       "    <tr>\n",
       "      <th>0</th>\n",
       "      <td>Brandon</td>\n",
       "      <td>James</td>\n",
       "      <td>Miami</td>\n",
       "      <td>M</td>\n",
       "    </tr>\n",
       "    <tr>\n",
       "      <th>1</th>\n",
       "      <td>Sean</td>\n",
       "      <td>Hawkins</td>\n",
       "      <td>Denver</td>\n",
       "      <td>M</td>\n",
       "    </tr>\n",
       "    <tr>\n",
       "      <th>2</th>\n",
       "      <td>Judy</td>\n",
       "      <td>Day</td>\n",
       "      <td>Los Angeles</td>\n",
       "      <td>F</td>\n",
       "    </tr>\n",
       "    <tr>\n",
       "      <th>3</th>\n",
       "      <td>Ashley</td>\n",
       "      <td>Ruiz</td>\n",
       "      <td>San Francisco</td>\n",
       "      <td>F</td>\n",
       "    </tr>\n",
       "    <tr>\n",
       "      <th>4</th>\n",
       "      <td>Stephanie</td>\n",
       "      <td>Gomez</td>\n",
       "      <td>Portland</td>\n",
       "      <td>F</td>\n",
       "    </tr>\n",
       "  </tbody>\n",
       "</table>\n",
       "</div>"
      ],
      "text/plain": [
       "  First Name Last Name           City Gender\n",
       "0    Brandon     James          Miami      M\n",
       "1       Sean   Hawkins         Denver      M\n",
       "2       Judy       Day    Los Angeles      F\n",
       "3     Ashley      Ruiz  San Francisco      F\n",
       "4  Stephanie     Gomez       Portland      F"
      ]
     },
     "execution_count": 5,
     "metadata": {},
     "output_type": "execute_result"
    }
   ],
   "source": [
    "pd.read_excel(file2,sheet_name='Data 1')"
   ]
  },
  {
   "cell_type": "code",
   "execution_count": 6,
   "id": "7638f4b5-bdd2-4b3a-91f9-9c76575b0f84",
   "metadata": {},
   "outputs": [
    {
     "data": {
      "text/html": [
       "<div>\n",
       "<style scoped>\n",
       "    .dataframe tbody tr th:only-of-type {\n",
       "        vertical-align: middle;\n",
       "    }\n",
       "\n",
       "    .dataframe tbody tr th {\n",
       "        vertical-align: top;\n",
       "    }\n",
       "\n",
       "    .dataframe thead th {\n",
       "        text-align: right;\n",
       "    }\n",
       "</style>\n",
       "<table border=\"1\" class=\"dataframe\">\n",
       "  <thead>\n",
       "    <tr style=\"text-align: right;\">\n",
       "      <th></th>\n",
       "      <th>First Name</th>\n",
       "      <th>Last Name</th>\n",
       "      <th>City</th>\n",
       "      <th>Gender</th>\n",
       "    </tr>\n",
       "  </thead>\n",
       "  <tbody>\n",
       "    <tr>\n",
       "      <th>0</th>\n",
       "      <td>Robert</td>\n",
       "      <td>Miller</td>\n",
       "      <td>Seattle</td>\n",
       "      <td>M</td>\n",
       "    </tr>\n",
       "    <tr>\n",
       "      <th>1</th>\n",
       "      <td>Tara</td>\n",
       "      <td>Garcia</td>\n",
       "      <td>Phoenix</td>\n",
       "      <td>F</td>\n",
       "    </tr>\n",
       "    <tr>\n",
       "      <th>2</th>\n",
       "      <td>Raphael</td>\n",
       "      <td>Rodriguez</td>\n",
       "      <td>Orlando</td>\n",
       "      <td>M</td>\n",
       "    </tr>\n",
       "  </tbody>\n",
       "</table>\n",
       "</div>"
      ],
      "text/plain": [
       "  First Name  Last Name     City Gender\n",
       "0     Robert     Miller  Seattle      M\n",
       "1       Tara     Garcia  Phoenix      F\n",
       "2    Raphael  Rodriguez  Orlando      M"
      ]
     },
     "execution_count": 6,
     "metadata": {},
     "output_type": "execute_result"
    }
   ],
   "source": [
    "pd.read_excel(file2,sheet_name='Data 3')    #엑셀 시트를 가져올떄 왼쪽부터 번호가 0,1,2 즉 0부터 시작한다!"
   ]
  },
  {
   "cell_type": "markdown",
   "id": "15ae4500-4629-40bb-88fd-b635589c9e84",
   "metadata": {},
   "source": [
    "# 3 [Json ==> DataFrame 저장하기]"
   ]
  },
  {
   "cell_type": "markdown",
   "id": "9f43a0c3-7d1b-4bf5-a287-a0269e1f6471",
   "metadata": {},
   "source": [
    "(1) 데이터 준비"
   ]
  },
  {
   "cell_type": "code",
   "execution_count": 7,
   "id": "ecf4b175-8c8b-4e7f-a050-2a856a1c316b",
   "metadata": {},
   "outputs": [],
   "source": [
    "file3='../DATA/nobel.json'\n"
   ]
  },
  {
   "cell_type": "markdown",
   "id": "00f3cea0-8dee-485b-8ec9-840a99a0ef25",
   "metadata": {},
   "source": [
    "(2) JSON--> DataFrame으로 저장"
   ]
  },
  {
   "cell_type": "code",
   "execution_count": 8,
   "id": "e8c4a6ff-9f65-4861-91f2-02157ddc5b00",
   "metadata": {},
   "outputs": [
    {
     "name": "stdout",
     "output_type": "stream",
     "text": [
      "<class 'pandas.core.frame.DataFrame'>\n",
      "RangeIndex: 646 entries, 0 to 645\n",
      "Data columns (total 1 columns):\n",
      " #   Column  Non-Null Count  Dtype \n",
      "---  ------  --------------  ----- \n",
      " 0   prizes  646 non-null    object\n",
      "dtypes: object(1)\n",
      "memory usage: 5.2+ KB\n"
     ]
    }
   ],
   "source": [
    "nobelDF=pd.read_json(file3)\n",
    "nobelDF.info()"
   ]
  },
  {
   "cell_type": "markdown",
   "id": "95fb085c-4cd7-44cd-a18f-3fba57eef290",
   "metadata": {},
   "source": [
    "(3) 데이터 확인"
   ]
  },
  {
   "cell_type": "code",
   "execution_count": 9,
   "id": "b674737a-1e84-4d42-9cbc-8903694e920f",
   "metadata": {},
   "outputs": [
    {
     "name": "stdout",
     "output_type": "stream",
     "text": [
      "                                              prizes\n",
      "0  {'year': '2019', 'category': 'chemistry', 'lau...\n",
      "1  {'year': '2019', 'category': 'economics', 'lau...\n",
      "2  {'year': '2019', 'category': 'literature', 'la...\n",
      "\n",
      "                                                prizes\n",
      "643  {'year': '1901', 'category': 'peace', 'laureat...\n",
      "644  {'year': '1901', 'category': 'physics', 'laure...\n",
      "645  {'year': '1901', 'category': 'medicine', 'laur...\n"
     ]
    }
   ],
   "source": [
    "print(nobelDF.head(3), nobelDF.tail(3),sep=\"\\n\\n\")\n"
   ]
  },
  {
   "cell_type": "markdown",
   "id": "d18a2bc9-18e7-4ece-8113-8f683136d51c",
   "metadata": {},
   "source": [
    "(4) 데이터 추출"
   ]
  },
  {
   "cell_type": "code",
   "execution_count": 10,
   "id": "3bff74b9-5856-4847-85b8-05acf3364b08",
   "metadata": {},
   "outputs": [
    {
     "data": {
      "text/plain": [
       "(pandas.core.series.Series,\n",
       " prizes    {'year': '2019', 'category': 'chemistry', 'lau...\n",
       " Name: 0, dtype: object)"
      ]
     },
     "execution_count": 10,
     "metadata": {},
     "output_type": "execute_result"
    }
   ],
   "source": [
    "# 행 추출 => iloc[],loc[]\n",
    "type(nobelDF.iloc[0]),nobelDF.iloc[0]"
   ]
  },
  {
   "cell_type": "code",
   "execution_count": 11,
   "id": "46f525b0-eb0e-4bbe-97ce-60e260889d5e",
   "metadata": {},
   "outputs": [
    {
     "data": {
      "text/plain": [
       "dict"
      ]
     },
     "execution_count": 11,
     "metadata": {},
     "output_type": "execute_result"
    }
   ],
   "source": [
    "type(nobelDF.iloc[0]['prizes'])"
   ]
  },
  {
   "cell_type": "code",
   "execution_count": 12,
   "id": "ddc178aa-35ae-41c2-b48b-11d9e25cc51e",
   "metadata": {},
   "outputs": [
    {
     "data": {
      "text/plain": [
       "dict"
      ]
     },
     "execution_count": 12,
     "metadata": {},
     "output_type": "execute_result"
    }
   ],
   "source": [
    "oneData=nobelDF.iloc[0]['prizes']\n",
    "type(oneData)"
   ]
  },
  {
   "cell_type": "code",
   "execution_count": 13,
   "id": "528253fd-9461-4bf3-ad2b-c3c1aa21a7a8",
   "metadata": {},
   "outputs": [
    {
     "name": "stdout",
     "output_type": "stream",
     "text": [
      "[year]\n",
      "====> 2019\n",
      "[category]\n",
      "====> chemistry\n",
      "[laureates]\n",
      "====> [{'id': '976', 'firstname': 'John', 'surname': 'Goodenough', 'motivation': '\"for the development of lithium-ion batteries\"', 'share': '3'}, {'id': '977', 'firstname': 'M. Stanley', 'surname': 'Whittingham', 'motivation': '\"for the development of lithium-ion batteries\"', 'share': '3'}, {'id': '978', 'firstname': 'Akira', 'surname': 'Yoshino', 'motivation': '\"for the development of lithium-ion batteries\"', 'share': '3'}]\n",
      "id 976\n",
      "firstname John\n",
      "surname Goodenough\n",
      "motivation \"for the development of lithium-ion batteries\"\n",
      "share 3\n",
      "id 977\n",
      "firstname M. Stanley\n",
      "surname Whittingham\n",
      "motivation \"for the development of lithium-ion batteries\"\n",
      "share 3\n",
      "id 978\n",
      "firstname Akira\n",
      "surname Yoshino\n",
      "motivation \"for the development of lithium-ion batteries\"\n",
      "share 3\n"
     ]
    }
   ],
   "source": [
    "for k,v in oneData.items():\n",
    "    print(f'[{k}]\\n====> {v}')\n",
    "    if k=='laureates':\n",
    "        for d  in v: \n",
    "            for k1,v1 in d.items():\n",
    "                print(k1,v1)"
   ]
  },
  {
   "cell_type": "code",
   "execution_count": 14,
   "id": "29f43bba-39a9-4495-b48d-75ea48ba07e0",
   "metadata": {},
   "outputs": [
    {
     "data": {
      "text/html": [
       "<div>\n",
       "<style scoped>\n",
       "    .dataframe tbody tr th:only-of-type {\n",
       "        vertical-align: middle;\n",
       "    }\n",
       "\n",
       "    .dataframe tbody tr th {\n",
       "        vertical-align: top;\n",
       "    }\n",
       "\n",
       "    .dataframe thead th {\n",
       "        text-align: right;\n",
       "    }\n",
       "</style>\n",
       "<table border=\"1\" class=\"dataframe\">\n",
       "  <thead>\n",
       "    <tr style=\"text-align: right;\">\n",
       "      <th></th>\n",
       "      <th>prizes</th>\n",
       "    </tr>\n",
       "  </thead>\n",
       "  <tbody>\n",
       "    <tr>\n",
       "      <th>0</th>\n",
       "      <td>{'year': '2019', 'category': 'chemistry', 'lau...</td>\n",
       "    </tr>\n",
       "    <tr>\n",
       "      <th>3</th>\n",
       "      <td>{'year': '2019', 'category': 'peace', 'laureat...</td>\n",
       "    </tr>\n",
       "  </tbody>\n",
       "</table>\n",
       "</div>"
      ],
      "text/plain": [
       "                                              prizes\n",
       "0  {'year': '2019', 'category': 'chemistry', 'lau...\n",
       "3  {'year': '2019', 'category': 'peace', 'laureat..."
      ]
     },
     "execution_count": 14,
     "metadata": {},
     "output_type": "execute_result"
    }
   ],
   "source": [
    "# 행 추출 => iloc[[n1,....]]/loc[]\n",
    "nobelDF.iloc[[0,3]]"
   ]
  },
  {
   "cell_type": "markdown",
   "id": "f940f7e5-1d33-479a-bc35-6e0ef1780421",
   "metadata": {},
   "source": [
    "- json 중첩 데이터의 다중 반복문====> 단일 리스트 형태 처리 : 평탄화//정규화"
   ]
  },
  {
   "cell_type": "code",
   "execution_count": 15,
   "id": "16f24d57-9be3-4137-8dae-8ad9077dc1eb",
   "metadata": {},
   "outputs": [
    {
     "data": {
      "text/html": [
       "<div>\n",
       "<style scoped>\n",
       "    .dataframe tbody tr th:only-of-type {\n",
       "        vertical-align: middle;\n",
       "    }\n",
       "\n",
       "    .dataframe tbody tr th {\n",
       "        vertical-align: top;\n",
       "    }\n",
       "\n",
       "    .dataframe thead th {\n",
       "        text-align: right;\n",
       "    }\n",
       "</style>\n",
       "<table border=\"1\" class=\"dataframe\">\n",
       "  <thead>\n",
       "    <tr style=\"text-align: right;\">\n",
       "      <th></th>\n",
       "      <th>year</th>\n",
       "      <th>category</th>\n",
       "      <th>laureates</th>\n",
       "    </tr>\n",
       "  </thead>\n",
       "  <tbody>\n",
       "    <tr>\n",
       "      <th>0</th>\n",
       "      <td>2019</td>\n",
       "      <td>chemistry</td>\n",
       "      <td>[{'id': '976', 'firstname': 'John', 'surname':...</td>\n",
       "    </tr>\n",
       "  </tbody>\n",
       "</table>\n",
       "</div>"
      ],
      "text/plain": [
       "   year   category                                          laureates\n",
       "0  2019  chemistry  [{'id': '976', 'firstname': 'John', 'surname':..."
      ]
     },
     "execution_count": 15,
     "metadata": {},
     "output_type": "execute_result"
    }
   ],
   "source": [
    "pd.json_normalize(oneData)"
   ]
  },
  {
   "cell_type": "code",
   "execution_count": 16,
   "id": "e4063d05-04bd-41ab-a6b6-d12788f8d5b7",
   "metadata": {},
   "outputs": [
    {
     "data": {
      "text/html": [
       "<div>\n",
       "<style scoped>\n",
       "    .dataframe tbody tr th:only-of-type {\n",
       "        vertical-align: middle;\n",
       "    }\n",
       "\n",
       "    .dataframe tbody tr th {\n",
       "        vertical-align: top;\n",
       "    }\n",
       "\n",
       "    .dataframe thead th {\n",
       "        text-align: right;\n",
       "    }\n",
       "</style>\n",
       "<table border=\"1\" class=\"dataframe\">\n",
       "  <thead>\n",
       "    <tr style=\"text-align: right;\">\n",
       "      <th></th>\n",
       "      <th>id</th>\n",
       "      <th>firstname</th>\n",
       "      <th>surname</th>\n",
       "      <th>motivation</th>\n",
       "      <th>share</th>\n",
       "    </tr>\n",
       "  </thead>\n",
       "  <tbody>\n",
       "    <tr>\n",
       "      <th>0</th>\n",
       "      <td>976</td>\n",
       "      <td>John</td>\n",
       "      <td>Goodenough</td>\n",
       "      <td>\"for the development of lithium-ion batteries\"</td>\n",
       "      <td>3</td>\n",
       "    </tr>\n",
       "    <tr>\n",
       "      <th>1</th>\n",
       "      <td>977</td>\n",
       "      <td>M. Stanley</td>\n",
       "      <td>Whittingham</td>\n",
       "      <td>\"for the development of lithium-ion batteries\"</td>\n",
       "      <td>3</td>\n",
       "    </tr>\n",
       "    <tr>\n",
       "      <th>2</th>\n",
       "      <td>978</td>\n",
       "      <td>Akira</td>\n",
       "      <td>Yoshino</td>\n",
       "      <td>\"for the development of lithium-ion batteries\"</td>\n",
       "      <td>3</td>\n",
       "    </tr>\n",
       "  </tbody>\n",
       "</table>\n",
       "</div>"
      ],
      "text/plain": [
       "    id   firstname      surname  \\\n",
       "0  976        John   Goodenough   \n",
       "1  977  M. Stanley  Whittingham   \n",
       "2  978       Akira      Yoshino   \n",
       "\n",
       "                                       motivation share  \n",
       "0  \"for the development of lithium-ion batteries\"     3  \n",
       "1  \"for the development of lithium-ion batteries\"     3  \n",
       "2  \"for the development of lithium-ion batteries\"     3  "
      ]
     },
     "execution_count": 16,
     "metadata": {},
     "output_type": "execute_result"
    }
   ],
   "source": [
    "pd.json_normalize(oneData,record_path='laureates')"
   ]
  },
  {
   "cell_type": "code",
   "execution_count": 17,
   "id": "5560fe12-7b70-425e-8b74-d140fd2a3ee9",
   "metadata": {},
   "outputs": [
    {
     "data": {
      "text/html": [
       "<div>\n",
       "<style scoped>\n",
       "    .dataframe tbody tr th:only-of-type {\n",
       "        vertical-align: middle;\n",
       "    }\n",
       "\n",
       "    .dataframe tbody tr th {\n",
       "        vertical-align: top;\n",
       "    }\n",
       "\n",
       "    .dataframe thead th {\n",
       "        text-align: right;\n",
       "    }\n",
       "</style>\n",
       "<table border=\"1\" class=\"dataframe\">\n",
       "  <thead>\n",
       "    <tr style=\"text-align: right;\">\n",
       "      <th></th>\n",
       "      <th>id</th>\n",
       "      <th>firstname</th>\n",
       "      <th>surname</th>\n",
       "      <th>motivation</th>\n",
       "      <th>share</th>\n",
       "      <th>year</th>\n",
       "      <th>category</th>\n",
       "    </tr>\n",
       "  </thead>\n",
       "  <tbody>\n",
       "    <tr>\n",
       "      <th>0</th>\n",
       "      <td>976</td>\n",
       "      <td>John</td>\n",
       "      <td>Goodenough</td>\n",
       "      <td>\"for the development of lithium-ion batteries\"</td>\n",
       "      <td>3</td>\n",
       "      <td>2019</td>\n",
       "      <td>chemistry</td>\n",
       "    </tr>\n",
       "    <tr>\n",
       "      <th>1</th>\n",
       "      <td>977</td>\n",
       "      <td>M. Stanley</td>\n",
       "      <td>Whittingham</td>\n",
       "      <td>\"for the development of lithium-ion batteries\"</td>\n",
       "      <td>3</td>\n",
       "      <td>2019</td>\n",
       "      <td>chemistry</td>\n",
       "    </tr>\n",
       "    <tr>\n",
       "      <th>2</th>\n",
       "      <td>978</td>\n",
       "      <td>Akira</td>\n",
       "      <td>Yoshino</td>\n",
       "      <td>\"for the development of lithium-ion batteries\"</td>\n",
       "      <td>3</td>\n",
       "      <td>2019</td>\n",
       "      <td>chemistry</td>\n",
       "    </tr>\n",
       "  </tbody>\n",
       "</table>\n",
       "</div>"
      ],
      "text/plain": [
       "    id   firstname      surname  \\\n",
       "0  976        John   Goodenough   \n",
       "1  977  M. Stanley  Whittingham   \n",
       "2  978       Akira      Yoshino   \n",
       "\n",
       "                                       motivation share  year   category  \n",
       "0  \"for the development of lithium-ion batteries\"     3  2019  chemistry  \n",
       "1  \"for the development of lithium-ion batteries\"     3  2019  chemistry  \n",
       "2  \"for the development of lithium-ion batteries\"     3  2019  chemistry  "
      ]
     },
     "execution_count": 17,
     "metadata": {},
     "output_type": "execute_result"
    }
   ],
   "source": [
    "pd.json_normalize(oneData,record_path='laureates', meta=['year','category'])  #meta:공통으로 집어 넣을 것 넣어줌"
   ]
  },
  {
   "cell_type": "markdown",
   "id": "9735ae2f-992d-4c86-913e-087ffb7786c9",
   "metadata": {},
   "source": [
    "- 모든 행에 대한 정규화/평탄화 진행\n"
   ]
  },
  {
   "cell_type": "code",
   "execution_count": 18,
   "id": "40754bca-c902-4802-8f55-977b4ede8be2",
   "metadata": {},
   "outputs": [],
   "source": [
    "# 컬럼 읽기 => DF객체변수명['컬럼명'],DF객체변수명.컬럼명\n",
    "# ===> 모든 행에 record_path에 해당하는 키(key)가 존재해야 함!!\n",
    "# 없는 행에 record_path 에 해당하는 키 추가\n",
    "for data in nobelDF.prizes:\n",
    "    # print(type(data),data.keys(),end='\\n\\n')\n",
    "    # 해당 dict에 laureates 키가 없다면 추가 (빈 곳에 빈 리스트를 넣어주기)\n",
    "    data.setdefault('laureates',[])"
   ]
  },
  {
   "cell_type": "code",
   "execution_count": 19,
   "id": "22a6cfc3-c35d-4b90-be21-244d215a32b5",
   "metadata": {},
   "outputs": [
    {
     "name": "stdout",
     "output_type": "stream",
     "text": [
      "<class 'pandas.core.frame.DataFrame'>\n",
      "RangeIndex: 950 entries, 0 to 949\n",
      "Data columns (total 7 columns):\n",
      " #   Column      Non-Null Count  Dtype \n",
      "---  ------      --------------  ----- \n",
      " 0   id          950 non-null    object\n",
      " 1   firstname   950 non-null    object\n",
      " 2   surname     921 non-null    object\n",
      " 3   motivation  950 non-null    object\n",
      " 4   share       950 non-null    object\n",
      " 5   year        950 non-null    object\n",
      " 6   category    950 non-null    object\n",
      "dtypes: object(7)\n",
      "memory usage: 52.1+ KB\n"
     ]
    }
   ],
   "source": [
    "nobelDF2=pd.json_normalize(nobelDF.prizes,record_path='laureates',meta=['year','category'])\n",
    "nobelDF2.info()"
   ]
  },
  {
   "cell_type": "markdown",
   "id": "bb738bf2-fae1-49a4-b9fb-de95472f2eae",
   "metadata": {},
   "source": [
    "- (7)JSON의 다양한 방식의 DataFrame 저장하기=> orinet 파라미터\n",
    "- json 기본형태={k:v} 꼴"
   ]
  },
  {
   "cell_type": "code",
   "execution_count": 34,
   "id": "577eedf9-3286-4ad0-a82b-bbe38d6c2d36",
   "metadata": {},
   "outputs": [],
   "source": [
    "json_data ='''\n",
    "[\n",
    "{\"id\":\"1\",\"name\":\"sravan\",\"age\":22 },\n",
    "{\"id\":\"2\",\"name\":\"harsha\",\"age\":22 },\n",
    "{\"id\":\"3\",\"name\":\"deepika\",\"age\":21 },\n",
    "{\"id\":\"4\",\"name\":\"jyothika\",\"age\":23 }\n",
    "]'''"
   ]
  },
  {
   "cell_type": "markdown",
   "id": "2a75f23a-415d-4713-9ca5-da4f970f23cf",
   "metadata": {},
   "source": [
    "- orient = 'record' 설정 => JSON 파일 데이터를 행 단위로 읽어서 DataFrame에 저장"
   ]
  },
  {
   "cell_type": "code",
   "execution_count": 35,
   "id": "cfd16db7-efe6-4628-9a1a-59a406ca2320",
   "metadata": {},
   "outputs": [
    {
     "name": "stdout",
     "output_type": "stream",
     "text": [
      "   id      name  age\n",
      "0   1    sravan   22\n",
      "1   2    harsha   22\n",
      "2   3   deepika   21\n",
      "3   4  jyothika   23\n"
     ]
    }
   ],
   "source": [
    "df= pd.read_json(json_data) #, orient='records')\n",
    "print(df)"
   ]
  },
  {
   "cell_type": "code",
   "execution_count": 31,
   "id": "7464668c-ce6b-4d80-bb18-11ca2f48d020",
   "metadata": {},
   "outputs": [],
   "source": [
    "# 데이터 => 키:{값}\n",
    "json_data2 = '''{\n",
    "    \"student-1\":{\"id\":\"1\",\"name\":\"sravan\",\"age\":22} ,\n",
    "    \"student-2\":{\"id\":\"2\",\"name\":\"harsha\",\"age\":22} ,\n",
    "    \"student-3\":{\"id\":\"3\",\"name\":\"deepika\",\"age\":21} ,\n",
    "    \"student-4\":{\"id\":\"4\",\"name\":\"jyothika\",\"age\":23} \n",
    "                }'''"
   ]
  },
  {
   "cell_type": "code",
   "execution_count": 40,
   "id": "0bbf1517-4ce3-45f4-a95a-e8ed8dcc81b7",
   "metadata": {},
   "outputs": [
    {
     "name": "stdout",
     "output_type": "stream",
     "text": [
      "           id      name  age\n",
      "student-1   1    sravan   22\n",
      "student-2   2    harsha   22\n",
      "student-3   3   deepika   21\n",
      "student-4   4  jyothika   23\n"
     ]
    }
   ],
   "source": [
    "#키=> 인덱스로 설정\n",
    "df=pd.read_json(json_data2,orient='index')\n",
    "print(df)\n"
   ]
  },
  {
   "cell_type": "code",
   "execution_count": 43,
   "id": "6e628aa8-11a8-4fa4-ab8b-1cfc6664fdba",
   "metadata": {},
   "outputs": [
    {
     "name": "stdout",
     "output_type": "stream",
     "text": [
      "     student-1 student-2 student-3 student-4\n",
      "id           1         2         3         4\n",
      "name    sravan    harsha   deepika  jyothika\n",
      "age         22        22        21        23\n"
     ]
    }
   ],
   "source": [
    "#키=> 컬럼\n",
    "df=pd.read_json(json_data2)#,orient='columns'\n",
    "print(df)"
   ]
  },
  {
   "cell_type": "code",
   "execution_count": 42,
   "id": "de63be2b-0c38-47b7-a68c-ac17534042db",
   "metadata": {},
   "outputs": [
    {
     "name": "stdout",
     "output_type": "stream",
     "text": [
      "          id      name age\n",
      "student-1  1    sravan  22\n",
      "student-2  2    harsha  22\n",
      "student-3  3   deepika  21\n",
      "student-4  4  jyothika  23\n"
     ]
    }
   ],
   "source": [
    "#키=> 컬럼\n",
    "df=pd.read_json(json_data2).T#,orient='columns'\n",
    "print(df)"
   ]
  },
  {
   "cell_type": "code",
   "execution_count": 44,
   "id": "a1589631-7567-42cd-90e6-0c0d63c8b6cd",
   "metadata": {},
   "outputs": [],
   "source": [
    "#JSON Format\n",
    "json_data3 = '''\n",
    "[\n",
    "    [ \"1\", \"sravan\",22 ],\n",
    "    [ \"2\", \"harsha\",22 ],\n",
    "    [ \"3\", \"deepika\",21 ],\n",
    "    [ \"4\", \"jyothika\",23 ]\n",
    "]\n",
    "'''"
   ]
  },
  {
   "cell_type": "code",
   "execution_count": null,
   "id": "14d2d4b8-5337-4fb0-95d1-eff35693cb5b",
   "metadata": {},
   "outputs": [],
   "source": [
    "df=pd.read_json(json_data3,orient='values')\n",
    "#Display the Dataframe\n",
    "print(df)"
   ]
  }
 ],
 "metadata": {
  "kernelspec": {
   "display_name": "Python 3 (ipykernel)",
   "language": "python",
   "name": "python3"
  },
  "language_info": {
   "codemirror_mode": {
    "name": "ipython",
    "version": 3
   },
   "file_extension": ".py",
   "mimetype": "text/x-python",
   "name": "python",
   "nbconvert_exporter": "python",
   "pygments_lexer": "ipython3",
   "version": "3.8.18"
  }
 },
 "nbformat": 4,
 "nbformat_minor": 5
}
