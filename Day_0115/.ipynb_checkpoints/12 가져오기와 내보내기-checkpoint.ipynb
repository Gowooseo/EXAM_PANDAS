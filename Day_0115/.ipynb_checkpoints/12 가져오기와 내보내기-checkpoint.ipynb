{
 "cells": [
  {
   "cell_type": "markdown",
   "id": "886f5131-53d4-4a02-912a-108f80f4eb30",
   "metadata": {},
   "source": [
    "## 12.1 json 파일 읽고 쓰기"
   ]
  },
  {
   "cell_type": "code",
   "execution_count": 1,
   "id": "cf754109-accb-4d58-ba42-3016e163ded2",
   "metadata": {},
   "outputs": [],
   "source": [
    "#json의 형태는 \"키\":\"값\" 형식\n",
    "#키는 문자열이어야 한다.\n",
    "\n"
   ]
  },
  {
   "cell_type": "markdown",
   "id": "2d61a72d-baa8-4429-97d3-d31c87e73626",
   "metadata": {},
   "source": [
    "12.1.1 json파일을 DataFrame으로 불러오기"
   ]
  },
  {
   "cell_type": "code",
   "execution_count": 2,
   "id": "671ac6b0-3824-4338-a6f3-17409369881d",
   "metadata": {},
   "outputs": [],
   "source": [
    "import pandas as pd"
   ]
  },
  {
   "cell_type": "code",
   "execution_count": 3,
   "id": "1100182b-9882-4aad-8355-f09feaf3727a",
   "metadata": {},
   "outputs": [],
   "source": [
    "file='../DATA/nobel.json'"
   ]
  },
  {
   "cell_type": "code",
   "execution_count": 4,
   "id": "bf3228a8-1654-4311-a3f5-07bdf95e6912",
   "metadata": {},
   "outputs": [
    {
     "data": {
      "text/html": [
       "<div>\n",
       "<style scoped>\n",
       "    .dataframe tbody tr th:only-of-type {\n",
       "        vertical-align: middle;\n",
       "    }\n",
       "\n",
       "    .dataframe tbody tr th {\n",
       "        vertical-align: top;\n",
       "    }\n",
       "\n",
       "    .dataframe thead th {\n",
       "        text-align: right;\n",
       "    }\n",
       "</style>\n",
       "<table border=\"1\" class=\"dataframe\">\n",
       "  <thead>\n",
       "    <tr style=\"text-align: right;\">\n",
       "      <th></th>\n",
       "      <th>prizes</th>\n",
       "    </tr>\n",
       "  </thead>\n",
       "  <tbody>\n",
       "    <tr>\n",
       "      <th>0</th>\n",
       "      <td>{'year': '2019', 'category': 'chemistry', 'lau...</td>\n",
       "    </tr>\n",
       "    <tr>\n",
       "      <th>1</th>\n",
       "      <td>{'year': '2019', 'category': 'economics', 'lau...</td>\n",
       "    </tr>\n",
       "    <tr>\n",
       "      <th>2</th>\n",
       "      <td>{'year': '2019', 'category': 'literature', 'la...</td>\n",
       "    </tr>\n",
       "    <tr>\n",
       "      <th>3</th>\n",
       "      <td>{'year': '2019', 'category': 'peace', 'laureat...</td>\n",
       "    </tr>\n",
       "    <tr>\n",
       "      <th>4</th>\n",
       "      <td>{'year': '2019', 'category': 'physics', 'overa...</td>\n",
       "    </tr>\n",
       "    <tr>\n",
       "      <th>...</th>\n",
       "      <td>...</td>\n",
       "    </tr>\n",
       "    <tr>\n",
       "      <th>641</th>\n",
       "      <td>{'year': '1901', 'category': 'chemistry', 'lau...</td>\n",
       "    </tr>\n",
       "    <tr>\n",
       "      <th>642</th>\n",
       "      <td>{'year': '1901', 'category': 'literature', 'la...</td>\n",
       "    </tr>\n",
       "    <tr>\n",
       "      <th>643</th>\n",
       "      <td>{'year': '1901', 'category': 'peace', 'laureat...</td>\n",
       "    </tr>\n",
       "    <tr>\n",
       "      <th>644</th>\n",
       "      <td>{'year': '1901', 'category': 'physics', 'laure...</td>\n",
       "    </tr>\n",
       "    <tr>\n",
       "      <th>645</th>\n",
       "      <td>{'year': '1901', 'category': 'medicine', 'laur...</td>\n",
       "    </tr>\n",
       "  </tbody>\n",
       "</table>\n",
       "<p>646 rows × 1 columns</p>\n",
       "</div>"
      ],
      "text/plain": [
       "                                                prizes\n",
       "0    {'year': '2019', 'category': 'chemistry', 'lau...\n",
       "1    {'year': '2019', 'category': 'economics', 'lau...\n",
       "2    {'year': '2019', 'category': 'literature', 'la...\n",
       "3    {'year': '2019', 'category': 'peace', 'laureat...\n",
       "4    {'year': '2019', 'category': 'physics', 'overa...\n",
       "..                                                 ...\n",
       "641  {'year': '1901', 'category': 'chemistry', 'lau...\n",
       "642  {'year': '1901', 'category': 'literature', 'la...\n",
       "643  {'year': '1901', 'category': 'peace', 'laureat...\n",
       "644  {'year': '1901', 'category': 'physics', 'laure...\n",
       "645  {'year': '1901', 'category': 'medicine', 'laur...\n",
       "\n",
       "[646 rows x 1 columns]"
      ]
     },
     "execution_count": 4,
     "metadata": {},
     "output_type": "execute_result"
    }
   ],
   "source": [
    "nobel=pd.read_json(file)\n",
    "nobel"
   ]
  },
  {
   "cell_type": "code",
   "execution_count": 5,
   "id": "195e32be-f85a-419d-b621-b7ce106087d2",
   "metadata": {},
   "outputs": [
    {
     "data": {
      "text/plain": [
       "{'year': '2019',\n",
       " 'category': 'literature',\n",
       " 'laureates': [{'id': '980',\n",
       "   'firstname': 'Peter',\n",
       "   'surname': 'Handke',\n",
       "   'motivation': '\"for an influential work that with linguistic ingenuity has explored the periphery and the specificity of human experience\"',\n",
       "   'share': '1'}]}"
      ]
     },
     "execution_count": 5,
     "metadata": {},
     "output_type": "execute_result"
    }
   ],
   "source": [
    "nobel.loc[2,\"prizes\"]"
   ]
  },
  {
   "cell_type": "code",
   "execution_count": 6,
   "id": "364e359b-91b0-4994-b4e1-d158df1ba19c",
   "metadata": {},
   "outputs": [
    {
     "data": {
      "text/plain": [
       "dict"
      ]
     },
     "execution_count": 6,
     "metadata": {},
     "output_type": "execute_result"
    }
   ],
   "source": [
    "type(nobel.loc[2,\"prizes\"]) #행이 딕셔너리 시리즈임"
   ]
  },
  {
   "cell_type": "code",
   "execution_count": 7,
   "id": "1288e4cf-3362-473d-95f3-9072e4e89748",
   "metadata": {},
   "outputs": [],
   "source": [
    "# 실습 목표는 데이터를 표로 변환하는 것.... => 키 값 year,category를 추출하여 DataFrame 열을 분리해야 한다.\n",
    "\n"
   ]
  },
  {
   "cell_type": "markdown",
   "id": "db469aea-a84f-4a2d-89e3-be005cd7a843",
   "metadata": {},
   "source": [
    "## [평탄화=정규화] 실습"
   ]
  },
  {
   "cell_type": "code",
   "execution_count": 8,
   "id": "11a26f84-7afa-4c94-a931-61ddb84109de",
   "metadata": {},
   "outputs": [],
   "source": [
    "# 중첩된 데이터 레코드를 단일의 1차원 리스트로 변형하는 것이 이 과정의 목적이다."
   ]
  },
  {
   "cell_type": "code",
   "execution_count": 9,
   "id": "ba70cfe1-aea9-450b-8232-9ba7b43338d4",
   "metadata": {},
   "outputs": [],
   "source": [
    "#json_normalize 함수를 사용하자.\n"
   ]
  },
  {
   "cell_type": "code",
   "execution_count": 10,
   "id": "1c666415-ab94-4db0-bea8-cebb87589593",
   "metadata": {},
   "outputs": [
    {
     "data": {
      "text/plain": [
       "{'year': '2019',\n",
       " 'category': 'chemistry',\n",
       " 'laureates': [{'id': '976',\n",
       "   'firstname': 'John',\n",
       "   'surname': 'Goodenough',\n",
       "   'motivation': '\"for the development of lithium-ion batteries\"',\n",
       "   'share': '3'},\n",
       "  {'id': '977',\n",
       "   'firstname': 'M. Stanley',\n",
       "   'surname': 'Whittingham',\n",
       "   'motivation': '\"for the development of lithium-ion batteries\"',\n",
       "   'share': '3'},\n",
       "  {'id': '978',\n",
       "   'firstname': 'Akira',\n",
       "   'surname': 'Yoshino',\n",
       "   'motivation': '\"for the development of lithium-ion batteries\"',\n",
       "   'share': '3'}]}"
      ]
     },
     "execution_count": 10,
     "metadata": {},
     "output_type": "execute_result"
    }
   ],
   "source": [
    "chemistry_2019=nobel.loc[0,\"prizes\"]\n",
    "chemistry_2019"
   ]
  },
  {
   "cell_type": "code",
   "execution_count": 11,
   "id": "91855b46-b34e-4495-b67f-a055ffb5dac1",
   "metadata": {},
   "outputs": [
    {
     "data": {
      "text/html": [
       "<div>\n",
       "<style scoped>\n",
       "    .dataframe tbody tr th:only-of-type {\n",
       "        vertical-align: middle;\n",
       "    }\n",
       "\n",
       "    .dataframe tbody tr th {\n",
       "        vertical-align: top;\n",
       "    }\n",
       "\n",
       "    .dataframe thead th {\n",
       "        text-align: right;\n",
       "    }\n",
       "</style>\n",
       "<table border=\"1\" class=\"dataframe\">\n",
       "  <thead>\n",
       "    <tr style=\"text-align: right;\">\n",
       "      <th></th>\n",
       "      <th>year</th>\n",
       "      <th>category</th>\n",
       "      <th>laureates</th>\n",
       "    </tr>\n",
       "  </thead>\n",
       "  <tbody>\n",
       "    <tr>\n",
       "      <th>0</th>\n",
       "      <td>2019</td>\n",
       "      <td>chemistry</td>\n",
       "      <td>[{'id': '976', 'firstname': 'John', 'surname':...</td>\n",
       "    </tr>\n",
       "  </tbody>\n",
       "</table>\n",
       "</div>"
      ],
      "text/plain": [
       "   year   category                                          laureates\n",
       "0  2019  chemistry  [{'id': '976', 'firstname': 'John', 'surname':..."
      ]
     },
     "execution_count": 11,
     "metadata": {},
     "output_type": "execute_result"
    }
   ],
   "source": [
    "pd.json_normalize(data=chemistry_2019)  #정규화 되었다....."
   ]
  },
  {
   "cell_type": "code",
   "execution_count": 12,
   "id": "bfe29b93-4e4e-4e2f-9369-297cac021fb0",
   "metadata": {},
   "outputs": [],
   "source": [
    "#그 다음 문자열을 매개변수로 전달"
   ]
  },
  {
   "cell_type": "code",
   "execution_count": 13,
   "id": "15372789-f95f-4104-888d-269d25344f1f",
   "metadata": {},
   "outputs": [
    {
     "data": {
      "text/html": [
       "<div>\n",
       "<style scoped>\n",
       "    .dataframe tbody tr th:only-of-type {\n",
       "        vertical-align: middle;\n",
       "    }\n",
       "\n",
       "    .dataframe tbody tr th {\n",
       "        vertical-align: top;\n",
       "    }\n",
       "\n",
       "    .dataframe thead th {\n",
       "        text-align: right;\n",
       "    }\n",
       "</style>\n",
       "<table border=\"1\" class=\"dataframe\">\n",
       "  <thead>\n",
       "    <tr style=\"text-align: right;\">\n",
       "      <th></th>\n",
       "      <th>id</th>\n",
       "      <th>firstname</th>\n",
       "      <th>surname</th>\n",
       "      <th>motivation</th>\n",
       "      <th>share</th>\n",
       "    </tr>\n",
       "  </thead>\n",
       "  <tbody>\n",
       "    <tr>\n",
       "      <th>0</th>\n",
       "      <td>976</td>\n",
       "      <td>John</td>\n",
       "      <td>Goodenough</td>\n",
       "      <td>\"for the development of lithium-ion batteries\"</td>\n",
       "      <td>3</td>\n",
       "    </tr>\n",
       "    <tr>\n",
       "      <th>1</th>\n",
       "      <td>977</td>\n",
       "      <td>M. Stanley</td>\n",
       "      <td>Whittingham</td>\n",
       "      <td>\"for the development of lithium-ion batteries\"</td>\n",
       "      <td>3</td>\n",
       "    </tr>\n",
       "    <tr>\n",
       "      <th>2</th>\n",
       "      <td>978</td>\n",
       "      <td>Akira</td>\n",
       "      <td>Yoshino</td>\n",
       "      <td>\"for the development of lithium-ion batteries\"</td>\n",
       "      <td>3</td>\n",
       "    </tr>\n",
       "  </tbody>\n",
       "</table>\n",
       "</div>"
      ],
      "text/plain": [
       "    id   firstname      surname  \\\n",
       "0  976        John   Goodenough   \n",
       "1  977  M. Stanley  Whittingham   \n",
       "2  978       Akira      Yoshino   \n",
       "\n",
       "                                       motivation share  \n",
       "0  \"for the development of lithium-ion batteries\"     3  \n",
       "1  \"for the development of lithium-ion batteries\"     3  \n",
       "2  \"for the development of lithium-ion batteries\"     3  "
      ]
     },
     "execution_count": 13,
     "metadata": {},
     "output_type": "execute_result"
    }
   ],
   "source": [
    "pd.json_normalize(data=chemistry_2019,record_path=\"laureates\") #laureates\" 가 정규화 됨"
   ]
  },
  {
   "cell_type": "markdown",
   "id": "8adf0b00-258d-4bbe-9107-0e19c12ec7d4",
   "metadata": {},
   "source": [
    "근데 기존의 year랑 category가 사라짐...."
   ]
  },
  {
   "cell_type": "code",
   "execution_count": 14,
   "id": "c16278c3-308e-4b12-9814-5b0653f66cdc",
   "metadata": {},
   "outputs": [
    {
     "data": {
      "text/html": [
       "<div>\n",
       "<style scoped>\n",
       "    .dataframe tbody tr th:only-of-type {\n",
       "        vertical-align: middle;\n",
       "    }\n",
       "\n",
       "    .dataframe tbody tr th {\n",
       "        vertical-align: top;\n",
       "    }\n",
       "\n",
       "    .dataframe thead th {\n",
       "        text-align: right;\n",
       "    }\n",
       "</style>\n",
       "<table border=\"1\" class=\"dataframe\">\n",
       "  <thead>\n",
       "    <tr style=\"text-align: right;\">\n",
       "      <th></th>\n",
       "      <th>id</th>\n",
       "      <th>firstname</th>\n",
       "      <th>surname</th>\n",
       "      <th>motivation</th>\n",
       "      <th>share</th>\n",
       "      <th>year</th>\n",
       "      <th>category</th>\n",
       "    </tr>\n",
       "  </thead>\n",
       "  <tbody>\n",
       "    <tr>\n",
       "      <th>0</th>\n",
       "      <td>976</td>\n",
       "      <td>John</td>\n",
       "      <td>Goodenough</td>\n",
       "      <td>\"for the development of lithium-ion batteries\"</td>\n",
       "      <td>3</td>\n",
       "      <td>2019</td>\n",
       "      <td>chemistry</td>\n",
       "    </tr>\n",
       "    <tr>\n",
       "      <th>1</th>\n",
       "      <td>977</td>\n",
       "      <td>M. Stanley</td>\n",
       "      <td>Whittingham</td>\n",
       "      <td>\"for the development of lithium-ion batteries\"</td>\n",
       "      <td>3</td>\n",
       "      <td>2019</td>\n",
       "      <td>chemistry</td>\n",
       "    </tr>\n",
       "    <tr>\n",
       "      <th>2</th>\n",
       "      <td>978</td>\n",
       "      <td>Akira</td>\n",
       "      <td>Yoshino</td>\n",
       "      <td>\"for the development of lithium-ion batteries\"</td>\n",
       "      <td>3</td>\n",
       "      <td>2019</td>\n",
       "      <td>chemistry</td>\n",
       "    </tr>\n",
       "  </tbody>\n",
       "</table>\n",
       "</div>"
      ],
      "text/plain": [
       "    id   firstname      surname  \\\n",
       "0  976        John   Goodenough   \n",
       "1  977  M. Stanley  Whittingham   \n",
       "2  978       Akira      Yoshino   \n",
       "\n",
       "                                       motivation share  year   category  \n",
       "0  \"for the development of lithium-ion batteries\"     3  2019  chemistry  \n",
       "1  \"for the development of lithium-ion batteries\"     3  2019  chemistry  \n",
       "2  \"for the development of lithium-ion batteries\"     3  2019  chemistry  "
      ]
     },
     "execution_count": 14,
     "metadata": {},
     "output_type": "execute_result"
    }
   ],
   "source": [
    "pd.json_normalize(\n",
    "    data=chemistry_2019,\n",
    "    record_path=\"laureates\",\n",
    "    meta=[\"year\",\"category\"])  #이름을 담은 리스트[]를 meta라는 매개변수에 저장"
   ]
  },
  {
   "cell_type": "code",
   "execution_count": 15,
   "id": "81fb924e-7b6e-4ff3-80fe-9debc324b478",
   "metadata": {},
   "outputs": [],
   "source": [
    "#  pd.json_normalize(\n",
    "# data=nobel[\"prizes\"],\n",
    "# record_path=\"laureates\",\n",
    "# meta=[\"year\",\"category\"]\n",
    "# )   "
   ]
  },
  {
   "cell_type": "markdown",
   "id": "99a68369-c78f-459c-b885-fee99a6b4ed0",
   "metadata": {},
   "source": [
    "### 오류가 뜬다... 딕셔너리 중 일부에 laureates 키가 없다..."
   ]
  },
  {
   "cell_type": "code",
   "execution_count": 16,
   "id": "2950fd73-ee4a-4ba7-a230-5c348a78c09c",
   "metadata": {},
   "outputs": [],
   "source": [
    "# 수동으로 키를 할당 해보자"
   ]
  },
  {
   "cell_type": "code",
   "execution_count": 17,
   "id": "178b323f-8f9d-4aa8-9cb6-790a86475e4d",
   "metadata": {},
   "outputs": [],
   "source": [
    "cheese_consumption={\n",
    "    \"France\":57.9,\n",
    "    \"Germany\":53.2,\n",
    "    \"Luxembourg\":53.2\n",
    "}"
   ]
  },
  {
   "cell_type": "code",
   "execution_count": 18,
   "id": "4dbc3d39-9d9e-4d75-987b-1520eb4d9c8d",
   "metadata": {},
   "outputs": [
    {
     "data": {
      "text/plain": [
       "57.9"
      ]
     },
     "execution_count": 18,
     "metadata": {},
     "output_type": "execute_result"
    }
   ],
   "source": [
    "cheese_consumption.setdefault(\"France\",100)"
   ]
  },
  {
   "cell_type": "code",
   "execution_count": 19,
   "id": "5687ff2c-b062-4bd8-9d74-30bf3b9cd67b",
   "metadata": {},
   "outputs": [
    {
     "data": {
      "text/plain": [
       "48"
      ]
     },
     "execution_count": 19,
     "metadata": {},
     "output_type": "execute_result"
    }
   ],
   "source": [
    "cheese_consumption.setdefault(\"Italy\",48)"
   ]
  },
  {
   "cell_type": "code",
   "execution_count": 20,
   "id": "384497db-5ff5-4501-b46b-57d640949ad3",
   "metadata": {},
   "outputs": [
    {
     "data": {
      "text/plain": [
       "0      None\n",
       "1      None\n",
       "2      None\n",
       "3      None\n",
       "4      None\n",
       "       ... \n",
       "641    None\n",
       "642    None\n",
       "643    None\n",
       "644    None\n",
       "645    None\n",
       "Name: prizes, Length: 646, dtype: object"
      ]
     },
     "execution_count": 20,
     "metadata": {},
     "output_type": "execute_result"
    }
   ],
   "source": [
    "def add_laureates_key(entry): #함수 정의(매개변수 :entry)\n",
    "    entry.setdefault(\"laureates\",[]) # laureates에 빈 리스트를 값으로 갖도록 키를 추가\n",
    "\n",
    "nobel[\"prizes\"].apply(add_laureates_key) "
   ]
  },
  {
   "cell_type": "code",
   "execution_count": 21,
   "id": "bf35bc48-a7f3-41d4-ac00-73315e5f0f19",
   "metadata": {},
   "outputs": [],
   "source": [
    "#setdefault는 딕셔너리 자체를 변경하므로 기존의 시리즈를 덮어쓸 필요가 없음...."
   ]
  },
  {
   "cell_type": "code",
   "execution_count": 22,
   "id": "e6a2dde5-a987-4541-bbaf-fc0e6c1d72ca",
   "metadata": {},
   "outputs": [],
   "source": [
    "# meta매개변수로 딕셔너리 키 전달"
   ]
  },
  {
   "cell_type": "code",
   "execution_count": 23,
   "id": "84ad0c05-6a2e-4aae-9f28-6257cbb88597",
   "metadata": {},
   "outputs": [],
   "source": [
    "winners=pd.json_normalize(\n",
    "    data=nobel[\"prizes\"],\n",
    "    record_path=\"laureates\",\n",
    "    meta=[\"year\",\"category\"]\n",
    ")\n"
   ]
  },
  {
   "cell_type": "code",
   "execution_count": 24,
   "id": "9efa679b-15d9-4e1c-944d-f2c5fb8e70eb",
   "metadata": {},
   "outputs": [
    {
     "data": {
      "text/html": [
       "<div>\n",
       "<style scoped>\n",
       "    .dataframe tbody tr th:only-of-type {\n",
       "        vertical-align: middle;\n",
       "    }\n",
       "\n",
       "    .dataframe tbody tr th {\n",
       "        vertical-align: top;\n",
       "    }\n",
       "\n",
       "    .dataframe thead th {\n",
       "        text-align: right;\n",
       "    }\n",
       "</style>\n",
       "<table border=\"1\" class=\"dataframe\">\n",
       "  <thead>\n",
       "    <tr style=\"text-align: right;\">\n",
       "      <th></th>\n",
       "      <th>id</th>\n",
       "      <th>firstname</th>\n",
       "      <th>surname</th>\n",
       "      <th>motivation</th>\n",
       "      <th>share</th>\n",
       "      <th>year</th>\n",
       "      <th>category</th>\n",
       "    </tr>\n",
       "  </thead>\n",
       "  <tbody>\n",
       "    <tr>\n",
       "      <th>0</th>\n",
       "      <td>976</td>\n",
       "      <td>John</td>\n",
       "      <td>Goodenough</td>\n",
       "      <td>\"for the development of lithium-ion batteries\"</td>\n",
       "      <td>3</td>\n",
       "      <td>2019</td>\n",
       "      <td>chemistry</td>\n",
       "    </tr>\n",
       "    <tr>\n",
       "      <th>1</th>\n",
       "      <td>977</td>\n",
       "      <td>M. Stanley</td>\n",
       "      <td>Whittingham</td>\n",
       "      <td>\"for the development of lithium-ion batteries\"</td>\n",
       "      <td>3</td>\n",
       "      <td>2019</td>\n",
       "      <td>chemistry</td>\n",
       "    </tr>\n",
       "    <tr>\n",
       "      <th>2</th>\n",
       "      <td>978</td>\n",
       "      <td>Akira</td>\n",
       "      <td>Yoshino</td>\n",
       "      <td>\"for the development of lithium-ion batteries\"</td>\n",
       "      <td>3</td>\n",
       "      <td>2019</td>\n",
       "      <td>chemistry</td>\n",
       "    </tr>\n",
       "    <tr>\n",
       "      <th>3</th>\n",
       "      <td>982</td>\n",
       "      <td>Abhijit</td>\n",
       "      <td>Banerjee</td>\n",
       "      <td>\"for their experimental approach to alleviatin...</td>\n",
       "      <td>3</td>\n",
       "      <td>2019</td>\n",
       "      <td>economics</td>\n",
       "    </tr>\n",
       "    <tr>\n",
       "      <th>4</th>\n",
       "      <td>983</td>\n",
       "      <td>Esther</td>\n",
       "      <td>Duflo</td>\n",
       "      <td>\"for their experimental approach to alleviatin...</td>\n",
       "      <td>3</td>\n",
       "      <td>2019</td>\n",
       "      <td>economics</td>\n",
       "    </tr>\n",
       "    <tr>\n",
       "      <th>...</th>\n",
       "      <td>...</td>\n",
       "      <td>...</td>\n",
       "      <td>...</td>\n",
       "      <td>...</td>\n",
       "      <td>...</td>\n",
       "      <td>...</td>\n",
       "      <td>...</td>\n",
       "    </tr>\n",
       "    <tr>\n",
       "      <th>945</th>\n",
       "      <td>569</td>\n",
       "      <td>Sully</td>\n",
       "      <td>Prudhomme</td>\n",
       "      <td>\"in special recognition of his poetic composit...</td>\n",
       "      <td>1</td>\n",
       "      <td>1901</td>\n",
       "      <td>literature</td>\n",
       "    </tr>\n",
       "    <tr>\n",
       "      <th>946</th>\n",
       "      <td>462</td>\n",
       "      <td>Henry</td>\n",
       "      <td>Dunant</td>\n",
       "      <td>\"for his humanitarian efforts to help wounded ...</td>\n",
       "      <td>2</td>\n",
       "      <td>1901</td>\n",
       "      <td>peace</td>\n",
       "    </tr>\n",
       "    <tr>\n",
       "      <th>947</th>\n",
       "      <td>463</td>\n",
       "      <td>Frédéric</td>\n",
       "      <td>Passy</td>\n",
       "      <td>\"for his lifelong work for international peace...</td>\n",
       "      <td>2</td>\n",
       "      <td>1901</td>\n",
       "      <td>peace</td>\n",
       "    </tr>\n",
       "    <tr>\n",
       "      <th>948</th>\n",
       "      <td>1</td>\n",
       "      <td>Wilhelm Conrad</td>\n",
       "      <td>Röntgen</td>\n",
       "      <td>\"in recognition of the extraordinary services ...</td>\n",
       "      <td>1</td>\n",
       "      <td>1901</td>\n",
       "      <td>physics</td>\n",
       "    </tr>\n",
       "    <tr>\n",
       "      <th>949</th>\n",
       "      <td>293</td>\n",
       "      <td>Emil</td>\n",
       "      <td>von Behring</td>\n",
       "      <td>\"for his work on serum therapy, especially its...</td>\n",
       "      <td>1</td>\n",
       "      <td>1901</td>\n",
       "      <td>medicine</td>\n",
       "    </tr>\n",
       "  </tbody>\n",
       "</table>\n",
       "<p>950 rows × 7 columns</p>\n",
       "</div>"
      ],
      "text/plain": [
       "      id       firstname      surname  \\\n",
       "0    976            John   Goodenough   \n",
       "1    977      M. Stanley  Whittingham   \n",
       "2    978           Akira      Yoshino   \n",
       "3    982         Abhijit     Banerjee   \n",
       "4    983          Esther        Duflo   \n",
       "..   ...             ...          ...   \n",
       "945  569           Sully    Prudhomme   \n",
       "946  462           Henry       Dunant   \n",
       "947  463        Frédéric        Passy   \n",
       "948    1  Wilhelm Conrad      Röntgen   \n",
       "949  293            Emil  von Behring   \n",
       "\n",
       "                                            motivation share  year    category  \n",
       "0       \"for the development of lithium-ion batteries\"     3  2019   chemistry  \n",
       "1       \"for the development of lithium-ion batteries\"     3  2019   chemistry  \n",
       "2       \"for the development of lithium-ion batteries\"     3  2019   chemistry  \n",
       "3    \"for their experimental approach to alleviatin...     3  2019   economics  \n",
       "4    \"for their experimental approach to alleviatin...     3  2019   economics  \n",
       "..                                                 ...   ...   ...         ...  \n",
       "945  \"in special recognition of his poetic composit...     1  1901  literature  \n",
       "946  \"for his humanitarian efforts to help wounded ...     2  1901       peace  \n",
       "947  \"for his lifelong work for international peace...     2  1901       peace  \n",
       "948  \"in recognition of the extraordinary services ...     1  1901     physics  \n",
       "949  \"for his work on serum therapy, especially its...     1  1901    medicine  \n",
       "\n",
       "[950 rows x 7 columns]"
      ]
     },
     "execution_count": 24,
     "metadata": {},
     "output_type": "execute_result"
    }
   ],
   "source": [
    "winners"
   ]
  },
  {
   "cell_type": "markdown",
   "id": "48781278-9d03-492b-9764-0ffbe3555feb",
   "metadata": {},
   "source": [
    "12.1.2 DataFrame을 json파일로 내보내기"
   ]
  },
  {
   "cell_type": "code",
   "execution_count": 25,
   "id": "0949ff87-f3c4-4395-be9e-e33682497b70",
   "metadata": {},
   "outputs": [],
   "source": [
    "#to_join메서드 사용"
   ]
  },
  {
   "cell_type": "code",
   "execution_count": 26,
   "id": "4bc2dd89-7c59-47bf-8096-c36bb208d69e",
   "metadata": {},
   "outputs": [
    {
     "data": {
      "text/plain": [
       "'[{\"id\":\"976\",\"firstname\":\"John\",\"surname\":\"Goodenough\",\"motivation\":\"\\\\\"for the development of lithium-ion batteries\\\\\"\",\"share\":\"3\",\"year\":\"2019\",\"category\":\"chemistry\"},{\"id\":\"977\",\"firstname\":\"M. Stanley\",\"surname\":\"Whittingham\",\"motivation\":\"\\\\\"for the development of lithium-ion batteries\\\\\"\",\"share\":\"3\",\"year\":\"2019\",\"category\":\"chemistry\"}]'"
      ]
     },
     "execution_count": 26,
     "metadata": {},
     "output_type": "execute_result"
    }
   ],
   "source": [
    "winners.head(2).to_json(orient='records')"
   ]
  },
  {
   "cell_type": "code",
   "execution_count": 27,
   "id": "852dfc98-68af-4214-96dc-72069a28a040",
   "metadata": {},
   "outputs": [],
   "source": [
    "# 열 이름 방지 하기...\n"
   ]
  },
  {
   "cell_type": "code",
   "execution_count": 28,
   "id": "c6e074f5-5569-495f-a6be-e86254ccc5af",
   "metadata": {},
   "outputs": [
    {
     "data": {
      "text/plain": [
       "'{\"columns\":[\"id\",\"firstname\",\"surname\",\"motivation\",\"share\",\"year\",\"category\"],\"index\":[0,1],\"data\":[[\"976\",\"John\",\"Goodenough\",\"\\\\\"for the development of lithium-ion batteries\\\\\"\",\"3\",\"2019\",\"chemistry\"],[\"977\",\"M. Stanley\",\"Whittingham\",\"\\\\\"for the development of lithium-ion batteries\\\\\"\",\"3\",\"2019\",\"chemistry\"]]}'"
      ]
     },
     "execution_count": 28,
     "metadata": {},
     "output_type": "execute_result"
    }
   ],
   "source": [
    "winners.head(2).to_json(orient='split')"
   ]
  },
  {
   "cell_type": "code",
   "execution_count": 29,
   "id": "4bc02d91-67f5-4c7b-80fe-fe05450a40d8",
   "metadata": {},
   "outputs": [],
   "source": [
    "winners.to_json(\"winners.json\",orient='records')"
   ]
  },
  {
   "cell_type": "markdown",
   "id": "a1bef731-4b0c-4c33-ae88-a018f2bf6333",
   "metadata": {},
   "source": [
    "12.2 CSV 파일 읽고 쓰기"
   ]
  },
  {
   "cell_type": "code",
   "execution_count": 30,
   "id": "8eb6856f-4a34-4edb-b7c4-8729fdf39e1a",
   "metadata": {},
   "outputs": [],
   "source": [
    "file2=\"../DATA/happiness.csv\""
   ]
  },
  {
   "cell_type": "code",
   "execution_count": 31,
   "id": "a1591a93-db1c-4188-a742-1e114739c5b3",
   "metadata": {},
   "outputs": [],
   "source": [
    "happyDF=pd.read_csv(file2)"
   ]
  },
  {
   "cell_type": "code",
   "execution_count": 32,
   "id": "8de01832-cbfa-4f8f-b817-bc7b04c7ec6f",
   "metadata": {},
   "outputs": [
    {
     "data": {
      "text/html": [
       "<div>\n",
       "<style scoped>\n",
       "    .dataframe tbody tr th:only-of-type {\n",
       "        vertical-align: middle;\n",
       "    }\n",
       "\n",
       "    .dataframe tbody tr th {\n",
       "        vertical-align: top;\n",
       "    }\n",
       "\n",
       "    .dataframe thead th {\n",
       "        text-align: right;\n",
       "    }\n",
       "</style>\n",
       "<table border=\"1\" class=\"dataframe\">\n",
       "  <thead>\n",
       "    <tr style=\"text-align: right;\">\n",
       "      <th></th>\n",
       "      <th>Country</th>\n",
       "      <th>Score</th>\n",
       "      <th>GDP per capita</th>\n",
       "      <th>Social support</th>\n",
       "      <th>Life expectancy</th>\n",
       "      <th>Generosity</th>\n",
       "    </tr>\n",
       "  </thead>\n",
       "  <tbody>\n",
       "    <tr>\n",
       "      <th>0</th>\n",
       "      <td>Finland</td>\n",
       "      <td>7.769</td>\n",
       "      <td>1.340</td>\n",
       "      <td>1.587</td>\n",
       "      <td>0.986</td>\n",
       "      <td>0.153</td>\n",
       "    </tr>\n",
       "    <tr>\n",
       "      <th>1</th>\n",
       "      <td>Denmark</td>\n",
       "      <td>7.600</td>\n",
       "      <td>1.383</td>\n",
       "      <td>1.573</td>\n",
       "      <td>0.996</td>\n",
       "      <td>0.252</td>\n",
       "    </tr>\n",
       "    <tr>\n",
       "      <th>2</th>\n",
       "      <td>Norway</td>\n",
       "      <td>7.554</td>\n",
       "      <td>1.488</td>\n",
       "      <td>1.582</td>\n",
       "      <td>1.028</td>\n",
       "      <td>0.271</td>\n",
       "    </tr>\n",
       "    <tr>\n",
       "      <th>3</th>\n",
       "      <td>Iceland</td>\n",
       "      <td>7.494</td>\n",
       "      <td>1.380</td>\n",
       "      <td>1.624</td>\n",
       "      <td>1.026</td>\n",
       "      <td>0.354</td>\n",
       "    </tr>\n",
       "    <tr>\n",
       "      <th>4</th>\n",
       "      <td>Netherlands</td>\n",
       "      <td>7.488</td>\n",
       "      <td>1.396</td>\n",
       "      <td>1.522</td>\n",
       "      <td>0.999</td>\n",
       "      <td>0.322</td>\n",
       "    </tr>\n",
       "    <tr>\n",
       "      <th>...</th>\n",
       "      <td>...</td>\n",
       "      <td>...</td>\n",
       "      <td>...</td>\n",
       "      <td>...</td>\n",
       "      <td>...</td>\n",
       "      <td>...</td>\n",
       "    </tr>\n",
       "    <tr>\n",
       "      <th>151</th>\n",
       "      <td>Rwanda</td>\n",
       "      <td>3.334</td>\n",
       "      <td>0.359</td>\n",
       "      <td>0.711</td>\n",
       "      <td>0.614</td>\n",
       "      <td>0.217</td>\n",
       "    </tr>\n",
       "    <tr>\n",
       "      <th>152</th>\n",
       "      <td>Tanzania</td>\n",
       "      <td>3.231</td>\n",
       "      <td>0.476</td>\n",
       "      <td>0.885</td>\n",
       "      <td>0.499</td>\n",
       "      <td>0.276</td>\n",
       "    </tr>\n",
       "    <tr>\n",
       "      <th>153</th>\n",
       "      <td>Afghanistan</td>\n",
       "      <td>3.203</td>\n",
       "      <td>0.350</td>\n",
       "      <td>0.517</td>\n",
       "      <td>0.361</td>\n",
       "      <td>0.158</td>\n",
       "    </tr>\n",
       "    <tr>\n",
       "      <th>154</th>\n",
       "      <td>Central African Republic</td>\n",
       "      <td>3.083</td>\n",
       "      <td>0.026</td>\n",
       "      <td>0.000</td>\n",
       "      <td>0.105</td>\n",
       "      <td>0.235</td>\n",
       "    </tr>\n",
       "    <tr>\n",
       "      <th>155</th>\n",
       "      <td>South Sudan</td>\n",
       "      <td>2.853</td>\n",
       "      <td>0.306</td>\n",
       "      <td>0.575</td>\n",
       "      <td>0.295</td>\n",
       "      <td>0.202</td>\n",
       "    </tr>\n",
       "  </tbody>\n",
       "</table>\n",
       "<p>156 rows × 6 columns</p>\n",
       "</div>"
      ],
      "text/plain": [
       "                      Country  Score  GDP per capita  Social support  \\\n",
       "0                     Finland  7.769           1.340           1.587   \n",
       "1                     Denmark  7.600           1.383           1.573   \n",
       "2                      Norway  7.554           1.488           1.582   \n",
       "3                     Iceland  7.494           1.380           1.624   \n",
       "4                 Netherlands  7.488           1.396           1.522   \n",
       "..                        ...    ...             ...             ...   \n",
       "151                    Rwanda  3.334           0.359           0.711   \n",
       "152                  Tanzania  3.231           0.476           0.885   \n",
       "153               Afghanistan  3.203           0.350           0.517   \n",
       "154  Central African Republic  3.083           0.026           0.000   \n",
       "155               South Sudan  2.853           0.306           0.575   \n",
       "\n",
       "     Life expectancy  Generosity  \n",
       "0              0.986       0.153  \n",
       "1              0.996       0.252  \n",
       "2              1.028       0.271  \n",
       "3              1.026       0.354  \n",
       "4              0.999       0.322  \n",
       "..               ...         ...  \n",
       "151            0.614       0.217  \n",
       "152            0.499       0.276  \n",
       "153            0.361       0.158  \n",
       "154            0.105       0.235  \n",
       "155            0.295       0.202  \n",
       "\n",
       "[156 rows x 6 columns]"
      ]
     },
     "execution_count": 32,
     "metadata": {},
     "output_type": "execute_result"
    }
   ],
   "source": [
    "happyDF"
   ]
  },
  {
   "cell_type": "code",
   "execution_count": 33,
   "id": "54937c5a-1b16-45ba-b8c4-21d1e10456e0",
   "metadata": {},
   "outputs": [
    {
     "data": {
      "text/plain": [
       "',Country,Score,GDP per capita,Social support,Life expectancy,Generosity\\r\\n0,Finland,7.769,1.34,1.587,0.986,0.153\\r\\n1,Denmark,7.6,1.383,1.573,0.996,0.252\\r\\n2,Norway,7.554,1.488,1.582,1.028,0.271\\r\\n3,Iceland,7.494,1.38,1.624,1.026,0.354\\r\\n4,Netherlands,7.488,1.396,1.522,0.999,0.322\\r\\n5,Switzerland,7.48,1.452,1.526,1.052,0.263\\r\\n6,Sweden,7.343,1.387,1.487,1.009,0.267\\r\\n7,New Zealand,7.307,1.303,1.557,1.026,0.33\\r\\n8,Canada,7.278,1.365,1.505,1.039,0.285\\r\\n9,Austria,7.246,1.376,1.475,1.016,0.244\\r\\n'"
      ]
     },
     "execution_count": 33,
     "metadata": {},
     "output_type": "execute_result"
    }
   ],
   "source": [
    "happyDF.head(10).to_csv()"
   ]
  },
  {
   "cell_type": "markdown",
   "id": "08fa054e-44c3-4440-b0e7-5fba2987a793",
   "metadata": {},
   "source": [
    "12.3 엑셀 통합문서에 읽고 쓰기"
   ]
  },
  {
   "cell_type": "markdown",
   "id": "a223c00f-201a-4950-9a55-5a50d500f73e",
   "metadata": {},
   "source": [
    "12.3.2 엑셀 통합문서 가져오기"
   ]
  },
  {
   "cell_type": "code",
   "execution_count": 34,
   "id": "dc53eeea-fbf0-48a1-8dde-ad59a2fec2db",
   "metadata": {},
   "outputs": [],
   "source": [
    "file2='../DATA/Single Worksheet.xlsx'"
   ]
  },
  {
   "cell_type": "code",
   "execution_count": 35,
   "id": "31e73a55-501d-4d43-b7aa-6dab4bb19079",
   "metadata": {},
   "outputs": [],
   "source": [
    "SingleDF=pd.read_excel(file2)"
   ]
  },
  {
   "cell_type": "code",
   "execution_count": 36,
   "id": "c91619be-591f-46c7-b15f-fbec59440c96",
   "metadata": {},
   "outputs": [
    {
     "data": {
      "text/html": [
       "<div>\n",
       "<style scoped>\n",
       "    .dataframe tbody tr th:only-of-type {\n",
       "        vertical-align: middle;\n",
       "    }\n",
       "\n",
       "    .dataframe tbody tr th {\n",
       "        vertical-align: top;\n",
       "    }\n",
       "\n",
       "    .dataframe thead th {\n",
       "        text-align: right;\n",
       "    }\n",
       "</style>\n",
       "<table border=\"1\" class=\"dataframe\">\n",
       "  <thead>\n",
       "    <tr style=\"text-align: right;\">\n",
       "      <th></th>\n",
       "      <th>First Name</th>\n",
       "      <th>Last Name</th>\n",
       "      <th>City</th>\n",
       "      <th>Gender</th>\n",
       "    </tr>\n",
       "  </thead>\n",
       "  <tbody>\n",
       "    <tr>\n",
       "      <th>0</th>\n",
       "      <td>Brandon</td>\n",
       "      <td>James</td>\n",
       "      <td>Miami</td>\n",
       "      <td>M</td>\n",
       "    </tr>\n",
       "    <tr>\n",
       "      <th>1</th>\n",
       "      <td>Sean</td>\n",
       "      <td>Hawkins</td>\n",
       "      <td>Denver</td>\n",
       "      <td>M</td>\n",
       "    </tr>\n",
       "    <tr>\n",
       "      <th>2</th>\n",
       "      <td>Judy</td>\n",
       "      <td>Day</td>\n",
       "      <td>Los Angeles</td>\n",
       "      <td>F</td>\n",
       "    </tr>\n",
       "    <tr>\n",
       "      <th>3</th>\n",
       "      <td>Ashley</td>\n",
       "      <td>Ruiz</td>\n",
       "      <td>San Francisco</td>\n",
       "      <td>F</td>\n",
       "    </tr>\n",
       "    <tr>\n",
       "      <th>4</th>\n",
       "      <td>Stephanie</td>\n",
       "      <td>Gomez</td>\n",
       "      <td>Portland</td>\n",
       "      <td>F</td>\n",
       "    </tr>\n",
       "  </tbody>\n",
       "</table>\n",
       "</div>"
      ],
      "text/plain": [
       "  First Name Last Name           City Gender\n",
       "0    Brandon     James          Miami      M\n",
       "1       Sean   Hawkins         Denver      M\n",
       "2       Judy       Day    Los Angeles      F\n",
       "3     Ashley      Ruiz  San Francisco      F\n",
       "4  Stephanie     Gomez       Portland      F"
      ]
     },
     "execution_count": 36,
     "metadata": {},
     "output_type": "execute_result"
    }
   ],
   "source": [
    "SingleDF"
   ]
  },
  {
   "cell_type": "code",
   "execution_count": 37,
   "id": "f0524150-146f-4f45-9d2a-e481c1e2f918",
   "metadata": {},
   "outputs": [
    {
     "data": {
      "text/html": [
       "<div>\n",
       "<style scoped>\n",
       "    .dataframe tbody tr th:only-of-type {\n",
       "        vertical-align: middle;\n",
       "    }\n",
       "\n",
       "    .dataframe tbody tr th {\n",
       "        vertical-align: top;\n",
       "    }\n",
       "\n",
       "    .dataframe thead th {\n",
       "        text-align: right;\n",
       "    }\n",
       "</style>\n",
       "<table border=\"1\" class=\"dataframe\">\n",
       "  <thead>\n",
       "    <tr style=\"text-align: right;\">\n",
       "      <th></th>\n",
       "      <th>First Name</th>\n",
       "      <th>Last Name</th>\n",
       "    </tr>\n",
       "    <tr>\n",
       "      <th>City</th>\n",
       "      <th></th>\n",
       "      <th></th>\n",
       "    </tr>\n",
       "  </thead>\n",
       "  <tbody>\n",
       "    <tr>\n",
       "      <th>Miami</th>\n",
       "      <td>Brandon</td>\n",
       "      <td>James</td>\n",
       "    </tr>\n",
       "    <tr>\n",
       "      <th>Denver</th>\n",
       "      <td>Sean</td>\n",
       "      <td>Hawkins</td>\n",
       "    </tr>\n",
       "    <tr>\n",
       "      <th>Los Angeles</th>\n",
       "      <td>Judy</td>\n",
       "      <td>Day</td>\n",
       "    </tr>\n",
       "    <tr>\n",
       "      <th>San Francisco</th>\n",
       "      <td>Ashley</td>\n",
       "      <td>Ruiz</td>\n",
       "    </tr>\n",
       "    <tr>\n",
       "      <th>Portland</th>\n",
       "      <td>Stephanie</td>\n",
       "      <td>Gomez</td>\n",
       "    </tr>\n",
       "  </tbody>\n",
       "</table>\n",
       "</div>"
      ],
      "text/plain": [
       "              First Name Last Name\n",
       "City                              \n",
       "Miami            Brandon     James\n",
       "Denver              Sean   Hawkins\n",
       "Los Angeles         Judy       Day\n",
       "San Francisco     Ashley      Ruiz\n",
       "Portland       Stephanie     Gomez"
      ]
     },
     "execution_count": 37,
     "metadata": {},
     "output_type": "execute_result"
    }
   ],
   "source": [
    "pd.read_excel(io=file2,usecols=[\"City\",\"First Name\",\"Last Name\"],   #city열을 인덱스로.....\n",
    "              index_col=\"City\")"
   ]
  },
  {
   "cell_type": "code",
   "execution_count": 38,
   "id": "0f5cf200-83e1-420c-a0b3-4f8e191dbb8d",
   "metadata": {},
   "outputs": [],
   "source": [
    "#기본적으로 판다스는 첫번쨰 시트만 가져오는데 sheet_name 매개변수에 인덱스 위치나 이름을 저장할 수 있다."
   ]
  },
  {
   "cell_type": "code",
   "execution_count": 39,
   "id": "1e7c034c-65e1-4d8f-82d9-9809bc925bda",
   "metadata": {},
   "outputs": [],
   "source": [
    "# pd.read_excel(file2,sheet_name=0)\n",
    "# pd.read_excel(file2,sheet_name=\"Data 1\")\n",
    "\n"
   ]
  },
  {
   "cell_type": "code",
   "execution_count": 40,
   "id": "3a268765-2dba-4dd6-a594-2acd87a25ede",
   "metadata": {},
   "outputs": [],
   "source": [
    "# pd.read_excel(\n",
    "#     file2,sheet_name=[\"Data 1\",\"Data 3\"] )"
   ]
  },
  {
   "cell_type": "markdown",
   "id": "472c820c-0c33-46f0-b01d-51f09d61a91c",
   "metadata": {},
   "source": [
    "12.4 코딩 챌린지"
   ]
  },
  {
   "cell_type": "code",
   "execution_count": 41,
   "id": "4a495475-110f-4198-80d3-653c807974ad",
   "metadata": {},
   "outputs": [],
   "source": [
    "file3='../DATA/tv_shows.json'"
   ]
  },
  {
   "cell_type": "code",
   "execution_count": 42,
   "id": "644e6079-051d-4731-a04b-78891e4ca24a",
   "metadata": {},
   "outputs": [],
   "source": [
    "tv_shows_json=pd.read_json(file3)"
   ]
  },
  {
   "cell_type": "code",
   "execution_count": 43,
   "id": "0d968048-27b8-46b4-a08b-8da860d483ec",
   "metadata": {},
   "outputs": [
    {
     "data": {
      "text/html": [
       "<div>\n",
       "<style scoped>\n",
       "    .dataframe tbody tr th:only-of-type {\n",
       "        vertical-align: middle;\n",
       "    }\n",
       "\n",
       "    .dataframe tbody tr th {\n",
       "        vertical-align: top;\n",
       "    }\n",
       "\n",
       "    .dataframe thead th {\n",
       "        text-align: right;\n",
       "    }\n",
       "</style>\n",
       "<table border=\"1\" class=\"dataframe\">\n",
       "  <thead>\n",
       "    <tr style=\"text-align: right;\">\n",
       "      <th></th>\n",
       "      <th>shows</th>\n",
       "    </tr>\n",
       "  </thead>\n",
       "  <tbody>\n",
       "    <tr>\n",
       "      <th>0</th>\n",
       "      <td>{'show': 'The X-Files', 'runtime': 60, 'networ...</td>\n",
       "    </tr>\n",
       "    <tr>\n",
       "      <th>1</th>\n",
       "      <td>{'show': 'Lost', 'runtime': 60, 'network': 'AB...</td>\n",
       "    </tr>\n",
       "    <tr>\n",
       "      <th>2</th>\n",
       "      <td>{'show': 'Buffy the Vampire Slayer', 'runtime'...</td>\n",
       "    </tr>\n",
       "  </tbody>\n",
       "</table>\n",
       "</div>"
      ],
      "text/plain": [
       "                                               shows\n",
       "0  {'show': 'The X-Files', 'runtime': 60, 'networ...\n",
       "1  {'show': 'Lost', 'runtime': 60, 'network': 'AB...\n",
       "2  {'show': 'Buffy the Vampire Slayer', 'runtime'..."
      ]
     },
     "execution_count": 43,
     "metadata": {},
     "output_type": "execute_result"
    }
   ],
   "source": [
    "tv_shows_json"
   ]
  },
  {
   "cell_type": "markdown",
   "id": "0c60c9fe-0547-4a7f-8771-68806d81cf23",
   "metadata": {},
   "source": [
    "1. shows열의 각 딕셔너리에 중첩된 에피소드 데이터를 정규화. 각 에피소드를 별도의 행으로 나타내는 DataFrmae 생성"
   ]
  },
  {
   "cell_type": "code",
   "execution_count": 45,
   "id": "21366a09-1ee1-45e1-b9cf-252525b4bc2d",
   "metadata": {},
   "outputs": [],
   "source": [
    "tv_shows=pd.json_normalize(\n",
    "data=tv_shows_json[\"shows\"], #열의 데이터가 정규화\n",
    "record_path= \"episodes\",   #에피소드와 관련된\n",
    "meta=[\"show\",\"runtime\",\"network\"] # 최상위 정보는 메타에 저장\n",
    ")"
   ]
  },
  {
   "cell_type": "code",
   "execution_count": 46,
   "id": "89e896c5-bf80-4c6a-be08-1245e9cd29a3",
   "metadata": {},
   "outputs": [
    {
     "data": {
      "text/html": [
       "<div>\n",
       "<style scoped>\n",
       "    .dataframe tbody tr th:only-of-type {\n",
       "        vertical-align: middle;\n",
       "    }\n",
       "\n",
       "    .dataframe tbody tr th {\n",
       "        vertical-align: top;\n",
       "    }\n",
       "\n",
       "    .dataframe thead th {\n",
       "        text-align: right;\n",
       "    }\n",
       "</style>\n",
       "<table border=\"1\" class=\"dataframe\">\n",
       "  <thead>\n",
       "    <tr style=\"text-align: right;\">\n",
       "      <th></th>\n",
       "      <th>season</th>\n",
       "      <th>episode</th>\n",
       "      <th>name</th>\n",
       "      <th>air_date</th>\n",
       "      <th>show</th>\n",
       "      <th>runtime</th>\n",
       "      <th>network</th>\n",
       "    </tr>\n",
       "  </thead>\n",
       "  <tbody>\n",
       "    <tr>\n",
       "      <th>0</th>\n",
       "      <td>1</td>\n",
       "      <td>1</td>\n",
       "      <td>Pilot</td>\n",
       "      <td>1993-09-11 01:00:00</td>\n",
       "      <td>The X-Files</td>\n",
       "      <td>60</td>\n",
       "      <td>FOX</td>\n",
       "    </tr>\n",
       "    <tr>\n",
       "      <th>1</th>\n",
       "      <td>1</td>\n",
       "      <td>2</td>\n",
       "      <td>Deep Throat</td>\n",
       "      <td>1993-09-18 01:00:00</td>\n",
       "      <td>The X-Files</td>\n",
       "      <td>60</td>\n",
       "      <td>FOX</td>\n",
       "    </tr>\n",
       "    <tr>\n",
       "      <th>2</th>\n",
       "      <td>1</td>\n",
       "      <td>3</td>\n",
       "      <td>Squeeze</td>\n",
       "      <td>1993-09-25 01:00:00</td>\n",
       "      <td>The X-Files</td>\n",
       "      <td>60</td>\n",
       "      <td>FOX</td>\n",
       "    </tr>\n",
       "    <tr>\n",
       "      <th>3</th>\n",
       "      <td>1</td>\n",
       "      <td>4</td>\n",
       "      <td>Conduit</td>\n",
       "      <td>1993-10-02 01:00:00</td>\n",
       "      <td>The X-Files</td>\n",
       "      <td>60</td>\n",
       "      <td>FOX</td>\n",
       "    </tr>\n",
       "    <tr>\n",
       "      <th>4</th>\n",
       "      <td>1</td>\n",
       "      <td>5</td>\n",
       "      <td>The Jersey Devil</td>\n",
       "      <td>1993-10-09 01:00:00</td>\n",
       "      <td>The X-Files</td>\n",
       "      <td>60</td>\n",
       "      <td>FOX</td>\n",
       "    </tr>\n",
       "    <tr>\n",
       "      <th>...</th>\n",
       "      <td>...</td>\n",
       "      <td>...</td>\n",
       "      <td>...</td>\n",
       "      <td>...</td>\n",
       "      <td>...</td>\n",
       "      <td>...</td>\n",
       "      <td>...</td>\n",
       "    </tr>\n",
       "    <tr>\n",
       "      <th>477</th>\n",
       "      <td>7</td>\n",
       "      <td>18</td>\n",
       "      <td>Dirty Girls</td>\n",
       "      <td>2003-04-16 00:00:00</td>\n",
       "      <td>Buffy the Vampire Slayer</td>\n",
       "      <td>60</td>\n",
       "      <td>UPN</td>\n",
       "    </tr>\n",
       "    <tr>\n",
       "      <th>478</th>\n",
       "      <td>7</td>\n",
       "      <td>19</td>\n",
       "      <td>Empty Places</td>\n",
       "      <td>2003-04-30 00:00:00</td>\n",
       "      <td>Buffy the Vampire Slayer</td>\n",
       "      <td>60</td>\n",
       "      <td>UPN</td>\n",
       "    </tr>\n",
       "    <tr>\n",
       "      <th>479</th>\n",
       "      <td>7</td>\n",
       "      <td>20</td>\n",
       "      <td>Touched</td>\n",
       "      <td>2003-05-07 00:00:00</td>\n",
       "      <td>Buffy the Vampire Slayer</td>\n",
       "      <td>60</td>\n",
       "      <td>UPN</td>\n",
       "    </tr>\n",
       "    <tr>\n",
       "      <th>480</th>\n",
       "      <td>7</td>\n",
       "      <td>21</td>\n",
       "      <td>End of Days</td>\n",
       "      <td>2003-05-14 00:00:00</td>\n",
       "      <td>Buffy the Vampire Slayer</td>\n",
       "      <td>60</td>\n",
       "      <td>UPN</td>\n",
       "    </tr>\n",
       "    <tr>\n",
       "      <th>481</th>\n",
       "      <td>7</td>\n",
       "      <td>22</td>\n",
       "      <td>Chosen</td>\n",
       "      <td>2003-05-21 00:00:00</td>\n",
       "      <td>Buffy the Vampire Slayer</td>\n",
       "      <td>60</td>\n",
       "      <td>UPN</td>\n",
       "    </tr>\n",
       "  </tbody>\n",
       "</table>\n",
       "<p>482 rows × 7 columns</p>\n",
       "</div>"
      ],
      "text/plain": [
       "     season  episode              name             air_date  \\\n",
       "0         1        1             Pilot  1993-09-11 01:00:00   \n",
       "1         1        2       Deep Throat  1993-09-18 01:00:00   \n",
       "2         1        3           Squeeze  1993-09-25 01:00:00   \n",
       "3         1        4           Conduit  1993-10-02 01:00:00   \n",
       "4         1        5  The Jersey Devil  1993-10-09 01:00:00   \n",
       "..      ...      ...               ...                  ...   \n",
       "477       7       18       Dirty Girls  2003-04-16 00:00:00   \n",
       "478       7       19      Empty Places  2003-04-30 00:00:00   \n",
       "479       7       20           Touched  2003-05-07 00:00:00   \n",
       "480       7       21       End of Days  2003-05-14 00:00:00   \n",
       "481       7       22            Chosen  2003-05-21 00:00:00   \n",
       "\n",
       "                         show runtime network  \n",
       "0                 The X-Files      60     FOX  \n",
       "1                 The X-Files      60     FOX  \n",
       "2                 The X-Files      60     FOX  \n",
       "3                 The X-Files      60     FOX  \n",
       "4                 The X-Files      60     FOX  \n",
       "..                        ...     ...     ...  \n",
       "477  Buffy the Vampire Slayer      60     UPN  \n",
       "478  Buffy the Vampire Slayer      60     UPN  \n",
       "479  Buffy the Vampire Slayer      60     UPN  \n",
       "480  Buffy the Vampire Slayer      60     UPN  \n",
       "481  Buffy the Vampire Slayer      60     UPN  \n",
       "\n",
       "[482 rows x 7 columns]"
      ]
     },
     "execution_count": 46,
     "metadata": {},
     "output_type": "execute_result"
    }
   ],
   "source": [
    "tv_shows"
   ]
  },
  {
   "cell_type": "markdown",
   "id": "b0cbe311-9a77-4a89-862c-70aa8f90460b",
   "metadata": {},
   "source": [
    "2. 정규화된 데이터 셋을 각 프로그램 별로 하나씩 총 3개의 개별 DataFrame으로 필터링"
   ]
  },
  {
   "cell_type": "code",
   "execution_count": 48,
   "id": "6102fb0d-6fa4-46ef-82ba-766723a0ffcf",
   "metadata": {},
   "outputs": [],
   "source": [
    "xfiles=tv_shows[tv_shows[\"show\"]==\"The X-Files\"]\n",
    "lost=tv_shows[tv_shows[\"show\"]==\"Lost\"]\n",
    "buffy=tv_shows[tv_shows[\"show\"]==\"Buffy the Vampire Slayer\"]   "
   ]
  },
  {
   "cell_type": "code",
   "execution_count": 50,
   "id": "b344d148-5e32-4777-956c-c68c19669ad9",
   "metadata": {},
   "outputs": [
    {
     "name": "stdout",
     "output_type": "stream",
     "text": [
      "     season  episode                   name             air_date         show  \\\n",
      "0         1        1                  Pilot  1993-09-11 01:00:00  The X-Files   \n",
      "1         1        2            Deep Throat  1993-09-18 01:00:00  The X-Files   \n",
      "2         1        3                Squeeze  1993-09-25 01:00:00  The X-Files   \n",
      "3         1        4                Conduit  1993-10-02 01:00:00  The X-Files   \n",
      "4         1        5       The Jersey Devil  1993-10-09 01:00:00  The X-Files   \n",
      "..      ...      ...                    ...                  ...          ...   \n",
      "213      11        6                 Kitten  2018-02-08 01:00:00  The X-Files   \n",
      "214      11        7           Rm9sbG93ZXJz  2018-03-01 01:00:00  The X-Files   \n",
      "215      11        8               Familiar  2018-03-08 01:00:00  The X-Files   \n",
      "216      11        9  Nothing Lasts Forever  2018-03-15 00:00:00  The X-Files   \n",
      "217      11       10         My Struggle IV  2018-03-22 00:00:00  The X-Files   \n",
      "\n",
      "    runtime network  \n",
      "0        60     FOX  \n",
      "1        60     FOX  \n",
      "2        60     FOX  \n",
      "3        60     FOX  \n",
      "4        60     FOX  \n",
      "..      ...     ...  \n",
      "213      60     FOX  \n",
      "214      60     FOX  \n",
      "215      60     FOX  \n",
      "216      60     FOX  \n",
      "217      60     FOX  \n",
      "\n",
      "[218 rows x 7 columns]\n",
      "\n",
      "     season  episode                name             air_date  show runtime  \\\n",
      "218       1        1           Pilot (1)  2004-09-23 00:00:00  Lost      60   \n",
      "219       1        2           Pilot (2)  2004-09-30 00:00:00  Lost      60   \n",
      "220       1        3         Tabula Rasa  2004-10-07 00:00:00  Lost      60   \n",
      "221       1        4           Walkabout  2004-10-14 00:00:00  Lost      60   \n",
      "222       1        5        White Rabbit  2004-10-21 00:00:00  Lost      60   \n",
      "..      ...      ...                 ...                  ...   ...     ...   \n",
      "334       6       14       The Candidate  2010-05-05 01:00:00  Lost      60   \n",
      "335       6       15      Across the Sea  2010-05-12 01:00:00  Lost      60   \n",
      "336       6       16  What They Died For  2010-05-19 01:00:00  Lost      60   \n",
      "337       6       17         The End (1)  2010-05-24 01:00:00  Lost      60   \n",
      "338       6       18         The End (2)  2010-05-24 01:00:00  Lost      60   \n",
      "\n",
      "    network  \n",
      "218     ABC  \n",
      "219     ABC  \n",
      "220     ABC  \n",
      "221     ABC  \n",
      "222     ABC  \n",
      "..      ...  \n",
      "334     ABC  \n",
      "335     ABC  \n",
      "336     ABC  \n",
      "337     ABC  \n",
      "338     ABC  \n",
      "\n",
      "[121 rows x 7 columns]\n",
      "\n",
      "     season  episode                                name             air_date  \\\n",
      "339       1        1            Welcome to the Hellmouth  1997-03-11 01:00:00   \n",
      "340       1        2                         The Harvest  1997-03-11 01:00:00   \n",
      "341       1        3                               Witch  1997-03-18 01:00:00   \n",
      "342       1        4                       Teacher's Pet  1997-03-26 01:00:00   \n",
      "343       1        5  Never Kill a Boy on the First Date  1997-04-01 01:00:00   \n",
      "..      ...      ...                                 ...                  ...   \n",
      "477       7       18                         Dirty Girls  2003-04-16 00:00:00   \n",
      "478       7       19                        Empty Places  2003-04-30 00:00:00   \n",
      "479       7       20                             Touched  2003-05-07 00:00:00   \n",
      "480       7       21                         End of Days  2003-05-14 00:00:00   \n",
      "481       7       22                              Chosen  2003-05-21 00:00:00   \n",
      "\n",
      "                         show runtime network  \n",
      "339  Buffy the Vampire Slayer      60     UPN  \n",
      "340  Buffy the Vampire Slayer      60     UPN  \n",
      "341  Buffy the Vampire Slayer      60     UPN  \n",
      "342  Buffy the Vampire Slayer      60     UPN  \n",
      "343  Buffy the Vampire Slayer      60     UPN  \n",
      "..                        ...     ...     ...  \n",
      "477  Buffy the Vampire Slayer      60     UPN  \n",
      "478  Buffy the Vampire Slayer      60     UPN  \n",
      "479  Buffy the Vampire Slayer      60     UPN  \n",
      "480  Buffy the Vampire Slayer      60     UPN  \n",
      "481  Buffy the Vampire Slayer      60     UPN  \n",
      "\n",
      "[143 rows x 7 columns]\n"
     ]
    }
   ],
   "source": [
    "print(xfiles,lost,buffy,sep='\\n\\n')"
   ]
  },
  {
   "cell_type": "markdown",
   "id": "984ad891-3e30-4880-b7a1-d0c65d1b42dd",
   "metadata": {},
   "source": [
    "3. episodes.xlsx엑셀 통합문서로 3개의 데이터프레임을 작성하고 각 프로그램의 에피소드 데이터를 별도의 워크시트에 저장..."
   ]
  },
  {
   "cell_type": "markdown",
   "id": "e82dd46a-30a6-4dc0-a6e4-64825cc2449b",
   "metadata": {},
   "source": [
    "1. 먼저 excelwriter 객체를 변수에 저장"
   ]
  },
  {
   "cell_type": "code",
   "execution_count": 51,
   "id": "72993a35-a593-447e-9e88-872a3e9dd6a1",
   "metadata": {},
   "outputs": [
    {
     "data": {
      "text/plain": [
       "<pandas.io.excel._openpyxl.OpenpyxlWriter at 0x1849d5d4af0>"
      ]
     },
     "execution_count": 51,
     "metadata": {},
     "output_type": "execute_result"
    }
   ],
   "source": [
    "episodes=pd.ExcelWriter(\"episodes.xlsx\")\n",
    "episodes"
   ]
  },
  {
   "cell_type": "code",
   "execution_count": 53,
   "id": "95f0b9ed-31aa-4f7b-b5be-5989a721d3c1",
   "metadata": {},
   "outputs": [],
   "source": [
    "xfiles.to_excel(\n",
    "    excel_writer=episodes,sheet_name=\"X-Flies\",index=False  #각각 저장해주기(to_excel 사용)\n",
    ")\n",
    "\n",
    "lost.to_excel(\n",
    "    excel_writer=episodes,sheet_name=\"Lost\",index=False\n",
    ")\n",
    "\n",
    "buffy.to_excel(\n",
    "    excel_writer=episodes,sheet_name=\"Buffy the Vampire Slayer\",index=False\n",
    ")"
   ]
  },
  {
   "cell_type": "code",
   "execution_count": 54,
   "id": "0df42e9a-da07-44fb-8ed5-0aa5f33577f5",
   "metadata": {},
   "outputs": [],
   "source": [
    "#index=False의 의미: DATAframe 인덱스를 제외하기 위해"
   ]
  },
  {
   "cell_type": "code",
   "execution_count": null,
   "id": "99b950e8-970c-40b5-a93b-50a7d8951743",
   "metadata": {},
   "outputs": [],
   "source": []
  }
 ],
 "metadata": {
  "kernelspec": {
   "display_name": "Python 3 (ipykernel)",
   "language": "python",
   "name": "python3"
  },
  "language_info": {
   "codemirror_mode": {
    "name": "ipython",
    "version": 3
   },
   "file_extension": ".py",
   "mimetype": "text/x-python",
   "name": "python",
   "nbconvert_exporter": "python",
   "pygments_lexer": "ipython3",
   "version": "3.8.18"
  }
 },
 "nbformat": 4,
 "nbformat_minor": 5
}
