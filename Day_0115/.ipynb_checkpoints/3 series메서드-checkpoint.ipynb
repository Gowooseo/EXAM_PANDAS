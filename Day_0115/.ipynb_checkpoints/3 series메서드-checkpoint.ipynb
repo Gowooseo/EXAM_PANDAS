{
 "cells": [
  {
   "cell_type": "markdown",
   "id": "3f68cf3d-e6a6-468e-8f53-719c4ede47ed",
   "metadata": {},
   "source": [
    "3.1 read_csv로 데이터셋 가져오기"
   ]
  },
  {
   "cell_type": "code",
   "execution_count": 1,
   "id": "2c5db318-25c6-4bfd-ac8e-21536e8fa3cd",
   "metadata": {},
   "outputs": [],
   "source": [
    "import pandas as pd"
   ]
  },
  {
   "cell_type": "code",
   "execution_count": 2,
   "id": "0dcc22e9-365f-4d87-b2ba-9579dd5dcf30",
   "metadata": {},
   "outputs": [],
   "source": [
    "file='../DATA/pokemon.csv'"
   ]
  },
  {
   "cell_type": "code",
   "execution_count": 3,
   "id": "5d89b9f1-e35f-4b4d-bf14-56a5e90c31a6",
   "metadata": {},
   "outputs": [],
   "source": [
    "pokemonDF=pd.read_csv(file)"
   ]
  },
  {
   "cell_type": "code",
   "execution_count": 4,
   "id": "9d80573f-db2d-4c7f-8481-5f1f8fd466b7",
   "metadata": {},
   "outputs": [
    {
     "data": {
      "text/html": [
       "<div>\n",
       "<style scoped>\n",
       "    .dataframe tbody tr th:only-of-type {\n",
       "        vertical-align: middle;\n",
       "    }\n",
       "\n",
       "    .dataframe tbody tr th {\n",
       "        vertical-align: top;\n",
       "    }\n",
       "\n",
       "    .dataframe thead th {\n",
       "        text-align: right;\n",
       "    }\n",
       "</style>\n",
       "<table border=\"1\" class=\"dataframe\">\n",
       "  <thead>\n",
       "    <tr style=\"text-align: right;\">\n",
       "      <th></th>\n",
       "      <th>Pokemon</th>\n",
       "      <th>Type</th>\n",
       "    </tr>\n",
       "  </thead>\n",
       "  <tbody>\n",
       "    <tr>\n",
       "      <th>0</th>\n",
       "      <td>Bulbasaur</td>\n",
       "      <td>Grass / Poison</td>\n",
       "    </tr>\n",
       "    <tr>\n",
       "      <th>1</th>\n",
       "      <td>Ivysaur</td>\n",
       "      <td>Grass / Poison</td>\n",
       "    </tr>\n",
       "    <tr>\n",
       "      <th>2</th>\n",
       "      <td>Venusaur</td>\n",
       "      <td>Grass / Poison</td>\n",
       "    </tr>\n",
       "    <tr>\n",
       "      <th>3</th>\n",
       "      <td>Charmander</td>\n",
       "      <td>Fire</td>\n",
       "    </tr>\n",
       "    <tr>\n",
       "      <th>4</th>\n",
       "      <td>Charmeleon</td>\n",
       "      <td>Fire</td>\n",
       "    </tr>\n",
       "    <tr>\n",
       "      <th>...</th>\n",
       "      <td>...</td>\n",
       "      <td>...</td>\n",
       "    </tr>\n",
       "    <tr>\n",
       "      <th>804</th>\n",
       "      <td>Stakataka</td>\n",
       "      <td>Rock / Steel</td>\n",
       "    </tr>\n",
       "    <tr>\n",
       "      <th>805</th>\n",
       "      <td>Blacephalon</td>\n",
       "      <td>Fire / Ghost</td>\n",
       "    </tr>\n",
       "    <tr>\n",
       "      <th>806</th>\n",
       "      <td>Zeraora</td>\n",
       "      <td>Electric</td>\n",
       "    </tr>\n",
       "    <tr>\n",
       "      <th>807</th>\n",
       "      <td>Meltan</td>\n",
       "      <td>Steel</td>\n",
       "    </tr>\n",
       "    <tr>\n",
       "      <th>808</th>\n",
       "      <td>Melmetal</td>\n",
       "      <td>Steel</td>\n",
       "    </tr>\n",
       "  </tbody>\n",
       "</table>\n",
       "<p>809 rows × 2 columns</p>\n",
       "</div>"
      ],
      "text/plain": [
       "         Pokemon            Type\n",
       "0      Bulbasaur  Grass / Poison\n",
       "1        Ivysaur  Grass / Poison\n",
       "2       Venusaur  Grass / Poison\n",
       "3     Charmander            Fire\n",
       "4     Charmeleon            Fire\n",
       "..           ...             ...\n",
       "804    Stakataka    Rock / Steel\n",
       "805  Blacephalon    Fire / Ghost\n",
       "806      Zeraora        Electric\n",
       "807       Meltan           Steel\n",
       "808     Melmetal           Steel\n",
       "\n",
       "[809 rows x 2 columns]"
      ]
     },
     "execution_count": 4,
     "metadata": {},
     "output_type": "execute_result"
    }
   ],
   "source": [
    "pokemonDF"
   ]
  },
  {
   "cell_type": "code",
   "execution_count": 5,
   "id": "118a3071-bed4-4ec9-86e7-767cea9efe27",
   "metadata": {},
   "outputs": [],
   "source": [
    "# 2개의 열이 있지만, 하나의 시리즈만 나오고 있다.\n",
    " "
   ]
  },
  {
   "cell_type": "markdown",
   "id": "08fc1d7d-b56b-4354-b95d-ad4c38907065",
   "metadata": {},
   "source": [
    "방법: 데이터셋의 열 중 하나를 인덱스로 설정한다."
   ]
  },
  {
   "cell_type": "code",
   "execution_count": 6,
   "id": "de1f929f-bd7a-429f-9bd7-91042195e2e8",
   "metadata": {},
   "outputs": [],
   "source": [
    "pokemonDF=pd.read_csv(file,index_col=\"Pokemon\") # 컬럼을 인덱스로..."
   ]
  },
  {
   "cell_type": "code",
   "execution_count": 7,
   "id": "16f7a399-d417-452e-b971-abb6cf47042c",
   "metadata": {},
   "outputs": [
    {
     "data": {
      "text/html": [
       "<div>\n",
       "<style scoped>\n",
       "    .dataframe tbody tr th:only-of-type {\n",
       "        vertical-align: middle;\n",
       "    }\n",
       "\n",
       "    .dataframe tbody tr th {\n",
       "        vertical-align: top;\n",
       "    }\n",
       "\n",
       "    .dataframe thead th {\n",
       "        text-align: right;\n",
       "    }\n",
       "</style>\n",
       "<table border=\"1\" class=\"dataframe\">\n",
       "  <thead>\n",
       "    <tr style=\"text-align: right;\">\n",
       "      <th></th>\n",
       "      <th>Type</th>\n",
       "    </tr>\n",
       "    <tr>\n",
       "      <th>Pokemon</th>\n",
       "      <th></th>\n",
       "    </tr>\n",
       "  </thead>\n",
       "  <tbody>\n",
       "    <tr>\n",
       "      <th>Bulbasaur</th>\n",
       "      <td>Grass / Poison</td>\n",
       "    </tr>\n",
       "    <tr>\n",
       "      <th>Ivysaur</th>\n",
       "      <td>Grass / Poison</td>\n",
       "    </tr>\n",
       "    <tr>\n",
       "      <th>Venusaur</th>\n",
       "      <td>Grass / Poison</td>\n",
       "    </tr>\n",
       "    <tr>\n",
       "      <th>Charmander</th>\n",
       "      <td>Fire</td>\n",
       "    </tr>\n",
       "    <tr>\n",
       "      <th>Charmeleon</th>\n",
       "      <td>Fire</td>\n",
       "    </tr>\n",
       "    <tr>\n",
       "      <th>...</th>\n",
       "      <td>...</td>\n",
       "    </tr>\n",
       "    <tr>\n",
       "      <th>Stakataka</th>\n",
       "      <td>Rock / Steel</td>\n",
       "    </tr>\n",
       "    <tr>\n",
       "      <th>Blacephalon</th>\n",
       "      <td>Fire / Ghost</td>\n",
       "    </tr>\n",
       "    <tr>\n",
       "      <th>Zeraora</th>\n",
       "      <td>Electric</td>\n",
       "    </tr>\n",
       "    <tr>\n",
       "      <th>Meltan</th>\n",
       "      <td>Steel</td>\n",
       "    </tr>\n",
       "    <tr>\n",
       "      <th>Melmetal</th>\n",
       "      <td>Steel</td>\n",
       "    </tr>\n",
       "  </tbody>\n",
       "</table>\n",
       "<p>809 rows × 1 columns</p>\n",
       "</div>"
      ],
      "text/plain": [
       "                       Type\n",
       "Pokemon                    \n",
       "Bulbasaur    Grass / Poison\n",
       "Ivysaur      Grass / Poison\n",
       "Venusaur     Grass / Poison\n",
       "Charmander             Fire\n",
       "Charmeleon             Fire\n",
       "...                     ...\n",
       "Stakataka      Rock / Steel\n",
       "Blacephalon    Fire / Ghost\n",
       "Zeraora            Electric\n",
       "Meltan                Steel\n",
       "Melmetal              Steel\n",
       "\n",
       "[809 rows x 1 columns]"
      ]
     },
     "execution_count": 7,
     "metadata": {},
     "output_type": "execute_result"
    }
   ],
   "source": [
    "pokemonDF"
   ]
  },
  {
   "cell_type": "markdown",
   "id": "06c9f30f-5c8d-4ec7-81f0-4ececcfbe381",
   "metadata": {},
   "source": [
    "squeeze 를 사용하여 다른 매개변수를 추가하고 인수로 True를 반환하기."
   ]
  },
  {
   "cell_type": "code",
   "execution_count": 8,
   "id": "3693a7d0-0f45-4883-8b78-ffa05b00660e",
   "metadata": {},
   "outputs": [],
   "source": [
    "pokemonDF= pd.read_csv(file, index_col=\"Pokemon\").squeeze()\n"
   ]
  },
  {
   "cell_type": "code",
   "execution_count": 9,
   "id": "40ab3bfe-a598-4ce4-b0bb-51893944c5cd",
   "metadata": {},
   "outputs": [],
   "source": [
    "file2='../DATA/google_stocks.csv'"
   ]
  },
  {
   "cell_type": "code",
   "execution_count": 10,
   "id": "8b7b64b7-2553-47ce-a9bd-ef315351eeb6",
   "metadata": {},
   "outputs": [],
   "source": [
    "googleDF=pd.read_csv(file2\n",
    "           ).head()"
   ]
  },
  {
   "cell_type": "code",
   "execution_count": 11,
   "id": "eaaf035b-1db0-43fe-8647-d0b92195c0e7",
   "metadata": {},
   "outputs": [
    {
     "name": "stdout",
     "output_type": "stream",
     "text": [
      "<class 'pandas.core.frame.DataFrame'>\n",
      "RangeIndex: 5 entries, 0 to 4\n",
      "Data columns (total 2 columns):\n",
      " #   Column  Non-Null Count  Dtype  \n",
      "---  ------  --------------  -----  \n",
      " 0   Date    5 non-null      object \n",
      " 1   Close   5 non-null      float64\n",
      "dtypes: float64(1), object(1)\n",
      "memory usage: 208.0+ bytes\n"
     ]
    }
   ],
   "source": [
    "googleDF.info()"
   ]
  },
  {
   "cell_type": "code",
   "execution_count": 12,
   "id": "83d18ca4-ccd0-4e11-abe5-11f4dff1ea10",
   "metadata": {},
   "outputs": [],
   "source": [
    "#0번 인덱스를 date타입으로 바꿔야 한다."
   ]
  },
  {
   "cell_type": "code",
   "execution_count": 13,
   "id": "328a89cf-ac3e-4fe7-8e44-16b34f55541e",
   "metadata": {},
   "outputs": [],
   "source": [
    "googleDF=pd.read_csv(file2,parse_dates=[\"Date\"]\n",
    "           ).head().squeeze()"
   ]
  },
  {
   "cell_type": "code",
   "execution_count": 14,
   "id": "e3c32917-b8ea-4de9-a825-0bcf39793d07",
   "metadata": {},
   "outputs": [
    {
     "data": {
      "text/plain": [
       "Date\n",
       "2004-08-19    49.98\n",
       "2004-08-20    53.95\n",
       "2004-08-23    54.50\n",
       "2004-08-24    52.24\n",
       "2004-08-25    52.80\n",
       "Name: Close, dtype: float64"
      ]
     },
     "execution_count": 14,
     "metadata": {},
     "output_type": "execute_result"
    }
   ],
   "source": [
    "googleDF=pd.read_csv(file2,parse_dates=[\"Date\"],index_col=\"Date\"\n",
    "           ).head().squeeze() \n",
    "#시리즈가 잘 안써진다....\n",
    "googleDF"
   ]
  },
  {
   "cell_type": "code",
   "execution_count": 15,
   "id": "541445ad-ec1a-4d18-b596-e2cc4ba57931",
   "metadata": {},
   "outputs": [],
   "source": [
    "file4='../DATA/revolutionary_war.csv'"
   ]
  },
  {
   "cell_type": "code",
   "execution_count": 16,
   "id": "87421a33-3524-47bc-92f2-2a4592c104a0",
   "metadata": {},
   "outputs": [],
   "source": [
    "rwDF=pd.read_csv(file4\n",
    "           )"
   ]
  },
  {
   "cell_type": "code",
   "execution_count": 17,
   "id": "d94fed58-7919-43d0-8ac6-0c4d34f826d8",
   "metadata": {},
   "outputs": [],
   "source": [
    "rwDF=pd.read_csv(file4,index_col=\"Start Date\",parse_dates=[\"Start Date\"],usecols=[\"State\",\"Start Date\"]\n",
    "           )"
   ]
  },
  {
   "cell_type": "markdown",
   "id": "7ea2a3cb-3db1-44ea-903c-87ed9a9ea01d",
   "metadata": {},
   "source": [
    "3.2 시리즈 정렬"
   ]
  },
  {
   "cell_type": "code",
   "execution_count": 18,
   "id": "42cba180-1027-49fc-ac8c-467878beeba9",
   "metadata": {},
   "outputs": [
    {
     "data": {
      "text/plain": [
       "Date\n",
       "2004-08-19    49.98\n",
       "2004-08-24    52.24\n",
       "2004-08-25    52.80\n",
       "2004-08-20    53.95\n",
       "2004-08-23    54.50\n",
       "Name: Close, dtype: float64"
      ]
     },
     "execution_count": 18,
     "metadata": {},
     "output_type": "execute_result"
    }
   ],
   "source": [
    "googleDF.sort_values(ascending=True)"
   ]
  },
  {
   "cell_type": "code",
   "execution_count": 19,
   "id": "3e1da85f-4ca8-42f0-bae4-ccda0faaa578",
   "metadata": {},
   "outputs": [
    {
     "data": {
      "text/plain": [
       "Pokemon\n",
       "Illumise                Bug\n",
       "Silcoon                 Bug\n",
       "Pinsir                  Bug\n",
       "Burmy                   Bug\n",
       "Wurmple                 Bug\n",
       "                  ...      \n",
       "Tirtouga       Water / Rock\n",
       "Relicanth      Water / Rock\n",
       "Corsola        Water / Rock\n",
       "Carracosta     Water / Rock\n",
       "Empoleon      Water / Steel\n",
       "Name: Type, Length: 809, dtype: object"
      ]
     },
     "execution_count": 19,
     "metadata": {},
     "output_type": "execute_result"
    }
   ],
   "source": [
    "pokemonDF.sort_values(ascending=True)"
   ]
  },
  {
   "cell_type": "code",
   "execution_count": 20,
   "id": "af3081a3-b1d6-460e-8963-500d19383528",
   "metadata": {},
   "outputs": [
    {
     "data": {
      "text/plain": [
       "Pokemon\n",
       "Empoleon      Water / Steel\n",
       "Corsola        Water / Rock\n",
       "Relicanth      Water / Rock\n",
       "Carracosta     Water / Rock\n",
       "Tirtouga       Water / Rock\n",
       "                  ...      \n",
       "Kricketune              Bug\n",
       "Cascoon                 Bug\n",
       "Scatterbug              Bug\n",
       "Kricketot               Bug\n",
       "Grubbin                 Bug\n",
       "Name: Type, Length: 809, dtype: object"
      ]
     },
     "execution_count": 20,
     "metadata": {},
     "output_type": "execute_result"
    }
   ],
   "source": [
    "pokemonDF.sort_values(ascending=False)"
   ]
  },
  {
   "cell_type": "code",
   "execution_count": 21,
   "id": "3fcb507b-c19e-402f-a0a1-b72e6493438d",
   "metadata": {},
   "outputs": [],
   "source": [
    "# na_position 매개변수는 기본인수 last를 가지며, NAN값을 어디에 배치할지를 결정한다."
   ]
  },
  {
   "cell_type": "code",
   "execution_count": 23,
   "id": "9346e90c-189c-40ee-b00f-7c2b2d383568",
   "metadata": {},
   "outputs": [],
   "source": [
    "#Nan값 제거 방법=> dropna"
   ]
  },
  {
   "cell_type": "markdown",
   "id": "f1c77d57-7d16-474e-b29d-794289697739",
   "metadata": {},
   "source": [
    "#### 예) battles.dropna().sort_values()"
   ]
  },
  {
   "cell_type": "code",
   "execution_count": 24,
   "id": "96936e2a-e951-4b16-8be5-5445211316f9",
   "metadata": {},
   "outputs": [
    {
     "data": {
      "text/plain": [
       "Pokemon\n",
       "Abomasnow        Grass / Ice\n",
       "Abra                 Psychic\n",
       "Absol                   Dark\n",
       "Accelgor                 Bug\n",
       "Aegislash      Steel / Ghost\n",
       "                  ...       \n",
       "Zoroark                 Dark\n",
       "Zorua                   Dark\n",
       "Zubat        Poison / Flying\n",
       "Zweilous       Dark / Dragon\n",
       "Zygarde      Dragon / Ground\n",
       "Name: Type, Length: 809, dtype: object"
      ]
     },
     "execution_count": 24,
     "metadata": {},
     "output_type": "execute_result"
    }
   ],
   "source": [
    "pokemonDF.sort_index()"
   ]
  },
  {
   "cell_type": "code",
   "execution_count": 26,
   "id": "c7222c55-e848-4e33-b429-3255658aba7f",
   "metadata": {},
   "outputs": [
    {
     "data": {
      "text/plain": [
       "Pokemon\n",
       "Abomasnow      Grass / Ice\n",
       "Abra               Psychic\n",
       "Absol                 Dark\n",
       "Accelgor               Bug\n",
       "Aegislash    Steel / Ghost\n",
       "Name: Type, dtype: object"
      ]
     },
     "execution_count": 26,
     "metadata": {},
     "output_type": "execute_result"
    }
   ],
   "source": [
    "pokemonDF.sort_index(na_position=\"first\").head() # na_position=> 결측값을 먼저 표시한 다음 정렬된 날짜/시간을 표시"
   ]
  },
  {
   "cell_type": "code",
   "execution_count": 27,
   "id": "f6888c01-3fd2-4022-8a98-629015e4b624",
   "metadata": {},
   "outputs": [
    {
     "data": {
      "text/plain": [
       "Pokemon\n",
       "Zygarde     Dragon / Ground\n",
       "Zweilous      Dark / Dragon\n",
       "Zubat       Poison / Flying\n",
       "Zorua                  Dark\n",
       "Zoroark                Dark\n",
       "Name: Type, dtype: object"
      ]
     },
     "execution_count": 27,
     "metadata": {},
     "output_type": "execute_result"
    }
   ],
   "source": [
    "pokemonDF.sort_index(ascending=False).head() #내림차순"
   ]
  },
  {
   "cell_type": "markdown",
   "id": "9abc694f-9536-4182-b73f-709236366c67",
   "metadata": {},
   "source": [
    "3.2.3 nsmallest와 nlargest 메서드 사용"
   ]
  },
  {
   "cell_type": "code",
   "execution_count": 28,
   "id": "337c49f5-c211-4f30-8bef-af94b3dc0f72",
   "metadata": {},
   "outputs": [
    {
     "data": {
      "text/plain": [
       "Date\n",
       "2004-08-23    54.50\n",
       "2004-08-20    53.95\n",
       "2004-08-25    52.80\n",
       "2004-08-24    52.24\n",
       "2004-08-19    49.98\n",
       "Name: Close, dtype: float64"
      ]
     },
     "execution_count": 28,
     "metadata": {},
     "output_type": "execute_result"
    }
   ],
   "source": [
    "googleDF.nlargest(n=5)"
   ]
  },
  {
   "cell_type": "code",
   "execution_count": 29,
   "id": "3a4031a0-7e21-47bb-b6c2-c35efa0f4338",
   "metadata": {},
   "outputs": [
    {
     "data": {
      "text/plain": [
       "Date\n",
       "2004-08-19    49.98\n",
       "2004-08-24    52.24\n",
       "2004-08-25    52.80\n",
       "2004-08-20    53.95\n",
       "2004-08-23    54.50\n",
       "Name: Close, dtype: float64"
      ]
     },
     "execution_count": 29,
     "metadata": {},
     "output_type": "execute_result"
    }
   ],
   "source": [
    "googleDF.nsmallest(n=5)  "
   ]
  },
  {
   "cell_type": "code",
   "execution_count": 31,
   "id": "b39ae987-b376-42cf-be93-ce275d29fc05",
   "metadata": {},
   "outputs": [
    {
     "data": {
      "text/plain": [
       "Date\n",
       "2004-08-19    49.98\n",
       "2004-08-24    52.24\n",
       "2004-08-25    52.80\n",
       "2004-08-20    53.95\n",
       "2004-08-23    54.50\n",
       "Name: Close, dtype: float64"
      ]
     },
     "execution_count": 31,
     "metadata": {},
     "output_type": "execute_result"
    }
   ],
   "source": [
    "googleDF.nsmallest()  # 기본인수가 5"
   ]
  },
  {
   "cell_type": "code",
   "execution_count": 32,
   "id": "235ec4b5-bacf-4c48-a41b-0f88e123c0a2",
   "metadata": {},
   "outputs": [],
   "source": [
    "# inplace=True를 사용하면 원본에 그대로 덮어쓰는 것이 가능"
   ]
  },
  {
   "cell_type": "code",
   "execution_count": 34,
   "id": "37593509-0518-4e64-a7af-6c06852336dd",
   "metadata": {},
   "outputs": [],
   "source": [
    "# battles.sort_values(inplace=True)"
   ]
  },
  {
   "cell_type": "code",
   "execution_count": 35,
   "id": "150fb0d7-be7d-4043-b36e-35989f05f1c8",
   "metadata": {},
   "outputs": [],
   "source": [
    "#복사본을 만드는 것이다..."
   ]
  },
  {
   "cell_type": "markdown",
   "id": "2f3e9b51-86bf-4745-96bf-ac2bfb4ab314",
   "metadata": {},
   "source": [
    "3.4 value_counts 메서드로 값 계산하기"
   ]
  },
  {
   "cell_type": "code",
   "execution_count": 36,
   "id": "a6e99cde-4d6c-44eb-9d64-6d4c29f96a41",
   "metadata": {},
   "outputs": [],
   "source": [
    "# value_counts를 이용하여 종류별 값의 개수를 찾아낼 수 있다."
   ]
  },
  {
   "cell_type": "code",
   "execution_count": 38,
   "id": "39b9b722-0230-4070-92d4-e70de0320556",
   "metadata": {},
   "outputs": [
    {
     "data": {
      "text/plain": [
       "Type\n",
       "Normal                65\n",
       "Water                 61\n",
       "Grass                 38\n",
       "Psychic               35\n",
       "Fire                  30\n",
       "                      ..\n",
       "Fire / Psychic         1\n",
       "Normal / Ground        1\n",
       "Psychic / Fighting     1\n",
       "Dark / Ghost           1\n",
       "Fire / Ghost           1\n",
       "Name: count, Length: 159, dtype: int64"
      ]
     },
     "execution_count": 38,
     "metadata": {},
     "output_type": "execute_result"
    }
   ],
   "source": [
    "pokemonDF.value_counts()"
   ]
  },
  {
   "cell_type": "code",
   "execution_count": 39,
   "id": "3377e38e-baad-427f-9814-db2d56747316",
   "metadata": {},
   "outputs": [
    {
     "data": {
      "text/plain": [
       "159"
      ]
     },
     "execution_count": 39,
     "metadata": {},
     "output_type": "execute_result"
    }
   ],
   "source": [
    "len(pokemonDF.value_counts())"
   ]
  },
  {
   "cell_type": "code",
   "execution_count": 40,
   "id": "64ca668b-4016-46ab-83a1-60a225d35467",
   "metadata": {},
   "outputs": [],
   "source": [
    "#unique를 이용해 중복 제외한 고유값을 찾아낼수 있다."
   ]
  },
  {
   "cell_type": "code",
   "execution_count": 41,
   "id": "b66bf89f-61ea-4310-9963-5ba4c07620e3",
   "metadata": {},
   "outputs": [
    {
     "data": {
      "text/plain": [
       "<bound method Series.unique of Pokemon\n",
       "Bulbasaur      Grass / Poison\n",
       "Ivysaur        Grass / Poison\n",
       "Venusaur       Grass / Poison\n",
       "Charmander               Fire\n",
       "Charmeleon               Fire\n",
       "                    ...      \n",
       "Stakataka        Rock / Steel\n",
       "Blacephalon      Fire / Ghost\n",
       "Zeraora              Electric\n",
       "Meltan                  Steel\n",
       "Melmetal                Steel\n",
       "Name: Type, Length: 809, dtype: object>"
      ]
     },
     "execution_count": 41,
     "metadata": {},
     "output_type": "execute_result"
    }
   ],
   "source": [
    "pokemonDF.unique"
   ]
  },
  {
   "cell_type": "code",
   "execution_count": 44,
   "id": "eddca82a-f096-43a2-8385-3ac33287e1a3",
   "metadata": {},
   "outputs": [
    {
     "data": {
      "text/plain": [
       "Type\n",
       "Normal     0.080346\n",
       "Water      0.075402\n",
       "Grass      0.046972\n",
       "Psychic    0.043263\n",
       "Fire       0.037083\n",
       "Name: proportion, dtype: float64"
      ]
     },
     "execution_count": 44,
     "metadata": {},
     "output_type": "execute_result"
    }
   ],
   "source": [
    "pokemonDF.value_counts(normalize=True).head()   # 각 값들의 빈도를 반환....."
   ]
  },
  {
   "cell_type": "code",
   "execution_count": 45,
   "id": "63e32bca-caf2-49b9-82b2-76f22446585b",
   "metadata": {},
   "outputs": [
    {
     "data": {
      "text/plain": [
       "Type\n",
       "Normal     8.034611\n",
       "Water      7.540173\n",
       "Grass      4.697157\n",
       "Psychic    4.326329\n",
       "Fire       3.708282\n",
       "Name: proportion, dtype: float64"
      ]
     },
     "execution_count": 45,
     "metadata": {},
     "output_type": "execute_result"
    }
   ],
   "source": [
    "pokemonDF.value_counts(normalize=True).head()*100  #곱셈 연산 가능"
   ]
  },
  {
   "cell_type": "code",
   "execution_count": 46,
   "id": "0cb90a86-6e77-4f66-a00c-3cf4dfc1e593",
   "metadata": {},
   "outputs": [
    {
     "data": {
      "text/plain": [
       "Type\n",
       "Normal     8.03\n",
       "Water      7.54\n",
       "Grass      4.70\n",
       "Psychic    4.33\n",
       "Fire       3.71\n",
       "Name: proportion, dtype: float64"
      ]
     },
     "execution_count": 46,
     "metadata": {},
     "output_type": "execute_result"
    }
   ],
   "source": [
    "(pokemonDF.value_counts(normalize=True).head()*100).round(2) #소수 2번째자리까지 반올림"
   ]
  },
  {
   "cell_type": "code",
   "execution_count": 50,
   "id": "577feda3-f81c-4e20-ac84-06086fd0bfa1",
   "metadata": {},
   "outputs": [
    {
     "data": {
      "text/plain": [
       "Close\n",
       "(-0.001, 200.0]     5\n",
       "(200.0, 400.0]      0\n",
       "(400.0, 600.0]      0\n",
       "(600.0, 800.0]      0\n",
       "(800.0, 1000.0]     0\n",
       "(1000.0, 1200.0]    0\n",
       "(1200.0, 1400.0]    0\n",
       "Name: count, dtype: int64"
      ]
     },
     "execution_count": 50,
     "metadata": {},
     "output_type": "execute_result"
    }
   ],
   "source": [
    "buckets=[0,200,400,600,800,1000,1200,1400]\n",
    "googleDF.value_counts(bins=buckets)"
   ]
  },
  {
   "cell_type": "code",
   "execution_count": 47,
   "id": "21143d39-3a05-4194-ab93-19ef21ec1065",
   "metadata": {},
   "outputs": [
    {
     "name": "stdout",
     "output_type": "stream",
     "text": [
      "54.5 49.98\n"
     ]
    }
   ],
   "source": [
    "print(googleDF.max(),googleDF.min())"
   ]
  },
  {
   "cell_type": "code",
   "execution_count": 49,
   "id": "03b4bf6d-eaa3-4818-bb21-29e5815a4e62",
   "metadata": {},
   "outputs": [
    {
     "data": {
      "text/plain": [
       "Close\n",
       "49.98    1\n",
       "52.24    1\n",
       "52.80    1\n",
       "53.95    1\n",
       "54.50    1\n",
       "Name: count, dtype: int64"
      ]
     },
     "execution_count": 49,
     "metadata": {},
     "output_type": "execute_result"
    }
   ],
   "source": [
    "googleDF.value_counts().sort_index()  구간 기준 정렬..."
   ]
  },
  {
   "cell_type": "markdown",
   "id": "818d016c-851c-4192-8f71-ecc9c0ace09b",
   "metadata": {},
   "source": [
    "3.5 apply메서드를 이용해서 모든 시리즈 값에 대한 함수 호출"
   ]
  },
  {
   "cell_type": "code",
   "execution_count": 51,
   "id": "b5f96f0f-482f-4503-b34b-f08a8bd12df2",
   "metadata": {},
   "outputs": [],
   "source": [
    "funcs=[len,max,min]"
   ]
  },
  {
   "cell_type": "code",
   "execution_count": 52,
   "id": "ab3303d9-215d-4a9f-bb33-9810167bfbdb",
   "metadata": {},
   "outputs": [
    {
     "name": "stdout",
     "output_type": "stream",
     "text": [
      "5\n",
      "54.5\n",
      "49.98\n"
     ]
    }
   ],
   "source": [
    "for i in funcs:\n",
    "    print(i(googleDF))"
   ]
  },
  {
   "cell_type": "code",
   "execution_count": 54,
   "id": "f64ba55f-d58f-4727-a354-f61412e2b3cb",
   "metadata": {},
   "outputs": [
    {
     "data": {
      "text/plain": [
       "Date\n",
       "2004-08-19    50\n",
       "2004-08-20    54\n",
       "2004-08-23    54\n",
       "2004-08-24    52\n",
       "2004-08-25    53\n",
       "Name: Close, dtype: int64"
      ]
     },
     "execution_count": 54,
     "metadata": {},
     "output_type": "execute_result"
    }
   ],
   "source": [
    "googleDF.apply(func=round)  #round함수를 모든 값에 적용....."
   ]
  },
  {
   "cell_type": "code",
   "execution_count": 59,
   "id": "8de1b429-a672-4ff4-8d49-dc83120e53a3",
   "metadata": {},
   "outputs": [],
   "source": [
    "def single_or_multi(pokemon_type):\n",
    "    if \"/\" in pokemon_type:\n",
    "        return \"Multi\"\n",
    "    return \"Single\""
   ]
  },
  {
   "cell_type": "code",
   "execution_count": 60,
   "id": "bc73d1aa-29b3-4096-b721-7a93148c046c",
   "metadata": {},
   "outputs": [
    {
     "data": {
      "text/plain": [
       "Pokemon\n",
       "Bulbasaur       Multi\n",
       "Ivysaur         Multi\n",
       "Venusaur        Multi\n",
       "Charmander     Single\n",
       "Charmeleon     Single\n",
       "                ...  \n",
       "Stakataka       Multi\n",
       "Blacephalon     Multi\n",
       "Zeraora        Single\n",
       "Meltan         Single\n",
       "Melmetal       Single\n",
       "Name: Type, Length: 809, dtype: object"
      ]
     },
     "execution_count": 60,
     "metadata": {},
     "output_type": "execute_result"
    }
   ],
   "source": [
    " pokemonDF.apply(single_or_multi)"
   ]
  },
  {
   "cell_type": "code",
   "execution_count": 61,
   "id": "fa358d30-12fb-4bc1-96ec-8c1ba993a6a7",
   "metadata": {},
   "outputs": [],
   "source": [
    "import datetime as dt"
   ]
  },
  {
   "cell_type": "code",
   "execution_count": 63,
   "id": "c0c3241d-80c8-4b84-94c7-c7139f350bbb",
   "metadata": {},
   "outputs": [
    {
     "data": {
      "text/plain": [
       "'Saturday'"
      ]
     },
     "execution_count": 63,
     "metadata": {},
     "output_type": "execute_result"
    }
   ],
   "source": [
    "today=dt.datetime(2020,12,26)\n",
    "today.strftime(\"%A\")"
   ]
  },
  {
   "cell_type": "markdown",
   "id": "692b5050-f8c8-4855-9661-9ab38460b639",
   "metadata": {},
   "source": [
    "3.6 코딩 챌린지"
   ]
  },
  {
   "cell_type": "code",
   "execution_count": 65,
   "id": "91e7e379-5706-4735-97f2-1fe2c4111377",
   "metadata": {},
   "outputs": [],
   "source": [
    "filecode='../DATA/revolutionary_war.csv'"
   ]
  },
  {
   "cell_type": "code",
   "execution_count": 67,
   "id": "80bc52c1-71c2-4915-963d-0bdfe58caa92",
   "metadata": {},
   "outputs": [],
   "source": [
    "revolDF=pd.read_csv(filecode)"
   ]
  },
  {
   "cell_type": "code",
   "execution_count": 68,
   "id": "dc084419-5576-448e-8f2c-4b852c53a551",
   "metadata": {},
   "outputs": [
    {
     "data": {
      "text/html": [
       "<div>\n",
       "<style scoped>\n",
       "    .dataframe tbody tr th:only-of-type {\n",
       "        vertical-align: middle;\n",
       "    }\n",
       "\n",
       "    .dataframe tbody tr th {\n",
       "        vertical-align: top;\n",
       "    }\n",
       "\n",
       "    .dataframe thead th {\n",
       "        text-align: right;\n",
       "    }\n",
       "</style>\n",
       "<table border=\"1\" class=\"dataframe\">\n",
       "  <thead>\n",
       "    <tr style=\"text-align: right;\">\n",
       "      <th></th>\n",
       "      <th>Battle</th>\n",
       "      <th>Start Date</th>\n",
       "      <th>State</th>\n",
       "    </tr>\n",
       "  </thead>\n",
       "  <tbody>\n",
       "    <tr>\n",
       "      <th>0</th>\n",
       "      <td>Powder Alarm</td>\n",
       "      <td>9/1/1774</td>\n",
       "      <td>Massachusetts</td>\n",
       "    </tr>\n",
       "    <tr>\n",
       "      <th>1</th>\n",
       "      <td>Storming of Fort William and Mary</td>\n",
       "      <td>12/14/1774</td>\n",
       "      <td>New Hampshire</td>\n",
       "    </tr>\n",
       "    <tr>\n",
       "      <th>2</th>\n",
       "      <td>Battles of Lexington and Concord</td>\n",
       "      <td>4/19/1775</td>\n",
       "      <td>Massachusetts</td>\n",
       "    </tr>\n",
       "    <tr>\n",
       "      <th>3</th>\n",
       "      <td>Siege of Boston</td>\n",
       "      <td>4/19/1775</td>\n",
       "      <td>Massachusetts</td>\n",
       "    </tr>\n",
       "    <tr>\n",
       "      <th>4</th>\n",
       "      <td>Gunpowder Incident</td>\n",
       "      <td>4/20/1775</td>\n",
       "      <td>Virginia</td>\n",
       "    </tr>\n",
       "    <tr>\n",
       "      <th>...</th>\n",
       "      <td>...</td>\n",
       "      <td>...</td>\n",
       "      <td>...</td>\n",
       "    </tr>\n",
       "    <tr>\n",
       "      <th>227</th>\n",
       "      <td>Siege of Fort Henry</td>\n",
       "      <td>9/11/1782</td>\n",
       "      <td>Virginia</td>\n",
       "    </tr>\n",
       "    <tr>\n",
       "      <th>228</th>\n",
       "      <td>Grand Assault on Gibraltar</td>\n",
       "      <td>9/13/1782</td>\n",
       "      <td>NaN</td>\n",
       "    </tr>\n",
       "    <tr>\n",
       "      <th>229</th>\n",
       "      <td>Action of 18 October 1782</td>\n",
       "      <td>10/18/1782</td>\n",
       "      <td>NaN</td>\n",
       "    </tr>\n",
       "    <tr>\n",
       "      <th>230</th>\n",
       "      <td>Action of 6 December 1782</td>\n",
       "      <td>12/6/1782</td>\n",
       "      <td>NaN</td>\n",
       "    </tr>\n",
       "    <tr>\n",
       "      <th>231</th>\n",
       "      <td>Action of 22 January 1783</td>\n",
       "      <td>1/22/1783</td>\n",
       "      <td>Virginia</td>\n",
       "    </tr>\n",
       "  </tbody>\n",
       "</table>\n",
       "<p>232 rows × 3 columns</p>\n",
       "</div>"
      ],
      "text/plain": [
       "                                Battle  Start Date          State\n",
       "0                         Powder Alarm    9/1/1774  Massachusetts\n",
       "1    Storming of Fort William and Mary  12/14/1774  New Hampshire\n",
       "2     Battles of Lexington and Concord   4/19/1775  Massachusetts\n",
       "3                      Siege of Boston   4/19/1775  Massachusetts\n",
       "4                   Gunpowder Incident   4/20/1775       Virginia\n",
       "..                                 ...         ...            ...\n",
       "227                Siege of Fort Henry   9/11/1782       Virginia\n",
       "228         Grand Assault on Gibraltar   9/13/1782            NaN\n",
       "229          Action of 18 October 1782  10/18/1782            NaN\n",
       "230          Action of 6 December 1782   12/6/1782            NaN\n",
       "231          Action of 22 January 1783   1/22/1783       Virginia\n",
       "\n",
       "[232 rows x 3 columns]"
      ]
     },
     "execution_count": 68,
     "metadata": {},
     "output_type": "execute_result"
    }
   ],
   "source": [
    "revolDF"
   ]
  },
  {
   "cell_type": "code",
   "execution_count": 69,
   "id": "fbf4dea5-3d96-4140-9221-28df2c52833c",
   "metadata": {},
   "outputs": [
    {
     "name": "stdout",
     "output_type": "stream",
     "text": [
      "<class 'pandas.core.frame.DataFrame'>\n",
      "RangeIndex: 232 entries, 0 to 231\n",
      "Data columns (total 3 columns):\n",
      " #   Column      Non-Null Count  Dtype \n",
      "---  ------      --------------  ----- \n",
      " 0   Battle      232 non-null    object\n",
      " 1   Start Date  228 non-null    object\n",
      " 2   State       162 non-null    object\n",
      "dtypes: object(3)\n",
      "memory usage: 5.6+ KB\n"
     ]
    }
   ],
   "source": [
    "revolDF.info()"
   ]
  },
  {
   "cell_type": "code",
   "execution_count": 77,
   "id": "6cf476c1-254a-4a65-bf61-2f7a288e2f3b",
   "metadata": {},
   "outputs": [
    {
     "data": {
      "text/plain": [
       "0     1774-09-01\n",
       "1     1774-12-14\n",
       "2     1775-04-19\n",
       "3     1775-04-19\n",
       "4     1775-04-20\n",
       "         ...    \n",
       "227   1782-09-11\n",
       "228   1782-09-13\n",
       "229   1782-10-18\n",
       "230   1782-12-06\n",
       "231   1783-01-22\n",
       "Name: Start Date, Length: 232, dtype: datetime64[ns]"
      ]
     },
     "execution_count": 77,
     "metadata": {},
     "output_type": "execute_result"
    }
   ],
   "source": [
    "days_of_war=pd.read_csv(\"../DATA/revolutionary_war.csv\",usecols=[\"Start Date\"],parse_dates=[\"Start Date\"]).squeeze()"
   ]
  },
  {
   "cell_type": "code",
   "execution_count": 81,
   "id": "3fe07aca-c7d9-45ef-8e61-0a7c9b58029e",
   "metadata": {},
   "outputs": [],
   "source": [
    "def day_of_week(date):\n",
    "    return date.strftime(\"%A\")"
   ]
  },
  {
   "cell_type": "code",
   "execution_count": 83,
   "id": "f261ce87-e62a-470c-b725-3966c3892a0f",
   "metadata": {},
   "outputs": [],
   "source": [
    "# days_of_war.apply(day_of_week)"
   ]
  },
  {
   "cell_type": "code",
   "execution_count": null,
   "id": "f4924b81-48b9-4940-923d-dcf9e8fb92f6",
   "metadata": {},
   "outputs": [],
   "source": []
  }
 ],
 "metadata": {
  "kernelspec": {
   "display_name": "Python 3 (ipykernel)",
   "language": "python",
   "name": "python3"
  },
  "language_info": {
   "codemirror_mode": {
    "name": "ipython",
    "version": 3
   },
   "file_extension": ".py",
   "mimetype": "text/x-python",
   "name": "python",
   "nbconvert_exporter": "python",
   "pygments_lexer": "ipython3",
   "version": "3.8.18"
  }
 },
 "nbformat": 4,
 "nbformat_minor": 5
}
